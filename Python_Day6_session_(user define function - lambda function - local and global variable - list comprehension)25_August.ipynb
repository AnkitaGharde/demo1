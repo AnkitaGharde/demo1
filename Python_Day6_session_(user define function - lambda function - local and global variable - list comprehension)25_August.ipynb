{
 "cells": [
  {
   "cell_type": "raw",
   "id": "c7d55b01",
   "metadata": {},
   "source": [
    "- set methods\n",
    "- user define function\n",
    "- lambda function\n",
    "- local and global variable\n",
    "- list comprehension\n"
   ]
  },
  {
   "cell_type": "code",
   "execution_count": null,
   "id": "e7ad642b",
   "metadata": {},
   "outputs": [],
   "source": []
  },
  {
   "cell_type": "code",
   "execution_count": null,
   "id": "80f25f72",
   "metadata": {},
   "outputs": [],
   "source": []
  },
  {
   "cell_type": "code",
   "execution_count": null,
   "id": "38ad3e54",
   "metadata": {},
   "outputs": [],
   "source": []
  },
  {
   "cell_type": "code",
   "execution_count": 43,
   "id": "9b166464",
   "metadata": {},
   "outputs": [],
   "source": [
    "s1 = {10,20,30,40,50}\n",
    "\n",
    "s2 = {10,20,30,40,50,3,78}"
   ]
  },
  {
   "cell_type": "markdown",
   "id": "0589d9d6",
   "metadata": {},
   "source": [
    "### issubset()"
   ]
  },
  {
   "cell_type": "code",
   "execution_count": 42,
   "id": "561a6e30",
   "metadata": {},
   "outputs": [
    {
     "data": {
      "text/plain": [
       "True"
      ]
     },
     "execution_count": 42,
     "metadata": {},
     "output_type": "execute_result"
    }
   ],
   "source": [
    "# example1\n",
    "\n",
    "\n",
    "s1.issubset(s2)    #s1 is subset of s2 (values)"
   ]
  },
  {
   "cell_type": "code",
   "execution_count": null,
   "id": "e8491272",
   "metadata": {},
   "outputs": [],
   "source": []
  },
  {
   "cell_type": "code",
   "execution_count": 44,
   "id": "2f0a5928",
   "metadata": {},
   "outputs": [
    {
     "data": {
      "text/plain": [
       "False"
      ]
     },
     "execution_count": 44,
     "metadata": {},
     "output_type": "execute_result"
    }
   ],
   "source": [
    "s2.issubset(s1)"
   ]
  },
  {
   "cell_type": "code",
   "execution_count": null,
   "id": "ee0d7b54",
   "metadata": {},
   "outputs": [],
   "source": []
  },
  {
   "cell_type": "markdown",
   "id": "1ccf3d89",
   "metadata": {},
   "source": [
    "### issuperset"
   ]
  },
  {
   "cell_type": "code",
   "execution_count": 48,
   "id": "6c631b7b",
   "metadata": {},
   "outputs": [],
   "source": [
    "set_a ={'apple','banana','cherry','orange'}\n",
    "\n",
    "\n",
    "set_b ={'apple','banana'}"
   ]
  },
  {
   "cell_type": "code",
   "execution_count": null,
   "id": "57178dc3",
   "metadata": {},
   "outputs": [],
   "source": []
  },
  {
   "cell_type": "code",
   "execution_count": 49,
   "id": "2f899790",
   "metadata": {},
   "outputs": [
    {
     "data": {
      "text/plain": [
       "True"
      ]
     },
     "execution_count": 49,
     "metadata": {},
     "output_type": "execute_result"
    }
   ],
   "source": [
    "set_a.issuperset(set_b)   # set_a is superset of set_b"
   ]
  },
  {
   "cell_type": "code",
   "execution_count": null,
   "id": "79214361",
   "metadata": {},
   "outputs": [],
   "source": []
  },
  {
   "cell_type": "code",
   "execution_count": 50,
   "id": "d5672d31",
   "metadata": {},
   "outputs": [
    {
     "data": {
      "text/plain": [
       "False"
      ]
     },
     "execution_count": 50,
     "metadata": {},
     "output_type": "execute_result"
    }
   ],
   "source": [
    "set_b.issuperset(set_a)    # but set_b is not superset of set_a"
   ]
  },
  {
   "cell_type": "code",
   "execution_count": null,
   "id": "6cd79f8e",
   "metadata": {},
   "outputs": [],
   "source": []
  },
  {
   "cell_type": "code",
   "execution_count": null,
   "id": "51f5efea",
   "metadata": {},
   "outputs": [],
   "source": []
  },
  {
   "cell_type": "markdown",
   "id": "ed326016",
   "metadata": {},
   "source": [
    "### What is function?"
   ]
  },
  {
   "cell_type": "raw",
   "id": "0221c464",
   "metadata": {},
   "source": [
    "A function is a block of code which only runs when it is called. You can pass data, known as parameters, into a function. A function can return data as a result."
   ]
  },
  {
   "cell_type": "markdown",
   "id": "ab5ac402",
   "metadata": {},
   "source": [
    "### types of function"
   ]
  },
  {
   "cell_type": "markdown",
   "id": "ff10cc9c",
   "metadata": {},
   "source": [
    "- Built-in Function\n",
    "- User-Defined Function"
   ]
  },
  {
   "cell_type": "markdown",
   "id": "cfd8b1d1",
   "metadata": {},
   "source": [
    "#### Built-in Function"
   ]
  },
  {
   "cell_type": "markdown",
   "id": "82994118",
   "metadata": {},
   "source": [
    "- print() \n",
    "- len()\n",
    "- range()\n",
    "- type()"
   ]
  },
  {
   "cell_type": "code",
   "execution_count": null,
   "id": "2a7d9b97",
   "metadata": {},
   "outputs": [],
   "source": []
  },
  {
   "cell_type": "code",
   "execution_count": null,
   "id": "3a765613",
   "metadata": {},
   "outputs": [],
   "source": []
  },
  {
   "cell_type": "markdown",
   "id": "c8972b65",
   "metadata": {},
   "source": [
    "## User-Defined Function"
   ]
  },
  {
   "cell_type": "raw",
   "id": "848896e8",
   "metadata": {},
   "source": [
    "These are functions that you create yourself to perform specific tasks. You define these functions using the def keyword, followed by the function name, parameter list, and a block of code."
   ]
  },
  {
   "cell_type": "code",
   "execution_count": null,
   "id": "5f50f0f0",
   "metadata": {},
   "outputs": [],
   "source": []
  },
  {
   "cell_type": "markdown",
   "id": "0d4d8b61",
   "metadata": {},
   "source": [
    "### User define function allows you to define functions according to your need.These fuctions are known as user-defined function."
   ]
  },
  {
   "cell_type": "markdown",
   "id": "d0fae35f",
   "metadata": {},
   "source": [
    "#### Writing user defined functions in python"
   ]
  },
  {
   "cell_type": "markdown",
   "id": "554e59de",
   "metadata": {},
   "source": [
    "- step1:- Declare the function with the keyword def followed by the function name.\n",
    "- step2:- Write the arguments inside the opening and closing parenthesis of the function, and end the declaration with a colon.\n",
    "- step3:-Add the program statements to be executed."
   ]
  },
  {
   "cell_type": "markdown",
   "id": "34bcda2f",
   "metadata": {},
   "source": [
    "### Syntax"
   ]
  },
  {
   "cell_type": "raw",
   "id": "48d6ac37",
   "metadata": {},
   "source": [
    "def function_name(argument1,argument2,argument3):\n",
    "    statement1 \n",
    "    statement2\n",
    "    ......\n",
    "    \n",
    "    return"
   ]
  },
  {
   "cell_type": "code",
   "execution_count": null,
   "id": "c177bea9",
   "metadata": {},
   "outputs": [],
   "source": []
  },
  {
   "cell_type": "code",
   "execution_count": 54,
   "id": "94ec8eb0",
   "metadata": {},
   "outputs": [],
   "source": [
    "#function with no argument\n",
    "def welcome():\n",
    "    print('welcome')\n",
    "  "
   ]
  },
  {
   "cell_type": "code",
   "execution_count": null,
   "id": "e41156d1",
   "metadata": {},
   "outputs": [],
   "source": []
  },
  {
   "cell_type": "code",
   "execution_count": 53,
   "id": "33de469e",
   "metadata": {},
   "outputs": [
    {
     "name": "stdout",
     "output_type": "stream",
     "text": [
      "welcome\n"
     ]
    }
   ],
   "source": [
    "welcome()  # calling function "
   ]
  },
  {
   "cell_type": "code",
   "execution_count": 55,
   "id": "dfbf3b6c",
   "metadata": {},
   "outputs": [
    {
     "name": "stdout",
     "output_type": "stream",
     "text": [
      "welcome\n"
     ]
    }
   ],
   "source": [
    "welcome()"
   ]
  },
  {
   "cell_type": "code",
   "execution_count": null,
   "id": "87621cd6",
   "metadata": {},
   "outputs": [],
   "source": []
  },
  {
   "cell_type": "code",
   "execution_count": null,
   "id": "afd2c4b4",
   "metadata": {},
   "outputs": [],
   "source": []
  },
  {
   "cell_type": "markdown",
   "id": "e14ccdfa",
   "metadata": {},
   "source": [
    "## examples"
   ]
  },
  {
   "cell_type": "markdown",
   "id": "429c92fe",
   "metadata": {},
   "source": [
    "#### function with one argument"
   ]
  },
  {
   "cell_type": "code",
   "execution_count": 58,
   "id": "5fe009f5",
   "metadata": {},
   "outputs": [
    {
     "name": "stdout",
     "output_type": "stream",
     "text": [
      "4\n"
     ]
    }
   ],
   "source": [
    "def power(x):\n",
    "    result=x**2\n",
    "    \n",
    "    print(result)\n",
    "    \n",
    "    \n",
    "power(2)    "
   ]
  },
  {
   "cell_type": "code",
   "execution_count": null,
   "id": "29ec20bc",
   "metadata": {},
   "outputs": [],
   "source": []
  },
  {
   "cell_type": "markdown",
   "id": "bce88e2d",
   "metadata": {},
   "source": [
    "#### function with more than one argument"
   ]
  },
  {
   "cell_type": "code",
   "execution_count": null,
   "id": "1358408a",
   "metadata": {},
   "outputs": [],
   "source": []
  },
  {
   "cell_type": "markdown",
   "id": "8e4e4db0",
   "metadata": {},
   "source": [
    "#### function with return type"
   ]
  },
  {
   "cell_type": "code",
   "execution_count": 70,
   "id": "b1b08f65",
   "metadata": {},
   "outputs": [
    {
     "data": {
      "text/plain": [
       "336"
      ]
     },
     "execution_count": 70,
     "metadata": {},
     "output_type": "execute_result"
    }
   ],
   "source": [
    "def mul(x,y,z):\n",
    "    re =x*y*z\n",
    "    \n",
    "    return re\n",
    "\n",
    "\n",
    "mul(6,7,8)"
   ]
  },
  {
   "cell_type": "code",
   "execution_count": null,
   "id": "eb0415f1",
   "metadata": {},
   "outputs": [],
   "source": []
  },
  {
   "cell_type": "code",
   "execution_count": null,
   "id": "c9602e71",
   "metadata": {},
   "outputs": [],
   "source": []
  },
  {
   "cell_type": "markdown",
   "id": "aabf9939",
   "metadata": {},
   "source": [
    "### *args and **kwargs"
   ]
  },
  {
   "cell_type": "code",
   "execution_count": null,
   "id": "1ecad43f",
   "metadata": {},
   "outputs": [],
   "source": []
  },
  {
   "cell_type": "raw",
   "id": "73345105",
   "metadata": {},
   "source": [
    "*args  --->positional arguments\n",
    "\n",
    "**kwargs  --> keyword arguments"
   ]
  },
  {
   "cell_type": "raw",
   "id": "022f0b8d",
   "metadata": {},
   "source": []
  },
  {
   "cell_type": "markdown",
   "id": "b8328373",
   "metadata": {},
   "source": [
    "### *args"
   ]
  },
  {
   "cell_type": "code",
   "execution_count": 4,
   "id": "eab51620",
   "metadata": {},
   "outputs": [
    {
     "name": "stdout",
     "output_type": "stream",
     "text": [
      "429\n"
     ]
    }
   ],
   "source": [
    "def dummy(*p):\n",
    "    total=0\n",
    "    for i in p:\n",
    "        total +=i\n",
    "    print(total)\n",
    "        \n",
    "dummy(1,2,3,4,5,6,8,100,300)        "
   ]
  },
  {
   "cell_type": "code",
   "execution_count": null,
   "id": "2bdf1673",
   "metadata": {},
   "outputs": [],
   "source": []
  },
  {
   "cell_type": "code",
   "execution_count": 9,
   "id": "75261347",
   "metadata": {},
   "outputs": [
    {
     "name": "stdout",
     "output_type": "stream",
     "text": [
      "112\n"
     ]
    }
   ],
   "source": [
    "def demo(*m):\n",
    "    total=0\n",
    "    for k in m:\n",
    "        total +=k\n",
    "    print(total)\n",
    "        \n",
    "demo(1,2,3,8,98)        "
   ]
  },
  {
   "cell_type": "code",
   "execution_count": null,
   "id": "5cc75d26",
   "metadata": {},
   "outputs": [],
   "source": []
  },
  {
   "cell_type": "code",
   "execution_count": null,
   "id": "e0ef5e3b",
   "metadata": {},
   "outputs": [],
   "source": []
  },
  {
   "cell_type": "code",
   "execution_count": null,
   "id": "b22e3d49",
   "metadata": {},
   "outputs": [],
   "source": []
  },
  {
   "cell_type": "markdown",
   "id": "f70577ef",
   "metadata": {},
   "source": [
    "### **kwargs"
   ]
  },
  {
   "cell_type": "code",
   "execution_count": 83,
   "id": "007e746e",
   "metadata": {},
   "outputs": [
    {
     "name": "stdout",
     "output_type": "stream",
     "text": [
      "name = sonam\n",
      "age = 25\n"
     ]
    }
   ],
   "source": [
    "def abc(**h):\n",
    "    \n",
    "    for key,value in h.items():\n",
    "        print(f\"{key} = {value}\")\n",
    "        \n",
    "        \n",
    "abc(name=\"sonam\",age=25)   "
   ]
  },
  {
   "cell_type": "code",
   "execution_count": null,
   "id": "d1cd7560",
   "metadata": {},
   "outputs": [],
   "source": []
  },
  {
   "cell_type": "code",
   "execution_count": null,
   "id": "22492718",
   "metadata": {},
   "outputs": [],
   "source": []
  },
  {
   "cell_type": "code",
   "execution_count": null,
   "id": "72f6d3f1",
   "metadata": {},
   "outputs": [],
   "source": []
  },
  {
   "cell_type": "code",
   "execution_count": null,
   "id": "720e661b",
   "metadata": {},
   "outputs": [],
   "source": []
  },
  {
   "cell_type": "code",
   "execution_count": null,
   "id": "2e9de568",
   "metadata": {},
   "outputs": [],
   "source": []
  },
  {
   "cell_type": "markdown",
   "id": "ae5506f2",
   "metadata": {},
   "source": [
    "## Lambda function"
   ]
  },
  {
   "cell_type": "markdown",
   "id": "bdce900e",
   "metadata": {},
   "source": [
    "- A lambda function is small anonymous function.\n",
    "- A lambda function can take any number of arguments,but can only have one expression."
   ]
  },
  {
   "cell_type": "code",
   "execution_count": null,
   "id": "1b208087",
   "metadata": {},
   "outputs": [],
   "source": []
  },
  {
   "cell_type": "markdown",
   "id": "1f623291",
   "metadata": {},
   "source": [
    "#### syntax:"
   ]
  },
  {
   "cell_type": "raw",
   "id": "786f7249",
   "metadata": {},
   "source": [
    "lambda arguments:expression"
   ]
  },
  {
   "cell_type": "code",
   "execution_count": null,
   "id": "a879328b",
   "metadata": {},
   "outputs": [],
   "source": []
  },
  {
   "cell_type": "markdown",
   "id": "0a4645a2",
   "metadata": {},
   "source": [
    "### example"
   ]
  },
  {
   "cell_type": "markdown",
   "id": "d2168659",
   "metadata": {},
   "source": [
    "#### lambda function with no arguments"
   ]
  },
  {
   "cell_type": "code",
   "execution_count": 86,
   "id": "fc61dd7e",
   "metadata": {},
   "outputs": [
    {
     "name": "stdout",
     "output_type": "stream",
     "text": [
      "welcome\n"
     ]
    }
   ],
   "source": [
    "z = lambda :print('welcome')\n",
    "\n",
    "z()  # calling function "
   ]
  },
  {
   "cell_type": "code",
   "execution_count": null,
   "id": "b0fbbb5f",
   "metadata": {},
   "outputs": [],
   "source": []
  },
  {
   "cell_type": "code",
   "execution_count": null,
   "id": "14a52d6f",
   "metadata": {},
   "outputs": [],
   "source": []
  },
  {
   "cell_type": "code",
   "execution_count": null,
   "id": "4d01ca02",
   "metadata": {},
   "outputs": [],
   "source": [
    "lambda arguments:expression"
   ]
  },
  {
   "cell_type": "markdown",
   "id": "04e716d9",
   "metadata": {},
   "source": [
    "#### lambda function with one arguments"
   ]
  },
  {
   "cell_type": "code",
   "execution_count": 8,
   "id": "10657e46",
   "metadata": {},
   "outputs": [
    {
     "ename": "SyntaxError",
     "evalue": "invalid syntax (759953934.py, line 3)",
     "output_type": "error",
     "traceback": [
      "\u001b[1;36m  Cell \u001b[1;32mIn[8], line 3\u001b[1;36m\u001b[0m\n\u001b[1;33m    print(lambda(2))\u001b[0m\n\u001b[1;37m                ^\u001b[0m\n\u001b[1;31mSyntaxError\u001b[0m\u001b[1;31m:\u001b[0m invalid syntax\n"
     ]
    }
   ],
   "source": [
    "lambda x1:x1+10\n",
    "\n",
    "print(lambda(2))\n"
   ]
  },
  {
   "cell_type": "code",
   "execution_count": 88,
   "id": "c9af6beb",
   "metadata": {},
   "outputs": [
    {
     "data": {
      "text/plain": [
       "40"
      ]
     },
     "execution_count": 88,
     "metadata": {},
     "output_type": "execute_result"
    }
   ],
   "source": [
    "t(30)"
   ]
  },
  {
   "cell_type": "code",
   "execution_count": null,
   "id": "18147a1a",
   "metadata": {},
   "outputs": [],
   "source": []
  },
  {
   "cell_type": "markdown",
   "id": "abdd8d38",
   "metadata": {},
   "source": [
    "#### example3"
   ]
  },
  {
   "cell_type": "code",
   "execution_count": 4,
   "id": "ec3a39c1",
   "metadata": {},
   "outputs": [
    {
     "data": {
      "text/plain": [
       "100"
      ]
     },
     "execution_count": 4,
     "metadata": {},
     "output_type": "execute_result"
    }
   ],
   "source": [
    "t2 =lambda a1,b1,c1,d1:a1+b1+c1+d1\n",
    "\n",
    "t2(10,20,30,40)"
   ]
  },
  {
   "cell_type": "code",
   "execution_count": null,
   "id": "0db12cfe",
   "metadata": {},
   "outputs": [],
   "source": []
  },
  {
   "cell_type": "code",
   "execution_count": null,
   "id": "e2fc460d",
   "metadata": {},
   "outputs": [],
   "source": []
  },
  {
   "cell_type": "code",
   "execution_count": null,
   "id": "b88f5825",
   "metadata": {},
   "outputs": [],
   "source": []
  },
  {
   "cell_type": "code",
   "execution_count": null,
   "id": "671a540b",
   "metadata": {},
   "outputs": [],
   "source": []
  },
  {
   "cell_type": "markdown",
   "id": "bbc87bce",
   "metadata": {},
   "source": [
    "- map()\n",
    "- filter()\n",
    "- reduce()"
   ]
  },
  {
   "cell_type": "markdown",
   "id": "a9120c2f",
   "metadata": {},
   "source": [
    "### map()"
   ]
  },
  {
   "cell_type": "raw",
   "id": "fe59f8dd",
   "metadata": {},
   "source": [
    "The map() function applies a given function to all items in an iterable and returns an iterator with the results."
   ]
  },
  {
   "cell_type": "code",
   "execution_count": null,
   "id": "65fc7978",
   "metadata": {},
   "outputs": [],
   "source": []
  },
  {
   "cell_type": "markdown",
   "id": "94894827",
   "metadata": {},
   "source": [
    "#### syntax:"
   ]
  },
  {
   "cell_type": "raw",
   "id": "3075072a",
   "metadata": {},
   "source": [
    "variable_name = iterable(map(lambda args:expression,iterable))"
   ]
  },
  {
   "cell_type": "markdown",
   "id": "630d5d6b",
   "metadata": {},
   "source": [
    "#### example"
   ]
  },
  {
   "cell_type": "code",
   "execution_count": 5,
   "id": "9163103e",
   "metadata": {},
   "outputs": [
    {
     "data": {
      "text/plain": [
       "[101, 201, 301, 401]"
      ]
     },
     "execution_count": 5,
     "metadata": {},
     "output_type": "execute_result"
    }
   ],
   "source": [
    "list1 = [100,200,300,400]\n",
    "\n",
    "p1 =list(map(lambda x:x+1,list1))\n",
    "\n",
    "p1"
   ]
  },
  {
   "cell_type": "code",
   "execution_count": null,
   "id": "8393294c",
   "metadata": {},
   "outputs": [],
   "source": []
  },
  {
   "cell_type": "code",
   "execution_count": 6,
   "id": "85df1275",
   "metadata": {},
   "outputs": [
    {
     "data": {
      "text/plain": [
       "[True, False, False, False]"
      ]
     },
     "execution_count": 6,
     "metadata": {},
     "output_type": "execute_result"
    }
   ],
   "source": [
    "# example2\n",
    "\n",
    "\n",
    "l2 = ['red','yellow','green','white']\n",
    "\n",
    "\n",
    "p2 =list(map(lambda y:y[2]=='d',l2))\n",
    "\n",
    "p2"
   ]
  },
  {
   "cell_type": "code",
   "execution_count": null,
   "id": "2f2fbc7b",
   "metadata": {},
   "outputs": [],
   "source": []
  },
  {
   "cell_type": "code",
   "execution_count": null,
   "id": "3e9b62b3",
   "metadata": {},
   "outputs": [],
   "source": []
  },
  {
   "cell_type": "markdown",
   "id": "a8aaf819",
   "metadata": {},
   "source": [
    "### filter()"
   ]
  },
  {
   "cell_type": "raw",
   "id": "e92e07f7",
   "metadata": {},
   "source": [
    "You can use the filter() function to extract specific characters from a string based on a condition."
   ]
  },
  {
   "cell_type": "code",
   "execution_count": null,
   "id": "de29b3bc",
   "metadata": {},
   "outputs": [],
   "source": []
  },
  {
   "cell_type": "markdown",
   "id": "1535176e",
   "metadata": {},
   "source": [
    "#### syntax:"
   ]
  },
  {
   "cell_type": "raw",
   "id": "b1dda353",
   "metadata": {},
   "source": [
    "variable_name = iterable(filter(lambda args:expression,iterable))"
   ]
  },
  {
   "cell_type": "code",
   "execution_count": null,
   "id": "ee57fc1f",
   "metadata": {},
   "outputs": [],
   "source": []
  },
  {
   "cell_type": "markdown",
   "id": "4c811dee",
   "metadata": {},
   "source": [
    "#### example1"
   ]
  },
  {
   "cell_type": "code",
   "execution_count": 15,
   "id": "64ad1a66",
   "metadata": {},
   "outputs": [],
   "source": [
    "l3 =['neha','deoyani','payal','gayatri','tanvi','ayushi','tanvi']"
   ]
  },
  {
   "cell_type": "code",
   "execution_count": 16,
   "id": "506e56ab",
   "metadata": {},
   "outputs": [
    {
     "data": {
      "text/plain": [
       "['neha', 'deoyani', 'payal', 'gayatri', 'tanvi', 'ayushi', 'tanvi']"
      ]
     },
     "execution_count": 16,
     "metadata": {},
     "output_type": "execute_result"
    }
   ],
   "source": [
    "l3"
   ]
  },
  {
   "cell_type": "code",
   "execution_count": null,
   "id": "31742c79",
   "metadata": {},
   "outputs": [],
   "source": []
  },
  {
   "cell_type": "code",
   "execution_count": 17,
   "id": "0cb2afa0",
   "metadata": {},
   "outputs": [
    {
     "data": {
      "text/plain": [
       "{'gayatri', 'payal', 'tanvi'}"
      ]
     },
     "execution_count": 17,
     "metadata": {},
     "output_type": "execute_result"
    }
   ],
   "source": [
    "p3 = set(filter(lambda m1:m1[1]=='a',l3))\n",
    "\n",
    "\n",
    "p3"
   ]
  },
  {
   "cell_type": "code",
   "execution_count": null,
   "id": "7d769585",
   "metadata": {},
   "outputs": [],
   "source": []
  },
  {
   "cell_type": "code",
   "execution_count": null,
   "id": "96150d65",
   "metadata": {},
   "outputs": [],
   "source": []
  },
  {
   "cell_type": "markdown",
   "id": "49647577",
   "metadata": {},
   "source": [
    "### reduce()"
   ]
  },
  {
   "cell_type": "code",
   "execution_count": 108,
   "id": "36ca8ad8",
   "metadata": {},
   "outputs": [],
   "source": [
    "from functools import reduce"
   ]
  },
  {
   "cell_type": "code",
   "execution_count": 109,
   "id": "7d96e9e1",
   "metadata": {},
   "outputs": [],
   "source": [
    "l4 = [1,2,3,4,5,6,7,8,9,10]"
   ]
  },
  {
   "cell_type": "code",
   "execution_count": 110,
   "id": "58f53b28",
   "metadata": {},
   "outputs": [
    {
     "data": {
      "text/plain": [
       "[1, 2, 3, 4, 5, 6, 7, 8, 9, 10]"
      ]
     },
     "execution_count": 110,
     "metadata": {},
     "output_type": "execute_result"
    }
   ],
   "source": [
    "l4"
   ]
  },
  {
   "cell_type": "code",
   "execution_count": null,
   "id": "c4566294",
   "metadata": {},
   "outputs": [],
   "source": []
  },
  {
   "cell_type": "code",
   "execution_count": 111,
   "id": "738dfe6d",
   "metadata": {},
   "outputs": [
    {
     "data": {
      "text/plain": [
       "55"
      ]
     },
     "execution_count": 111,
     "metadata": {},
     "output_type": "execute_result"
    }
   ],
   "source": [
    "p4 =reduce(lambda x,y:x+y,l4)    \n",
    "\n",
    "p4"
   ]
  },
  {
   "cell_type": "code",
   "execution_count": null,
   "id": "c8e672cf",
   "metadata": {},
   "outputs": [],
   "source": []
  },
  {
   "cell_type": "code",
   "execution_count": null,
   "id": "b707497b",
   "metadata": {},
   "outputs": [],
   "source": []
  },
  {
   "cell_type": "markdown",
   "id": "56ab3684",
   "metadata": {},
   "source": [
    "## local and global variable"
   ]
  },
  {
   "cell_type": "code",
   "execution_count": null,
   "id": "89d9a561",
   "metadata": {},
   "outputs": [],
   "source": []
  },
  {
   "cell_type": "markdown",
   "id": "64f3f350",
   "metadata": {},
   "source": [
    "### local variable"
   ]
  },
  {
   "cell_type": "code",
   "execution_count": 113,
   "id": "94951b1d",
   "metadata": {},
   "outputs": [
    {
     "name": "stdout",
     "output_type": "stream",
     "text": [
      "10\n"
     ]
    },
    {
     "ename": "NameError",
     "evalue": "name 'x' is not defined",
     "output_type": "error",
     "traceback": [
      "\u001b[1;31m---------------------------------------------------------------------------\u001b[0m",
      "\u001b[1;31mNameError\u001b[0m                                 Traceback (most recent call last)",
      "Cell \u001b[1;32mIn[113], line 8\u001b[0m\n\u001b[0;32m      4\u001b[0m     \u001b[38;5;28mprint\u001b[39m(x)\n\u001b[0;32m      6\u001b[0m hello()    \n\u001b[1;32m----> 8\u001b[0m \u001b[38;5;28mprint\u001b[39m(\u001b[43mx\u001b[49m)\n",
      "\u001b[1;31mNameError\u001b[0m: name 'x' is not defined"
     ]
    }
   ],
   "source": [
    "def hello():\n",
    "    x=10      # local variable\n",
    "    \n",
    "    print(x)\n",
    "    \n",
    "hello()    \n",
    "\n",
    "print(x)"
   ]
  },
  {
   "cell_type": "code",
   "execution_count": null,
   "id": "16336ee4",
   "metadata": {},
   "outputs": [],
   "source": []
  },
  {
   "cell_type": "markdown",
   "id": "16353b96",
   "metadata": {},
   "source": [
    "### global variable"
   ]
  },
  {
   "cell_type": "code",
   "execution_count": 115,
   "id": "7507a8cf",
   "metadata": {},
   "outputs": [
    {
     "name": "stdout",
     "output_type": "stream",
     "text": [
      "12\n",
      "10\n"
     ]
    }
   ],
   "source": [
    "k=10       #global variable\n",
    "\n",
    "def abc1():\n",
    "    \n",
    "    k=12\n",
    "    print(k)\n",
    "    \n",
    "    \n",
    "abc1()   \n",
    "\n",
    "print(k)\n",
    "    \n",
    "    "
   ]
  },
  {
   "cell_type": "code",
   "execution_count": null,
   "id": "8f13d044",
   "metadata": {},
   "outputs": [],
   "source": []
  },
  {
   "cell_type": "markdown",
   "id": "665a87f5",
   "metadata": {},
   "source": [
    "### global keyword"
   ]
  },
  {
   "cell_type": "code",
   "execution_count": 120,
   "id": "f506a03a",
   "metadata": {},
   "outputs": [
    {
     "name": "stdout",
     "output_type": "stream",
     "text": [
      "30\n",
      "30\n"
     ]
    }
   ],
   "source": [
    "\n",
    "def abcd():\n",
    "    \n",
    "    global f     # global keyword work as global variable\n",
    "    \n",
    "    f=30\n",
    "    \n",
    "    print(f)\n",
    "    \n",
    "    \n",
    "abcd() \n",
    "\n",
    "print(f)"
   ]
  },
  {
   "cell_type": "code",
   "execution_count": 20,
   "id": "f04df762",
   "metadata": {},
   "outputs": [
    {
     "name": "stdout",
     "output_type": "stream",
     "text": [
      "[1, 2, 3, 4, 5, 6]\n",
      "['Odd', 'Even', 'Odd', 'Even', 'Odd', 'Even']\n"
     ]
    }
   ],
   "source": [
    "numbers = [1, 2, 3, 4, 5, 6]\n",
    "even_odd_labels = [\"Even\" if num % 2 == 0 else \"Odd\" for num in numbers]\n",
    "print(numbers)\n",
    "print(even_odd_labels)"
   ]
  },
  {
   "cell_type": "code",
   "execution_count": null,
   "id": "12a1e471",
   "metadata": {},
   "outputs": [],
   "source": []
  },
  {
   "cell_type": "code",
   "execution_count": null,
   "id": "eb29dcf6",
   "metadata": {},
   "outputs": [],
   "source": []
  },
  {
   "cell_type": "code",
   "execution_count": null,
   "id": "ae66f0ba",
   "metadata": {},
   "outputs": [],
   "source": []
  },
  {
   "cell_type": "markdown",
   "id": "78ff1ffe",
   "metadata": {},
   "source": [
    "## list comprehension"
   ]
  },
  {
   "cell_type": "markdown",
   "id": "4ece5206",
   "metadata": {},
   "source": [
    "- list comprehension is an elegant way to define and create listed based on exsting lists.\n",
    "- list comprehension is generally more compact and faster than normal functions and loops for creating list.\n",
    "- list comprehension offers a shorter syntax when you want to create a new list based on the values of an exsting list."
   ]
  },
  {
   "cell_type": "markdown",
   "id": "b5cd45d6",
   "metadata": {},
   "source": [
    "#### Syntax:"
   ]
  },
  {
   "cell_type": "raw",
   "id": "d9dd522e",
   "metadata": {},
   "source": [
    "Basic syntax -----> [expression for item in iterable]\n",
    "\n",
    "Using if syntax -----> [expression for item in iterable if condition]\n",
    "\n",
    "Using if else syntax ----> [expression if condition else statement for item in iterable]"
   ]
  },
  {
   "cell_type": "code",
   "execution_count": null,
   "id": "08f262dc",
   "metadata": {},
   "outputs": [],
   "source": []
  },
  {
   "cell_type": "code",
   "execution_count": null,
   "id": "cbe1347f",
   "metadata": {},
   "outputs": [],
   "source": []
  },
  {
   "cell_type": "code",
   "execution_count": null,
   "id": "d3187b49",
   "metadata": {},
   "outputs": [],
   "source": []
  },
  {
   "cell_type": "code",
   "execution_count": null,
   "id": "3b2858c1",
   "metadata": {},
   "outputs": [],
   "source": []
  },
  {
   "cell_type": "code",
   "execution_count": null,
   "id": "4f207995",
   "metadata": {},
   "outputs": [],
   "source": []
  },
  {
   "cell_type": "code",
   "execution_count": null,
   "id": "39896080",
   "metadata": {},
   "outputs": [],
   "source": []
  },
  {
   "cell_type": "code",
   "execution_count": null,
   "id": "4dfcdab4",
   "metadata": {},
   "outputs": [],
   "source": []
  },
  {
   "cell_type": "code",
   "execution_count": null,
   "id": "5ccaa9dd",
   "metadata": {},
   "outputs": [],
   "source": []
  },
  {
   "cell_type": "code",
   "execution_count": null,
   "id": "0304c17e",
   "metadata": {},
   "outputs": [],
   "source": []
  },
  {
   "cell_type": "code",
   "execution_count": null,
   "id": "3e9f8f7f",
   "metadata": {},
   "outputs": [],
   "source": []
  },
  {
   "cell_type": "code",
   "execution_count": null,
   "id": "c9724e4f",
   "metadata": {},
   "outputs": [],
   "source": []
  },
  {
   "cell_type": "code",
   "execution_count": null,
   "id": "d39426cf",
   "metadata": {},
   "outputs": [],
   "source": []
  },
  {
   "cell_type": "code",
   "execution_count": null,
   "id": "448403f9",
   "metadata": {},
   "outputs": [],
   "source": []
  },
  {
   "cell_type": "code",
   "execution_count": null,
   "id": "d0d6f3a1",
   "metadata": {},
   "outputs": [],
   "source": []
  },
  {
   "cell_type": "code",
   "execution_count": null,
   "id": "5e03ca96",
   "metadata": {},
   "outputs": [],
   "source": []
  },
  {
   "cell_type": "code",
   "execution_count": null,
   "id": "2c72438f",
   "metadata": {},
   "outputs": [],
   "source": []
  },
  {
   "cell_type": "code",
   "execution_count": null,
   "id": "980849af",
   "metadata": {},
   "outputs": [],
   "source": []
  },
  {
   "cell_type": "code",
   "execution_count": null,
   "id": "297cf666",
   "metadata": {},
   "outputs": [],
   "source": []
  },
  {
   "cell_type": "code",
   "execution_count": null,
   "id": "a1379335",
   "metadata": {},
   "outputs": [],
   "source": []
  },
  {
   "cell_type": "code",
   "execution_count": null,
   "id": "ed0b28de",
   "metadata": {},
   "outputs": [],
   "source": []
  },
  {
   "cell_type": "code",
   "execution_count": null,
   "id": "b55d03ca",
   "metadata": {},
   "outputs": [],
   "source": []
  },
  {
   "cell_type": "code",
   "execution_count": null,
   "id": "22ac01b0",
   "metadata": {},
   "outputs": [],
   "source": []
  }
 ],
 "metadata": {
  "kernelspec": {
   "display_name": "Python 3 (ipykernel)",
   "language": "python",
   "name": "python3"
  },
  "language_info": {
   "codemirror_mode": {
    "name": "ipython",
    "version": 3
   },
   "file_extension": ".py",
   "mimetype": "text/x-python",
   "name": "python",
   "nbconvert_exporter": "python",
   "pygments_lexer": "ipython3",
   "version": "3.11.5"
  }
 },
 "nbformat": 4,
 "nbformat_minor": 5
}
