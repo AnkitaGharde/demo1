{
 "cells": [
  {
   "cell_type": "markdown",
   "id": "c9607a26",
   "metadata": {},
   "source": [
    "- print()\n",
    "- data types\n",
    "- variable\n",
    "- type()\n",
    "- input()\n",
    "- fstring\n",
    "- operators in python\n",
    "- string operations"
   ]
  },
  {
   "cell_type": "code",
   "execution_count": 1,
   "id": "efa47a34",
   "metadata": {},
   "outputs": [
    {
     "name": "stdout",
     "output_type": "stream",
     "text": [
      "jksadgfkjsadgkjfg\n"
     ]
    }
   ],
   "source": [
    "print('jksadgfkjsadgkjfg')"
   ]
  },
  {
   "cell_type": "code",
   "execution_count": null,
   "id": "e0848672",
   "metadata": {},
   "outputs": [],
   "source": []
  },
  {
   "cell_type": "code",
   "execution_count": null,
   "id": "91eecb5a",
   "metadata": {},
   "outputs": [],
   "source": []
  },
  {
   "cell_type": "code",
   "execution_count": null,
   "id": "1b5e9a3c",
   "metadata": {},
   "outputs": [],
   "source": []
  },
  {
   "cell_type": "markdown",
   "id": "588a264b",
   "metadata": {},
   "source": [
    "## Dynamic programming"
   ]
  },
  {
   "cell_type": "code",
   "execution_count": 2,
   "id": "35420b99",
   "metadata": {},
   "outputs": [],
   "source": [
    "a = 10"
   ]
  },
  {
   "cell_type": "code",
   "execution_count": 3,
   "id": "f289cd9f",
   "metadata": {},
   "outputs": [
    {
     "data": {
      "text/plain": [
       "10"
      ]
     },
     "execution_count": 3,
     "metadata": {},
     "output_type": "execute_result"
    }
   ],
   "source": [
    "a"
   ]
  },
  {
   "cell_type": "code",
   "execution_count": 4,
   "id": "4774f061",
   "metadata": {},
   "outputs": [
    {
     "data": {
      "text/plain": [
       "int"
      ]
     },
     "execution_count": 4,
     "metadata": {},
     "output_type": "execute_result"
    }
   ],
   "source": [
    "type(a)"
   ]
  },
  {
   "cell_type": "code",
   "execution_count": 5,
   "id": "22b252d3",
   "metadata": {},
   "outputs": [],
   "source": [
    "b=12.34"
   ]
  },
  {
   "cell_type": "code",
   "execution_count": 6,
   "id": "a9852e92",
   "metadata": {},
   "outputs": [
    {
     "data": {
      "text/plain": [
       "12.34"
      ]
     },
     "execution_count": 6,
     "metadata": {},
     "output_type": "execute_result"
    }
   ],
   "source": [
    "b"
   ]
  },
  {
   "cell_type": "code",
   "execution_count": 7,
   "id": "9f0e1499",
   "metadata": {},
   "outputs": [
    {
     "data": {
      "text/plain": [
       "float"
      ]
     },
     "execution_count": 7,
     "metadata": {},
     "output_type": "execute_result"
    }
   ],
   "source": [
    "type(b)"
   ]
  },
  {
   "cell_type": "code",
   "execution_count": null,
   "id": "712fa375",
   "metadata": {},
   "outputs": [],
   "source": []
  },
  {
   "cell_type": "markdown",
   "id": "7977edd3",
   "metadata": {},
   "source": [
    "## Data types in python"
   ]
  },
  {
   "cell_type": "markdown",
   "id": "531b17d1",
   "metadata": {},
   "source": [
    "- int\n",
    "- float\n",
    "- str\n",
    "- bool\n",
    "- complex"
   ]
  },
  {
   "cell_type": "markdown",
   "id": "7cd01440",
   "metadata": {},
   "source": [
    "### int"
   ]
  },
  {
   "cell_type": "code",
   "execution_count": 8,
   "id": "056931c9",
   "metadata": {},
   "outputs": [],
   "source": [
    "m1 = 100"
   ]
  },
  {
   "cell_type": "code",
   "execution_count": 9,
   "id": "3dc1e64c",
   "metadata": {},
   "outputs": [
    {
     "data": {
      "text/plain": [
       "100"
      ]
     },
     "execution_count": 9,
     "metadata": {},
     "output_type": "execute_result"
    }
   ],
   "source": [
    "m1"
   ]
  },
  {
   "cell_type": "code",
   "execution_count": 10,
   "id": "9d768ea1",
   "metadata": {},
   "outputs": [
    {
     "data": {
      "text/plain": [
       "int"
      ]
     },
     "execution_count": 10,
     "metadata": {},
     "output_type": "execute_result"
    }
   ],
   "source": [
    "type(m1)"
   ]
  },
  {
   "cell_type": "markdown",
   "id": "396696d9",
   "metadata": {},
   "source": [
    "### str"
   ]
  },
  {
   "cell_type": "raw",
   "id": "99146d03",
   "metadata": {},
   "source": [
    "type(variable name)"
   ]
  },
  {
   "cell_type": "code",
   "execution_count": 11,
   "id": "4662ae81",
   "metadata": {},
   "outputs": [],
   "source": [
    "s = \"hello, good afternoon\""
   ]
  },
  {
   "cell_type": "code",
   "execution_count": 12,
   "id": "f00b7ee5",
   "metadata": {},
   "outputs": [
    {
     "data": {
      "text/plain": [
       "str"
      ]
     },
     "execution_count": 12,
     "metadata": {},
     "output_type": "execute_result"
    }
   ],
   "source": [
    "type(s)"
   ]
  },
  {
   "cell_type": "code",
   "execution_count": null,
   "id": "16cd8893",
   "metadata": {},
   "outputs": [],
   "source": []
  },
  {
   "cell_type": "code",
   "execution_count": 13,
   "id": "06f0b034",
   "metadata": {},
   "outputs": [
    {
     "data": {
      "text/plain": [
       "str"
      ]
     },
     "execution_count": 13,
     "metadata": {},
     "output_type": "execute_result"
    }
   ],
   "source": [
    "type(s)"
   ]
  },
  {
   "cell_type": "code",
   "execution_count": null,
   "id": "87560b13",
   "metadata": {},
   "outputs": [],
   "source": []
  },
  {
   "cell_type": "markdown",
   "id": "bdc68fd9",
   "metadata": {},
   "source": [
    "### bool"
   ]
  },
  {
   "cell_type": "markdown",
   "id": "0587c02a",
   "metadata": {},
   "source": [
    "- True\n",
    "- False"
   ]
  },
  {
   "cell_type": "code",
   "execution_count": 14,
   "id": "285d602a",
   "metadata": {},
   "outputs": [],
   "source": [
    "a1 = True"
   ]
  },
  {
   "cell_type": "code",
   "execution_count": 15,
   "id": "aba6ed89",
   "metadata": {},
   "outputs": [
    {
     "data": {
      "text/plain": [
       "bool"
      ]
     },
     "execution_count": 15,
     "metadata": {},
     "output_type": "execute_result"
    }
   ],
   "source": [
    "type(a1)"
   ]
  },
  {
   "cell_type": "code",
   "execution_count": null,
   "id": "2318cbd1",
   "metadata": {},
   "outputs": [],
   "source": []
  },
  {
   "cell_type": "markdown",
   "id": "6a02cce7",
   "metadata": {},
   "source": [
    "### complex"
   ]
  },
  {
   "cell_type": "code",
   "execution_count": 16,
   "id": "1ade8ac6",
   "metadata": {},
   "outputs": [],
   "source": [
    "# example\n",
    "\n",
    "\n",
    "a2 = 4+5J"
   ]
  },
  {
   "cell_type": "code",
   "execution_count": 17,
   "id": "274c655a",
   "metadata": {},
   "outputs": [
    {
     "data": {
      "text/plain": [
       "complex"
      ]
     },
     "execution_count": 17,
     "metadata": {},
     "output_type": "execute_result"
    }
   ],
   "source": [
    "type(a2)"
   ]
  },
  {
   "cell_type": "code",
   "execution_count": null,
   "id": "e8ac4045",
   "metadata": {},
   "outputs": [],
   "source": []
  },
  {
   "cell_type": "markdown",
   "id": "9634bd09",
   "metadata": {},
   "source": [
    "### keyword"
   ]
  },
  {
   "cell_type": "code",
   "execution_count": 18,
   "id": "71209758",
   "metadata": {},
   "outputs": [
    {
     "name": "stdout",
     "output_type": "stream",
     "text": [
      "['False', 'None', 'True', 'and', 'as', 'assert', 'async', 'await', 'break', 'class', 'continue', 'def', 'del', 'elif', 'else', 'except', 'finally', 'for', 'from', 'global', 'if', 'import', 'in', 'is', 'lambda', 'nonlocal', 'not', 'or', 'pass', 'raise', 'return', 'try', 'while', 'with', 'yield']\n"
     ]
    }
   ],
   "source": [
    "import keyword as key\n",
    "\n",
    "k = key.kwlist\n",
    "\n",
    "\n",
    "print(k)"
   ]
  },
  {
   "cell_type": "code",
   "execution_count": null,
   "id": "116927cb",
   "metadata": {},
   "outputs": [],
   "source": []
  },
  {
   "cell_type": "code",
   "execution_count": 19,
   "id": "7499e6aa",
   "metadata": {},
   "outputs": [],
   "source": [
    "float =12"
   ]
  },
  {
   "cell_type": "code",
   "execution_count": 20,
   "id": "31521bb3",
   "metadata": {},
   "outputs": [
    {
     "data": {
      "text/plain": [
       "12"
      ]
     },
     "execution_count": 20,
     "metadata": {},
     "output_type": "execute_result"
    }
   ],
   "source": [
    "float"
   ]
  },
  {
   "cell_type": "code",
   "execution_count": null,
   "id": "28a67619",
   "metadata": {},
   "outputs": [],
   "source": []
  },
  {
   "cell_type": "code",
   "execution_count": 21,
   "id": "178e7bab",
   "metadata": {},
   "outputs": [],
   "source": [
    "true =23"
   ]
  },
  {
   "cell_type": "code",
   "execution_count": null,
   "id": "1d35eba3",
   "metadata": {},
   "outputs": [],
   "source": []
  },
  {
   "cell_type": "code",
   "execution_count": 1,
   "id": "fa9a255f",
   "metadata": {},
   "outputs": [
    {
     "ename": "SyntaxError",
     "evalue": "invalid syntax (2597561126.py, line 1)",
     "output_type": "error",
     "traceback": [
      "\u001b[1;36m  Cell \u001b[1;32mIn[1], line 1\u001b[1;36m\u001b[0m\n\u001b[1;33m    lambda = 89\u001b[0m\n\u001b[1;37m           ^\u001b[0m\n\u001b[1;31mSyntaxError\u001b[0m\u001b[1;31m:\u001b[0m invalid syntax\n"
     ]
    }
   ],
   "source": [
    "lambda = 89"
   ]
  },
  {
   "cell_type": "code",
   "execution_count": null,
   "id": "d0c46fe9",
   "metadata": {},
   "outputs": [],
   "source": []
  },
  {
   "cell_type": "markdown",
   "id": "4ebbd53f",
   "metadata": {},
   "source": [
    "## variables"
   ]
  },
  {
   "cell_type": "code",
   "execution_count": null,
   "id": "64905d28",
   "metadata": {},
   "outputs": [],
   "source": []
  },
  {
   "cell_type": "code",
   "execution_count": null,
   "id": "9b2b9f7a",
   "metadata": {},
   "outputs": [],
   "source": []
  },
  {
   "cell_type": "markdown",
   "id": "7c004678",
   "metadata": {},
   "source": [
    "### Rules for Python variables:"
   ]
  },
  {
   "cell_type": "markdown",
   "id": "a4a96d86",
   "metadata": {},
   "source": [
    "- A variable name must start with a letter or the underscore character\n",
    "- A variable name cannot start with a number\n",
    "- A variable name can only contain alpha-numeric characters and underscores (A-z, 0-9, and _ )\n",
    "- Variable names are case-sensitive (age, Age and AGE are three different variables)\n",
    "- A variable name cannot be any of the Python keywords."
   ]
  },
  {
   "cell_type": "code",
   "execution_count": null,
   "id": "dce09f43",
   "metadata": {},
   "outputs": [],
   "source": [
    "# example\n",
    "\n",
    "\n",
    "abc123 = 100"
   ]
  },
  {
   "cell_type": "code",
   "execution_count": null,
   "id": "239bbf12",
   "metadata": {},
   "outputs": [],
   "source": [
    "abc"
   ]
  },
  {
   "cell_type": "code",
   "execution_count": null,
   "id": "03959682",
   "metadata": {},
   "outputs": [],
   "source": [
    "_ =10"
   ]
  },
  {
   "cell_type": "code",
   "execution_count": null,
   "id": "1389007e",
   "metadata": {},
   "outputs": [],
   "source": [
    "_"
   ]
  },
  {
   "cell_type": "code",
   "execution_count": null,
   "id": "48c40542",
   "metadata": {},
   "outputs": [],
   "source": [
    "_abc=12"
   ]
  },
  {
   "cell_type": "code",
   "execution_count": null,
   "id": "0351747d",
   "metadata": {},
   "outputs": [],
   "source": []
  },
  {
   "cell_type": "code",
   "execution_count": null,
   "id": "53630adc",
   "metadata": {},
   "outputs": [],
   "source": [
    "age =23"
   ]
  },
  {
   "cell_type": "code",
   "execution_count": null,
   "id": "06315abb",
   "metadata": {},
   "outputs": [],
   "source": [
    "Age =22"
   ]
  },
  {
   "cell_type": "code",
   "execution_count": null,
   "id": "8c873b59",
   "metadata": {},
   "outputs": [],
   "source": [
    "AGE =12"
   ]
  },
  {
   "cell_type": "code",
   "execution_count": null,
   "id": "f5c0e628",
   "metadata": {},
   "outputs": [],
   "source": [
    "age"
   ]
  },
  {
   "cell_type": "code",
   "execution_count": null,
   "id": "eef3a1ce",
   "metadata": {},
   "outputs": [],
   "source": []
  },
  {
   "cell_type": "code",
   "execution_count": null,
   "id": "774b761d",
   "metadata": {},
   "outputs": [],
   "source": [
    "# example2\n",
    "\n",
    "\n",
    "\n",
    "d1,d2,d3 = 10,20,30"
   ]
  },
  {
   "cell_type": "code",
   "execution_count": null,
   "id": "e7c55629",
   "metadata": {},
   "outputs": [],
   "source": [
    "d1"
   ]
  },
  {
   "cell_type": "code",
   "execution_count": null,
   "id": "99d9cf21",
   "metadata": {},
   "outputs": [],
   "source": [
    "g1 g2 g3 = 10 20 30"
   ]
  },
  {
   "cell_type": "code",
   "execution_count": null,
   "id": "2bc558a3",
   "metadata": {},
   "outputs": [],
   "source": [
    "##############################################################################################"
   ]
  },
  {
   "cell_type": "code",
   "execution_count": null,
   "id": "5dc2254a",
   "metadata": {},
   "outputs": [],
   "source": []
  },
  {
   "cell_type": "markdown",
   "id": "bf1183d9",
   "metadata": {},
   "source": [
    "## f-string"
   ]
  },
  {
   "cell_type": "raw",
   "id": "22368bb6",
   "metadata": {},
   "source": [
    "An f-string is a way to create strings that can include values of variables or calculations directly within them. It's like putting placeholders in a sentence and filling those placeholders with real values."
   ]
  },
  {
   "cell_type": "code",
   "execution_count": null,
   "id": "41b5a0d9",
   "metadata": {},
   "outputs": [],
   "source": [
    "name ='Neha'\n",
    "\n",
    "age =25\n",
    "\n",
    "p = f\"My name is {name},i am {age} years old\"\n",
    "\n",
    "\n",
    "print(p)\n"
   ]
  },
  {
   "cell_type": "code",
   "execution_count": null,
   "id": "8dc6482c",
   "metadata": {},
   "outputs": [],
   "source": []
  },
  {
   "cell_type": "code",
   "execution_count": null,
   "id": "3dfcc945",
   "metadata": {},
   "outputs": [],
   "source": [
    "# example2\n",
    "\n",
    "\n",
    "name1 ='Neha'\n",
    "\n",
    "age1 =25\n",
    "\n",
    "p = f\"My name is {name},i am {age} years old\"\n",
    "\n",
    "\n",
    "print(p)\n",
    "\n"
   ]
  },
  {
   "cell_type": "code",
   "execution_count": null,
   "id": "97ceb094",
   "metadata": {},
   "outputs": [],
   "source": []
  },
  {
   "cell_type": "code",
   "execution_count": null,
   "id": "36f9b1d2",
   "metadata": {},
   "outputs": [],
   "source": [
    "v='25'"
   ]
  },
  {
   "cell_type": "code",
   "execution_count": null,
   "id": "da96110a",
   "metadata": {},
   "outputs": [],
   "source": [
    "type(v)"
   ]
  },
  {
   "cell_type": "code",
   "execution_count": null,
   "id": "14612000",
   "metadata": {},
   "outputs": [],
   "source": [
    "v"
   ]
  },
  {
   "cell_type": "code",
   "execution_count": null,
   "id": "5ee434dc",
   "metadata": {},
   "outputs": [],
   "source": [
    "name"
   ]
  },
  {
   "cell_type": "code",
   "execution_count": null,
   "id": "fabcd07b",
   "metadata": {},
   "outputs": [],
   "source": [
    "age"
   ]
  },
  {
   "cell_type": "code",
   "execution_count": 23,
   "id": "82c13169",
   "metadata": {},
   "outputs": [
    {
     "ename": "NameError",
     "evalue": "name 'name' is not defined",
     "output_type": "error",
     "traceback": [
      "\u001b[1;31m---------------------------------------------------------------------------\u001b[0m",
      "\u001b[1;31mNameError\u001b[0m                                 Traceback (most recent call last)",
      "Cell \u001b[1;32mIn[23], line 4\u001b[0m\n\u001b[0;32m      1\u001b[0m \u001b[38;5;66;03m# example3\u001b[39;00m\n\u001b[1;32m----> 4\u001b[0m \u001b[38;5;28mprint\u001b[39m(\u001b[38;5;124m\"\u001b[39m\u001b[38;5;124mmy name is\u001b[39m\u001b[38;5;124m\"\u001b[39m,\u001b[43mname\u001b[49m,\u001b[38;5;124m'\u001b[39m\u001b[38;5;124m,\u001b[39m\u001b[38;5;124m'\u001b[39m,\u001b[38;5;124m\"\u001b[39m\u001b[38;5;124mi am\u001b[39m\u001b[38;5;124m\"\u001b[39m,age,\u001b[38;5;124m\"\u001b[39m\u001b[38;5;124myears old\u001b[39m\u001b[38;5;124m\"\u001b[39m)\n",
      "\u001b[1;31mNameError\u001b[0m: name 'name' is not defined"
     ]
    }
   ],
   "source": [
    "# example3\n",
    "\n",
    "\n",
    "print(\"my name is\",name,',',\"i am\",age,\"years old\")\n",
    "\n",
    "\n",
    "\n"
   ]
  },
  {
   "cell_type": "code",
   "execution_count": null,
   "id": "a914cd14",
   "metadata": {},
   "outputs": [],
   "source": [
    "type(l)"
   ]
  },
  {
   "cell_type": "code",
   "execution_count": null,
   "id": "91effac3",
   "metadata": {},
   "outputs": [],
   "source": []
  },
  {
   "cell_type": "code",
   "execution_count": null,
   "id": "adf5cc5d",
   "metadata": {},
   "outputs": [],
   "source": [
    "w =10,20,30,40"
   ]
  },
  {
   "cell_type": "code",
   "execution_count": null,
   "id": "423330c8",
   "metadata": {},
   "outputs": [],
   "source": [
    "w"
   ]
  },
  {
   "cell_type": "code",
   "execution_count": null,
   "id": "cf59f476",
   "metadata": {},
   "outputs": [],
   "source": [
    "10+20"
   ]
  },
  {
   "cell_type": "code",
   "execution_count": null,
   "id": "27af3dfb",
   "metadata": {},
   "outputs": [],
   "source": [
    "id(w)"
   ]
  },
  {
   "cell_type": "code",
   "execution_count": null,
   "id": "472a337b",
   "metadata": {},
   "outputs": [],
   "source": []
  },
  {
   "cell_type": "markdown",
   "id": "0e1f95b2",
   "metadata": {},
   "source": [
    "## input()"
   ]
  },
  {
   "cell_type": "code",
   "execution_count": null,
   "id": "3cf31942",
   "metadata": {},
   "outputs": [],
   "source": [
    "k1 = 20\n",
    "\n",
    "k2 = 10"
   ]
  },
  {
   "cell_type": "code",
   "execution_count": null,
   "id": "e6e53579",
   "metadata": {},
   "outputs": [],
   "source": [
    "k1+k2"
   ]
  },
  {
   "cell_type": "code",
   "execution_count": null,
   "id": "9cb0faa4",
   "metadata": {},
   "outputs": [],
   "source": [
    "# input()"
   ]
  },
  {
   "cell_type": "code",
   "execution_count": null,
   "id": "a7a37d88",
   "metadata": {},
   "outputs": [],
   "source": [
    "# example1\n",
    "\n",
    "\n",
    "\n",
    "num1 = input('enter a number')"
   ]
  },
  {
   "cell_type": "code",
   "execution_count": null,
   "id": "27774dea",
   "metadata": {},
   "outputs": [],
   "source": [
    "type(num1)"
   ]
  },
  {
   "cell_type": "code",
   "execution_count": null,
   "id": "d4881e0f",
   "metadata": {},
   "outputs": [],
   "source": []
  },
  {
   "cell_type": "code",
   "execution_count": null,
   "id": "16071949",
   "metadata": {},
   "outputs": [],
   "source": [
    "num2=int(input('enter a first number :'))\n",
    "num3 =int(input('enter a second number :'))\n",
    "\n",
    "\n",
    "\n",
    "print(num2+num3)"
   ]
  },
  {
   "cell_type": "code",
   "execution_count": null,
   "id": "71bb31f8",
   "metadata": {},
   "outputs": [],
   "source": []
  },
  {
   "cell_type": "markdown",
   "id": "54ba1077",
   "metadata": {},
   "source": [
    "## Operators in python"
   ]
  },
  {
   "cell_type": "markdown",
   "id": "be3622c7",
   "metadata": {},
   "source": [
    "- Arithmetic operators\n",
    "- Assignment operators\n",
    "- Comparison operators\n",
    "- Logical operators\n",
    "- Identity operators\n",
    "- Membership operators\n",
    "- Bitwise operators"
   ]
  },
  {
   "cell_type": "code",
   "execution_count": null,
   "id": "e4bab9e4",
   "metadata": {},
   "outputs": [],
   "source": []
  },
  {
   "cell_type": "code",
   "execution_count": null,
   "id": "d4d56d4b",
   "metadata": {},
   "outputs": [],
   "source": []
  },
  {
   "cell_type": "markdown",
   "id": "a2c64c76",
   "metadata": {},
   "source": [
    "### Arithmetic operators"
   ]
  },
  {
   "cell_type": "markdown",
   "id": "88f01cf8",
   "metadata": {},
   "source": [
    "- Addition (x + y)\n",
    "- Subtraction (x - y)\n",
    "- Multiplication (x * y)\n",
    "- Division (x / y)\n",
    "- Modulus (x % y)\n",
    "- Exponentiation (x ** y)\n",
    "- Floor division (x // y)\n"
   ]
  },
  {
   "cell_type": "markdown",
   "id": "f7503af0",
   "metadata": {},
   "source": [
    "### Addition"
   ]
  },
  {
   "cell_type": "code",
   "execution_count": null,
   "id": "61779d40",
   "metadata": {},
   "outputs": [],
   "source": [
    "# example1\n",
    "\n",
    "100+400\n"
   ]
  },
  {
   "cell_type": "code",
   "execution_count": null,
   "id": "4f0c9b12",
   "metadata": {},
   "outputs": [],
   "source": []
  },
  {
   "cell_type": "markdown",
   "id": "79f68f51",
   "metadata": {},
   "source": [
    "### Modulus(%)"
   ]
  },
  {
   "cell_type": "code",
   "execution_count": null,
   "id": "27de1a9b",
   "metadata": {},
   "outputs": [],
   "source": [
    "10%2"
   ]
  },
  {
   "cell_type": "code",
   "execution_count": null,
   "id": "21e435c8",
   "metadata": {},
   "outputs": [],
   "source": [
    "11%2"
   ]
  },
  {
   "cell_type": "markdown",
   "id": "debb6624",
   "metadata": {},
   "source": [
    "### Exponentiation(**)"
   ]
  },
  {
   "cell_type": "code",
   "execution_count": null,
   "id": "851c8b24",
   "metadata": {},
   "outputs": [],
   "source": []
  },
  {
   "cell_type": "code",
   "execution_count": null,
   "id": "bf6b4922",
   "metadata": {},
   "outputs": [],
   "source": [
    "2**5"
   ]
  },
  {
   "cell_type": "code",
   "execution_count": null,
   "id": "abc8b2e2",
   "metadata": {},
   "outputs": [],
   "source": [
    "2*2"
   ]
  },
  {
   "cell_type": "code",
   "execution_count": null,
   "id": "55fe0a97",
   "metadata": {},
   "outputs": [],
   "source": [
    "4*2"
   ]
  },
  {
   "cell_type": "code",
   "execution_count": null,
   "id": "2614d7e7",
   "metadata": {},
   "outputs": [],
   "source": [
    "8*2"
   ]
  },
  {
   "cell_type": "code",
   "execution_count": null,
   "id": "82a7f5b4",
   "metadata": {},
   "outputs": [],
   "source": [
    "16*2"
   ]
  },
  {
   "cell_type": "code",
   "execution_count": null,
   "id": "973b0341",
   "metadata": {},
   "outputs": [],
   "source": []
  },
  {
   "cell_type": "markdown",
   "id": "d96d6502",
   "metadata": {},
   "source": [
    "### Floor division (x // y)"
   ]
  },
  {
   "cell_type": "code",
   "execution_count": null,
   "id": "724a2796",
   "metadata": {},
   "outputs": [],
   "source": [
    "11/2"
   ]
  },
  {
   "cell_type": "code",
   "execution_count": null,
   "id": "56690abf",
   "metadata": {},
   "outputs": [],
   "source": [
    "11//2"
   ]
  },
  {
   "cell_type": "code",
   "execution_count": null,
   "id": "7356fda0",
   "metadata": {},
   "outputs": [],
   "source": [
    "13/3"
   ]
  },
  {
   "cell_type": "code",
   "execution_count": null,
   "id": "5a0a130e",
   "metadata": {},
   "outputs": [],
   "source": [
    "13//3"
   ]
  },
  {
   "cell_type": "code",
   "execution_count": null,
   "id": "3e1d158c",
   "metadata": {},
   "outputs": [],
   "source": []
  },
  {
   "cell_type": "code",
   "execution_count": null,
   "id": "5eeb6455",
   "metadata": {},
   "outputs": [],
   "source": [
    "11//3"
   ]
  },
  {
   "cell_type": "code",
   "execution_count": null,
   "id": "296e99c2",
   "metadata": {},
   "outputs": [],
   "source": [
    "11/3"
   ]
  },
  {
   "cell_type": "code",
   "execution_count": null,
   "id": "37b59f90",
   "metadata": {},
   "outputs": [],
   "source": []
  },
  {
   "cell_type": "code",
   "execution_count": null,
   "id": "9047cb8e",
   "metadata": {},
   "outputs": [],
   "source": []
  },
  {
   "cell_type": "code",
   "execution_count": null,
   "id": "39ee25ea",
   "metadata": {},
   "outputs": [],
   "source": []
  },
  {
   "cell_type": "code",
   "execution_count": null,
   "id": "9988d57b",
   "metadata": {},
   "outputs": [],
   "source": []
  },
  {
   "cell_type": "markdown",
   "id": "d7c3369f",
   "metadata": {},
   "source": [
    "### Assignment operators"
   ]
  },
  {
   "cell_type": "code",
   "execution_count": null,
   "id": "5362c030",
   "metadata": {},
   "outputs": [],
   "source": []
  },
  {
   "cell_type": "raw",
   "id": "290085f8",
   "metadata": {},
   "source": [
    "=  \n",
    "\n",
    "+= \n",
    "    x += 3 same as x = x + 3\n",
    "-= \n",
    "    x -= 3 same as x = x - 3\n",
    "*= \n",
    "    x *= 3  same as x = x * 3\n",
    "/=\n",
    "    x /= 3 same as x = x / 3\n",
    "%=\n",
    "    x %= 3  same as x = x % 3\n",
    "//= \n",
    "    x //= 3 same as x = x // 3\n",
    "**= \n",
    "    x **= same as  3 x = x ** 3\n",
    "&= \n",
    "    x &= 3 same as  x = x & 3\n",
    "|=\n",
    "    x |= 3  same as x = x | 3\n",
    "^= \n",
    "    x ^= 3 same as x = x ^ 3\n",
    ">>= \n",
    "    x >>= 3 same as x = x >> 3\n",
    "<<=\n",
    "    x <<= 3 same as x = x << 3\n"
   ]
  },
  {
   "cell_type": "code",
   "execution_count": null,
   "id": "b7c3d10c",
   "metadata": {},
   "outputs": [],
   "source": [
    "# examples\n",
    "\n",
    "\n",
    "#+=\n",
    "\n",
    "r=20\n"
   ]
  },
  {
   "cell_type": "code",
   "execution_count": null,
   "id": "3c09ffe7",
   "metadata": {},
   "outputs": [],
   "source": [
    "r"
   ]
  },
  {
   "cell_type": "code",
   "execution_count": null,
   "id": "cecf6b4d",
   "metadata": {},
   "outputs": [],
   "source": [
    "r = r + 3"
   ]
  },
  {
   "cell_type": "code",
   "execution_count": null,
   "id": "a01f5702",
   "metadata": {},
   "outputs": [],
   "source": [
    "r"
   ]
  },
  {
   "cell_type": "code",
   "execution_count": null,
   "id": "49ab1eac",
   "metadata": {},
   "outputs": [],
   "source": [
    "r += 3"
   ]
  },
  {
   "cell_type": "code",
   "execution_count": null,
   "id": "32093a53",
   "metadata": {},
   "outputs": [],
   "source": [
    "r"
   ]
  },
  {
   "cell_type": "code",
   "execution_count": null,
   "id": "4d135033",
   "metadata": {},
   "outputs": [],
   "source": []
  },
  {
   "cell_type": "code",
   "execution_count": null,
   "id": "c9742a93",
   "metadata": {},
   "outputs": [],
   "source": []
  },
  {
   "cell_type": "code",
   "execution_count": null,
   "id": "3e978fc9",
   "metadata": {},
   "outputs": [],
   "source": []
  },
  {
   "cell_type": "code",
   "execution_count": null,
   "id": "f5ecda4e",
   "metadata": {},
   "outputs": [],
   "source": []
  },
  {
   "cell_type": "code",
   "execution_count": null,
   "id": "c6f07ce4",
   "metadata": {},
   "outputs": [],
   "source": []
  },
  {
   "cell_type": "code",
   "execution_count": null,
   "id": "8c6a441d",
   "metadata": {},
   "outputs": [],
   "source": []
  },
  {
   "cell_type": "code",
   "execution_count": null,
   "id": "3f1abf05",
   "metadata": {},
   "outputs": [],
   "source": []
  },
  {
   "cell_type": "markdown",
   "id": "06898f32",
   "metadata": {},
   "source": [
    "### Comparison operators"
   ]
  },
  {
   "cell_type": "raw",
   "id": "be707423",
   "metadata": {},
   "source": [
    "- ==\n",
    "- !=\n",
    "- >\n",
    "- <\n",
    "- <=\n",
    "- >="
   ]
  },
  {
   "cell_type": "code",
   "execution_count": null,
   "id": "1f020c08",
   "metadata": {},
   "outputs": [],
   "source": []
  },
  {
   "cell_type": "code",
   "execution_count": null,
   "id": "90cef941",
   "metadata": {},
   "outputs": [],
   "source": []
  },
  {
   "cell_type": "code",
   "execution_count": null,
   "id": "cde8c392",
   "metadata": {},
   "outputs": [],
   "source": []
  },
  {
   "cell_type": "code",
   "execution_count": null,
   "id": "e932fb31",
   "metadata": {},
   "outputs": [],
   "source": []
  },
  {
   "cell_type": "markdown",
   "id": "ac0528b3",
   "metadata": {},
   "source": [
    "### Logical operators"
   ]
  },
  {
   "cell_type": "markdown",
   "id": "5ad08bc9",
   "metadata": {},
   "source": [
    "- and\n",
    "- or\n",
    "- not"
   ]
  },
  {
   "cell_type": "code",
   "execution_count": null,
   "id": "4274dd7e",
   "metadata": {},
   "outputs": [],
   "source": []
  },
  {
   "cell_type": "code",
   "execution_count": null,
   "id": "43f241d0",
   "metadata": {},
   "outputs": [],
   "source": []
  },
  {
   "cell_type": "code",
   "execution_count": null,
   "id": "87d29faf",
   "metadata": {},
   "outputs": [],
   "source": []
  },
  {
   "cell_type": "code",
   "execution_count": null,
   "id": "d3c82a79",
   "metadata": {},
   "outputs": [],
   "source": []
  },
  {
   "cell_type": "markdown",
   "id": "9dd2ba87",
   "metadata": {},
   "source": [
    "## <span style='color:red'>Identity operators</span>"
   ]
  },
  {
   "cell_type": "raw",
   "id": "7f31910a",
   "metadata": {},
   "source": [
    "Identity operators are used to compare the objects, not if they are equal, but if they are actually the same object, with the same memory location:"
   ]
  },
  {
   "cell_type": "markdown",
   "id": "9f7c9c97",
   "metadata": {},
   "source": [
    "- is\n",
    "- is not"
   ]
  },
  {
   "cell_type": "code",
   "execution_count": null,
   "id": "f1c6741f",
   "metadata": {},
   "outputs": [],
   "source": [
    "256<=    --> object same\n",
    "\n",
    "\n",
    "256>    --> object different"
   ]
  },
  {
   "cell_type": "code",
   "execution_count": null,
   "id": "7f40095b",
   "metadata": {},
   "outputs": [],
   "source": [
    "h1=100"
   ]
  },
  {
   "cell_type": "code",
   "execution_count": null,
   "id": "229d3215",
   "metadata": {},
   "outputs": [],
   "source": [
    "h2=100"
   ]
  },
  {
   "cell_type": "code",
   "execution_count": null,
   "id": "028d6e9d",
   "metadata": {},
   "outputs": [],
   "source": []
  },
  {
   "cell_type": "code",
   "execution_count": null,
   "id": "7a201767",
   "metadata": {},
   "outputs": [],
   "source": [
    "id(h1)"
   ]
  },
  {
   "cell_type": "code",
   "execution_count": null,
   "id": "03c8504e",
   "metadata": {},
   "outputs": [],
   "source": [
    "id(h2)"
   ]
  },
  {
   "cell_type": "code",
   "execution_count": null,
   "id": "f3f928b5",
   "metadata": {},
   "outputs": [],
   "source": [
    "h1 is h2"
   ]
  },
  {
   "cell_type": "code",
   "execution_count": null,
   "id": "b76c6084",
   "metadata": {},
   "outputs": [],
   "source": []
  },
  {
   "cell_type": "code",
   "execution_count": null,
   "id": "2f59930d",
   "metadata": {},
   "outputs": [],
   "source": []
  },
  {
   "cell_type": "code",
   "execution_count": null,
   "id": "728afb0f",
   "metadata": {},
   "outputs": [],
   "source": []
  },
  {
   "cell_type": "code",
   "execution_count": null,
   "id": "ec99543f",
   "metadata": {},
   "outputs": [],
   "source": [
    "j1 =257"
   ]
  },
  {
   "cell_type": "code",
   "execution_count": null,
   "id": "ce1dab4b",
   "metadata": {},
   "outputs": [],
   "source": [
    "j2 =257"
   ]
  },
  {
   "cell_type": "code",
   "execution_count": null,
   "id": "20fd0936",
   "metadata": {},
   "outputs": [],
   "source": [
    "id(j1)"
   ]
  },
  {
   "cell_type": "code",
   "execution_count": null,
   "id": "11149c1d",
   "metadata": {},
   "outputs": [],
   "source": [
    "id(j2)"
   ]
  },
  {
   "cell_type": "code",
   "execution_count": null,
   "id": "7513255d",
   "metadata": {},
   "outputs": [],
   "source": [
    "j1 is not j2"
   ]
  },
  {
   "cell_type": "code",
   "execution_count": null,
   "id": "0e60a7a0",
   "metadata": {},
   "outputs": [],
   "source": []
  },
  {
   "cell_type": "code",
   "execution_count": null,
   "id": "ee74fe09",
   "metadata": {},
   "outputs": [],
   "source": []
  },
  {
   "cell_type": "markdown",
   "id": "05fa1baf",
   "metadata": {},
   "source": [
    "### Membership operators"
   ]
  },
  {
   "cell_type": "markdown",
   "id": "d9968330",
   "metadata": {},
   "source": [
    "- in\n",
    "- not in"
   ]
  },
  {
   "cell_type": "code",
   "execution_count": null,
   "id": "de30084d",
   "metadata": {},
   "outputs": [],
   "source": []
  },
  {
   "cell_type": "code",
   "execution_count": null,
   "id": "4269c2dd",
   "metadata": {},
   "outputs": [],
   "source": []
  },
  {
   "cell_type": "code",
   "execution_count": null,
   "id": "1c749ac2",
   "metadata": {},
   "outputs": [],
   "source": []
  },
  {
   "cell_type": "code",
   "execution_count": null,
   "id": "06104413",
   "metadata": {},
   "outputs": [],
   "source": []
  },
  {
   "cell_type": "code",
   "execution_count": null,
   "id": "4efd1434",
   "metadata": {},
   "outputs": [],
   "source": []
  },
  {
   "cell_type": "markdown",
   "id": "9f361115",
   "metadata": {},
   "source": [
    "### Bitwise operators"
   ]
  },
  {
   "cell_type": "markdown",
   "id": "876ea495",
   "metadata": {},
   "source": [
    "- &\n",
    "- |\n",
    "- ~"
   ]
  },
  {
   "cell_type": "code",
   "execution_count": null,
   "id": "21f89564",
   "metadata": {},
   "outputs": [],
   "source": []
  },
  {
   "cell_type": "code",
   "execution_count": null,
   "id": "f7efb50f",
   "metadata": {},
   "outputs": [],
   "source": []
  },
  {
   "cell_type": "code",
   "execution_count": null,
   "id": "c6814665",
   "metadata": {},
   "outputs": [],
   "source": []
  },
  {
   "cell_type": "code",
   "execution_count": null,
   "id": "8b1b2354",
   "metadata": {},
   "outputs": [],
   "source": []
  },
  {
   "cell_type": "markdown",
   "id": "d1966052",
   "metadata": {},
   "source": [
    "## string operations"
   ]
  },
  {
   "cell_type": "raw",
   "id": "7ed2d56c",
   "metadata": {},
   "source": [
    "Note: All string methods returns new values. They do not change the original string."
   ]
  },
  {
   "cell_type": "markdown",
   "id": "d3bfe7f7",
   "metadata": {},
   "source": [
    "- capitalize() -->Converts the first character to upper case\n",
    "    \n",
    "- casefold() --> Converts string into lower case\n",
    "\n",
    "- index()   -->Searches the string for a specified value and returns the position of where it was   found\n",
    "\n",
    "- lower()  --> Converts a string into lower case\n",
    "\n",
    "- partition() --> The partition() method searches for a specified string, and splits the string into a tuple containing three elements.\n",
    "              --> - before match\n",
    "                  - the match\n",
    "                  - after match\n",
    "            \n",
    "- replace() -->  The replace() method replaces a specified phrase with another specified phrase.\n",
    "\n",
    "- split() --> The split() method splits a string into a list.\n",
    "- swapcase() --> The swapcase() method returns a string where all the upper case letters are lower case and vice versa.\n",
    "- title() --> The title() method returns a string where the first character in every word is upper case.\n",
    "- upper() --> The upper() method returns a string where all characters are in upper case.\n",
    "\n",
    "- zfill() --> The zfill() method adds zeros (0) at the beginning of the string, until it reaches the specified length.\n"
   ]
  },
  {
   "cell_type": "code",
   "execution_count": null,
   "id": "9166a10d",
   "metadata": {},
   "outputs": [],
   "source": []
  }
 ],
 "metadata": {
  "kernelspec": {
   "display_name": "Python 3 (ipykernel)",
   "language": "python",
   "name": "python3"
  },
  "language_info": {
   "codemirror_mode": {
    "name": "ipython",
    "version": 3
   },
   "file_extension": ".py",
   "mimetype": "text/x-python",
   "name": "python",
   "nbconvert_exporter": "python",
   "pygments_lexer": "ipython3",
   "version": "3.10.9"
  }
 },
 "nbformat": 4,
 "nbformat_minor": 5
}
