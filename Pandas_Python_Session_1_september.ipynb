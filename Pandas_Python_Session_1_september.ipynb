{
 "cells": [
  {
   "cell_type": "markdown",
   "id": "c7d0a8e8",
   "metadata": {},
   "source": [
    "## Pandas"
   ]
  },
  {
   "cell_type": "markdown",
   "id": "3fe8c697",
   "metadata": {},
   "source": [
    "#### Pandas is a Python library used for working with data sets."
   ]
  },
  {
   "cell_type": "markdown",
   "id": "3472a8a0",
   "metadata": {},
   "source": [
    "#### It has functions for analyzing, cleaning, exploring, and manipulating data."
   ]
  },
  {
   "cell_type": "markdown",
   "id": "8fef6156",
   "metadata": {},
   "source": [
    "- Pandas allows us to analyze big data and make conclusions based on statistical theories.\n",
    "\n",
    "- Pandas can clean messy data sets, and make them readable and relevant.\n",
    "\n",
    "- Relevant data is very important in data science."
   ]
  },
  {
   "cell_type": "code",
   "execution_count": null,
   "id": "1b43508d",
   "metadata": {},
   "outputs": [],
   "source": []
  },
  {
   "cell_type": "markdown",
   "id": "b732ec70",
   "metadata": {},
   "source": [
    "### Pandas Data Structure"
   ]
  },
  {
   "cell_type": "markdown",
   "id": "4abe0211",
   "metadata": {},
   "source": [
    "- Series (1 Dimensional)\n",
    "- DataFrame (2 Dimensional)"
   ]
  },
  {
   "cell_type": "markdown",
   "id": "b05ddcb1",
   "metadata": {},
   "source": [
    "### Series  (1 Dimensional)"
   ]
  },
  {
   "cell_type": "raw",
   "id": "56d69e6c",
   "metadata": {},
   "source": [
    "A Series is a one-dimensional labeled array in pandas. It can hold data of various types, including integers, floats, strings, and more."
   ]
  },
  {
   "cell_type": "raw",
   "id": "c5758251",
   "metadata": {},
   "source": [
    "# syntax\n",
    "\n",
    "pd.Series(variable_name)     # Series  -->S capital in Series"
   ]
  },
  {
   "cell_type": "markdown",
   "id": "24e876c5",
   "metadata": {},
   "source": [
    "#### import libary"
   ]
  },
  {
   "cell_type": "code",
   "execution_count": 65,
   "id": "75090563",
   "metadata": {},
   "outputs": [],
   "source": [
    "import pandas as pd"
   ]
  },
  {
   "cell_type": "code",
   "execution_count": null,
   "id": "d649ef19",
   "metadata": {},
   "outputs": [],
   "source": []
  },
  {
   "cell_type": "markdown",
   "id": "8cd5ceb9",
   "metadata": {},
   "source": [
    "#### Creating Series :"
   ]
  },
  {
   "cell_type": "markdown",
   "id": "1ba74d8c",
   "metadata": {},
   "source": [
    "- list\n",
    "- tuple\n",
    "- dictionary\n",
    "- Array"
   ]
  },
  {
   "cell_type": "markdown",
   "id": "fdb5c832",
   "metadata": {},
   "source": [
    "### list"
   ]
  },
  {
   "cell_type": "code",
   "execution_count": 66,
   "id": "79808a16",
   "metadata": {},
   "outputs": [
    {
     "data": {
      "text/plain": [
       "[10, 20, 30, 40, 50, 60, 70]"
      ]
     },
     "execution_count": 66,
     "metadata": {},
     "output_type": "execute_result"
    }
   ],
   "source": [
    "# Creating a Series using a list\n",
    "\n",
    "l1 =[10,20,30,40,50,60,70]\n",
    "\n",
    "l1"
   ]
  },
  {
   "cell_type": "code",
   "execution_count": null,
   "id": "bef4a9c2",
   "metadata": {},
   "outputs": [],
   "source": []
  },
  {
   "cell_type": "markdown",
   "id": "ec434c10",
   "metadata": {},
   "source": [
    "#### example"
   ]
  },
  {
   "cell_type": "code",
   "execution_count": 3,
   "id": "52a83fc2",
   "metadata": {},
   "outputs": [
    {
     "data": {
      "text/plain": [
       "0    10\n",
       "1    20\n",
       "2    30\n",
       "3    40\n",
       "4    50\n",
       "5    60\n",
       "6    70\n",
       "dtype: int64"
      ]
     },
     "execution_count": 3,
     "metadata": {},
     "output_type": "execute_result"
    }
   ],
   "source": [
    "\n",
    "\n",
    "a1 =pd.Series(l1)\n",
    "\n",
    "a1"
   ]
  },
  {
   "cell_type": "code",
   "execution_count": null,
   "id": "4cd88a47",
   "metadata": {},
   "outputs": [],
   "source": []
  },
  {
   "cell_type": "code",
   "execution_count": 12,
   "id": "d288649d",
   "metadata": {},
   "outputs": [
    {
     "data": {
      "text/plain": [
       "50"
      ]
     },
     "execution_count": 12,
     "metadata": {},
     "output_type": "execute_result"
    }
   ],
   "source": [
    "a1[4]"
   ]
  },
  {
   "cell_type": "code",
   "execution_count": null,
   "id": "b6237544",
   "metadata": {},
   "outputs": [],
   "source": []
  },
  {
   "cell_type": "code",
   "execution_count": 4,
   "id": "1987d9cc",
   "metadata": {},
   "outputs": [
    {
     "data": {
      "text/plain": [
       "pandas.core.series.Series"
      ]
     },
     "execution_count": 4,
     "metadata": {},
     "output_type": "execute_result"
    }
   ],
   "source": [
    "type(a1)"
   ]
  },
  {
   "cell_type": "code",
   "execution_count": null,
   "id": "55af4af9",
   "metadata": {},
   "outputs": [],
   "source": []
  },
  {
   "cell_type": "markdown",
   "id": "11ab97ed",
   "metadata": {},
   "source": [
    "#### dictionary"
   ]
  },
  {
   "cell_type": "code",
   "execution_count": 67,
   "id": "6018138c",
   "metadata": {},
   "outputs": [
    {
     "data": {
      "text/plain": [
       "{1: 'One', 2: 'two', 3: 'three', 4: 'four'}"
      ]
     },
     "execution_count": 67,
     "metadata": {},
     "output_type": "execute_result"
    }
   ],
   "source": [
    "# Creating a Series using a dictionary\n",
    "\n",
    "d = {1:\"One\",2:\"two\",3:\"three\",4:\"four\"}\n",
    "\n",
    "d"
   ]
  },
  {
   "cell_type": "code",
   "execution_count": null,
   "id": "3d4259c2",
   "metadata": {},
   "outputs": [],
   "source": []
  },
  {
   "cell_type": "code",
   "execution_count": 68,
   "id": "d99896be",
   "metadata": {},
   "outputs": [
    {
     "data": {
      "text/plain": [
       "1      One\n",
       "2      two\n",
       "3    three\n",
       "4     four\n",
       "dtype: object"
      ]
     },
     "execution_count": 68,
     "metadata": {},
     "output_type": "execute_result"
    }
   ],
   "source": [
    "# example\n",
    "\n",
    "s2=pd.Series(d)\n",
    "\n",
    "s2"
   ]
  },
  {
   "cell_type": "code",
   "execution_count": null,
   "id": "f148a82d",
   "metadata": {},
   "outputs": [],
   "source": []
  },
  {
   "cell_type": "code",
   "execution_count": 69,
   "id": "1c6bf4bd",
   "metadata": {},
   "outputs": [
    {
     "data": {
      "text/plain": [
       "pandas.core.series.Series"
      ]
     },
     "execution_count": 69,
     "metadata": {},
     "output_type": "execute_result"
    }
   ],
   "source": [
    "type(s2)"
   ]
  },
  {
   "cell_type": "code",
   "execution_count": null,
   "id": "a29e5533",
   "metadata": {},
   "outputs": [],
   "source": []
  },
  {
   "cell_type": "markdown",
   "id": "fae8d5f3",
   "metadata": {},
   "source": [
    "### set"
   ]
  },
  {
   "cell_type": "code",
   "execution_count": 70,
   "id": "518cd867",
   "metadata": {},
   "outputs": [
    {
     "data": {
      "text/plain": [
       "{1, 2, 3, 4, 5, 6, 7}"
      ]
     },
     "execution_count": 70,
     "metadata": {},
     "output_type": "execute_result"
    }
   ],
   "source": [
    "set1 = {1,2,3,4,5,6,7}      # Attempting to create a Series from a set (which is not supported)\n",
    "\n",
    "set1"
   ]
  },
  {
   "cell_type": "code",
   "execution_count": null,
   "id": "de47df82",
   "metadata": {},
   "outputs": [],
   "source": []
  },
  {
   "cell_type": "code",
   "execution_count": 71,
   "id": "fced756f",
   "metadata": {},
   "outputs": [
    {
     "ename": "TypeError",
     "evalue": "'set' type is unordered",
     "output_type": "error",
     "traceback": [
      "\u001b[1;31m---------------------------------------------------------------------------\u001b[0m",
      "\u001b[1;31mTypeError\u001b[0m                                 Traceback (most recent call last)",
      "Cell \u001b[1;32mIn[71], line 1\u001b[0m\n\u001b[1;32m----> 1\u001b[0m s2\u001b[38;5;241m=\u001b[39m\u001b[43mpd\u001b[49m\u001b[38;5;241;43m.\u001b[39;49m\u001b[43mSeries\u001b[49m\u001b[43m(\u001b[49m\u001b[43mset1\u001b[49m\u001b[43m)\u001b[49m\n\u001b[0;32m      3\u001b[0m s2\n",
      "File \u001b[1;32m~\\anaconda3\\lib\\site-packages\\pandas\\core\\series.py:470\u001b[0m, in \u001b[0;36mSeries.__init__\u001b[1;34m(self, data, index, dtype, name, copy, fastpath)\u001b[0m\n\u001b[0;32m    468\u001b[0m         data \u001b[38;5;241m=\u001b[39m data\u001b[38;5;241m.\u001b[39mcopy()\n\u001b[0;32m    469\u001b[0m \u001b[38;5;28;01melse\u001b[39;00m:\n\u001b[1;32m--> 470\u001b[0m     data \u001b[38;5;241m=\u001b[39m \u001b[43msanitize_array\u001b[49m\u001b[43m(\u001b[49m\u001b[43mdata\u001b[49m\u001b[43m,\u001b[49m\u001b[43m \u001b[49m\u001b[43mindex\u001b[49m\u001b[43m,\u001b[49m\u001b[43m \u001b[49m\u001b[43mdtype\u001b[49m\u001b[43m,\u001b[49m\u001b[43m \u001b[49m\u001b[43mcopy\u001b[49m\u001b[43m)\u001b[49m\n\u001b[0;32m    472\u001b[0m     manager \u001b[38;5;241m=\u001b[39m get_option(\u001b[38;5;124m\"\u001b[39m\u001b[38;5;124mmode.data_manager\u001b[39m\u001b[38;5;124m\"\u001b[39m)\n\u001b[0;32m    473\u001b[0m     \u001b[38;5;28;01mif\u001b[39;00m manager \u001b[38;5;241m==\u001b[39m \u001b[38;5;124m\"\u001b[39m\u001b[38;5;124mblock\u001b[39m\u001b[38;5;124m\"\u001b[39m:\n",
      "File \u001b[1;32m~\\anaconda3\\lib\\site-packages\\pandas\\core\\construction.py:611\u001b[0m, in \u001b[0;36msanitize_array\u001b[1;34m(data, index, dtype, copy, raise_cast_failure, allow_2d)\u001b[0m\n\u001b[0;32m    608\u001b[0m \u001b[38;5;28;01melse\u001b[39;00m:\n\u001b[0;32m    609\u001b[0m     \u001b[38;5;28;01mif\u001b[39;00m \u001b[38;5;28misinstance\u001b[39m(data, (\u001b[38;5;28mset\u001b[39m, \u001b[38;5;28mfrozenset\u001b[39m)):\n\u001b[0;32m    610\u001b[0m         \u001b[38;5;66;03m# Raise only for unordered sets, e.g., not for dict_keys\u001b[39;00m\n\u001b[1;32m--> 611\u001b[0m         \u001b[38;5;28;01mraise\u001b[39;00m \u001b[38;5;167;01mTypeError\u001b[39;00m(\u001b[38;5;124mf\u001b[39m\u001b[38;5;124m\"\u001b[39m\u001b[38;5;124m'\u001b[39m\u001b[38;5;132;01m{\u001b[39;00m\u001b[38;5;28mtype\u001b[39m(data)\u001b[38;5;241m.\u001b[39m\u001b[38;5;18m__name__\u001b[39m\u001b[38;5;132;01m}\u001b[39;00m\u001b[38;5;124m'\u001b[39m\u001b[38;5;124m type is unordered\u001b[39m\u001b[38;5;124m\"\u001b[39m)\n\u001b[0;32m    613\u001b[0m     \u001b[38;5;66;03m# materialize e.g. generators, convert e.g. tuples, abc.ValueView\u001b[39;00m\n\u001b[0;32m    614\u001b[0m     \u001b[38;5;28;01mif\u001b[39;00m \u001b[38;5;28mhasattr\u001b[39m(data, \u001b[38;5;124m\"\u001b[39m\u001b[38;5;124m__array__\u001b[39m\u001b[38;5;124m\"\u001b[39m):\n\u001b[0;32m    615\u001b[0m         \u001b[38;5;66;03m# e.g. dask array GH#38645\u001b[39;00m\n",
      "\u001b[1;31mTypeError\u001b[0m: 'set' type is unordered"
     ]
    }
   ],
   "source": [
    "s2=pd.Series(set1)\n",
    "\n",
    "s2"
   ]
  },
  {
   "cell_type": "code",
   "execution_count": null,
   "id": "704a7e98",
   "metadata": {},
   "outputs": [],
   "source": []
  },
  {
   "cell_type": "markdown",
   "id": "c2e61ca3",
   "metadata": {},
   "source": [
    "#### array"
   ]
  },
  {
   "cell_type": "code",
   "execution_count": 10,
   "id": "5cfebf82",
   "metadata": {},
   "outputs": [],
   "source": [
    "import numpy as np"
   ]
  },
  {
   "cell_type": "code",
   "execution_count": 13,
   "id": "88a1c5ac",
   "metadata": {},
   "outputs": [
    {
     "data": {
      "text/plain": [
       "array([ 1,  2,  3,  4,  5,  6,  7,  8,  9, 10])"
      ]
     },
     "execution_count": 13,
     "metadata": {},
     "output_type": "execute_result"
    }
   ],
   "source": [
    "n1 =np.arange(1,11)\n",
    "\n",
    "n1"
   ]
  },
  {
   "cell_type": "code",
   "execution_count": 14,
   "id": "ac37e533",
   "metadata": {},
   "outputs": [
    {
     "data": {
      "text/plain": [
       "0     1\n",
       "1     2\n",
       "2     3\n",
       "3     4\n",
       "4     5\n",
       "5     6\n",
       "6     7\n",
       "7     8\n",
       "8     9\n",
       "9    10\n",
       "dtype: int32"
      ]
     },
     "execution_count": 14,
     "metadata": {},
     "output_type": "execute_result"
    }
   ],
   "source": [
    "s3=pd.Series(n1)\n",
    "\n",
    "s3"
   ]
  },
  {
   "cell_type": "code",
   "execution_count": 15,
   "id": "601294f8",
   "metadata": {},
   "outputs": [
    {
     "data": {
      "text/plain": [
       "pandas.core.series.Series"
      ]
     },
     "execution_count": 15,
     "metadata": {},
     "output_type": "execute_result"
    }
   ],
   "source": [
    "type(s3)"
   ]
  },
  {
   "cell_type": "code",
   "execution_count": null,
   "id": "0e893905",
   "metadata": {},
   "outputs": [],
   "source": []
  },
  {
   "cell_type": "code",
   "execution_count": 16,
   "id": "98615098",
   "metadata": {},
   "outputs": [
    {
     "data": {
      "text/plain": [
       "0     1\n",
       "1     2\n",
       "2     3\n",
       "3     4\n",
       "4     5\n",
       "5     6\n",
       "6     7\n",
       "7     8\n",
       "8     9\n",
       "9    10\n",
       "dtype: int32"
      ]
     },
     "execution_count": 16,
     "metadata": {},
     "output_type": "execute_result"
    }
   ],
   "source": [
    "s3"
   ]
  },
  {
   "cell_type": "code",
   "execution_count": null,
   "id": "8bb1ce85",
   "metadata": {},
   "outputs": [],
   "source": []
  },
  {
   "cell_type": "markdown",
   "id": "57f3d789",
   "metadata": {},
   "source": [
    "### Rename"
   ]
  },
  {
   "cell_type": "raw",
   "id": "7379f6a7",
   "metadata": {},
   "source": [
    "rename->index\n",
    "replace->values"
   ]
  },
  {
   "cell_type": "markdown",
   "id": "8d53e6a6",
   "metadata": {},
   "source": [
    "#### syntax"
   ]
  },
  {
   "cell_type": "raw",
   "id": "d0ed986a",
   "metadata": {},
   "source": [
    "#syntax\n",
    "\n",
    "variable_name.rename({old_index:new_index,old_index:new_index},inplace=True)"
   ]
  },
  {
   "cell_type": "code",
   "execution_count": null,
   "id": "92000230",
   "metadata": {},
   "outputs": [],
   "source": []
  },
  {
   "cell_type": "code",
   "execution_count": 17,
   "id": "75d37331",
   "metadata": {},
   "outputs": [
    {
     "data": {
      "text/plain": [
       "0     1\n",
       "1     2\n",
       "2     3\n",
       "3     4\n",
       "4     5\n",
       "5     6\n",
       "6     7\n",
       "7     8\n",
       "8     9\n",
       "9    10\n",
       "dtype: int32"
      ]
     },
     "execution_count": 17,
     "metadata": {},
     "output_type": "execute_result"
    }
   ],
   "source": [
    "s3"
   ]
  },
  {
   "cell_type": "code",
   "execution_count": 20,
   "id": "0b7cc327",
   "metadata": {},
   "outputs": [],
   "source": [
    "# example\n",
    "\n",
    "\n",
    "s4 =s3.rename({2:\"two\"},inplace=True)       # Renaming index labels of a Series\n",
    "\n",
    "s4"
   ]
  },
  {
   "cell_type": "code",
   "execution_count": 83,
   "id": "fc05a2fe",
   "metadata": {},
   "outputs": [
    {
     "data": {
      "text/plain": [
       "9     3\n",
       "9    10\n",
       "dtype: int32"
      ]
     },
     "execution_count": 83,
     "metadata": {},
     "output_type": "execute_result"
    }
   ],
   "source": [
    "s4[9]"
   ]
  },
  {
   "cell_type": "code",
   "execution_count": 21,
   "id": "a75791aa",
   "metadata": {},
   "outputs": [
    {
     "data": {
      "text/plain": [
       "0       1\n",
       "1       2\n",
       "two     3\n",
       "3       4\n",
       "4       5\n",
       "5       6\n",
       "6       7\n",
       "7       8\n",
       "8       9\n",
       "9      10\n",
       "dtype: int32"
      ]
     },
     "execution_count": 21,
     "metadata": {},
     "output_type": "execute_result"
    }
   ],
   "source": [
    "s3"
   ]
  },
  {
   "cell_type": "code",
   "execution_count": null,
   "id": "57c176bb",
   "metadata": {},
   "outputs": [],
   "source": []
  },
  {
   "cell_type": "code",
   "execution_count": null,
   "id": "2bca465d",
   "metadata": {},
   "outputs": [],
   "source": []
  },
  {
   "cell_type": "code",
   "execution_count": 82,
   "id": "06a2065d",
   "metadata": {},
   "outputs": [
    {
     "data": {
      "text/plain": [
       "0     1\n",
       "1     2\n",
       "2     3\n",
       "3     4\n",
       "4     5\n",
       "5     6\n",
       "6     7\n",
       "7     8\n",
       "8     9\n",
       "9    10\n",
       "dtype: int32"
      ]
     },
     "execution_count": 82,
     "metadata": {},
     "output_type": "execute_result"
    }
   ],
   "source": [
    "s3"
   ]
  },
  {
   "cell_type": "code",
   "execution_count": null,
   "id": "78a4141d",
   "metadata": {},
   "outputs": [],
   "source": []
  },
  {
   "cell_type": "code",
   "execution_count": 76,
   "id": "dab8e2fc",
   "metadata": {},
   "outputs": [
    {
     "data": {
      "text/plain": [
       "0       1\n",
       "1       2\n",
       "two     3\n",
       "3       4\n",
       "4       5\n",
       "5       6\n",
       "6       7\n",
       "7       8\n",
       "8       9\n",
       "9      10\n",
       "dtype: int32"
      ]
     },
     "execution_count": 76,
     "metadata": {},
     "output_type": "execute_result"
    }
   ],
   "source": [
    "s3"
   ]
  },
  {
   "cell_type": "code",
   "execution_count": null,
   "id": "a38ce7e8",
   "metadata": {},
   "outputs": [],
   "source": []
  },
  {
   "cell_type": "code",
   "execution_count": null,
   "id": "68b37ba1",
   "metadata": {},
   "outputs": [],
   "source": []
  },
  {
   "cell_type": "code",
   "execution_count": null,
   "id": "19300a82",
   "metadata": {},
   "outputs": [],
   "source": []
  },
  {
   "cell_type": "code",
   "execution_count": null,
   "id": "1a93e4d8",
   "metadata": {},
   "outputs": [],
   "source": []
  },
  {
   "cell_type": "code",
   "execution_count": null,
   "id": "8412f7f1",
   "metadata": {},
   "outputs": [],
   "source": []
  },
  {
   "cell_type": "code",
   "execution_count": null,
   "id": "806c2569",
   "metadata": {},
   "outputs": [],
   "source": []
  },
  {
   "cell_type": "code",
   "execution_count": null,
   "id": "900ef3a9",
   "metadata": {},
   "outputs": [],
   "source": []
  },
  {
   "cell_type": "markdown",
   "id": "c7a55387",
   "metadata": {},
   "source": [
    "### replace()"
   ]
  },
  {
   "cell_type": "markdown",
   "id": "ef482362",
   "metadata": {},
   "source": [
    "#### replace single value"
   ]
  },
  {
   "cell_type": "raw",
   "id": "f23841ae",
   "metadata": {},
   "source": [
    "syntax:\n",
    "    varaible_name.replace(old_vlaue,New_value,inplace=True)"
   ]
  },
  {
   "cell_type": "code",
   "execution_count": null,
   "id": "5717bf8a",
   "metadata": {},
   "outputs": [],
   "source": []
  },
  {
   "cell_type": "markdown",
   "id": "7c113040",
   "metadata": {},
   "source": [
    "#### replace Multiple values"
   ]
  },
  {
   "cell_type": "raw",
   "id": "a204fa0a",
   "metadata": {},
   "source": [
    "syntax:\n",
    "variable_name.replace([old_value1,old_value2,___old_valueN],[New_value1,New_value2,...New_valueN],inplace=True)"
   ]
  },
  {
   "cell_type": "code",
   "execution_count": null,
   "id": "0995cc27",
   "metadata": {},
   "outputs": [],
   "source": []
  },
  {
   "cell_type": "code",
   "execution_count": 61,
   "id": "c7350aa2",
   "metadata": {},
   "outputs": [
    {
     "data": {
      "text/plain": [
       "6    70\n",
       "5    60\n",
       "4    50\n",
       "3    40\n",
       "2    30\n",
       "1    20\n",
       "0    10\n",
       "dtype: int64"
      ]
     },
     "execution_count": 61,
     "metadata": {},
     "output_type": "execute_result"
    }
   ],
   "source": [
    "a1"
   ]
  },
  {
   "cell_type": "code",
   "execution_count": 63,
   "id": "cd1ecff8",
   "metadata": {},
   "outputs": [
    {
     "data": {
      "text/plain": [
       "6    700\n",
       "5     60\n",
       "4    500\n",
       "3     40\n",
       "2    300\n",
       "1     20\n",
       "0     10\n",
       "dtype: int64"
      ]
     },
     "execution_count": 63,
     "metadata": {},
     "output_type": "execute_result"
    }
   ],
   "source": [
    "a1.replace([30,50,70],[300,500,700])"
   ]
  },
  {
   "cell_type": "code",
   "execution_count": null,
   "id": "bc515907",
   "metadata": {},
   "outputs": [],
   "source": []
  },
  {
   "cell_type": "code",
   "execution_count": null,
   "id": "ccc85e32",
   "metadata": {},
   "outputs": [],
   "source": []
  },
  {
   "cell_type": "code",
   "execution_count": null,
   "id": "8693fbb1",
   "metadata": {},
   "outputs": [],
   "source": []
  },
  {
   "cell_type": "markdown",
   "id": "63054c38",
   "metadata": {},
   "source": [
    "#### example"
   ]
  },
  {
   "cell_type": "code",
   "execution_count": 22,
   "id": "021ad08f",
   "metadata": {},
   "outputs": [
    {
     "data": {
      "text/plain": [
       "0    10\n",
       "1    20\n",
       "2    30\n",
       "3    40\n",
       "4    50\n",
       "5    60\n",
       "6    70\n",
       "dtype: int64"
      ]
     },
     "execution_count": 22,
     "metadata": {},
     "output_type": "execute_result"
    }
   ],
   "source": [
    "# replace single value\n",
    "\n",
    "\n",
    "a1"
   ]
  },
  {
   "cell_type": "code",
   "execution_count": null,
   "id": "ea370252",
   "metadata": {},
   "outputs": [],
   "source": []
  },
  {
   "cell_type": "code",
   "execution_count": 24,
   "id": "bfe8b4d1",
   "metadata": {},
   "outputs": [
    {
     "data": {
      "text/plain": [
       "0     10\n",
       "1     20\n",
       "2     30\n",
       "3    400\n",
       "4     50\n",
       "5     60\n",
       "6     70\n",
       "dtype: int64"
      ]
     },
     "execution_count": 24,
     "metadata": {},
     "output_type": "execute_result"
    }
   ],
   "source": [
    "# example\n",
    "\n",
    "s5=a1.replace(40,400)          # Replacing values in a Series\n",
    "\n",
    "s5"
   ]
  },
  {
   "cell_type": "code",
   "execution_count": null,
   "id": "91c78225",
   "metadata": {},
   "outputs": [],
   "source": []
  },
  {
   "cell_type": "code",
   "execution_count": 87,
   "id": "88397a33",
   "metadata": {},
   "outputs": [
    {
     "data": {
      "text/plain": [
       "0    10\n",
       "1    20\n",
       "2    30\n",
       "3    40\n",
       "4    50\n",
       "5    60\n",
       "6    70\n",
       "dtype: int64"
      ]
     },
     "execution_count": 87,
     "metadata": {},
     "output_type": "execute_result"
    }
   ],
   "source": [
    "a1"
   ]
  },
  {
   "cell_type": "code",
   "execution_count": null,
   "id": "e769bf1b",
   "metadata": {},
   "outputs": [],
   "source": []
  },
  {
   "cell_type": "code",
   "execution_count": null,
   "id": "db2e0f85",
   "metadata": {},
   "outputs": [],
   "source": []
  },
  {
   "cell_type": "markdown",
   "id": "a6e6102e",
   "metadata": {},
   "source": [
    "### sort_index()"
   ]
  },
  {
   "cell_type": "raw",
   "id": "983314f1",
   "metadata": {},
   "source": [
    "variable_name.sort_index()         ->ascending\n",
    "\n",
    "variable_name.sort_index(ascending=False)     ->decending"
   ]
  },
  {
   "cell_type": "code",
   "execution_count": null,
   "id": "a915bf42",
   "metadata": {},
   "outputs": [],
   "source": []
  },
  {
   "cell_type": "code",
   "execution_count": 30,
   "id": "f4e62fce",
   "metadata": {},
   "outputs": [
    {
     "data": {
      "text/plain": [
       "['Deoyani',\n",
       " 'Tanvi',\n",
       " 'Neha',\n",
       " 'Rushabh',\n",
       " 'Sameer',\n",
       " 'Chaitanya',\n",
       " 'Alankar',\n",
       " 'Kapil',\n",
       " 'Sujit',\n",
       " 'Pavan']"
      ]
     },
     "execution_count": 30,
     "metadata": {},
     "output_type": "execute_result"
    }
   ],
   "source": [
    "names =['Deoyani','Tanvi','Neha','Rushabh','Sameer','Chaitanya','Alankar','Kapil','Sujit','Pavan']\n",
    "\n",
    "\n",
    "names"
   ]
  },
  {
   "cell_type": "code",
   "execution_count": null,
   "id": "f7907861",
   "metadata": {},
   "outputs": [],
   "source": []
  },
  {
   "cell_type": "code",
   "execution_count": 31,
   "id": "0d1ea889",
   "metadata": {},
   "outputs": [
    {
     "data": {
      "text/plain": [
       "0      Deoyani\n",
       "1        Tanvi\n",
       "2         Neha\n",
       "3      Rushabh\n",
       "4       Sameer\n",
       "5    Chaitanya\n",
       "6      Alankar\n",
       "7        Kapil\n",
       "8        Sujit\n",
       "9        Pavan\n",
       "dtype: object"
      ]
     },
     "execution_count": 31,
     "metadata": {},
     "output_type": "execute_result"
    }
   ],
   "source": [
    "s6=pd.Series(names)\n",
    "\n",
    "s6"
   ]
  },
  {
   "cell_type": "code",
   "execution_count": 90,
   "id": "6d7174d2",
   "metadata": {},
   "outputs": [
    {
     "data": {
      "text/plain": [
       "pandas.core.series.Series"
      ]
     },
     "execution_count": 90,
     "metadata": {},
     "output_type": "execute_result"
    }
   ],
   "source": [
    "type(s6)"
   ]
  },
  {
   "cell_type": "code",
   "execution_count": null,
   "id": "3126040e",
   "metadata": {},
   "outputs": [],
   "source": []
  },
  {
   "cell_type": "markdown",
   "id": "5716f3c4",
   "metadata": {},
   "source": [
    "#### example"
   ]
  },
  {
   "cell_type": "code",
   "execution_count": 92,
   "id": "7ecfca93",
   "metadata": {},
   "outputs": [
    {
     "data": {
      "text/plain": [
       "0      Deoyani\n",
       "1        Tanvi\n",
       "2         Neha\n",
       "3      Rushabh\n",
       "4       Sameer\n",
       "5    Chaitanya\n",
       "6      Alankar\n",
       "7        Kapil\n",
       "8        Sujit\n",
       "9        Pavan\n",
       "dtype: object"
      ]
     },
     "execution_count": 92,
     "metadata": {},
     "output_type": "execute_result"
    }
   ],
   "source": [
    "v1= s6.sort_index()\n",
    "\n",
    "v1"
   ]
  },
  {
   "cell_type": "code",
   "execution_count": null,
   "id": "60443829",
   "metadata": {},
   "outputs": [],
   "source": []
  },
  {
   "cell_type": "code",
   "execution_count": null,
   "id": "f70da096",
   "metadata": {},
   "outputs": [],
   "source": []
  },
  {
   "cell_type": "code",
   "execution_count": null,
   "id": "3a59c52e",
   "metadata": {},
   "outputs": [],
   "source": []
  },
  {
   "cell_type": "code",
   "execution_count": 93,
   "id": "7ef86370",
   "metadata": {},
   "outputs": [
    {
     "data": {
      "text/plain": [
       "9        Pavan\n",
       "8        Sujit\n",
       "7        Kapil\n",
       "6      Alankar\n",
       "5    Chaitanya\n",
       "4       Sameer\n",
       "3      Rushabh\n",
       "2         Neha\n",
       "1        Tanvi\n",
       "0      Deoyani\n",
       "dtype: object"
      ]
     },
     "execution_count": 93,
     "metadata": {},
     "output_type": "execute_result"
    }
   ],
   "source": [
    "v2= s6.sort_index(ascending=False)\n",
    "\n",
    "v2"
   ]
  },
  {
   "cell_type": "code",
   "execution_count": null,
   "id": "8da61d63",
   "metadata": {},
   "outputs": [],
   "source": []
  },
  {
   "cell_type": "code",
   "execution_count": null,
   "id": "08611ddf",
   "metadata": {},
   "outputs": [],
   "source": []
  },
  {
   "cell_type": "markdown",
   "id": "25f82cc4",
   "metadata": {},
   "source": [
    "### sort_values()"
   ]
  },
  {
   "cell_type": "code",
   "execution_count": 26,
   "id": "dab5b372",
   "metadata": {},
   "outputs": [
    {
     "data": {
      "text/plain": [
       "0    10\n",
       "1    20\n",
       "2    30\n",
       "3    40\n",
       "4    50\n",
       "5    60\n",
       "6    70\n",
       "dtype: int64"
      ]
     },
     "execution_count": 26,
     "metadata": {},
     "output_type": "execute_result"
    }
   ],
   "source": [
    "a1"
   ]
  },
  {
   "cell_type": "code",
   "execution_count": 27,
   "id": "6e982a52",
   "metadata": {},
   "outputs": [],
   "source": [
    "# example\n",
    "\n",
    "v3=a1.sort_values(inplace=True)\n",
    "\n",
    "v3"
   ]
  },
  {
   "cell_type": "code",
   "execution_count": 107,
   "id": "836d788b",
   "metadata": {},
   "outputs": [
    {
     "data": {
      "text/plain": [
       "0    10\n",
       "1    20\n",
       "2    30\n",
       "3    40\n",
       "4    50\n",
       "5    60\n",
       "6    70\n",
       "dtype: int64"
      ]
     },
     "execution_count": 107,
     "metadata": {},
     "output_type": "execute_result"
    }
   ],
   "source": [
    "a1"
   ]
  },
  {
   "cell_type": "code",
   "execution_count": null,
   "id": "801c62c4",
   "metadata": {},
   "outputs": [],
   "source": []
  },
  {
   "cell_type": "code",
   "execution_count": null,
   "id": "db17ab36",
   "metadata": {},
   "outputs": [],
   "source": []
  },
  {
   "cell_type": "code",
   "execution_count": 101,
   "id": "8deb365c",
   "metadata": {},
   "outputs": [
    {
     "data": {
      "text/plain": [
       "0    10\n",
       "1    20\n",
       "2    30\n",
       "3    40\n",
       "4    50\n",
       "5    60\n",
       "6    70\n",
       "dtype: int64"
      ]
     },
     "execution_count": 101,
     "metadata": {},
     "output_type": "execute_result"
    }
   ],
   "source": [
    "a1"
   ]
  },
  {
   "cell_type": "code",
   "execution_count": 28,
   "id": "3a52de99",
   "metadata": {},
   "outputs": [],
   "source": [
    "v4=a1.sort_values(ascending=False,inplace=True)\n",
    "\n",
    "v4"
   ]
  },
  {
   "cell_type": "code",
   "execution_count": 103,
   "id": "a98af14a",
   "metadata": {},
   "outputs": [
    {
     "data": {
      "text/plain": [
       "6    70\n",
       "5    60\n",
       "4    50\n",
       "3    40\n",
       "2    30\n",
       "1    20\n",
       "0    10\n",
       "dtype: int64"
      ]
     },
     "execution_count": 103,
     "metadata": {},
     "output_type": "execute_result"
    }
   ],
   "source": [
    "a1"
   ]
  },
  {
   "cell_type": "code",
   "execution_count": null,
   "id": "68c4a76c",
   "metadata": {},
   "outputs": [],
   "source": [
    "\n",
    "\n"
   ]
  },
  {
   "cell_type": "code",
   "execution_count": 32,
   "id": "e6b3ae3f",
   "metadata": {},
   "outputs": [
    {
     "data": {
      "text/plain": [
       "0      Deoyani\n",
       "1        Tanvi\n",
       "2         Neha\n",
       "3      Rushabh\n",
       "4       Sameer\n",
       "5    Chaitanya\n",
       "6      Alankar\n",
       "7        Kapil\n",
       "8        Sujit\n",
       "9        Pavan\n",
       "dtype: object"
      ]
     },
     "execution_count": 32,
     "metadata": {},
     "output_type": "execute_result"
    }
   ],
   "source": [
    "s6"
   ]
  },
  {
   "cell_type": "code",
   "execution_count": null,
   "id": "baa5d354",
   "metadata": {},
   "outputs": [],
   "source": []
  },
  {
   "cell_type": "code",
   "execution_count": 34,
   "id": "f39c6de6",
   "metadata": {},
   "outputs": [
    {
     "data": {
      "text/plain": [
       "6      Alankar\n",
       "5    Chaitanya\n",
       "0      Deoyani\n",
       "7        Kapil\n",
       "2         Neha\n",
       "9        Pavan\n",
       "3      Rushabh\n",
       "4       Sameer\n",
       "8        Sujit\n",
       "1        Tanvi\n",
       "dtype: object"
      ]
     },
     "execution_count": 34,
     "metadata": {},
     "output_type": "execute_result"
    }
   ],
   "source": [
    "v6=s6.sort_values()\n",
    "\n",
    "v6"
   ]
  },
  {
   "cell_type": "code",
   "execution_count": null,
   "id": "9ac74499",
   "metadata": {},
   "outputs": [],
   "source": []
  },
  {
   "cell_type": "code",
   "execution_count": null,
   "id": "cf5898e4",
   "metadata": {},
   "outputs": [],
   "source": []
  },
  {
   "cell_type": "code",
   "execution_count": 33,
   "id": "68382277",
   "metadata": {},
   "outputs": [
    {
     "data": {
      "text/plain": [
       "1        Tanvi\n",
       "8        Sujit\n",
       "4       Sameer\n",
       "3      Rushabh\n",
       "9        Pavan\n",
       "2         Neha\n",
       "7        Kapil\n",
       "0      Deoyani\n",
       "5    Chaitanya\n",
       "6      Alankar\n",
       "dtype: object"
      ]
     },
     "execution_count": 33,
     "metadata": {},
     "output_type": "execute_result"
    }
   ],
   "source": [
    "v5=s6.sort_values(ascending=False)\n",
    "\n",
    "v5"
   ]
  },
  {
   "cell_type": "code",
   "execution_count": null,
   "id": "67ef6159",
   "metadata": {},
   "outputs": [],
   "source": []
  },
  {
   "cell_type": "code",
   "execution_count": null,
   "id": "d5d90789",
   "metadata": {},
   "outputs": [],
   "source": []
  },
  {
   "cell_type": "code",
   "execution_count": null,
   "id": "b31487eb",
   "metadata": {},
   "outputs": [],
   "source": []
  },
  {
   "cell_type": "code",
   "execution_count": 104,
   "id": "a6dd0450",
   "metadata": {},
   "outputs": [
    {
     "data": {
      "text/plain": [
       "6    70\n",
       "5    60\n",
       "4    50\n",
       "3    40\n",
       "2    30\n",
       "1    20\n",
       "0    10\n",
       "dtype: int64"
      ]
     },
     "execution_count": 104,
     "metadata": {},
     "output_type": "execute_result"
    }
   ],
   "source": [
    "a1"
   ]
  },
  {
   "cell_type": "code",
   "execution_count": null,
   "id": "3dd9ca15",
   "metadata": {},
   "outputs": [],
   "source": []
  },
  {
   "cell_type": "code",
   "execution_count": 35,
   "id": "a47a4a5e",
   "metadata": {},
   "outputs": [],
   "source": [
    "m1 = pd.Series([1,2,3,4,5])\n",
    "\n",
    "m2 = pd.Series([1,2,3,4,5])"
   ]
  },
  {
   "cell_type": "code",
   "execution_count": 37,
   "id": "c29d27d6",
   "metadata": {},
   "outputs": [
    {
     "data": {
      "text/plain": [
       "0     2\n",
       "1     4\n",
       "2     6\n",
       "3     8\n",
       "4    10\n",
       "dtype: int64"
      ]
     },
     "execution_count": 37,
     "metadata": {},
     "output_type": "execute_result"
    }
   ],
   "source": [
    "m1+m2"
   ]
  },
  {
   "cell_type": "code",
   "execution_count": null,
   "id": "ca7bd5ff",
   "metadata": {},
   "outputs": [],
   "source": []
  },
  {
   "cell_type": "code",
   "execution_count": 38,
   "id": "b51af890",
   "metadata": {},
   "outputs": [
    {
     "data": {
      "text/plain": [
       "0     1\n",
       "1     4\n",
       "2     9\n",
       "3    16\n",
       "4    25\n",
       "dtype: int64"
      ]
     },
     "execution_count": 38,
     "metadata": {},
     "output_type": "execute_result"
    }
   ],
   "source": [
    "m1*m2"
   ]
  },
  {
   "cell_type": "code",
   "execution_count": null,
   "id": "0c01cadc",
   "metadata": {},
   "outputs": [],
   "source": []
  },
  {
   "cell_type": "code",
   "execution_count": 36,
   "id": "e16c0876",
   "metadata": {},
   "outputs": [
    {
     "data": {
      "text/plain": [
       "0       1\n",
       "1       4\n",
       "2      27\n",
       "3     256\n",
       "4    3125\n",
       "dtype: int64"
      ]
     },
     "execution_count": 36,
     "metadata": {},
     "output_type": "execute_result"
    }
   ],
   "source": [
    "c= m1**m2\n",
    "\n",
    "c"
   ]
  },
  {
   "cell_type": "code",
   "execution_count": null,
   "id": "89b32f72",
   "metadata": {},
   "outputs": [],
   "source": []
  },
  {
   "cell_type": "code",
   "execution_count": 122,
   "id": "69ff0ea3",
   "metadata": {},
   "outputs": [
    {
     "data": {
      "text/plain": [
       "256"
      ]
     },
     "execution_count": 122,
     "metadata": {},
     "output_type": "execute_result"
    }
   ],
   "source": [
    "c[3]"
   ]
  },
  {
   "cell_type": "code",
   "execution_count": null,
   "id": "78911b37",
   "metadata": {},
   "outputs": [],
   "source": []
  },
  {
   "cell_type": "code",
   "execution_count": null,
   "id": "bfdc1f11",
   "metadata": {},
   "outputs": [],
   "source": []
  },
  {
   "cell_type": "code",
   "execution_count": null,
   "id": "f893acb1",
   "metadata": {},
   "outputs": [],
   "source": []
  },
  {
   "cell_type": "code",
   "execution_count": 115,
   "id": "b333970e",
   "metadata": {},
   "outputs": [],
   "source": [
    "#################################################################################"
   ]
  },
  {
   "cell_type": "code",
   "execution_count": null,
   "id": "49022f1a",
   "metadata": {},
   "outputs": [],
   "source": []
  },
  {
   "cell_type": "code",
   "execution_count": null,
   "id": "0536e948",
   "metadata": {},
   "outputs": [],
   "source": []
  },
  {
   "cell_type": "markdown",
   "id": "4d2570a2",
   "metadata": {},
   "source": [
    "### DataFrame()"
   ]
  },
  {
   "cell_type": "markdown",
   "id": "07e5235c",
   "metadata": {},
   "source": [
    "- A DataFrame is a two-dimensional labeled data structure in pandas.It's similar to a table in a relational database or an Excel spreadsheet.\n",
    "\n",
    "- A DataFrame consists of multiple Series organized as columns, and each column can hold data of different types."
   ]
  },
  {
   "cell_type": "code",
   "execution_count": 42,
   "id": "bd7bf176",
   "metadata": {},
   "outputs": [
    {
     "data": {
      "text/html": [
       "<div>\n",
       "<style scoped>\n",
       "    .dataframe tbody tr th:only-of-type {\n",
       "        vertical-align: middle;\n",
       "    }\n",
       "\n",
       "    .dataframe tbody tr th {\n",
       "        vertical-align: top;\n",
       "    }\n",
       "\n",
       "    .dataframe thead th {\n",
       "        text-align: right;\n",
       "    }\n",
       "</style>\n",
       "<table border=\"1\" class=\"dataframe\">\n",
       "  <thead>\n",
       "    <tr style=\"text-align: right;\">\n",
       "      <th></th>\n",
       "      <th>0</th>\n",
       "      <th>1</th>\n",
       "      <th>2</th>\n",
       "      <th>3</th>\n",
       "    </tr>\n",
       "  </thead>\n",
       "  <tbody>\n",
       "    <tr>\n",
       "      <th>0</th>\n",
       "      <td>10</td>\n",
       "      <td>20</td>\n",
       "      <td>30</td>\n",
       "      <td>45</td>\n",
       "    </tr>\n",
       "    <tr>\n",
       "      <th>1</th>\n",
       "      <td>22</td>\n",
       "      <td>56</td>\n",
       "      <td>78</td>\n",
       "      <td>45</td>\n",
       "    </tr>\n",
       "    <tr>\n",
       "      <th>2</th>\n",
       "      <td>4</td>\n",
       "      <td>8</td>\n",
       "      <td>2</td>\n",
       "      <td>78</td>\n",
       "    </tr>\n",
       "    <tr>\n",
       "      <th>3</th>\n",
       "      <td>23</td>\n",
       "      <td>67</td>\n",
       "      <td>45</td>\n",
       "      <td>67</td>\n",
       "    </tr>\n",
       "  </tbody>\n",
       "</table>\n",
       "</div>"
      ],
      "text/plain": [
       "    0   1   2   3\n",
       "0  10  20  30  45\n",
       "1  22  56  78  45\n",
       "2   4   8   2  78\n",
       "3  23  67  45  67"
      ]
     },
     "execution_count": 42,
     "metadata": {},
     "output_type": "execute_result"
    }
   ],
   "source": [
    "df = pd.DataFrame([[10,20,30,45],[22,56,78,45],[4,8,2,78],[23,67,45,67]])\n",
    "\n",
    "df"
   ]
  },
  {
   "cell_type": "raw",
   "id": "65fc2983",
   "metadata": {},
   "source": [
    "syntax:\n",
    "    \n",
    "df[column][row]"
   ]
  },
  {
   "cell_type": "code",
   "execution_count": null,
   "id": "1b0f8b10",
   "metadata": {},
   "outputs": [],
   "source": []
  },
  {
   "cell_type": "markdown",
   "id": "e5d5c239",
   "metadata": {},
   "source": [
    "#### example"
   ]
  },
  {
   "cell_type": "code",
   "execution_count": 43,
   "id": "99aaa20f",
   "metadata": {},
   "outputs": [
    {
     "data": {
      "text/plain": [
       "67"
      ]
     },
     "execution_count": 43,
     "metadata": {},
     "output_type": "execute_result"
    }
   ],
   "source": [
    "df[3][3]       # Accessing values in a DataFrame"
   ]
  },
  {
   "cell_type": "code",
   "execution_count": null,
   "id": "6cc8843c",
   "metadata": {},
   "outputs": [],
   "source": []
  },
  {
   "cell_type": "code",
   "execution_count": 44,
   "id": "797f65dd",
   "metadata": {},
   "outputs": [
    {
     "data": {
      "text/html": [
       "<div>\n",
       "<style scoped>\n",
       "    .dataframe tbody tr th:only-of-type {\n",
       "        vertical-align: middle;\n",
       "    }\n",
       "\n",
       "    .dataframe tbody tr th {\n",
       "        vertical-align: top;\n",
       "    }\n",
       "\n",
       "    .dataframe thead th {\n",
       "        text-align: right;\n",
       "    }\n",
       "</style>\n",
       "<table border=\"1\" class=\"dataframe\">\n",
       "  <thead>\n",
       "    <tr style=\"text-align: right;\">\n",
       "      <th></th>\n",
       "      <th>0</th>\n",
       "      <th>1</th>\n",
       "      <th>2</th>\n",
       "      <th>3</th>\n",
       "    </tr>\n",
       "  </thead>\n",
       "  <tbody>\n",
       "    <tr>\n",
       "      <th>0</th>\n",
       "      <td>10</td>\n",
       "      <td>20</td>\n",
       "      <td>30</td>\n",
       "      <td>45</td>\n",
       "    </tr>\n",
       "    <tr>\n",
       "      <th>1</th>\n",
       "      <td>22</td>\n",
       "      <td>56</td>\n",
       "      <td>78</td>\n",
       "      <td>45</td>\n",
       "    </tr>\n",
       "    <tr>\n",
       "      <th>2</th>\n",
       "      <td>4</td>\n",
       "      <td>8</td>\n",
       "      <td>2</td>\n",
       "      <td>78</td>\n",
       "    </tr>\n",
       "    <tr>\n",
       "      <th>3</th>\n",
       "      <td>23</td>\n",
       "      <td>67</td>\n",
       "      <td>45</td>\n",
       "      <td>67</td>\n",
       "    </tr>\n",
       "  </tbody>\n",
       "</table>\n",
       "</div>"
      ],
      "text/plain": [
       "    0   1   2   3\n",
       "0  10  20  30  45\n",
       "1  22  56  78  45\n",
       "2   4   8   2  78\n",
       "3  23  67  45  67"
      ]
     },
     "execution_count": 44,
     "metadata": {},
     "output_type": "execute_result"
    }
   ],
   "source": [
    "df"
   ]
  },
  {
   "cell_type": "code",
   "execution_count": null,
   "id": "62dd38fe",
   "metadata": {},
   "outputs": [],
   "source": []
  },
  {
   "cell_type": "markdown",
   "id": "4b66f799",
   "metadata": {},
   "source": [
    "## read files"
   ]
  },
  {
   "cell_type": "code",
   "execution_count": null,
   "id": "ae6e6a45",
   "metadata": {},
   "outputs": [],
   "source": [
    "pd.read_excel(file_name)\n",
    "\n",
    "\n",
    "r'C:\\Users\\Acer\\FIREBLAZE\\Python_fulltime_batch_August\\Employee.csv'"
   ]
  },
  {
   "cell_type": "markdown",
   "id": "0764fd64",
   "metadata": {},
   "source": [
    "### read_csv()"
   ]
  },
  {
   "cell_type": "code",
   "execution_count": 62,
   "id": "17b48c6d",
   "metadata": {},
   "outputs": [
    {
     "data": {
      "text/html": [
       "<div>\n",
       "<style scoped>\n",
       "    .dataframe tbody tr th:only-of-type {\n",
       "        vertical-align: middle;\n",
       "    }\n",
       "\n",
       "    .dataframe tbody tr th {\n",
       "        vertical-align: top;\n",
       "    }\n",
       "\n",
       "    .dataframe thead th {\n",
       "        text-align: right;\n",
       "    }\n",
       "</style>\n",
       "<table border=\"1\" class=\"dataframe\">\n",
       "  <thead>\n",
       "    <tr style=\"text-align: right;\">\n",
       "      <th></th>\n",
       "      <th>Id</th>\n",
       "      <th>gender</th>\n",
       "      <th>city</th>\n",
       "      <th>experience</th>\n",
       "      <th>salary</th>\n",
       "    </tr>\n",
       "  </thead>\n",
       "  <tbody>\n",
       "    <tr>\n",
       "      <th>0</th>\n",
       "      <td>1001</td>\n",
       "      <td>M</td>\n",
       "      <td>pune</td>\n",
       "      <td>1</td>\n",
       "      <td>10000.0</td>\n",
       "    </tr>\n",
       "    <tr>\n",
       "      <th>1</th>\n",
       "      <td>1002</td>\n",
       "      <td>F</td>\n",
       "      <td>mumbai</td>\n",
       "      <td>5</td>\n",
       "      <td>50000.0</td>\n",
       "    </tr>\n",
       "    <tr>\n",
       "      <th>2</th>\n",
       "      <td>1003</td>\n",
       "      <td>M</td>\n",
       "      <td>pune</td>\n",
       "      <td>4</td>\n",
       "      <td>NaN</td>\n",
       "    </tr>\n",
       "    <tr>\n",
       "      <th>3</th>\n",
       "      <td>1004</td>\n",
       "      <td>M</td>\n",
       "      <td>beed</td>\n",
       "      <td>6</td>\n",
       "      <td>60000.0</td>\n",
       "    </tr>\n",
       "    <tr>\n",
       "      <th>4</th>\n",
       "      <td>1005</td>\n",
       "      <td>F</td>\n",
       "      <td>beed</td>\n",
       "      <td>7</td>\n",
       "      <td>70000.0</td>\n",
       "    </tr>\n",
       "    <tr>\n",
       "      <th>5</th>\n",
       "      <td>1006</td>\n",
       "      <td>M</td>\n",
       "      <td>bhandara</td>\n",
       "      <td>5</td>\n",
       "      <td>50000.0</td>\n",
       "    </tr>\n",
       "    <tr>\n",
       "      <th>6</th>\n",
       "      <td>1007</td>\n",
       "      <td>F</td>\n",
       "      <td>beed</td>\n",
       "      <td>2</td>\n",
       "      <td>20000.0</td>\n",
       "    </tr>\n",
       "    <tr>\n",
       "      <th>7</th>\n",
       "      <td>1008</td>\n",
       "      <td>F</td>\n",
       "      <td>pune</td>\n",
       "      <td>8</td>\n",
       "      <td>80000.0</td>\n",
       "    </tr>\n",
       "    <tr>\n",
       "      <th>8</th>\n",
       "      <td>1009</td>\n",
       "      <td>F</td>\n",
       "      <td>nagpur</td>\n",
       "      <td>6</td>\n",
       "      <td>60000.0</td>\n",
       "    </tr>\n",
       "    <tr>\n",
       "      <th>9</th>\n",
       "      <td>1010</td>\n",
       "      <td>F</td>\n",
       "      <td>pune</td>\n",
       "      <td>3</td>\n",
       "      <td>30000.0</td>\n",
       "    </tr>\n",
       "    <tr>\n",
       "      <th>10</th>\n",
       "      <td>1011</td>\n",
       "      <td>M</td>\n",
       "      <td>nagpur</td>\n",
       "      <td>9</td>\n",
       "      <td>90000.0</td>\n",
       "    </tr>\n",
       "    <tr>\n",
       "      <th>11</th>\n",
       "      <td>1012</td>\n",
       "      <td>F</td>\n",
       "      <td>gondia</td>\n",
       "      <td>4</td>\n",
       "      <td>40000.0</td>\n",
       "    </tr>\n",
       "    <tr>\n",
       "      <th>12</th>\n",
       "      <td>1013</td>\n",
       "      <td>F</td>\n",
       "      <td>bhandara</td>\n",
       "      <td>1</td>\n",
       "      <td>10000.0</td>\n",
       "    </tr>\n",
       "    <tr>\n",
       "      <th>13</th>\n",
       "      <td>1014</td>\n",
       "      <td>M</td>\n",
       "      <td>gondia</td>\n",
       "      <td>8</td>\n",
       "      <td>80000.0</td>\n",
       "    </tr>\n",
       "    <tr>\n",
       "      <th>14</th>\n",
       "      <td>1015</td>\n",
       "      <td>M</td>\n",
       "      <td>nagpur</td>\n",
       "      <td>5</td>\n",
       "      <td>50000.0</td>\n",
       "    </tr>\n",
       "  </tbody>\n",
       "</table>\n",
       "</div>"
      ],
      "text/plain": [
       "      Id gender      city  experience   salary\n",
       "0   1001      M      pune           1  10000.0\n",
       "1   1002      F    mumbai           5  50000.0\n",
       "2   1003      M      pune           4      NaN\n",
       "3   1004      M      beed           6  60000.0\n",
       "4   1005      F      beed           7  70000.0\n",
       "5   1006      M  bhandara           5  50000.0\n",
       "6   1007      F      beed           2  20000.0\n",
       "7   1008      F      pune           8  80000.0\n",
       "8   1009      F    nagpur           6  60000.0\n",
       "9   1010      F      pune           3  30000.0\n",
       "10  1011      M    nagpur           9  90000.0\n",
       "11  1012      F    gondia           4  40000.0\n",
       "12  1013      F  bhandara           1  10000.0\n",
       "13  1014      M    gondia           8  80000.0\n",
       "14  1015      M    nagpur           5  50000.0"
      ]
     },
     "execution_count": 62,
     "metadata": {},
     "output_type": "execute_result"
    }
   ],
   "source": [
    "df2 = pd.read_csv(r\"Employee.csv\")\n",
    "\n",
    "df2  "
   ]
  },
  {
   "cell_type": "code",
   "execution_count": null,
   "id": "f7853310",
   "metadata": {},
   "outputs": [],
   "source": []
  },
  {
   "cell_type": "code",
   "execution_count": 47,
   "id": "e3e667ef",
   "metadata": {},
   "outputs": [
    {
     "data": {
      "text/html": [
       "<div>\n",
       "<style scoped>\n",
       "    .dataframe tbody tr th:only-of-type {\n",
       "        vertical-align: middle;\n",
       "    }\n",
       "\n",
       "    .dataframe tbody tr th {\n",
       "        vertical-align: top;\n",
       "    }\n",
       "\n",
       "    .dataframe thead th {\n",
       "        text-align: right;\n",
       "    }\n",
       "</style>\n",
       "<table border=\"1\" class=\"dataframe\">\n",
       "  <thead>\n",
       "    <tr style=\"text-align: right;\">\n",
       "      <th></th>\n",
       "      <th>Id</th>\n",
       "      <th>gender</th>\n",
       "      <th>city</th>\n",
       "      <th>experience</th>\n",
       "      <th>salary</th>\n",
       "    </tr>\n",
       "  </thead>\n",
       "  <tbody>\n",
       "    <tr>\n",
       "      <th>0</th>\n",
       "      <td>1001</td>\n",
       "      <td>M</td>\n",
       "      <td>pune</td>\n",
       "      <td>1</td>\n",
       "      <td>10000.0</td>\n",
       "    </tr>\n",
       "    <tr>\n",
       "      <th>1</th>\n",
       "      <td>1002</td>\n",
       "      <td>F</td>\n",
       "      <td>mumbai</td>\n",
       "      <td>5</td>\n",
       "      <td>50000.0</td>\n",
       "    </tr>\n",
       "    <tr>\n",
       "      <th>2</th>\n",
       "      <td>1003</td>\n",
       "      <td>M</td>\n",
       "      <td>pune</td>\n",
       "      <td>4</td>\n",
       "      <td>NaN</td>\n",
       "    </tr>\n",
       "    <tr>\n",
       "      <th>3</th>\n",
       "      <td>1004</td>\n",
       "      <td>M</td>\n",
       "      <td>beed</td>\n",
       "      <td>6</td>\n",
       "      <td>60000.0</td>\n",
       "    </tr>\n",
       "    <tr>\n",
       "      <th>4</th>\n",
       "      <td>1005</td>\n",
       "      <td>F</td>\n",
       "      <td>beed</td>\n",
       "      <td>7</td>\n",
       "      <td>70000.0</td>\n",
       "    </tr>\n",
       "    <tr>\n",
       "      <th>5</th>\n",
       "      <td>1006</td>\n",
       "      <td>M</td>\n",
       "      <td>bhandara</td>\n",
       "      <td>5</td>\n",
       "      <td>50000.0</td>\n",
       "    </tr>\n",
       "    <tr>\n",
       "      <th>6</th>\n",
       "      <td>1007</td>\n",
       "      <td>F</td>\n",
       "      <td>beed</td>\n",
       "      <td>2</td>\n",
       "      <td>20000.0</td>\n",
       "    </tr>\n",
       "    <tr>\n",
       "      <th>7</th>\n",
       "      <td>1008</td>\n",
       "      <td>F</td>\n",
       "      <td>pune</td>\n",
       "      <td>8</td>\n",
       "      <td>80000.0</td>\n",
       "    </tr>\n",
       "    <tr>\n",
       "      <th>8</th>\n",
       "      <td>1009</td>\n",
       "      <td>F</td>\n",
       "      <td>nagpur</td>\n",
       "      <td>6</td>\n",
       "      <td>60000.0</td>\n",
       "    </tr>\n",
       "    <tr>\n",
       "      <th>9</th>\n",
       "      <td>1010</td>\n",
       "      <td>F</td>\n",
       "      <td>pune</td>\n",
       "      <td>3</td>\n",
       "      <td>30000.0</td>\n",
       "    </tr>\n",
       "    <tr>\n",
       "      <th>10</th>\n",
       "      <td>1011</td>\n",
       "      <td>M</td>\n",
       "      <td>nagpur</td>\n",
       "      <td>9</td>\n",
       "      <td>90000.0</td>\n",
       "    </tr>\n",
       "    <tr>\n",
       "      <th>11</th>\n",
       "      <td>1012</td>\n",
       "      <td>F</td>\n",
       "      <td>gondia</td>\n",
       "      <td>4</td>\n",
       "      <td>40000.0</td>\n",
       "    </tr>\n",
       "    <tr>\n",
       "      <th>12</th>\n",
       "      <td>1013</td>\n",
       "      <td>F</td>\n",
       "      <td>bhandara</td>\n",
       "      <td>1</td>\n",
       "      <td>10000.0</td>\n",
       "    </tr>\n",
       "    <tr>\n",
       "      <th>13</th>\n",
       "      <td>1014</td>\n",
       "      <td>M</td>\n",
       "      <td>gondia</td>\n",
       "      <td>8</td>\n",
       "      <td>80000.0</td>\n",
       "    </tr>\n",
       "    <tr>\n",
       "      <th>14</th>\n",
       "      <td>1015</td>\n",
       "      <td>M</td>\n",
       "      <td>nagpur</td>\n",
       "      <td>5</td>\n",
       "      <td>50000.0</td>\n",
       "    </tr>\n",
       "  </tbody>\n",
       "</table>\n",
       "</div>"
      ],
      "text/plain": [
       "      Id gender      city  experience   salary\n",
       "0   1001      M      pune           1  10000.0\n",
       "1   1002      F    mumbai           5  50000.0\n",
       "2   1003      M      pune           4      NaN\n",
       "3   1004      M      beed           6  60000.0\n",
       "4   1005      F      beed           7  70000.0\n",
       "5   1006      M  bhandara           5  50000.0\n",
       "6   1007      F      beed           2  20000.0\n",
       "7   1008      F      pune           8  80000.0\n",
       "8   1009      F    nagpur           6  60000.0\n",
       "9   1010      F      pune           3  30000.0\n",
       "10  1011      M    nagpur           9  90000.0\n",
       "11  1012      F    gondia           4  40000.0\n",
       "12  1013      F  bhandara           1  10000.0\n",
       "13  1014      M    gondia           8  80000.0\n",
       "14  1015      M    nagpur           5  50000.0"
      ]
     },
     "execution_count": 47,
     "metadata": {},
     "output_type": "execute_result"
    }
   ],
   "source": [
    "df = pd.read_csv(r\"C:\\Users\\Acer\\FIREBLAZE\\Employee.csv\")    # encoding=\"latin\"\n",
    "\n",
    "df"
   ]
  },
  {
   "cell_type": "code",
   "execution_count": 48,
   "id": "177abd80",
   "metadata": {},
   "outputs": [
    {
     "data": {
      "text/html": [
       "<div>\n",
       "<style scoped>\n",
       "    .dataframe tbody tr th:only-of-type {\n",
       "        vertical-align: middle;\n",
       "    }\n",
       "\n",
       "    .dataframe tbody tr th {\n",
       "        vertical-align: top;\n",
       "    }\n",
       "\n",
       "    .dataframe thead th {\n",
       "        text-align: right;\n",
       "    }\n",
       "</style>\n",
       "<table border=\"1\" class=\"dataframe\">\n",
       "  <thead>\n",
       "    <tr style=\"text-align: right;\">\n",
       "      <th></th>\n",
       "      <th>Id</th>\n",
       "      <th>gender</th>\n",
       "      <th>city</th>\n",
       "      <th>experience</th>\n",
       "      <th>salary</th>\n",
       "    </tr>\n",
       "  </thead>\n",
       "  <tbody>\n",
       "    <tr>\n",
       "      <th>0</th>\n",
       "      <td>1001</td>\n",
       "      <td>M</td>\n",
       "      <td>pune</td>\n",
       "      <td>1</td>\n",
       "      <td>10000.0</td>\n",
       "    </tr>\n",
       "    <tr>\n",
       "      <th>1</th>\n",
       "      <td>1002</td>\n",
       "      <td>F</td>\n",
       "      <td>mumbai</td>\n",
       "      <td>5</td>\n",
       "      <td>50000.0</td>\n",
       "    </tr>\n",
       "    <tr>\n",
       "      <th>2</th>\n",
       "      <td>1003</td>\n",
       "      <td>M</td>\n",
       "      <td>pune</td>\n",
       "      <td>4</td>\n",
       "      <td>NaN</td>\n",
       "    </tr>\n",
       "    <tr>\n",
       "      <th>3</th>\n",
       "      <td>1004</td>\n",
       "      <td>M</td>\n",
       "      <td>beed</td>\n",
       "      <td>6</td>\n",
       "      <td>60000.0</td>\n",
       "    </tr>\n",
       "    <tr>\n",
       "      <th>4</th>\n",
       "      <td>1005</td>\n",
       "      <td>F</td>\n",
       "      <td>beed</td>\n",
       "      <td>7</td>\n",
       "      <td>70000.0</td>\n",
       "    </tr>\n",
       "    <tr>\n",
       "      <th>5</th>\n",
       "      <td>1006</td>\n",
       "      <td>M</td>\n",
       "      <td>bhandara</td>\n",
       "      <td>5</td>\n",
       "      <td>50000.0</td>\n",
       "    </tr>\n",
       "    <tr>\n",
       "      <th>6</th>\n",
       "      <td>1007</td>\n",
       "      <td>F</td>\n",
       "      <td>beed</td>\n",
       "      <td>2</td>\n",
       "      <td>20000.0</td>\n",
       "    </tr>\n",
       "    <tr>\n",
       "      <th>7</th>\n",
       "      <td>1008</td>\n",
       "      <td>F</td>\n",
       "      <td>pune</td>\n",
       "      <td>8</td>\n",
       "      <td>80000.0</td>\n",
       "    </tr>\n",
       "    <tr>\n",
       "      <th>8</th>\n",
       "      <td>1009</td>\n",
       "      <td>F</td>\n",
       "      <td>nagpur</td>\n",
       "      <td>6</td>\n",
       "      <td>60000.0</td>\n",
       "    </tr>\n",
       "    <tr>\n",
       "      <th>9</th>\n",
       "      <td>1010</td>\n",
       "      <td>F</td>\n",
       "      <td>pune</td>\n",
       "      <td>3</td>\n",
       "      <td>30000.0</td>\n",
       "    </tr>\n",
       "    <tr>\n",
       "      <th>10</th>\n",
       "      <td>1011</td>\n",
       "      <td>M</td>\n",
       "      <td>nagpur</td>\n",
       "      <td>9</td>\n",
       "      <td>90000.0</td>\n",
       "    </tr>\n",
       "    <tr>\n",
       "      <th>11</th>\n",
       "      <td>1012</td>\n",
       "      <td>F</td>\n",
       "      <td>gondia</td>\n",
       "      <td>4</td>\n",
       "      <td>40000.0</td>\n",
       "    </tr>\n",
       "    <tr>\n",
       "      <th>12</th>\n",
       "      <td>1013</td>\n",
       "      <td>F</td>\n",
       "      <td>bhandara</td>\n",
       "      <td>1</td>\n",
       "      <td>10000.0</td>\n",
       "    </tr>\n",
       "    <tr>\n",
       "      <th>13</th>\n",
       "      <td>1014</td>\n",
       "      <td>M</td>\n",
       "      <td>gondia</td>\n",
       "      <td>8</td>\n",
       "      <td>80000.0</td>\n",
       "    </tr>\n",
       "    <tr>\n",
       "      <th>14</th>\n",
       "      <td>1015</td>\n",
       "      <td>M</td>\n",
       "      <td>nagpur</td>\n",
       "      <td>5</td>\n",
       "      <td>50000.0</td>\n",
       "    </tr>\n",
       "  </tbody>\n",
       "</table>\n",
       "</div>"
      ],
      "text/plain": [
       "      Id gender      city  experience   salary\n",
       "0   1001      M      pune           1  10000.0\n",
       "1   1002      F    mumbai           5  50000.0\n",
       "2   1003      M      pune           4      NaN\n",
       "3   1004      M      beed           6  60000.0\n",
       "4   1005      F      beed           7  70000.0\n",
       "5   1006      M  bhandara           5  50000.0\n",
       "6   1007      F      beed           2  20000.0\n",
       "7   1008      F      pune           8  80000.0\n",
       "8   1009      F    nagpur           6  60000.0\n",
       "9   1010      F      pune           3  30000.0\n",
       "10  1011      M    nagpur           9  90000.0\n",
       "11  1012      F    gondia           4  40000.0\n",
       "12  1013      F  bhandara           1  10000.0\n",
       "13  1014      M    gondia           8  80000.0\n",
       "14  1015      M    nagpur           5  50000.0"
      ]
     },
     "execution_count": 48,
     "metadata": {},
     "output_type": "execute_result"
    }
   ],
   "source": [
    "df"
   ]
  },
  {
   "cell_type": "markdown",
   "id": "b661b7d6",
   "metadata": {},
   "source": [
    "### head()"
   ]
  },
  {
   "cell_type": "code",
   "execution_count": 49,
   "id": "6cc6e88e",
   "metadata": {},
   "outputs": [
    {
     "data": {
      "text/html": [
       "<div>\n",
       "<style scoped>\n",
       "    .dataframe tbody tr th:only-of-type {\n",
       "        vertical-align: middle;\n",
       "    }\n",
       "\n",
       "    .dataframe tbody tr th {\n",
       "        vertical-align: top;\n",
       "    }\n",
       "\n",
       "    .dataframe thead th {\n",
       "        text-align: right;\n",
       "    }\n",
       "</style>\n",
       "<table border=\"1\" class=\"dataframe\">\n",
       "  <thead>\n",
       "    <tr style=\"text-align: right;\">\n",
       "      <th></th>\n",
       "      <th>Id</th>\n",
       "      <th>gender</th>\n",
       "      <th>city</th>\n",
       "      <th>experience</th>\n",
       "      <th>salary</th>\n",
       "    </tr>\n",
       "  </thead>\n",
       "  <tbody>\n",
       "    <tr>\n",
       "      <th>0</th>\n",
       "      <td>1001</td>\n",
       "      <td>M</td>\n",
       "      <td>pune</td>\n",
       "      <td>1</td>\n",
       "      <td>10000.0</td>\n",
       "    </tr>\n",
       "    <tr>\n",
       "      <th>1</th>\n",
       "      <td>1002</td>\n",
       "      <td>F</td>\n",
       "      <td>mumbai</td>\n",
       "      <td>5</td>\n",
       "      <td>50000.0</td>\n",
       "    </tr>\n",
       "    <tr>\n",
       "      <th>2</th>\n",
       "      <td>1003</td>\n",
       "      <td>M</td>\n",
       "      <td>pune</td>\n",
       "      <td>4</td>\n",
       "      <td>NaN</td>\n",
       "    </tr>\n",
       "    <tr>\n",
       "      <th>3</th>\n",
       "      <td>1004</td>\n",
       "      <td>M</td>\n",
       "      <td>beed</td>\n",
       "      <td>6</td>\n",
       "      <td>60000.0</td>\n",
       "    </tr>\n",
       "    <tr>\n",
       "      <th>4</th>\n",
       "      <td>1005</td>\n",
       "      <td>F</td>\n",
       "      <td>beed</td>\n",
       "      <td>7</td>\n",
       "      <td>70000.0</td>\n",
       "    </tr>\n",
       "  </tbody>\n",
       "</table>\n",
       "</div>"
      ],
      "text/plain": [
       "     Id gender    city  experience   salary\n",
       "0  1001      M    pune           1  10000.0\n",
       "1  1002      F  mumbai           5  50000.0\n",
       "2  1003      M    pune           4      NaN\n",
       "3  1004      M    beed           6  60000.0\n",
       "4  1005      F    beed           7  70000.0"
      ]
     },
     "execution_count": 49,
     "metadata": {},
     "output_type": "execute_result"
    }
   ],
   "source": [
    "df.head()"
   ]
  },
  {
   "cell_type": "code",
   "execution_count": null,
   "id": "97bc04f8",
   "metadata": {},
   "outputs": [],
   "source": []
  },
  {
   "cell_type": "code",
   "execution_count": 50,
   "id": "e328ada1",
   "metadata": {},
   "outputs": [
    {
     "data": {
      "text/html": [
       "<div>\n",
       "<style scoped>\n",
       "    .dataframe tbody tr th:only-of-type {\n",
       "        vertical-align: middle;\n",
       "    }\n",
       "\n",
       "    .dataframe tbody tr th {\n",
       "        vertical-align: top;\n",
       "    }\n",
       "\n",
       "    .dataframe thead th {\n",
       "        text-align: right;\n",
       "    }\n",
       "</style>\n",
       "<table border=\"1\" class=\"dataframe\">\n",
       "  <thead>\n",
       "    <tr style=\"text-align: right;\">\n",
       "      <th></th>\n",
       "      <th>Id</th>\n",
       "      <th>gender</th>\n",
       "      <th>city</th>\n",
       "      <th>experience</th>\n",
       "      <th>salary</th>\n",
       "    </tr>\n",
       "  </thead>\n",
       "  <tbody>\n",
       "    <tr>\n",
       "      <th>0</th>\n",
       "      <td>1001</td>\n",
       "      <td>M</td>\n",
       "      <td>pune</td>\n",
       "      <td>1</td>\n",
       "      <td>10000.0</td>\n",
       "    </tr>\n",
       "    <tr>\n",
       "      <th>1</th>\n",
       "      <td>1002</td>\n",
       "      <td>F</td>\n",
       "      <td>mumbai</td>\n",
       "      <td>5</td>\n",
       "      <td>50000.0</td>\n",
       "    </tr>\n",
       "    <tr>\n",
       "      <th>2</th>\n",
       "      <td>1003</td>\n",
       "      <td>M</td>\n",
       "      <td>pune</td>\n",
       "      <td>4</td>\n",
       "      <td>NaN</td>\n",
       "    </tr>\n",
       "    <tr>\n",
       "      <th>3</th>\n",
       "      <td>1004</td>\n",
       "      <td>M</td>\n",
       "      <td>beed</td>\n",
       "      <td>6</td>\n",
       "      <td>60000.0</td>\n",
       "    </tr>\n",
       "    <tr>\n",
       "      <th>4</th>\n",
       "      <td>1005</td>\n",
       "      <td>F</td>\n",
       "      <td>beed</td>\n",
       "      <td>7</td>\n",
       "      <td>70000.0</td>\n",
       "    </tr>\n",
       "    <tr>\n",
       "      <th>5</th>\n",
       "      <td>1006</td>\n",
       "      <td>M</td>\n",
       "      <td>bhandara</td>\n",
       "      <td>5</td>\n",
       "      <td>50000.0</td>\n",
       "    </tr>\n",
       "    <tr>\n",
       "      <th>6</th>\n",
       "      <td>1007</td>\n",
       "      <td>F</td>\n",
       "      <td>beed</td>\n",
       "      <td>2</td>\n",
       "      <td>20000.0</td>\n",
       "    </tr>\n",
       "    <tr>\n",
       "      <th>7</th>\n",
       "      <td>1008</td>\n",
       "      <td>F</td>\n",
       "      <td>pune</td>\n",
       "      <td>8</td>\n",
       "      <td>80000.0</td>\n",
       "    </tr>\n",
       "    <tr>\n",
       "      <th>8</th>\n",
       "      <td>1009</td>\n",
       "      <td>F</td>\n",
       "      <td>nagpur</td>\n",
       "      <td>6</td>\n",
       "      <td>60000.0</td>\n",
       "    </tr>\n",
       "    <tr>\n",
       "      <th>9</th>\n",
       "      <td>1010</td>\n",
       "      <td>F</td>\n",
       "      <td>pune</td>\n",
       "      <td>3</td>\n",
       "      <td>30000.0</td>\n",
       "    </tr>\n",
       "    <tr>\n",
       "      <th>10</th>\n",
       "      <td>1011</td>\n",
       "      <td>M</td>\n",
       "      <td>nagpur</td>\n",
       "      <td>9</td>\n",
       "      <td>90000.0</td>\n",
       "    </tr>\n",
       "    <tr>\n",
       "      <th>11</th>\n",
       "      <td>1012</td>\n",
       "      <td>F</td>\n",
       "      <td>gondia</td>\n",
       "      <td>4</td>\n",
       "      <td>40000.0</td>\n",
       "    </tr>\n",
       "  </tbody>\n",
       "</table>\n",
       "</div>"
      ],
      "text/plain": [
       "      Id gender      city  experience   salary\n",
       "0   1001      M      pune           1  10000.0\n",
       "1   1002      F    mumbai           5  50000.0\n",
       "2   1003      M      pune           4      NaN\n",
       "3   1004      M      beed           6  60000.0\n",
       "4   1005      F      beed           7  70000.0\n",
       "5   1006      M  bhandara           5  50000.0\n",
       "6   1007      F      beed           2  20000.0\n",
       "7   1008      F      pune           8  80000.0\n",
       "8   1009      F    nagpur           6  60000.0\n",
       "9   1010      F      pune           3  30000.0\n",
       "10  1011      M    nagpur           9  90000.0\n",
       "11  1012      F    gondia           4  40000.0"
      ]
     },
     "execution_count": 50,
     "metadata": {},
     "output_type": "execute_result"
    }
   ],
   "source": [
    "df.head(12)              # Displaying the first few rows of a DataFrame"
   ]
  },
  {
   "cell_type": "code",
   "execution_count": null,
   "id": "c93f40a3",
   "metadata": {},
   "outputs": [],
   "source": []
  },
  {
   "cell_type": "markdown",
   "id": "ea114ff5",
   "metadata": {},
   "source": [
    "### tail()"
   ]
  },
  {
   "cell_type": "code",
   "execution_count": 51,
   "id": "8d8b4829",
   "metadata": {},
   "outputs": [
    {
     "data": {
      "text/html": [
       "<div>\n",
       "<style scoped>\n",
       "    .dataframe tbody tr th:only-of-type {\n",
       "        vertical-align: middle;\n",
       "    }\n",
       "\n",
       "    .dataframe tbody tr th {\n",
       "        vertical-align: top;\n",
       "    }\n",
       "\n",
       "    .dataframe thead th {\n",
       "        text-align: right;\n",
       "    }\n",
       "</style>\n",
       "<table border=\"1\" class=\"dataframe\">\n",
       "  <thead>\n",
       "    <tr style=\"text-align: right;\">\n",
       "      <th></th>\n",
       "      <th>Id</th>\n",
       "      <th>gender</th>\n",
       "      <th>city</th>\n",
       "      <th>experience</th>\n",
       "      <th>salary</th>\n",
       "    </tr>\n",
       "  </thead>\n",
       "  <tbody>\n",
       "    <tr>\n",
       "      <th>10</th>\n",
       "      <td>1011</td>\n",
       "      <td>M</td>\n",
       "      <td>nagpur</td>\n",
       "      <td>9</td>\n",
       "      <td>90000.0</td>\n",
       "    </tr>\n",
       "    <tr>\n",
       "      <th>11</th>\n",
       "      <td>1012</td>\n",
       "      <td>F</td>\n",
       "      <td>gondia</td>\n",
       "      <td>4</td>\n",
       "      <td>40000.0</td>\n",
       "    </tr>\n",
       "    <tr>\n",
       "      <th>12</th>\n",
       "      <td>1013</td>\n",
       "      <td>F</td>\n",
       "      <td>bhandara</td>\n",
       "      <td>1</td>\n",
       "      <td>10000.0</td>\n",
       "    </tr>\n",
       "    <tr>\n",
       "      <th>13</th>\n",
       "      <td>1014</td>\n",
       "      <td>M</td>\n",
       "      <td>gondia</td>\n",
       "      <td>8</td>\n",
       "      <td>80000.0</td>\n",
       "    </tr>\n",
       "    <tr>\n",
       "      <th>14</th>\n",
       "      <td>1015</td>\n",
       "      <td>M</td>\n",
       "      <td>nagpur</td>\n",
       "      <td>5</td>\n",
       "      <td>50000.0</td>\n",
       "    </tr>\n",
       "  </tbody>\n",
       "</table>\n",
       "</div>"
      ],
      "text/plain": [
       "      Id gender      city  experience   salary\n",
       "10  1011      M    nagpur           9  90000.0\n",
       "11  1012      F    gondia           4  40000.0\n",
       "12  1013      F  bhandara           1  10000.0\n",
       "13  1014      M    gondia           8  80000.0\n",
       "14  1015      M    nagpur           5  50000.0"
      ]
     },
     "execution_count": 51,
     "metadata": {},
     "output_type": "execute_result"
    }
   ],
   "source": [
    "df.tail()                          # Displaying the last few rows of a DataFrame"
   ]
  },
  {
   "cell_type": "code",
   "execution_count": null,
   "id": "0691b566",
   "metadata": {},
   "outputs": [],
   "source": []
  },
  {
   "cell_type": "code",
   "execution_count": 52,
   "id": "05477499",
   "metadata": {},
   "outputs": [
    {
     "data": {
      "text/html": [
       "<div>\n",
       "<style scoped>\n",
       "    .dataframe tbody tr th:only-of-type {\n",
       "        vertical-align: middle;\n",
       "    }\n",
       "\n",
       "    .dataframe tbody tr th {\n",
       "        vertical-align: top;\n",
       "    }\n",
       "\n",
       "    .dataframe thead th {\n",
       "        text-align: right;\n",
       "    }\n",
       "</style>\n",
       "<table border=\"1\" class=\"dataframe\">\n",
       "  <thead>\n",
       "    <tr style=\"text-align: right;\">\n",
       "      <th></th>\n",
       "      <th>Id</th>\n",
       "      <th>gender</th>\n",
       "      <th>city</th>\n",
       "      <th>experience</th>\n",
       "      <th>salary</th>\n",
       "    </tr>\n",
       "  </thead>\n",
       "  <tbody>\n",
       "    <tr>\n",
       "      <th>5</th>\n",
       "      <td>1006</td>\n",
       "      <td>M</td>\n",
       "      <td>bhandara</td>\n",
       "      <td>5</td>\n",
       "      <td>50000.0</td>\n",
       "    </tr>\n",
       "    <tr>\n",
       "      <th>6</th>\n",
       "      <td>1007</td>\n",
       "      <td>F</td>\n",
       "      <td>beed</td>\n",
       "      <td>2</td>\n",
       "      <td>20000.0</td>\n",
       "    </tr>\n",
       "    <tr>\n",
       "      <th>7</th>\n",
       "      <td>1008</td>\n",
       "      <td>F</td>\n",
       "      <td>pune</td>\n",
       "      <td>8</td>\n",
       "      <td>80000.0</td>\n",
       "    </tr>\n",
       "    <tr>\n",
       "      <th>8</th>\n",
       "      <td>1009</td>\n",
       "      <td>F</td>\n",
       "      <td>nagpur</td>\n",
       "      <td>6</td>\n",
       "      <td>60000.0</td>\n",
       "    </tr>\n",
       "    <tr>\n",
       "      <th>9</th>\n",
       "      <td>1010</td>\n",
       "      <td>F</td>\n",
       "      <td>pune</td>\n",
       "      <td>3</td>\n",
       "      <td>30000.0</td>\n",
       "    </tr>\n",
       "    <tr>\n",
       "      <th>10</th>\n",
       "      <td>1011</td>\n",
       "      <td>M</td>\n",
       "      <td>nagpur</td>\n",
       "      <td>9</td>\n",
       "      <td>90000.0</td>\n",
       "    </tr>\n",
       "    <tr>\n",
       "      <th>11</th>\n",
       "      <td>1012</td>\n",
       "      <td>F</td>\n",
       "      <td>gondia</td>\n",
       "      <td>4</td>\n",
       "      <td>40000.0</td>\n",
       "    </tr>\n",
       "    <tr>\n",
       "      <th>12</th>\n",
       "      <td>1013</td>\n",
       "      <td>F</td>\n",
       "      <td>bhandara</td>\n",
       "      <td>1</td>\n",
       "      <td>10000.0</td>\n",
       "    </tr>\n",
       "    <tr>\n",
       "      <th>13</th>\n",
       "      <td>1014</td>\n",
       "      <td>M</td>\n",
       "      <td>gondia</td>\n",
       "      <td>8</td>\n",
       "      <td>80000.0</td>\n",
       "    </tr>\n",
       "    <tr>\n",
       "      <th>14</th>\n",
       "      <td>1015</td>\n",
       "      <td>M</td>\n",
       "      <td>nagpur</td>\n",
       "      <td>5</td>\n",
       "      <td>50000.0</td>\n",
       "    </tr>\n",
       "  </tbody>\n",
       "</table>\n",
       "</div>"
      ],
      "text/plain": [
       "      Id gender      city  experience   salary\n",
       "5   1006      M  bhandara           5  50000.0\n",
       "6   1007      F      beed           2  20000.0\n",
       "7   1008      F      pune           8  80000.0\n",
       "8   1009      F    nagpur           6  60000.0\n",
       "9   1010      F      pune           3  30000.0\n",
       "10  1011      M    nagpur           9  90000.0\n",
       "11  1012      F    gondia           4  40000.0\n",
       "12  1013      F  bhandara           1  10000.0\n",
       "13  1014      M    gondia           8  80000.0\n",
       "14  1015      M    nagpur           5  50000.0"
      ]
     },
     "execution_count": 52,
     "metadata": {},
     "output_type": "execute_result"
    }
   ],
   "source": [
    "df.tail(10)"
   ]
  },
  {
   "cell_type": "code",
   "execution_count": 55,
   "id": "163f2b43",
   "metadata": {},
   "outputs": [
    {
     "data": {
      "text/html": [
       "<div>\n",
       "<style scoped>\n",
       "    .dataframe tbody tr th:only-of-type {\n",
       "        vertical-align: middle;\n",
       "    }\n",
       "\n",
       "    .dataframe tbody tr th {\n",
       "        vertical-align: top;\n",
       "    }\n",
       "\n",
       "    .dataframe thead th {\n",
       "        text-align: right;\n",
       "    }\n",
       "</style>\n",
       "<table border=\"1\" class=\"dataframe\">\n",
       "  <thead>\n",
       "    <tr style=\"text-align: right;\">\n",
       "      <th></th>\n",
       "      <th>Id</th>\n",
       "      <th>gender</th>\n",
       "      <th>city</th>\n",
       "      <th>experience</th>\n",
       "      <th>salary</th>\n",
       "    </tr>\n",
       "  </thead>\n",
       "  <tbody>\n",
       "    <tr>\n",
       "      <th>0</th>\n",
       "      <td>1001</td>\n",
       "      <td>M</td>\n",
       "      <td>pune</td>\n",
       "      <td>1</td>\n",
       "      <td>10000.0</td>\n",
       "    </tr>\n",
       "    <tr>\n",
       "      <th>1</th>\n",
       "      <td>1002</td>\n",
       "      <td>F</td>\n",
       "      <td>mumbai</td>\n",
       "      <td>5</td>\n",
       "      <td>50000.0</td>\n",
       "    </tr>\n",
       "    <tr>\n",
       "      <th>2</th>\n",
       "      <td>1003</td>\n",
       "      <td>M</td>\n",
       "      <td>pune</td>\n",
       "      <td>4</td>\n",
       "      <td>NaN</td>\n",
       "    </tr>\n",
       "    <tr>\n",
       "      <th>3</th>\n",
       "      <td>1004</td>\n",
       "      <td>M</td>\n",
       "      <td>beed</td>\n",
       "      <td>6</td>\n",
       "      <td>60000.0</td>\n",
       "    </tr>\n",
       "    <tr>\n",
       "      <th>4</th>\n",
       "      <td>1005</td>\n",
       "      <td>F</td>\n",
       "      <td>beed</td>\n",
       "      <td>7</td>\n",
       "      <td>70000.0</td>\n",
       "    </tr>\n",
       "    <tr>\n",
       "      <th>5</th>\n",
       "      <td>1006</td>\n",
       "      <td>M</td>\n",
       "      <td>bhandara</td>\n",
       "      <td>5</td>\n",
       "      <td>50000.0</td>\n",
       "    </tr>\n",
       "    <tr>\n",
       "      <th>6</th>\n",
       "      <td>1007</td>\n",
       "      <td>F</td>\n",
       "      <td>beed</td>\n",
       "      <td>2</td>\n",
       "      <td>20000.0</td>\n",
       "    </tr>\n",
       "    <tr>\n",
       "      <th>7</th>\n",
       "      <td>1008</td>\n",
       "      <td>F</td>\n",
       "      <td>pune</td>\n",
       "      <td>8</td>\n",
       "      <td>80000.0</td>\n",
       "    </tr>\n",
       "    <tr>\n",
       "      <th>8</th>\n",
       "      <td>1009</td>\n",
       "      <td>F</td>\n",
       "      <td>nagpur</td>\n",
       "      <td>6</td>\n",
       "      <td>60000.0</td>\n",
       "    </tr>\n",
       "    <tr>\n",
       "      <th>9</th>\n",
       "      <td>1010</td>\n",
       "      <td>F</td>\n",
       "      <td>pune</td>\n",
       "      <td>3</td>\n",
       "      <td>30000.0</td>\n",
       "    </tr>\n",
       "    <tr>\n",
       "      <th>10</th>\n",
       "      <td>1011</td>\n",
       "      <td>M</td>\n",
       "      <td>nagpur</td>\n",
       "      <td>9</td>\n",
       "      <td>90000.0</td>\n",
       "    </tr>\n",
       "    <tr>\n",
       "      <th>11</th>\n",
       "      <td>1012</td>\n",
       "      <td>F</td>\n",
       "      <td>gondia</td>\n",
       "      <td>4</td>\n",
       "      <td>40000.0</td>\n",
       "    </tr>\n",
       "    <tr>\n",
       "      <th>12</th>\n",
       "      <td>1013</td>\n",
       "      <td>F</td>\n",
       "      <td>bhandara</td>\n",
       "      <td>1</td>\n",
       "      <td>10000.0</td>\n",
       "    </tr>\n",
       "    <tr>\n",
       "      <th>13</th>\n",
       "      <td>1014</td>\n",
       "      <td>M</td>\n",
       "      <td>gondia</td>\n",
       "      <td>8</td>\n",
       "      <td>80000.0</td>\n",
       "    </tr>\n",
       "    <tr>\n",
       "      <th>14</th>\n",
       "      <td>1015</td>\n",
       "      <td>M</td>\n",
       "      <td>nagpur</td>\n",
       "      <td>5</td>\n",
       "      <td>50000.0</td>\n",
       "    </tr>\n",
       "  </tbody>\n",
       "</table>\n",
       "</div>"
      ],
      "text/plain": [
       "      Id gender      city  experience   salary\n",
       "0   1001      M      pune           1  10000.0\n",
       "1   1002      F    mumbai           5  50000.0\n",
       "2   1003      M      pune           4      NaN\n",
       "3   1004      M      beed           6  60000.0\n",
       "4   1005      F      beed           7  70000.0\n",
       "5   1006      M  bhandara           5  50000.0\n",
       "6   1007      F      beed           2  20000.0\n",
       "7   1008      F      pune           8  80000.0\n",
       "8   1009      F    nagpur           6  60000.0\n",
       "9   1010      F      pune           3  30000.0\n",
       "10  1011      M    nagpur           9  90000.0\n",
       "11  1012      F    gondia           4  40000.0\n",
       "12  1013      F  bhandara           1  10000.0\n",
       "13  1014      M    gondia           8  80000.0\n",
       "14  1015      M    nagpur           5  50000.0"
      ]
     },
     "execution_count": 55,
     "metadata": {},
     "output_type": "execute_result"
    }
   ],
   "source": [
    "df"
   ]
  },
  {
   "cell_type": "markdown",
   "id": "9e3881a8",
   "metadata": {},
   "source": [
    "### info()"
   ]
  },
  {
   "cell_type": "code",
   "execution_count": 53,
   "id": "814363cc",
   "metadata": {},
   "outputs": [
    {
     "name": "stdout",
     "output_type": "stream",
     "text": [
      "<class 'pandas.core.frame.DataFrame'>\n",
      "RangeIndex: 15 entries, 0 to 14\n",
      "Data columns (total 5 columns):\n",
      " #   Column      Non-Null Count  Dtype  \n",
      "---  ------      --------------  -----  \n",
      " 0   Id          15 non-null     int64  \n",
      " 1   gender      15 non-null     object \n",
      " 2   city        15 non-null     object \n",
      " 3   experience  15 non-null     int64  \n",
      " 4   salary      14 non-null     float64\n",
      "dtypes: float64(1), int64(2), object(2)\n",
      "memory usage: 728.0+ bytes\n"
     ]
    }
   ],
   "source": [
    "df.info()                    # Getting information about a DataFrame"
   ]
  },
  {
   "cell_type": "code",
   "execution_count": null,
   "id": "510c1238",
   "metadata": {},
   "outputs": [],
   "source": []
  },
  {
   "cell_type": "markdown",
   "id": "f5fd21fa",
   "metadata": {},
   "source": [
    "### describe()"
   ]
  },
  {
   "cell_type": "code",
   "execution_count": 54,
   "id": "92412d64",
   "metadata": {},
   "outputs": [
    {
     "data": {
      "text/html": [
       "<div>\n",
       "<style scoped>\n",
       "    .dataframe tbody tr th:only-of-type {\n",
       "        vertical-align: middle;\n",
       "    }\n",
       "\n",
       "    .dataframe tbody tr th {\n",
       "        vertical-align: top;\n",
       "    }\n",
       "\n",
       "    .dataframe thead th {\n",
       "        text-align: right;\n",
       "    }\n",
       "</style>\n",
       "<table border=\"1\" class=\"dataframe\">\n",
       "  <thead>\n",
       "    <tr style=\"text-align: right;\">\n",
       "      <th></th>\n",
       "      <th>Id</th>\n",
       "      <th>experience</th>\n",
       "      <th>salary</th>\n",
       "    </tr>\n",
       "  </thead>\n",
       "  <tbody>\n",
       "    <tr>\n",
       "      <th>count</th>\n",
       "      <td>15.000000</td>\n",
       "      <td>15.000000</td>\n",
       "      <td>14.000000</td>\n",
       "    </tr>\n",
       "    <tr>\n",
       "      <th>mean</th>\n",
       "      <td>1008.000000</td>\n",
       "      <td>4.933333</td>\n",
       "      <td>50000.000000</td>\n",
       "    </tr>\n",
       "    <tr>\n",
       "      <th>std</th>\n",
       "      <td>4.472136</td>\n",
       "      <td>2.491892</td>\n",
       "      <td>25720.389996</td>\n",
       "    </tr>\n",
       "    <tr>\n",
       "      <th>min</th>\n",
       "      <td>1001.000000</td>\n",
       "      <td>1.000000</td>\n",
       "      <td>10000.000000</td>\n",
       "    </tr>\n",
       "    <tr>\n",
       "      <th>25%</th>\n",
       "      <td>1004.500000</td>\n",
       "      <td>3.500000</td>\n",
       "      <td>32500.000000</td>\n",
       "    </tr>\n",
       "    <tr>\n",
       "      <th>50%</th>\n",
       "      <td>1008.000000</td>\n",
       "      <td>5.000000</td>\n",
       "      <td>50000.000000</td>\n",
       "    </tr>\n",
       "    <tr>\n",
       "      <th>75%</th>\n",
       "      <td>1011.500000</td>\n",
       "      <td>6.500000</td>\n",
       "      <td>67500.000000</td>\n",
       "    </tr>\n",
       "    <tr>\n",
       "      <th>max</th>\n",
       "      <td>1015.000000</td>\n",
       "      <td>9.000000</td>\n",
       "      <td>90000.000000</td>\n",
       "    </tr>\n",
       "  </tbody>\n",
       "</table>\n",
       "</div>"
      ],
      "text/plain": [
       "                Id  experience        salary\n",
       "count    15.000000   15.000000     14.000000\n",
       "mean   1008.000000    4.933333  50000.000000\n",
       "std       4.472136    2.491892  25720.389996\n",
       "min    1001.000000    1.000000  10000.000000\n",
       "25%    1004.500000    3.500000  32500.000000\n",
       "50%    1008.000000    5.000000  50000.000000\n",
       "75%    1011.500000    6.500000  67500.000000\n",
       "max    1015.000000    9.000000  90000.000000"
      ]
     },
     "execution_count": 54,
     "metadata": {},
     "output_type": "execute_result"
    }
   ],
   "source": [
    "df.describe()           # Describing the statistical summary of a DataFrame"
   ]
  },
  {
   "cell_type": "code",
   "execution_count": null,
   "id": "4ca5f713",
   "metadata": {},
   "outputs": [],
   "source": []
  },
  {
   "cell_type": "markdown",
   "id": "008a5d0d",
   "metadata": {},
   "source": [
    "### sample()"
   ]
  },
  {
   "cell_type": "code",
   "execution_count": 57,
   "id": "8dbab616",
   "metadata": {},
   "outputs": [
    {
     "data": {
      "text/html": [
       "<div>\n",
       "<style scoped>\n",
       "    .dataframe tbody tr th:only-of-type {\n",
       "        vertical-align: middle;\n",
       "    }\n",
       "\n",
       "    .dataframe tbody tr th {\n",
       "        vertical-align: top;\n",
       "    }\n",
       "\n",
       "    .dataframe thead th {\n",
       "        text-align: right;\n",
       "    }\n",
       "</style>\n",
       "<table border=\"1\" class=\"dataframe\">\n",
       "  <thead>\n",
       "    <tr style=\"text-align: right;\">\n",
       "      <th></th>\n",
       "      <th>Id</th>\n",
       "      <th>gender</th>\n",
       "      <th>city</th>\n",
       "      <th>experience</th>\n",
       "      <th>salary</th>\n",
       "    </tr>\n",
       "  </thead>\n",
       "  <tbody>\n",
       "    <tr>\n",
       "      <th>5</th>\n",
       "      <td>1006</td>\n",
       "      <td>M</td>\n",
       "      <td>bhandara</td>\n",
       "      <td>5</td>\n",
       "      <td>50000.0</td>\n",
       "    </tr>\n",
       "  </tbody>\n",
       "</table>\n",
       "</div>"
      ],
      "text/plain": [
       "     Id gender      city  experience   salary\n",
       "5  1006      M  bhandara           5  50000.0"
      ]
     },
     "execution_count": 57,
     "metadata": {},
     "output_type": "execute_result"
    }
   ],
   "source": [
    "df.sample()             # Sampling random rows from a DataFrame"
   ]
  },
  {
   "cell_type": "code",
   "execution_count": null,
   "id": "15d2536a",
   "metadata": {},
   "outputs": [],
   "source": []
  },
  {
   "cell_type": "code",
   "execution_count": 60,
   "id": "4736a88e",
   "metadata": {},
   "outputs": [
    {
     "data": {
      "text/html": [
       "<div>\n",
       "<style scoped>\n",
       "    .dataframe tbody tr th:only-of-type {\n",
       "        vertical-align: middle;\n",
       "    }\n",
       "\n",
       "    .dataframe tbody tr th {\n",
       "        vertical-align: top;\n",
       "    }\n",
       "\n",
       "    .dataframe thead th {\n",
       "        text-align: right;\n",
       "    }\n",
       "</style>\n",
       "<table border=\"1\" class=\"dataframe\">\n",
       "  <thead>\n",
       "    <tr style=\"text-align: right;\">\n",
       "      <th></th>\n",
       "      <th>Id</th>\n",
       "      <th>gender</th>\n",
       "      <th>city</th>\n",
       "      <th>experience</th>\n",
       "      <th>salary</th>\n",
       "    </tr>\n",
       "  </thead>\n",
       "  <tbody>\n",
       "    <tr>\n",
       "      <th>0</th>\n",
       "      <td>1001</td>\n",
       "      <td>M</td>\n",
       "      <td>pune</td>\n",
       "      <td>1</td>\n",
       "      <td>10000.0</td>\n",
       "    </tr>\n",
       "    <tr>\n",
       "      <th>6</th>\n",
       "      <td>1007</td>\n",
       "      <td>F</td>\n",
       "      <td>beed</td>\n",
       "      <td>2</td>\n",
       "      <td>20000.0</td>\n",
       "    </tr>\n",
       "    <tr>\n",
       "      <th>11</th>\n",
       "      <td>1012</td>\n",
       "      <td>F</td>\n",
       "      <td>gondia</td>\n",
       "      <td>4</td>\n",
       "      <td>40000.0</td>\n",
       "    </tr>\n",
       "    <tr>\n",
       "      <th>10</th>\n",
       "      <td>1011</td>\n",
       "      <td>M</td>\n",
       "      <td>nagpur</td>\n",
       "      <td>9</td>\n",
       "      <td>90000.0</td>\n",
       "    </tr>\n",
       "    <tr>\n",
       "      <th>8</th>\n",
       "      <td>1009</td>\n",
       "      <td>F</td>\n",
       "      <td>nagpur</td>\n",
       "      <td>6</td>\n",
       "      <td>60000.0</td>\n",
       "    </tr>\n",
       "  </tbody>\n",
       "</table>\n",
       "</div>"
      ],
      "text/plain": [
       "      Id gender    city  experience   salary\n",
       "0   1001      M    pune           1  10000.0\n",
       "6   1007      F    beed           2  20000.0\n",
       "11  1012      F  gondia           4  40000.0\n",
       "10  1011      M  nagpur           9  90000.0\n",
       "8   1009      F  nagpur           6  60000.0"
      ]
     },
     "execution_count": 60,
     "metadata": {},
     "output_type": "execute_result"
    }
   ],
   "source": [
    "df.sample(5)"
   ]
  },
  {
   "cell_type": "code",
   "execution_count": null,
   "id": "ccc5afbd",
   "metadata": {},
   "outputs": [],
   "source": []
  },
  {
   "cell_type": "code",
   "execution_count": null,
   "id": "9ccc1c1c",
   "metadata": {},
   "outputs": [],
   "source": []
  },
  {
   "cell_type": "code",
   "execution_count": null,
   "id": "dea70119",
   "metadata": {},
   "outputs": [],
   "source": []
  },
  {
   "cell_type": "code",
   "execution_count": null,
   "id": "21f16c2b",
   "metadata": {},
   "outputs": [],
   "source": []
  },
  {
   "cell_type": "code",
   "execution_count": null,
   "id": "c5db8d4a",
   "metadata": {},
   "outputs": [],
   "source": []
  }
 ],
 "metadata": {
  "kernelspec": {
   "display_name": "Python 3 (ipykernel)",
   "language": "python",
   "name": "python3"
  },
  "language_info": {
   "codemirror_mode": {
    "name": "ipython",
    "version": 3
   },
   "file_extension": ".py",
   "mimetype": "text/x-python",
   "name": "python",
   "nbconvert_exporter": "python",
   "pygments_lexer": "ipython3",
   "version": "3.11.5"
  }
 },
 "nbformat": 4,
 "nbformat_minor": 5
}
