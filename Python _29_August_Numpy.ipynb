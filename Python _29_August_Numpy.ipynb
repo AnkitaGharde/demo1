{
 "cells": [
  {
   "cell_type": "markdown",
   "id": "6a257d64",
   "metadata": {},
   "source": [
    "# Numpy:"
   ]
  },
  {
   "cell_type": "markdown",
   "id": "14d9e45f",
   "metadata": {},
   "source": [
    "- Random Module\n",
    "- Arithmetic Operations in Numpy\n",
    "- Functions in Numpy : Sum, Mean, Std, Var, exp, log, sqrt, etc\n",
    "- Where and ABS function\n",
    "- Concatenate\n",
    "- Stacking \n",
    "- Splitting"
   ]
  },
  {
   "cell_type": "code",
   "execution_count": null,
   "id": "9598ef1e",
   "metadata": {},
   "outputs": [],
   "source": []
  },
  {
   "cell_type": "markdown",
   "id": "cb02225f",
   "metadata": {},
   "source": [
    "## Random Module"
   ]
  },
  {
   "cell_type": "raw",
   "id": "677a8e63",
   "metadata": {},
   "source": [
    "Python Random module is an in-built module of Python which is used to generate random numbers."
   ]
  },
  {
   "cell_type": "markdown",
   "id": "0e954fe6",
   "metadata": {},
   "source": [
    "- randrange()\n",
    "- randint()\n",
    "- choice()\n",
    "- shuffle()\n",
    "- sample()\n",
    "- random()"
   ]
  },
  {
   "cell_type": "markdown",
   "id": "b85bfc36",
   "metadata": {},
   "source": [
    "### randrange()"
   ]
  },
  {
   "cell_type": "raw",
   "id": "63a9dd25",
   "metadata": {},
   "source": [
    "The randrange() method returns a randomly selected element from the specified range."
   ]
  },
  {
   "cell_type": "markdown",
   "id": "3da5c821",
   "metadata": {},
   "source": [
    "#### syntax"
   ]
  },
  {
   "cell_type": "raw",
   "id": "b6d6d8ba",
   "metadata": {},
   "source": [
    "random.randrange(start,end-1)  #end exclude"
   ]
  },
  {
   "cell_type": "markdown",
   "id": "d3810817",
   "metadata": {},
   "source": [
    "#### example"
   ]
  },
  {
   "cell_type": "code",
   "execution_count": 120,
   "id": "e6117049",
   "metadata": {},
   "outputs": [],
   "source": [
    "import numpy as np\n",
    "import random                    #import random module to generate random numbers"
   ]
  },
  {
   "cell_type": "code",
   "execution_count": null,
   "id": "6be2a324",
   "metadata": {},
   "outputs": [],
   "source": []
  },
  {
   "cell_type": "code",
   "execution_count": 128,
   "id": "142f6c61",
   "metadata": {},
   "outputs": [
    {
     "data": {
      "text/plain": [
       "2"
      ]
     },
     "execution_count": 128,
     "metadata": {},
     "output_type": "execute_result"
    }
   ],
   "source": [
    "v2 =random.randrange(5)   # return 0,1,2,3,4\n",
    "\n",
    "v2"
   ]
  },
  {
   "cell_type": "code",
   "execution_count": null,
   "id": "cdc966c2",
   "metadata": {},
   "outputs": [],
   "source": []
  },
  {
   "cell_type": "markdown",
   "id": "0bc25104",
   "metadata": {},
   "source": [
    "### randint()"
   ]
  },
  {
   "cell_type": "code",
   "execution_count": null,
   "id": "f3df3b7b",
   "metadata": {},
   "outputs": [],
   "source": [
    "The randint() method returns an integer number selected element from the specified range."
   ]
  },
  {
   "cell_type": "markdown",
   "id": "3bfd8d80",
   "metadata": {},
   "source": [
    "#### syntax"
   ]
  },
  {
   "cell_type": "code",
   "execution_count": null,
   "id": "ff3bf476",
   "metadata": {},
   "outputs": [],
   "source": [
    "random.randint(start,end)   #start and end both necessary"
   ]
  },
  {
   "cell_type": "code",
   "execution_count": 150,
   "id": "f67a409c",
   "metadata": {},
   "outputs": [
    {
     "data": {
      "text/plain": [
       "2"
      ]
     },
     "execution_count": 150,
     "metadata": {},
     "output_type": "execute_result"
    }
   ],
   "source": [
    "v3 =random.randint(0,5)   # return 0,1,2,3,4,5\n",
    "                         #start and end both include\n",
    "\n",
    "v3"
   ]
  },
  {
   "cell_type": "markdown",
   "id": "d4bc0d43",
   "metadata": {},
   "source": [
    "### choice()"
   ]
  },
  {
   "cell_type": "markdown",
   "id": "59ec0427",
   "metadata": {},
   "source": [
    "- The choice() method returns a randomly selected element from the specified sequence.\n",
    "\n",
    "- The sequence can be a string, a range, a list, a tuple or any other kind of sequence."
   ]
  },
  {
   "cell_type": "code",
   "execution_count": 153,
   "id": "8958c66a",
   "metadata": {},
   "outputs": [
    {
     "name": "stdout",
     "output_type": "stream",
     "text": [
      "cherry\n"
     ]
    }
   ],
   "source": [
    "mylist = [\"apple\", \"banana\", \"cherry\"]\n",
    "\n",
    "print(random.choice(mylist))      # Returns a random element from mylist"
   ]
  },
  {
   "cell_type": "code",
   "execution_count": null,
   "id": "171f3b9a",
   "metadata": {},
   "outputs": [],
   "source": []
  },
  {
   "cell_type": "markdown",
   "id": "eaf7b72d",
   "metadata": {},
   "source": [
    "### shuffle()"
   ]
  },
  {
   "cell_type": "raw",
   "id": "b207c414",
   "metadata": {},
   "source": [
    "Takes a sequence and returns the sequence in a random order"
   ]
  },
  {
   "cell_type": "code",
   "execution_count": 155,
   "id": "b81e6763",
   "metadata": {},
   "outputs": [
    {
     "data": {
      "text/plain": [
       "['banana', 'cherry', 'apple']"
      ]
     },
     "execution_count": 155,
     "metadata": {},
     "output_type": "execute_result"
    }
   ],
   "source": [
    "m2 = [\"apple\", \"banana\", \"cherry\"]\n",
    "\n",
    "random.shuffle(m2)         # Shuffles the elements in m2 randomly\n",
    "\n",
    "m2"
   ]
  },
  {
   "cell_type": "code",
   "execution_count": null,
   "id": "9a48f831",
   "metadata": {},
   "outputs": [],
   "source": [
    "\n"
   ]
  },
  {
   "cell_type": "code",
   "execution_count": null,
   "id": "bdd0ffc3",
   "metadata": {},
   "outputs": [],
   "source": []
  },
  {
   "cell_type": "markdown",
   "id": "a614cbb0",
   "metadata": {},
   "source": [
    "### sample()"
   ]
  },
  {
   "cell_type": "raw",
   "id": "ab246d03",
   "metadata": {},
   "source": [
    "The sample() method returns a list with a randomly selection of a specified number of items from a sequnce."
   ]
  },
  {
   "cell_type": "code",
   "execution_count": 158,
   "id": "1574e75f",
   "metadata": {},
   "outputs": [
    {
     "name": "stdout",
     "output_type": "stream",
     "text": [
      "['cherry', 'xyz', 'abc']\n"
     ]
    }
   ],
   "source": [
    "m5 = [\"apple\", \"banana\", \"cherry\",\"abc\",\"xyz\"]\n",
    "\n",
    "print(random.sample(m5,3))     # Returns a list with 2 randomly selected elements from m5\n"
   ]
  },
  {
   "cell_type": "code",
   "execution_count": null,
   "id": "13c17f94",
   "metadata": {},
   "outputs": [],
   "source": []
  },
  {
   "cell_type": "code",
   "execution_count": null,
   "id": "b05b8ead",
   "metadata": {},
   "outputs": [],
   "source": []
  },
  {
   "cell_type": "markdown",
   "id": "04df0a67",
   "metadata": {},
   "source": [
    "### random()"
   ]
  },
  {
   "cell_type": "raw",
   "id": "936cb98d",
   "metadata": {},
   "source": [
    "The random() method returns a random floating number between 0 and 1."
   ]
  },
  {
   "cell_type": "markdown",
   "id": "04f1d4bd",
   "metadata": {},
   "source": [
    "#### syntax"
   ]
  },
  {
   "cell_type": "raw",
   "id": "7aa0c028",
   "metadata": {},
   "source": [
    "random.random()"
   ]
  },
  {
   "cell_type": "markdown",
   "id": "4ca113db",
   "metadata": {},
   "source": [
    "#### example"
   ]
  },
  {
   "cell_type": "code",
   "execution_count": 160,
   "id": "d2303b78",
   "metadata": {},
   "outputs": [
    {
     "name": "stdout",
     "output_type": "stream",
     "text": [
      "0.6147999250137957\n"
     ]
    }
   ],
   "source": [
    "print(random.random())       # Returns a random floating-point number between 0 and 1\n"
   ]
  },
  {
   "cell_type": "code",
   "execution_count": 38,
   "id": "cdb9feb0",
   "metadata": {},
   "outputs": [],
   "source": [
    "#################################################################################"
   ]
  },
  {
   "cell_type": "code",
   "execution_count": null,
   "id": "5ca4ca30",
   "metadata": {},
   "outputs": [],
   "source": []
  },
  {
   "cell_type": "markdown",
   "id": "a197e920",
   "metadata": {},
   "source": [
    "### Arithmetic Operations in Numpy"
   ]
  },
  {
   "cell_type": "markdown",
   "id": "a9a38ea8",
   "metadata": {},
   "source": [
    "- add()\n",
    "- subtract()\n",
    "- multiply()\n",
    "- divide()\n"
   ]
  },
  {
   "cell_type": "markdown",
   "id": "a51030e3",
   "metadata": {},
   "source": [
    "### add()"
   ]
  },
  {
   "cell_type": "code",
   "execution_count": 167,
   "id": "f5758956",
   "metadata": {},
   "outputs": [],
   "source": [
    "s1 =np.array([1,2,3,4,5])\n",
    "\n",
    "s2 =np.array([6,7,8,9,10])"
   ]
  },
  {
   "cell_type": "code",
   "execution_count": null,
   "id": "0bf4c26a",
   "metadata": {},
   "outputs": [],
   "source": []
  },
  {
   "cell_type": "code",
   "execution_count": 168,
   "id": "b6e9e510",
   "metadata": {},
   "outputs": [
    {
     "data": {
      "text/plain": [
       "array([ 7,  9, 11, 13, 15])"
      ]
     },
     "execution_count": 168,
     "metadata": {},
     "output_type": "execute_result"
    }
   ],
   "source": [
    "c = np.add(s1,s2)            # Element-wise addition of s1 and s2\n",
    "\n",
    "c"
   ]
  },
  {
   "cell_type": "code",
   "execution_count": null,
   "id": "538a5054",
   "metadata": {},
   "outputs": [],
   "source": []
  },
  {
   "cell_type": "markdown",
   "id": "309d1833",
   "metadata": {},
   "source": [
    "### subtract()"
   ]
  },
  {
   "cell_type": "code",
   "execution_count": 115,
   "id": "089a1695",
   "metadata": {},
   "outputs": [
    {
     "data": {
      "text/plain": [
       "array([ 4, 13, 22, 31, 40])"
      ]
     },
     "execution_count": 115,
     "metadata": {},
     "output_type": "execute_result"
    }
   ],
   "source": [
    "v1 =np.array([10,20,30,40,50])\n",
    "\n",
    "v2 =np.array([6,7,8,9,10])\n",
    "\n",
    "\n",
    "c1 = np.subtract(v1,v2)            # Element-wise subtraction of v1 and v2\n",
    "\n",
    "c1\n",
    "\n"
   ]
  },
  {
   "cell_type": "markdown",
   "id": "c2049bb5",
   "metadata": {},
   "source": [
    "### multiply()"
   ]
  },
  {
   "cell_type": "code",
   "execution_count": null,
   "id": "f3aba70f",
   "metadata": {},
   "outputs": [],
   "source": []
  },
  {
   "cell_type": "code",
   "execution_count": null,
   "id": "cb52fac0",
   "metadata": {},
   "outputs": [],
   "source": []
  },
  {
   "cell_type": "markdown",
   "id": "7f470252",
   "metadata": {},
   "source": [
    "### divide()"
   ]
  },
  {
   "cell_type": "code",
   "execution_count": null,
   "id": "c4219068",
   "metadata": {},
   "outputs": [],
   "source": []
  },
  {
   "cell_type": "code",
   "execution_count": null,
   "id": "b0eeeb60",
   "metadata": {},
   "outputs": [],
   "source": [
    "                     #######################################################"
   ]
  },
  {
   "cell_type": "code",
   "execution_count": null,
   "id": "39a0bf09",
   "metadata": {},
   "outputs": [],
   "source": []
  },
  {
   "cell_type": "markdown",
   "id": "6b571b2e",
   "metadata": {},
   "source": [
    "### Functions in Numpy :"
   ]
  },
  {
   "cell_type": "markdown",
   "id": "049d5182",
   "metadata": {},
   "source": [
    "- sum\n",
    "- mean(avg)\n",
    "- std\n",
    "- var\n",
    "- exp\n",
    "- log\n",
    "- sqrt"
   ]
  },
  {
   "cell_type": "markdown",
   "id": "1f28f3db",
   "metadata": {},
   "source": [
    "### example"
   ]
  },
  {
   "cell_type": "code",
   "execution_count": 169,
   "id": "a2b3fb4d",
   "metadata": {},
   "outputs": [
    {
     "data": {
      "text/plain": [
       "array([1, 2, 3, 4, 5])"
      ]
     },
     "execution_count": 169,
     "metadata": {},
     "output_type": "execute_result"
    }
   ],
   "source": [
    "d1 = np.array([1,2,3,4,5])\n",
    "\n",
    "d1"
   ]
  },
  {
   "cell_type": "code",
   "execution_count": null,
   "id": "56bfc36e",
   "metadata": {},
   "outputs": [],
   "source": []
  },
  {
   "cell_type": "markdown",
   "id": "733a36e6",
   "metadata": {},
   "source": [
    "#### sum"
   ]
  },
  {
   "cell_type": "code",
   "execution_count": 43,
   "id": "c90869c2",
   "metadata": {},
   "outputs": [
    {
     "data": {
      "text/plain": [
       "15"
      ]
     },
     "execution_count": 43,
     "metadata": {},
     "output_type": "execute_result"
    }
   ],
   "source": [
    "np.sum(d1)      # Calculates the sum of elements in d1"
   ]
  },
  {
   "cell_type": "code",
   "execution_count": null,
   "id": "e7011d86",
   "metadata": {},
   "outputs": [],
   "source": []
  },
  {
   "cell_type": "code",
   "execution_count": 170,
   "id": "286c88bd",
   "metadata": {},
   "outputs": [],
   "source": [
    "###################################################################################"
   ]
  },
  {
   "cell_type": "code",
   "execution_count": null,
   "id": "bed8bd7b",
   "metadata": {},
   "outputs": [],
   "source": []
  },
  {
   "cell_type": "markdown",
   "id": "44af696e",
   "metadata": {},
   "source": [
    "### where()"
   ]
  },
  {
   "cell_type": "raw",
   "id": "4b7ab803",
   "metadata": {},
   "source": [
    "- The np.where function returns elements from two arrays based on a condition. \n",
    "- It selects elements from the first array where the condition is True and from the second array where the condition is False."
   ]
  },
  {
   "cell_type": "code",
   "execution_count": null,
   "id": "e1d20e5c",
   "metadata": {},
   "outputs": [],
   "source": []
  },
  {
   "cell_type": "markdown",
   "id": "c6ff8d03",
   "metadata": {},
   "source": [
    "#### syntax:"
   ]
  },
  {
   "cell_type": "code",
   "execution_count": null,
   "id": "d5f42c5b",
   "metadata": {},
   "outputs": [],
   "source": [
    "np.where(condition,x,y)"
   ]
  },
  {
   "cell_type": "code",
   "execution_count": null,
   "id": "0cd12f7b",
   "metadata": {},
   "outputs": [],
   "source": []
  },
  {
   "cell_type": "markdown",
   "id": "b7d02c2a",
   "metadata": {},
   "source": [
    "#### example"
   ]
  },
  {
   "cell_type": "code",
   "execution_count": 1,
   "id": "738db0f3",
   "metadata": {},
   "outputs": [
    {
     "ename": "NameError",
     "evalue": "name 'np' is not defined",
     "output_type": "error",
     "traceback": [
      "\u001b[1;31m---------------------------------------------------------------------------\u001b[0m",
      "\u001b[1;31mNameError\u001b[0m                                 Traceback (most recent call last)",
      "Cell \u001b[1;32mIn[1], line 1\u001b[0m\n\u001b[1;32m----> 1\u001b[0m t1 \u001b[38;5;241m=\u001b[39m\u001b[43mnp\u001b[49m\u001b[38;5;241m.\u001b[39marray([\u001b[38;5;241m1\u001b[39m,\u001b[38;5;241m2\u001b[39m,\u001b[38;5;241m3\u001b[39m,\u001b[38;5;241m4\u001b[39m,\u001b[38;5;241m5\u001b[39m])\n\u001b[0;32m      3\u001b[0m t2 \u001b[38;5;241m=\u001b[39mnp\u001b[38;5;241m.\u001b[39marray([\u001b[38;5;241m6\u001b[39m,\u001b[38;5;241m7\u001b[39m,\u001b[38;5;241m8\u001b[39m,\u001b[38;5;241m9\u001b[39m,\u001b[38;5;241m10\u001b[39m])\n\u001b[0;32m      5\u001b[0m \u001b[38;5;66;03m# z = np.where((t1>2),t1,t2)  # Selects elements from t1 where the condition is True, otherwise from t2\u001b[39;00m\n\u001b[0;32m      6\u001b[0m \n\u001b[0;32m      7\u001b[0m \u001b[38;5;66;03m# z\u001b[39;00m\n",
      "\u001b[1;31mNameError\u001b[0m: name 'np' is not defined"
     ]
    }
   ],
   "source": [
    "t1 =np.array([1,2,3,4,5])\n",
    "\n",
    "t2 =np.array([6,7,8,9,10])\n",
    "\n",
    "# z = np.where((t1>2),t1,t2)  # Selects elements from t1 where the condition is True, otherwise from t2\n",
    "\n",
    "# z\n",
    "\n",
    "k1=(t1>2)\n",
    "# k1"
   ]
  },
  {
   "cell_type": "code",
   "execution_count": null,
   "id": "d5b0461d",
   "metadata": {},
   "outputs": [],
   "source": [
    "\n"
   ]
  },
  {
   "cell_type": "code",
   "execution_count": null,
   "id": "05e6fb5f",
   "metadata": {},
   "outputs": [],
   "source": []
  },
  {
   "cell_type": "code",
   "execution_count": null,
   "id": "c6171b99",
   "metadata": {},
   "outputs": [],
   "source": []
  },
  {
   "cell_type": "markdown",
   "id": "d1d5191a",
   "metadata": {},
   "source": [
    "### abs()"
   ]
  },
  {
   "cell_type": "code",
   "execution_count": null,
   "id": "fbea6eb2",
   "metadata": {},
   "outputs": [],
   "source": [
    "abs --> return absolute value(positive value)"
   ]
  },
  {
   "cell_type": "code",
   "execution_count": 89,
   "id": "3a9f64dd",
   "metadata": {},
   "outputs": [
    {
     "data": {
      "text/plain": [
       "10"
      ]
     },
     "execution_count": 89,
     "metadata": {},
     "output_type": "execute_result"
    }
   ],
   "source": [
    "np.abs(-10)              # Returns the absolute value of -10\n"
   ]
  },
  {
   "cell_type": "code",
   "execution_count": 90,
   "id": "0a6a2a33",
   "metadata": {},
   "outputs": [
    {
     "data": {
      "text/plain": [
       "array([ 10, -55,  66])"
      ]
     },
     "execution_count": 90,
     "metadata": {},
     "output_type": "execute_result"
    }
   ],
   "source": [
    "h = np.array([10,-55,66])\n",
    "\n",
    "h"
   ]
  },
  {
   "cell_type": "code",
   "execution_count": 92,
   "id": "7c226df5",
   "metadata": {},
   "outputs": [
    {
     "data": {
      "text/plain": [
       "array([10, 55, 66])"
      ]
     },
     "execution_count": 92,
     "metadata": {},
     "output_type": "execute_result"
    }
   ],
   "source": [
    "np.abs(h)"
   ]
  },
  {
   "cell_type": "code",
   "execution_count": null,
   "id": "729942c1",
   "metadata": {},
   "outputs": [],
   "source": []
  },
  {
   "cell_type": "code",
   "execution_count": null,
   "id": "95a3b3a5",
   "metadata": {},
   "outputs": [],
   "source": []
  },
  {
   "cell_type": "markdown",
   "id": "08181592",
   "metadata": {},
   "source": [
    "### concatenate()"
   ]
  },
  {
   "cell_type": "code",
   "execution_count": 174,
   "id": "eee4c2cc",
   "metadata": {},
   "outputs": [],
   "source": [
    "A=np.array([1,2,3])\n",
    "B=np.array([4,1,5])"
   ]
  },
  {
   "cell_type": "code",
   "execution_count": 175,
   "id": "003fbb60",
   "metadata": {},
   "outputs": [
    {
     "data": {
      "text/plain": [
       "array([1, 2, 3, 4, 1, 5])"
      ]
     },
     "execution_count": 175,
     "metadata": {},
     "output_type": "execute_result"
    }
   ],
   "source": [
    "w =np.concatenate((A,B))          # Concatenates arrays A and B\n",
    "\n",
    "w"
   ]
  },
  {
   "cell_type": "code",
   "execution_count": null,
   "id": "bd2a2b61",
   "metadata": {},
   "outputs": [],
   "source": []
  },
  {
   "cell_type": "markdown",
   "id": "8bb016df",
   "metadata": {},
   "source": [
    "### stack\n"
   ]
  },
  {
   "cell_type": "code",
   "execution_count": 176,
   "id": "fcb88a92",
   "metadata": {},
   "outputs": [
    {
     "data": {
      "text/plain": [
       "array([1, 2, 3])"
      ]
     },
     "execution_count": 176,
     "metadata": {},
     "output_type": "execute_result"
    }
   ],
   "source": [
    "A"
   ]
  },
  {
   "cell_type": "code",
   "execution_count": 177,
   "id": "81590849",
   "metadata": {},
   "outputs": [
    {
     "data": {
      "text/plain": [
       "array([4, 1, 5])"
      ]
     },
     "execution_count": 177,
     "metadata": {},
     "output_type": "execute_result"
    }
   ],
   "source": [
    "B"
   ]
  },
  {
   "cell_type": "code",
   "execution_count": null,
   "id": "af2b99dc",
   "metadata": {},
   "outputs": [],
   "source": []
  },
  {
   "cell_type": "code",
   "execution_count": 182,
   "id": "c6b1565d",
   "metadata": {},
   "outputs": [
    {
     "data": {
      "text/plain": [
       "array([[1, 4],\n",
       "       [2, 1],\n",
       "       [3, 5]])"
      ]
     },
     "execution_count": 182,
     "metadata": {},
     "output_type": "execute_result"
    }
   ],
   "source": [
    "q=np.stack((A,B),axis=1)\n",
    "                           # Stacks arrays A and B along the specified axis\n",
    "q"
   ]
  },
  {
   "cell_type": "code",
   "execution_count": 73,
   "id": "609b98b1",
   "metadata": {},
   "outputs": [
    {
     "data": {
      "text/plain": [
       "2"
      ]
     },
     "execution_count": 73,
     "metadata": {},
     "output_type": "execute_result"
    }
   ],
   "source": [
    "np.ndim(q)     # dimension check"
   ]
  },
  {
   "cell_type": "markdown",
   "id": "f521d410",
   "metadata": {},
   "source": [
    "### split"
   ]
  },
  {
   "cell_type": "code",
   "execution_count": 186,
   "id": "85e48cb4",
   "metadata": {},
   "outputs": [
    {
     "name": "stdout",
     "output_type": "stream",
     "text": [
      "[array([1, 2, 3, 4, 5]), array([ 6,  7,  8,  9, 10])]\n"
     ]
    }
   ],
   "source": [
    "\n",
    "arr = np.array([1, 2, 3, 4, 5, 6,7,8,9,10]) # Create an array of numbers from 1 to 10\n",
    "\n",
    "newarr = np.split(arr, 2)    # Split the array 'arr' into 5 roughly equal parts\n",
    "\n",
    "print(newarr)               # Each sub-array represents a split segment\n"
   ]
  },
  {
   "cell_type": "code",
   "execution_count": null,
   "id": "52831969",
   "metadata": {},
   "outputs": [],
   "source": []
  },
  {
   "cell_type": "code",
   "execution_count": 118,
   "id": "8902973f",
   "metadata": {},
   "outputs": [
    {
     "ename": "ValueError",
     "evalue": "array split does not result in an equal division",
     "output_type": "error",
     "traceback": [
      "\u001b[1;31m---------------------------------------------------------------------------\u001b[0m",
      "\u001b[1;31mValueError\u001b[0m                                Traceback (most recent call last)",
      "Cell \u001b[1;32mIn[118], line 6\u001b[0m\n\u001b[0;32m      1\u001b[0m \u001b[38;5;66;03m# example2\u001b[39;00m\n\u001b[0;32m      4\u001b[0m arr1 \u001b[38;5;241m=\u001b[39m np\u001b[38;5;241m.\u001b[39marray([\u001b[38;5;241m1\u001b[39m, \u001b[38;5;241m2\u001b[39m, \u001b[38;5;241m3\u001b[39m, \u001b[38;5;241m4\u001b[39m, \u001b[38;5;241m5\u001b[39m, \u001b[38;5;241m6\u001b[39m,\u001b[38;5;241m7\u001b[39m,\u001b[38;5;241m8\u001b[39m,\u001b[38;5;241m9\u001b[39m,\u001b[38;5;241m10\u001b[39m])\n\u001b[1;32m----> 6\u001b[0m newarr1 \u001b[38;5;241m=\u001b[39m \u001b[43mnp\u001b[49m\u001b[38;5;241;43m.\u001b[39;49m\u001b[43msplit\u001b[49m\u001b[43m(\u001b[49m\u001b[43marr1\u001b[49m\u001b[43m,\u001b[49m\u001b[43m \u001b[49m\u001b[38;5;241;43m6\u001b[39;49m\u001b[43m)\u001b[49m\n\u001b[0;32m      8\u001b[0m \u001b[38;5;28mprint\u001b[39m(newarr1)\n",
      "File \u001b[1;32m<__array_function__ internals>:180\u001b[0m, in \u001b[0;36msplit\u001b[1;34m(*args, **kwargs)\u001b[0m\n",
      "File \u001b[1;32m~\\anaconda3\\lib\\site-packages\\numpy\\lib\\shape_base.py:872\u001b[0m, in \u001b[0;36msplit\u001b[1;34m(ary, indices_or_sections, axis)\u001b[0m\n\u001b[0;32m    870\u001b[0m     N \u001b[38;5;241m=\u001b[39m ary\u001b[38;5;241m.\u001b[39mshape[axis]\n\u001b[0;32m    871\u001b[0m     \u001b[38;5;28;01mif\u001b[39;00m N \u001b[38;5;241m%\u001b[39m sections:\n\u001b[1;32m--> 872\u001b[0m         \u001b[38;5;28;01mraise\u001b[39;00m \u001b[38;5;167;01mValueError\u001b[39;00m(\n\u001b[0;32m    873\u001b[0m             \u001b[38;5;124m'\u001b[39m\u001b[38;5;124marray split does not result in an equal division\u001b[39m\u001b[38;5;124m'\u001b[39m) \u001b[38;5;28;01mfrom\u001b[39;00m \u001b[38;5;28mNone\u001b[39m\n\u001b[0;32m    874\u001b[0m \u001b[38;5;28;01mreturn\u001b[39;00m array_split(ary, indices_or_sections, axis)\n",
      "\u001b[1;31mValueError\u001b[0m: array split does not result in an equal division"
     ]
    }
   ],
   "source": [
    "\n",
    "# example2\n",
    "\n",
    "\n",
    "arr1 = np.array([1, 2, 3, 4, 5, 6,7,8,9,10])\n",
    "\n",
    "newarr1 = np.split(arr1, 6)  #'arr1' cannot be divided evenly into 6 segments\n",
    "\n",
    "print(newarr1)\n",
    "\n",
    "# Attempt to split 'arr1' into 6 roughly equal parts\n",
    "# However, this attempt will result in an error due to unequal division\n",
    "\n",
    "\n",
    "# Now let's use 'array_split' instead"
   ]
  },
  {
   "cell_type": "code",
   "execution_count": null,
   "id": "c5fdfa2b",
   "metadata": {},
   "outputs": [],
   "source": []
  },
  {
   "cell_type": "markdown",
   "id": "4e67e4f4",
   "metadata": {},
   "source": [
    "## array_split()"
   ]
  },
  {
   "cell_type": "code",
   "execution_count": null,
   "id": "efdc76c1",
   "metadata": {},
   "outputs": [],
   "source": []
  },
  {
   "cell_type": "code",
   "execution_count": 188,
   "id": "3db4ee1f",
   "metadata": {},
   "outputs": [
    {
     "name": "stdout",
     "output_type": "stream",
     "text": [
      "[array([1, 2, 3, 4]), array([5, 6, 7]), array([ 8,  9, 10])]\n"
     ]
    }
   ],
   "source": [
    "a1 = np.array([1, 2, 3, 4, 5, 6,7,8,9,10])\n",
    "\n",
    "new1 = np.array_split(a1, 3)  # Use 'array_split' to split 'a1' into 6 roughly equal parts\n",
    "\n",
    "print(new1)"
   ]
  },
  {
   "cell_type": "code",
   "execution_count": null,
   "id": "a769811d",
   "metadata": {},
   "outputs": [],
   "source": []
  },
  {
   "cell_type": "code",
   "execution_count": null,
   "id": "7dc34ced",
   "metadata": {},
   "outputs": [],
   "source": []
  },
  {
   "cell_type": "code",
   "execution_count": null,
   "id": "041bc9f6",
   "metadata": {},
   "outputs": [],
   "source": []
  },
  {
   "cell_type": "code",
   "execution_count": null,
   "id": "f40f115c",
   "metadata": {},
   "outputs": [],
   "source": []
  },
  {
   "cell_type": "code",
   "execution_count": null,
   "id": "06de778c",
   "metadata": {},
   "outputs": [],
   "source": []
  },
  {
   "cell_type": "code",
   "execution_count": null,
   "id": "6e959013",
   "metadata": {},
   "outputs": [],
   "source": []
  },
  {
   "cell_type": "code",
   "execution_count": null,
   "id": "048c7c44",
   "metadata": {},
   "outputs": [],
   "source": []
  },
  {
   "cell_type": "markdown",
   "id": "be4cc987",
   "metadata": {},
   "source": [
    "# Pandas"
   ]
  },
  {
   "cell_type": "raw",
   "id": "750fc521",
   "metadata": {},
   "source": [
    "rename()\n",
    "replace()\n",
    "indexing\n",
    "duplicated()\n",
    "drop_duplicates()\n",
    "null value check\n",
    "Missing Data Handling:\n",
    "concat()\n",
    "Merge\n",
    "groupby()\n",
    "crosstab\n",
    "pivot\n",
    "pivot table"
   ]
  },
  {
   "cell_type": "code",
   "execution_count": null,
   "id": "d65d3234",
   "metadata": {},
   "outputs": [],
   "source": []
  },
  {
   "cell_type": "markdown",
   "id": "5e73b6dc",
   "metadata": {},
   "source": [
    "#### import library"
   ]
  },
  {
   "cell_type": "code",
   "execution_count": null,
   "id": "a594abdf",
   "metadata": {},
   "outputs": [],
   "source": []
  },
  {
   "cell_type": "code",
   "execution_count": null,
   "id": "8d2b032b",
   "metadata": {},
   "outputs": [],
   "source": []
  },
  {
   "cell_type": "code",
   "execution_count": null,
   "id": "7a50170d",
   "metadata": {},
   "outputs": [],
   "source": []
  },
  {
   "cell_type": "markdown",
   "id": "269e517a",
   "metadata": {},
   "source": [
    "## rename"
   ]
  },
  {
   "cell_type": "raw",
   "id": "4c1e0f20",
   "metadata": {},
   "source": [
    "#syntax\n",
    "\n",
    "variable_name.rename({old_index:new_index,old_index:new_index},\n",
    "inplace=True)"
   ]
  },
  {
   "cell_type": "code",
   "execution_count": null,
   "id": "9c15a3f9",
   "metadata": {},
   "outputs": [],
   "source": []
  },
  {
   "cell_type": "code",
   "execution_count": null,
   "id": "81d3ca2c",
   "metadata": {},
   "outputs": [],
   "source": []
  },
  {
   "cell_type": "markdown",
   "id": "2107db30",
   "metadata": {},
   "source": [
    "#### rename index"
   ]
  },
  {
   "cell_type": "code",
   "execution_count": null,
   "id": "bc92d8db",
   "metadata": {},
   "outputs": [],
   "source": []
  },
  {
   "cell_type": "code",
   "execution_count": null,
   "id": "fea845b8",
   "metadata": {},
   "outputs": [],
   "source": []
  },
  {
   "cell_type": "markdown",
   "id": "f799755e",
   "metadata": {},
   "source": [
    "#### column rename"
   ]
  },
  {
   "cell_type": "raw",
   "id": "8f6b60b5",
   "metadata": {},
   "source": [
    "df.rename({old_column:\"new_column\"})"
   ]
  },
  {
   "cell_type": "code",
   "execution_count": null,
   "id": "3e199def",
   "metadata": {},
   "outputs": [],
   "source": []
  },
  {
   "cell_type": "code",
   "execution_count": null,
   "id": "9772b44f",
   "metadata": {},
   "outputs": [],
   "source": []
  },
  {
   "cell_type": "code",
   "execution_count": null,
   "id": "7ef257e2",
   "metadata": {},
   "outputs": [],
   "source": []
  },
  {
   "cell_type": "code",
   "execution_count": null,
   "id": "1b98b157",
   "metadata": {},
   "outputs": [],
   "source": []
  },
  {
   "cell_type": "markdown",
   "id": "335894cc",
   "metadata": {},
   "source": [
    "### replace"
   ]
  },
  {
   "cell_type": "raw",
   "id": "b9f4cc39",
   "metadata": {},
   "source": [
    "# replace only one value\n",
    "\n",
    "variable_name.replace(old_value,new_value,inplace=True)"
   ]
  },
  {
   "cell_type": "code",
   "execution_count": null,
   "id": "99f7d8d3",
   "metadata": {},
   "outputs": [],
   "source": []
  },
  {
   "cell_type": "code",
   "execution_count": null,
   "id": "cc9e185d",
   "metadata": {},
   "outputs": [],
   "source": []
  },
  {
   "cell_type": "code",
   "execution_count": null,
   "id": "be1e41b9",
   "metadata": {},
   "outputs": [],
   "source": []
  },
  {
   "cell_type": "code",
   "execution_count": null,
   "id": "700c5c1a",
   "metadata": {},
   "outputs": [],
   "source": []
  },
  {
   "cell_type": "raw",
   "id": "7d618909",
   "metadata": {},
   "source": [
    "# replace multiple values\n",
    "\n",
    "variable_name.replace([old_value1,old_value2,old_value3][new_value1,new_value2,new_value3],inplace=True)"
   ]
  },
  {
   "cell_type": "code",
   "execution_count": null,
   "id": "5abdf817",
   "metadata": {},
   "outputs": [],
   "source": []
  },
  {
   "cell_type": "code",
   "execution_count": null,
   "id": "5d686427",
   "metadata": {},
   "outputs": [],
   "source": []
  },
  {
   "cell_type": "code",
   "execution_count": null,
   "id": "67225faf",
   "metadata": {},
   "outputs": [],
   "source": []
  },
  {
   "cell_type": "markdown",
   "id": "c31db77e",
   "metadata": {},
   "source": [
    "### indexing"
   ]
  },
  {
   "cell_type": "raw",
   "id": "32d0ce29",
   "metadata": {},
   "source": [
    "iloc ---> integer based indexing   #integer based(index number)\n",
    "loc  ---> Label based indexing   #categorical "
   ]
  },
  {
   "cell_type": "code",
   "execution_count": null,
   "id": "6a0f6b3f",
   "metadata": {},
   "outputs": [],
   "source": []
  },
  {
   "cell_type": "markdown",
   "id": "43ab1623",
   "metadata": {},
   "source": [
    "### iloc"
   ]
  },
  {
   "cell_type": "raw",
   "id": "9f133876",
   "metadata": {},
   "source": [
    "The iloc() function is an indexed-based selecting method which means that we have to pass an integer index in the method to select a specific row/column."
   ]
  },
  {
   "cell_type": "code",
   "execution_count": null,
   "id": "2be6d6f5",
   "metadata": {},
   "outputs": [],
   "source": []
  },
  {
   "cell_type": "markdown",
   "id": "44193285",
   "metadata": {},
   "source": [
    "#### Selecting rows using integer indices"
   ]
  },
  {
   "cell_type": "code",
   "execution_count": 2,
   "id": "f66d5734",
   "metadata": {},
   "outputs": [],
   "source": [
    "# df.iloc[[13,2,6,8,11,10]]"
   ]
  },
  {
   "cell_type": "code",
   "execution_count": null,
   "id": "da65379a",
   "metadata": {},
   "outputs": [],
   "source": []
  },
  {
   "cell_type": "code",
   "execution_count": null,
   "id": "062df5b3",
   "metadata": {},
   "outputs": [],
   "source": []
  },
  {
   "cell_type": "code",
   "execution_count": null,
   "id": "1b6228b9",
   "metadata": {},
   "outputs": [],
   "source": []
  },
  {
   "cell_type": "markdown",
   "id": "1528a378",
   "metadata": {},
   "source": [
    "#### Selecting a range of columns and rows simultaneously"
   ]
  },
  {
   "cell_type": "code",
   "execution_count": null,
   "id": "cf8b89d7",
   "metadata": {},
   "outputs": [],
   "source": [
    "df.iloc[0: 5, 2: 4]     #iloc[index,columns]   [index=start:end-1,columns=start:end-1]\n",
    "\n",
    "#df.iloc[:,[0,3,4]]"
   ]
  },
  {
   "cell_type": "code",
   "execution_count": null,
   "id": "a8c8e741",
   "metadata": {},
   "outputs": [],
   "source": [
    "# df.iloc[:,[0,3,4]]"
   ]
  },
  {
   "cell_type": "code",
   "execution_count": null,
   "id": "28e3959b",
   "metadata": {},
   "outputs": [],
   "source": []
  },
  {
   "cell_type": "code",
   "execution_count": null,
   "id": "7bda0ec1",
   "metadata": {},
   "outputs": [],
   "source": []
  },
  {
   "cell_type": "code",
   "execution_count": null,
   "id": "a55773d4",
   "metadata": {},
   "outputs": [],
   "source": []
  },
  {
   "cell_type": "markdown",
   "id": "cdff953c",
   "metadata": {},
   "source": [
    "### loc"
   ]
  },
  {
   "cell_type": "raw",
   "id": "d89a9eac",
   "metadata": {},
   "source": [
    "The loc() function is label based data selecting method which means that we have to pass the name of the row or column which we want to select. "
   ]
  },
  {
   "cell_type": "code",
   "execution_count": 3,
   "id": "12213733",
   "metadata": {},
   "outputs": [],
   "source": [
    "# df1.loc[[5,10,7],['Id','salary','gender']]\n",
    "\n",
    "# df1.loc[(df1.salary>=60000)]\n",
    "\n",
    "# df1.loc[(df1.salary>=60000) & (df1.gender=='F') & (df1.city=='nagpur') ]"
   ]
  },
  {
   "cell_type": "code",
   "execution_count": null,
   "id": "146ea37d",
   "metadata": {},
   "outputs": [],
   "source": []
  },
  {
   "cell_type": "code",
   "execution_count": null,
   "id": "e7c62dd3",
   "metadata": {},
   "outputs": [],
   "source": []
  },
  {
   "cell_type": "markdown",
   "id": "135eea62",
   "metadata": {},
   "source": [
    "### duplicated()"
   ]
  },
  {
   "cell_type": "code",
   "execution_count": null,
   "id": "8631e310",
   "metadata": {},
   "outputs": [],
   "source": []
  },
  {
   "cell_type": "code",
   "execution_count": null,
   "id": "db9d245f",
   "metadata": {},
   "outputs": [],
   "source": []
  },
  {
   "cell_type": "code",
   "execution_count": null,
   "id": "89f8a385",
   "metadata": {},
   "outputs": [],
   "source": []
  },
  {
   "cell_type": "markdown",
   "id": "5bfcbdef",
   "metadata": {},
   "source": [
    "### drop_duplicates()"
   ]
  },
  {
   "cell_type": "code",
   "execution_count": null,
   "id": "29e75eeb",
   "metadata": {},
   "outputs": [],
   "source": []
  },
  {
   "cell_type": "code",
   "execution_count": null,
   "id": "841c65fd",
   "metadata": {},
   "outputs": [],
   "source": []
  },
  {
   "cell_type": "code",
   "execution_count": null,
   "id": "d4e2c54e",
   "metadata": {},
   "outputs": [],
   "source": []
  },
  {
   "cell_type": "code",
   "execution_count": null,
   "id": "126856e8",
   "metadata": {},
   "outputs": [],
   "source": []
  },
  {
   "cell_type": "code",
   "execution_count": 34,
   "id": "62cbe0e6",
   "metadata": {},
   "outputs": [
    {
     "name": "stdout",
     "output_type": "stream",
     "text": [
      "      Name  Age  Salary\n",
      "3    David   35   70000\n",
      "1      Bob   30   60000\n",
      "0    Alice   25   50000\n",
      "2  Charlie   22   45000\n"
     ]
    }
   ],
   "source": [
    "import pandas as pd\n",
    "\n",
    "# Create a sample DataFrame\n",
    "data = {'Name': ['Alice', 'Bob', 'Charlie', 'David'],\n",
    "        'Age': [25, 30, 22, 35],\n",
    "        'Salary': [50000, 60000, 45000, 70000]}\n",
    "\n",
    "df = pd.DataFrame(data)\n",
    "\n",
    "# Sort the DataFrame by a specific column (e.g., 'Age') in ascending order\n",
    "sorted_df = df.sort_values(by='Age', ascending=False)\n",
    "\n",
    "# To sort in descending order, you can specify the 'ascending' parameter as False\n",
    "# sorted_df = df.sort_values(by='Age', ascending=False)\n",
    "\n",
    "# Display the sorted DataFrame\n",
    "print(sorted_df)\n"
   ]
  },
  {
   "cell_type": "code",
   "execution_count": null,
   "id": "0d451f9f",
   "metadata": {},
   "outputs": [],
   "source": []
  },
  {
   "cell_type": "code",
   "execution_count": 35,
   "id": "2fadb2ca",
   "metadata": {},
   "outputs": [],
   "source": [
    "import pandas as pd"
   ]
  },
  {
   "cell_type": "code",
   "execution_count": 36,
   "id": "f480b76d",
   "metadata": {},
   "outputs": [
    {
     "data": {
      "text/html": [
       "<div>\n",
       "<style scoped>\n",
       "    .dataframe tbody tr th:only-of-type {\n",
       "        vertical-align: middle;\n",
       "    }\n",
       "\n",
       "    .dataframe tbody tr th {\n",
       "        vertical-align: top;\n",
       "    }\n",
       "\n",
       "    .dataframe thead th {\n",
       "        text-align: right;\n",
       "    }\n",
       "</style>\n",
       "<table border=\"1\" class=\"dataframe\">\n",
       "  <thead>\n",
       "    <tr style=\"text-align: right;\">\n",
       "      <th></th>\n",
       "      <th>Country</th>\n",
       "      <th>Density\\n(P/Km2)</th>\n",
       "      <th>Abbreviation</th>\n",
       "      <th>Agricultural Land( %)</th>\n",
       "      <th>Land Area(Km2)</th>\n",
       "      <th>Armed Forces size</th>\n",
       "      <th>Birth Rate</th>\n",
       "      <th>Calling Code</th>\n",
       "      <th>Capital/Major City</th>\n",
       "      <th>Co2-Emissions</th>\n",
       "      <th>...</th>\n",
       "      <th>Out of pocket health expenditure</th>\n",
       "      <th>Physicians per thousand</th>\n",
       "      <th>Population</th>\n",
       "      <th>Population: Labor force participation (%)</th>\n",
       "      <th>Tax revenue (%)</th>\n",
       "      <th>Total tax rate</th>\n",
       "      <th>Unemployment rate</th>\n",
       "      <th>Urban_population</th>\n",
       "      <th>Latitude</th>\n",
       "      <th>Longitude</th>\n",
       "    </tr>\n",
       "  </thead>\n",
       "  <tbody>\n",
       "    <tr>\n",
       "      <th>0</th>\n",
       "      <td>Afghanistan</td>\n",
       "      <td>60</td>\n",
       "      <td>AF</td>\n",
       "      <td>58.10%</td>\n",
       "      <td>652,230</td>\n",
       "      <td>323,000</td>\n",
       "      <td>32.49</td>\n",
       "      <td>93.0</td>\n",
       "      <td>Kabul</td>\n",
       "      <td>8,672</td>\n",
       "      <td>...</td>\n",
       "      <td>78.40%</td>\n",
       "      <td>0.28</td>\n",
       "      <td>38,041,754</td>\n",
       "      <td>48.90%</td>\n",
       "      <td>9.30%</td>\n",
       "      <td>71.40%</td>\n",
       "      <td>11.12%</td>\n",
       "      <td>9,797,273</td>\n",
       "      <td>33.939110</td>\n",
       "      <td>67.709953</td>\n",
       "    </tr>\n",
       "    <tr>\n",
       "      <th>1</th>\n",
       "      <td>Albania</td>\n",
       "      <td>105</td>\n",
       "      <td>AL</td>\n",
       "      <td>43.10%</td>\n",
       "      <td>28,748</td>\n",
       "      <td>9,000</td>\n",
       "      <td>11.78</td>\n",
       "      <td>355.0</td>\n",
       "      <td>Tirana</td>\n",
       "      <td>4,536</td>\n",
       "      <td>...</td>\n",
       "      <td>56.90%</td>\n",
       "      <td>1.20</td>\n",
       "      <td>2,854,191</td>\n",
       "      <td>55.70%</td>\n",
       "      <td>18.60%</td>\n",
       "      <td>36.60%</td>\n",
       "      <td>12.33%</td>\n",
       "      <td>1,747,593</td>\n",
       "      <td>41.153332</td>\n",
       "      <td>20.168331</td>\n",
       "    </tr>\n",
       "    <tr>\n",
       "      <th>2</th>\n",
       "      <td>Algeria</td>\n",
       "      <td>18</td>\n",
       "      <td>DZ</td>\n",
       "      <td>17.40%</td>\n",
       "      <td>2,381,741</td>\n",
       "      <td>317,000</td>\n",
       "      <td>24.28</td>\n",
       "      <td>213.0</td>\n",
       "      <td>Algiers</td>\n",
       "      <td>150,006</td>\n",
       "      <td>...</td>\n",
       "      <td>28.10%</td>\n",
       "      <td>1.72</td>\n",
       "      <td>43,053,054</td>\n",
       "      <td>41.20%</td>\n",
       "      <td>37.20%</td>\n",
       "      <td>66.10%</td>\n",
       "      <td>11.70%</td>\n",
       "      <td>31,510,100</td>\n",
       "      <td>28.033886</td>\n",
       "      <td>1.659626</td>\n",
       "    </tr>\n",
       "    <tr>\n",
       "      <th>3</th>\n",
       "      <td>Andorra</td>\n",
       "      <td>164</td>\n",
       "      <td>AD</td>\n",
       "      <td>40.00%</td>\n",
       "      <td>468</td>\n",
       "      <td>NaN</td>\n",
       "      <td>7.20</td>\n",
       "      <td>376.0</td>\n",
       "      <td>Andorra la Vella</td>\n",
       "      <td>469</td>\n",
       "      <td>...</td>\n",
       "      <td>36.40%</td>\n",
       "      <td>3.33</td>\n",
       "      <td>77,142</td>\n",
       "      <td>NaN</td>\n",
       "      <td>NaN</td>\n",
       "      <td>NaN</td>\n",
       "      <td>NaN</td>\n",
       "      <td>67,873</td>\n",
       "      <td>42.506285</td>\n",
       "      <td>1.521801</td>\n",
       "    </tr>\n",
       "    <tr>\n",
       "      <th>4</th>\n",
       "      <td>Angola</td>\n",
       "      <td>26</td>\n",
       "      <td>AO</td>\n",
       "      <td>47.50%</td>\n",
       "      <td>1,246,700</td>\n",
       "      <td>117,000</td>\n",
       "      <td>40.73</td>\n",
       "      <td>244.0</td>\n",
       "      <td>Luanda</td>\n",
       "      <td>34,693</td>\n",
       "      <td>...</td>\n",
       "      <td>33.40%</td>\n",
       "      <td>0.21</td>\n",
       "      <td>31,825,295</td>\n",
       "      <td>77.50%</td>\n",
       "      <td>9.20%</td>\n",
       "      <td>49.10%</td>\n",
       "      <td>6.89%</td>\n",
       "      <td>21,061,025</td>\n",
       "      <td>-11.202692</td>\n",
       "      <td>17.873887</td>\n",
       "    </tr>\n",
       "    <tr>\n",
       "      <th>...</th>\n",
       "      <td>...</td>\n",
       "      <td>...</td>\n",
       "      <td>...</td>\n",
       "      <td>...</td>\n",
       "      <td>...</td>\n",
       "      <td>...</td>\n",
       "      <td>...</td>\n",
       "      <td>...</td>\n",
       "      <td>...</td>\n",
       "      <td>...</td>\n",
       "      <td>...</td>\n",
       "      <td>...</td>\n",
       "      <td>...</td>\n",
       "      <td>...</td>\n",
       "      <td>...</td>\n",
       "      <td>...</td>\n",
       "      <td>...</td>\n",
       "      <td>...</td>\n",
       "      <td>...</td>\n",
       "      <td>...</td>\n",
       "      <td>...</td>\n",
       "    </tr>\n",
       "    <tr>\n",
       "      <th>190</th>\n",
       "      <td>Venezuela</td>\n",
       "      <td>32</td>\n",
       "      <td>VE</td>\n",
       "      <td>24.50%</td>\n",
       "      <td>912,050</td>\n",
       "      <td>343,000</td>\n",
       "      <td>17.88</td>\n",
       "      <td>58.0</td>\n",
       "      <td>Caracas</td>\n",
       "      <td>164,175</td>\n",
       "      <td>...</td>\n",
       "      <td>45.80%</td>\n",
       "      <td>1.92</td>\n",
       "      <td>28,515,829</td>\n",
       "      <td>59.70%</td>\n",
       "      <td>NaN</td>\n",
       "      <td>73.30%</td>\n",
       "      <td>8.80%</td>\n",
       "      <td>25,162,368</td>\n",
       "      <td>6.423750</td>\n",
       "      <td>-66.589730</td>\n",
       "    </tr>\n",
       "    <tr>\n",
       "      <th>191</th>\n",
       "      <td>Vietnam</td>\n",
       "      <td>314</td>\n",
       "      <td>VN</td>\n",
       "      <td>39.30%</td>\n",
       "      <td>331,210</td>\n",
       "      <td>522,000</td>\n",
       "      <td>16.75</td>\n",
       "      <td>84.0</td>\n",
       "      <td>Hanoi</td>\n",
       "      <td>192,668</td>\n",
       "      <td>...</td>\n",
       "      <td>43.50%</td>\n",
       "      <td>0.82</td>\n",
       "      <td>96,462,106</td>\n",
       "      <td>77.40%</td>\n",
       "      <td>19.10%</td>\n",
       "      <td>37.60%</td>\n",
       "      <td>2.01%</td>\n",
       "      <td>35,332,140</td>\n",
       "      <td>14.058324</td>\n",
       "      <td>108.277199</td>\n",
       "    </tr>\n",
       "    <tr>\n",
       "      <th>192</th>\n",
       "      <td>Yemen</td>\n",
       "      <td>56</td>\n",
       "      <td>YE</td>\n",
       "      <td>44.60%</td>\n",
       "      <td>527,968</td>\n",
       "      <td>40,000</td>\n",
       "      <td>30.45</td>\n",
       "      <td>967.0</td>\n",
       "      <td>Sanaa</td>\n",
       "      <td>10,609</td>\n",
       "      <td>...</td>\n",
       "      <td>81.00%</td>\n",
       "      <td>0.31</td>\n",
       "      <td>29,161,922</td>\n",
       "      <td>38.00%</td>\n",
       "      <td>NaN</td>\n",
       "      <td>26.60%</td>\n",
       "      <td>12.91%</td>\n",
       "      <td>10,869,523</td>\n",
       "      <td>15.552727</td>\n",
       "      <td>48.516388</td>\n",
       "    </tr>\n",
       "    <tr>\n",
       "      <th>193</th>\n",
       "      <td>Zambia</td>\n",
       "      <td>25</td>\n",
       "      <td>ZM</td>\n",
       "      <td>32.10%</td>\n",
       "      <td>752,618</td>\n",
       "      <td>16,000</td>\n",
       "      <td>36.19</td>\n",
       "      <td>260.0</td>\n",
       "      <td>Lusaka</td>\n",
       "      <td>5,141</td>\n",
       "      <td>...</td>\n",
       "      <td>27.50%</td>\n",
       "      <td>1.19</td>\n",
       "      <td>17,861,030</td>\n",
       "      <td>74.60%</td>\n",
       "      <td>16.20%</td>\n",
       "      <td>15.60%</td>\n",
       "      <td>11.43%</td>\n",
       "      <td>7,871,713</td>\n",
       "      <td>-13.133897</td>\n",
       "      <td>27.849332</td>\n",
       "    </tr>\n",
       "    <tr>\n",
       "      <th>194</th>\n",
       "      <td>Zimbabwe</td>\n",
       "      <td>38</td>\n",
       "      <td>ZW</td>\n",
       "      <td>41.90%</td>\n",
       "      <td>390,757</td>\n",
       "      <td>51,000</td>\n",
       "      <td>30.68</td>\n",
       "      <td>263.0</td>\n",
       "      <td>Harare</td>\n",
       "      <td>10,983</td>\n",
       "      <td>...</td>\n",
       "      <td>25.80%</td>\n",
       "      <td>0.21</td>\n",
       "      <td>14,645,468</td>\n",
       "      <td>83.10%</td>\n",
       "      <td>20.70%</td>\n",
       "      <td>31.60%</td>\n",
       "      <td>4.95%</td>\n",
       "      <td>4,717,305</td>\n",
       "      <td>-19.015438</td>\n",
       "      <td>29.154857</td>\n",
       "    </tr>\n",
       "  </tbody>\n",
       "</table>\n",
       "<p>195 rows × 35 columns</p>\n",
       "</div>"
      ],
      "text/plain": [
       "         Country Density\\n(P/Km2) Abbreviation Agricultural Land( %)  \\\n",
       "0    Afghanistan               60           AF                58.10%   \n",
       "1        Albania              105           AL                43.10%   \n",
       "2        Algeria               18           DZ                17.40%   \n",
       "3        Andorra              164           AD                40.00%   \n",
       "4         Angola               26           AO                47.50%   \n",
       "..           ...              ...          ...                   ...   \n",
       "190    Venezuela               32           VE                24.50%   \n",
       "191      Vietnam              314           VN                39.30%   \n",
       "192        Yemen               56           YE                44.60%   \n",
       "193       Zambia               25           ZM                32.10%   \n",
       "194     Zimbabwe               38           ZW                41.90%   \n",
       "\n",
       "    Land Area(Km2) Armed Forces size  Birth Rate  Calling Code  \\\n",
       "0          652,230           323,000       32.49          93.0   \n",
       "1           28,748             9,000       11.78         355.0   \n",
       "2        2,381,741           317,000       24.28         213.0   \n",
       "3              468               NaN        7.20         376.0   \n",
       "4        1,246,700           117,000       40.73         244.0   \n",
       "..             ...               ...         ...           ...   \n",
       "190        912,050           343,000       17.88          58.0   \n",
       "191        331,210           522,000       16.75          84.0   \n",
       "192        527,968            40,000       30.45         967.0   \n",
       "193        752,618            16,000       36.19         260.0   \n",
       "194        390,757            51,000       30.68         263.0   \n",
       "\n",
       "    Capital/Major City Co2-Emissions  ... Out of pocket health expenditure  \\\n",
       "0                Kabul         8,672  ...                           78.40%   \n",
       "1               Tirana         4,536  ...                           56.90%   \n",
       "2              Algiers       150,006  ...                           28.10%   \n",
       "3     Andorra la Vella           469  ...                           36.40%   \n",
       "4               Luanda        34,693  ...                           33.40%   \n",
       "..                 ...           ...  ...                              ...   \n",
       "190            Caracas       164,175  ...                           45.80%   \n",
       "191              Hanoi       192,668  ...                           43.50%   \n",
       "192              Sanaa        10,609  ...                           81.00%   \n",
       "193             Lusaka         5,141  ...                           27.50%   \n",
       "194             Harare        10,983  ...                           25.80%   \n",
       "\n",
       "    Physicians per thousand  Population  \\\n",
       "0                      0.28  38,041,754   \n",
       "1                      1.20   2,854,191   \n",
       "2                      1.72  43,053,054   \n",
       "3                      3.33      77,142   \n",
       "4                      0.21  31,825,295   \n",
       "..                      ...         ...   \n",
       "190                    1.92  28,515,829   \n",
       "191                    0.82  96,462,106   \n",
       "192                    0.31  29,161,922   \n",
       "193                    1.19  17,861,030   \n",
       "194                    0.21  14,645,468   \n",
       "\n",
       "     Population: Labor force participation (%) Tax revenue (%) Total tax rate  \\\n",
       "0                                       48.90%           9.30%         71.40%   \n",
       "1                                       55.70%          18.60%         36.60%   \n",
       "2                                       41.20%          37.20%         66.10%   \n",
       "3                                          NaN             NaN            NaN   \n",
       "4                                       77.50%           9.20%         49.10%   \n",
       "..                                         ...             ...            ...   \n",
       "190                                     59.70%             NaN         73.30%   \n",
       "191                                     77.40%          19.10%         37.60%   \n",
       "192                                     38.00%             NaN         26.60%   \n",
       "193                                     74.60%          16.20%         15.60%   \n",
       "194                                     83.10%          20.70%         31.60%   \n",
       "\n",
       "    Unemployment rate Urban_population   Latitude   Longitude  \n",
       "0              11.12%        9,797,273  33.939110   67.709953  \n",
       "1              12.33%        1,747,593  41.153332   20.168331  \n",
       "2              11.70%       31,510,100  28.033886    1.659626  \n",
       "3                 NaN           67,873  42.506285    1.521801  \n",
       "4               6.89%       21,061,025 -11.202692   17.873887  \n",
       "..                ...              ...        ...         ...  \n",
       "190             8.80%       25,162,368   6.423750  -66.589730  \n",
       "191             2.01%       35,332,140  14.058324  108.277199  \n",
       "192            12.91%       10,869,523  15.552727   48.516388  \n",
       "193            11.43%        7,871,713 -13.133897   27.849332  \n",
       "194             4.95%        4,717,305 -19.015438   29.154857  \n",
       "\n",
       "[195 rows x 35 columns]"
      ]
     },
     "execution_count": 36,
     "metadata": {},
     "output_type": "execute_result"
    }
   ],
   "source": [
    "df1=pd.read_csv(r'C:\\Users\\Acer\\Downloads\\world_data_2023.csv')\n",
    "\n",
    "df1"
   ]
  },
  {
   "cell_type": "code",
   "execution_count": null,
   "id": "ee303544",
   "metadata": {},
   "outputs": [],
   "source": []
  },
  {
   "cell_type": "code",
   "execution_count": 37,
   "id": "aa14e754",
   "metadata": {},
   "outputs": [
    {
     "data": {
      "text/html": [
       "<div>\n",
       "<style scoped>\n",
       "    .dataframe tbody tr th:only-of-type {\n",
       "        vertical-align: middle;\n",
       "    }\n",
       "\n",
       "    .dataframe tbody tr th {\n",
       "        vertical-align: top;\n",
       "    }\n",
       "\n",
       "    .dataframe thead th {\n",
       "        text-align: right;\n",
       "    }\n",
       "</style>\n",
       "<table border=\"1\" class=\"dataframe\">\n",
       "  <thead>\n",
       "    <tr style=\"text-align: right;\">\n",
       "      <th></th>\n",
       "      <th>Country</th>\n",
       "      <th>Density\\n(P/Km2)</th>\n",
       "      <th>Abbreviation</th>\n",
       "      <th>Agricultural Land( %)</th>\n",
       "      <th>Land Area(Km2)</th>\n",
       "      <th>Armed Forces size</th>\n",
       "      <th>Birth Rate</th>\n",
       "      <th>Calling Code</th>\n",
       "      <th>Capital/Major City</th>\n",
       "      <th>Co2-Emissions</th>\n",
       "      <th>...</th>\n",
       "      <th>Out of pocket health expenditure</th>\n",
       "      <th>Physicians per thousand</th>\n",
       "      <th>Population</th>\n",
       "      <th>Population: Labor force participation (%)</th>\n",
       "      <th>Tax revenue (%)</th>\n",
       "      <th>Total tax rate</th>\n",
       "      <th>Unemployment rate</th>\n",
       "      <th>Urban_population</th>\n",
       "      <th>Latitude</th>\n",
       "      <th>Longitude</th>\n",
       "    </tr>\n",
       "  </thead>\n",
       "  <tbody>\n",
       "    <tr>\n",
       "      <th>0</th>\n",
       "      <td>Afghanistan</td>\n",
       "      <td>60</td>\n",
       "      <td>AF</td>\n",
       "      <td>58.10%</td>\n",
       "      <td>652,230</td>\n",
       "      <td>323,000</td>\n",
       "      <td>32.49</td>\n",
       "      <td>93.0</td>\n",
       "      <td>Kabul</td>\n",
       "      <td>8,672</td>\n",
       "      <td>...</td>\n",
       "      <td>78.40%</td>\n",
       "      <td>0.28</td>\n",
       "      <td>38,041,754</td>\n",
       "      <td>48.90%</td>\n",
       "      <td>9.30%</td>\n",
       "      <td>71.40%</td>\n",
       "      <td>11.12%</td>\n",
       "      <td>9,797,273</td>\n",
       "      <td>33.939110</td>\n",
       "      <td>67.709953</td>\n",
       "    </tr>\n",
       "    <tr>\n",
       "      <th>1</th>\n",
       "      <td>Albania</td>\n",
       "      <td>105</td>\n",
       "      <td>AL</td>\n",
       "      <td>43.10%</td>\n",
       "      <td>28,748</td>\n",
       "      <td>9,000</td>\n",
       "      <td>11.78</td>\n",
       "      <td>355.0</td>\n",
       "      <td>Tirana</td>\n",
       "      <td>4,536</td>\n",
       "      <td>...</td>\n",
       "      <td>56.90%</td>\n",
       "      <td>1.20</td>\n",
       "      <td>2,854,191</td>\n",
       "      <td>55.70%</td>\n",
       "      <td>18.60%</td>\n",
       "      <td>36.60%</td>\n",
       "      <td>12.33%</td>\n",
       "      <td>1,747,593</td>\n",
       "      <td>41.153332</td>\n",
       "      <td>20.168331</td>\n",
       "    </tr>\n",
       "    <tr>\n",
       "      <th>2</th>\n",
       "      <td>Algeria</td>\n",
       "      <td>18</td>\n",
       "      <td>DZ</td>\n",
       "      <td>17.40%</td>\n",
       "      <td>2,381,741</td>\n",
       "      <td>317,000</td>\n",
       "      <td>24.28</td>\n",
       "      <td>213.0</td>\n",
       "      <td>Algiers</td>\n",
       "      <td>150,006</td>\n",
       "      <td>...</td>\n",
       "      <td>28.10%</td>\n",
       "      <td>1.72</td>\n",
       "      <td>43,053,054</td>\n",
       "      <td>41.20%</td>\n",
       "      <td>37.20%</td>\n",
       "      <td>66.10%</td>\n",
       "      <td>11.70%</td>\n",
       "      <td>31,510,100</td>\n",
       "      <td>28.033886</td>\n",
       "      <td>1.659626</td>\n",
       "    </tr>\n",
       "    <tr>\n",
       "      <th>3</th>\n",
       "      <td>Andorra</td>\n",
       "      <td>164</td>\n",
       "      <td>AD</td>\n",
       "      <td>40.00%</td>\n",
       "      <td>468</td>\n",
       "      <td>NaN</td>\n",
       "      <td>7.20</td>\n",
       "      <td>376.0</td>\n",
       "      <td>Andorra la Vella</td>\n",
       "      <td>469</td>\n",
       "      <td>...</td>\n",
       "      <td>36.40%</td>\n",
       "      <td>3.33</td>\n",
       "      <td>77,142</td>\n",
       "      <td>NaN</td>\n",
       "      <td>NaN</td>\n",
       "      <td>NaN</td>\n",
       "      <td>NaN</td>\n",
       "      <td>67,873</td>\n",
       "      <td>42.506285</td>\n",
       "      <td>1.521801</td>\n",
       "    </tr>\n",
       "    <tr>\n",
       "      <th>4</th>\n",
       "      <td>Angola</td>\n",
       "      <td>26</td>\n",
       "      <td>AO</td>\n",
       "      <td>47.50%</td>\n",
       "      <td>1,246,700</td>\n",
       "      <td>117,000</td>\n",
       "      <td>40.73</td>\n",
       "      <td>244.0</td>\n",
       "      <td>Luanda</td>\n",
       "      <td>34,693</td>\n",
       "      <td>...</td>\n",
       "      <td>33.40%</td>\n",
       "      <td>0.21</td>\n",
       "      <td>31,825,295</td>\n",
       "      <td>77.50%</td>\n",
       "      <td>9.20%</td>\n",
       "      <td>49.10%</td>\n",
       "      <td>6.89%</td>\n",
       "      <td>21,061,025</td>\n",
       "      <td>-11.202692</td>\n",
       "      <td>17.873887</td>\n",
       "    </tr>\n",
       "  </tbody>\n",
       "</table>\n",
       "<p>5 rows × 35 columns</p>\n",
       "</div>"
      ],
      "text/plain": [
       "       Country Density\\n(P/Km2) Abbreviation Agricultural Land( %)  \\\n",
       "0  Afghanistan               60           AF                58.10%   \n",
       "1      Albania              105           AL                43.10%   \n",
       "2      Algeria               18           DZ                17.40%   \n",
       "3      Andorra              164           AD                40.00%   \n",
       "4       Angola               26           AO                47.50%   \n",
       "\n",
       "  Land Area(Km2) Armed Forces size  Birth Rate  Calling Code  \\\n",
       "0        652,230           323,000       32.49          93.0   \n",
       "1         28,748             9,000       11.78         355.0   \n",
       "2      2,381,741           317,000       24.28         213.0   \n",
       "3            468               NaN        7.20         376.0   \n",
       "4      1,246,700           117,000       40.73         244.0   \n",
       "\n",
       "  Capital/Major City Co2-Emissions  ... Out of pocket health expenditure  \\\n",
       "0              Kabul         8,672  ...                           78.40%   \n",
       "1             Tirana         4,536  ...                           56.90%   \n",
       "2            Algiers       150,006  ...                           28.10%   \n",
       "3   Andorra la Vella           469  ...                           36.40%   \n",
       "4             Luanda        34,693  ...                           33.40%   \n",
       "\n",
       "  Physicians per thousand  Population  \\\n",
       "0                    0.28  38,041,754   \n",
       "1                    1.20   2,854,191   \n",
       "2                    1.72  43,053,054   \n",
       "3                    3.33      77,142   \n",
       "4                    0.21  31,825,295   \n",
       "\n",
       "   Population: Labor force participation (%) Tax revenue (%) Total tax rate  \\\n",
       "0                                     48.90%           9.30%         71.40%   \n",
       "1                                     55.70%          18.60%         36.60%   \n",
       "2                                     41.20%          37.20%         66.10%   \n",
       "3                                        NaN             NaN            NaN   \n",
       "4                                     77.50%           9.20%         49.10%   \n",
       "\n",
       "  Unemployment rate Urban_population   Latitude  Longitude  \n",
       "0            11.12%        9,797,273  33.939110  67.709953  \n",
       "1            12.33%        1,747,593  41.153332  20.168331  \n",
       "2            11.70%       31,510,100  28.033886   1.659626  \n",
       "3               NaN           67,873  42.506285   1.521801  \n",
       "4             6.89%       21,061,025 -11.202692  17.873887  \n",
       "\n",
       "[5 rows x 35 columns]"
      ]
     },
     "execution_count": 37,
     "metadata": {},
     "output_type": "execute_result"
    }
   ],
   "source": [
    "df1.head()"
   ]
  },
  {
   "cell_type": "code",
   "execution_count": null,
   "id": "7bbc3c40",
   "metadata": {},
   "outputs": [],
   "source": []
  },
  {
   "cell_type": "code",
   "execution_count": 23,
   "id": "c0171fa8",
   "metadata": {},
   "outputs": [
    {
     "data": {
      "text/html": [
       "<div>\n",
       "<style scoped>\n",
       "    .dataframe tbody tr th:only-of-type {\n",
       "        vertical-align: middle;\n",
       "    }\n",
       "\n",
       "    .dataframe tbody tr th {\n",
       "        vertical-align: top;\n",
       "    }\n",
       "\n",
       "    .dataframe thead th {\n",
       "        text-align: right;\n",
       "    }\n",
       "</style>\n",
       "<table border=\"1\" class=\"dataframe\">\n",
       "  <thead>\n",
       "    <tr style=\"text-align: right;\">\n",
       "      <th></th>\n",
       "      <th>Country</th>\n",
       "      <th>Density\\n(P/Km2)</th>\n",
       "      <th>Abbreviation</th>\n",
       "      <th>Agricultural Land( %)</th>\n",
       "      <th>Land Area(Km2)</th>\n",
       "      <th>Armed Forces size</th>\n",
       "      <th>Birth Rate</th>\n",
       "      <th>Calling Code</th>\n",
       "      <th>Capital/Major City</th>\n",
       "      <th>Co2-Emissions</th>\n",
       "      <th>...</th>\n",
       "      <th>Out of pocket health expenditure</th>\n",
       "      <th>Physicians per thousand</th>\n",
       "      <th>Population</th>\n",
       "      <th>Population: Labor force participation (%)</th>\n",
       "      <th>Tax revenue (%)</th>\n",
       "      <th>Total tax rate</th>\n",
       "      <th>Unemployment rate</th>\n",
       "      <th>Urban_population</th>\n",
       "      <th>Latitude</th>\n",
       "      <th>Longitude</th>\n",
       "    </tr>\n",
       "  </thead>\n",
       "  <tbody>\n",
       "    <tr>\n",
       "      <th>187</th>\n",
       "      <td>Uruguay</td>\n",
       "      <td>20</td>\n",
       "      <td>UY</td>\n",
       "      <td>82.60%</td>\n",
       "      <td>176,215</td>\n",
       "      <td>22,000</td>\n",
       "      <td>13.86</td>\n",
       "      <td>598.0</td>\n",
       "      <td>Montevideo</td>\n",
       "      <td>6,766</td>\n",
       "      <td>...</td>\n",
       "      <td>16.20%</td>\n",
       "      <td>5.05</td>\n",
       "      <td>3,461,734</td>\n",
       "      <td>64.00%</td>\n",
       "      <td>20.10%</td>\n",
       "      <td>41.80%</td>\n",
       "      <td>8.73%</td>\n",
       "      <td>3,303,394</td>\n",
       "      <td>-32.522779</td>\n",
       "      <td>-55.765835</td>\n",
       "    </tr>\n",
       "    <tr>\n",
       "      <th>151</th>\n",
       "      <td>Saudi Arabia</td>\n",
       "      <td>16</td>\n",
       "      <td>SA</td>\n",
       "      <td>80.80%</td>\n",
       "      <td>2,149,690</td>\n",
       "      <td>252,000</td>\n",
       "      <td>17.80</td>\n",
       "      <td>966.0</td>\n",
       "      <td>Riyadh</td>\n",
       "      <td>563,449</td>\n",
       "      <td>...</td>\n",
       "      <td>15.00%</td>\n",
       "      <td>2.61</td>\n",
       "      <td>34,268,528</td>\n",
       "      <td>55.90%</td>\n",
       "      <td>8.90%</td>\n",
       "      <td>15.70%</td>\n",
       "      <td>5.93%</td>\n",
       "      <td>28,807,838</td>\n",
       "      <td>23.885942</td>\n",
       "      <td>45.079162</td>\n",
       "    </tr>\n",
       "    <tr>\n",
       "      <th>87</th>\n",
       "      <td>Kazakhstan</td>\n",
       "      <td>7</td>\n",
       "      <td>KZ</td>\n",
       "      <td>80.40%</td>\n",
       "      <td>2,724,900</td>\n",
       "      <td>71,000</td>\n",
       "      <td>21.77</td>\n",
       "      <td>7.0</td>\n",
       "      <td>Astana</td>\n",
       "      <td>247,207</td>\n",
       "      <td>...</td>\n",
       "      <td>38.80%</td>\n",
       "      <td>3.25</td>\n",
       "      <td>18,513,930</td>\n",
       "      <td>68.80%</td>\n",
       "      <td>11.70%</td>\n",
       "      <td>28.40%</td>\n",
       "      <td>4.59%</td>\n",
       "      <td>10,652,915</td>\n",
       "      <td>48.019573</td>\n",
       "      <td>66.923684</td>\n",
       "    </tr>\n",
       "    <tr>\n",
       "      <th>97</th>\n",
       "      <td>Libya</td>\n",
       "      <td>4</td>\n",
       "      <td>LY</td>\n",
       "      <td>8.70%</td>\n",
       "      <td>1,759,540</td>\n",
       "      <td>0</td>\n",
       "      <td>18.83</td>\n",
       "      <td>218.0</td>\n",
       "      <td>NaN</td>\n",
       "      <td>50,564</td>\n",
       "      <td>...</td>\n",
       "      <td>36.70%</td>\n",
       "      <td>2.09</td>\n",
       "      <td>6,777,452</td>\n",
       "      <td>49.70%</td>\n",
       "      <td>NaN</td>\n",
       "      <td>32.60%</td>\n",
       "      <td>18.56%</td>\n",
       "      <td>5,448,597</td>\n",
       "      <td>26.335100</td>\n",
       "      <td>17.228331</td>\n",
       "    </tr>\n",
       "    <tr>\n",
       "      <th>71</th>\n",
       "      <td>Guyana</td>\n",
       "      <td>4</td>\n",
       "      <td>GY</td>\n",
       "      <td>8.60%</td>\n",
       "      <td>214,969</td>\n",
       "      <td>3,000</td>\n",
       "      <td>19.97</td>\n",
       "      <td>592.0</td>\n",
       "      <td>Georgetown, Guyana</td>\n",
       "      <td>2,384</td>\n",
       "      <td>...</td>\n",
       "      <td>40.50%</td>\n",
       "      <td>0.80</td>\n",
       "      <td>782,766</td>\n",
       "      <td>56.20%</td>\n",
       "      <td>NaN</td>\n",
       "      <td>30.60%</td>\n",
       "      <td>11.85%</td>\n",
       "      <td>208,912</td>\n",
       "      <td>4.860416</td>\n",
       "      <td>-58.930180</td>\n",
       "    </tr>\n",
       "    <tr>\n",
       "      <th>...</th>\n",
       "      <td>...</td>\n",
       "      <td>...</td>\n",
       "      <td>...</td>\n",
       "      <td>...</td>\n",
       "      <td>...</td>\n",
       "      <td>...</td>\n",
       "      <td>...</td>\n",
       "      <td>...</td>\n",
       "      <td>...</td>\n",
       "      <td>...</td>\n",
       "      <td>...</td>\n",
       "      <td>...</td>\n",
       "      <td>...</td>\n",
       "      <td>...</td>\n",
       "      <td>...</td>\n",
       "      <td>...</td>\n",
       "      <td>...</td>\n",
       "      <td>...</td>\n",
       "      <td>...</td>\n",
       "      <td>...</td>\n",
       "      <td>...</td>\n",
       "    </tr>\n",
       "    <tr>\n",
       "      <th>113</th>\n",
       "      <td>Monaco</td>\n",
       "      <td>26,337</td>\n",
       "      <td>MC</td>\n",
       "      <td>NaN</td>\n",
       "      <td>2</td>\n",
       "      <td>NaN</td>\n",
       "      <td>5.90</td>\n",
       "      <td>377.0</td>\n",
       "      <td>Monaco City</td>\n",
       "      <td>NaN</td>\n",
       "      <td>...</td>\n",
       "      <td>6.10%</td>\n",
       "      <td>6.56</td>\n",
       "      <td>38,964</td>\n",
       "      <td>NaN</td>\n",
       "      <td>NaN</td>\n",
       "      <td>NaN</td>\n",
       "      <td>NaN</td>\n",
       "      <td>38,964</td>\n",
       "      <td>43.738418</td>\n",
       "      <td>7.424616</td>\n",
       "    </tr>\n",
       "    <tr>\n",
       "      <th>120</th>\n",
       "      <td>Nauru</td>\n",
       "      <td>541</td>\n",
       "      <td>NR</td>\n",
       "      <td>NaN</td>\n",
       "      <td>21</td>\n",
       "      <td>NaN</td>\n",
       "      <td>NaN</td>\n",
       "      <td>674.0</td>\n",
       "      <td>Yaren District</td>\n",
       "      <td>NaN</td>\n",
       "      <td>...</td>\n",
       "      <td>NaN</td>\n",
       "      <td>NaN</td>\n",
       "      <td>10,084</td>\n",
       "      <td>NaN</td>\n",
       "      <td>NaN</td>\n",
       "      <td>NaN</td>\n",
       "      <td>NaN</td>\n",
       "      <td>NaN</td>\n",
       "      <td>-0.522778</td>\n",
       "      <td>166.931503</td>\n",
       "    </tr>\n",
       "    <tr>\n",
       "      <th>128</th>\n",
       "      <td>North Macedonia</td>\n",
       "      <td>83</td>\n",
       "      <td>NaN</td>\n",
       "      <td>NaN</td>\n",
       "      <td>25,713</td>\n",
       "      <td>NaN</td>\n",
       "      <td>NaN</td>\n",
       "      <td>389.0</td>\n",
       "      <td>Skopje</td>\n",
       "      <td>NaN</td>\n",
       "      <td>...</td>\n",
       "      <td>35.60%</td>\n",
       "      <td>NaN</td>\n",
       "      <td>1,836,713</td>\n",
       "      <td>NaN</td>\n",
       "      <td>NaN</td>\n",
       "      <td>NaN</td>\n",
       "      <td>NaN</td>\n",
       "      <td>NaN</td>\n",
       "      <td>41.608635</td>\n",
       "      <td>21.745275</td>\n",
       "    </tr>\n",
       "    <tr>\n",
       "      <th>133</th>\n",
       "      <td>Palestinian National Authority</td>\n",
       "      <td>847</td>\n",
       "      <td>NaN</td>\n",
       "      <td>NaN</td>\n",
       "      <td>NaN</td>\n",
       "      <td>NaN</td>\n",
       "      <td>NaN</td>\n",
       "      <td>NaN</td>\n",
       "      <td>NaN</td>\n",
       "      <td>NaN</td>\n",
       "      <td>...</td>\n",
       "      <td>NaN</td>\n",
       "      <td>NaN</td>\n",
       "      <td>NaN</td>\n",
       "      <td>NaN</td>\n",
       "      <td>NaN</td>\n",
       "      <td>NaN</td>\n",
       "      <td>NaN</td>\n",
       "      <td>NaN</td>\n",
       "      <td>31.952162</td>\n",
       "      <td>35.233154</td>\n",
       "    </tr>\n",
       "    <tr>\n",
       "      <th>163</th>\n",
       "      <td>South Sudan</td>\n",
       "      <td>18</td>\n",
       "      <td>SS</td>\n",
       "      <td>NaN</td>\n",
       "      <td>644,329</td>\n",
       "      <td>185,000</td>\n",
       "      <td>35.01</td>\n",
       "      <td>211.0</td>\n",
       "      <td>Juba</td>\n",
       "      <td>1,727</td>\n",
       "      <td>...</td>\n",
       "      <td>61.30%</td>\n",
       "      <td>NaN</td>\n",
       "      <td>11,062,113</td>\n",
       "      <td>72.40%</td>\n",
       "      <td>NaN</td>\n",
       "      <td>31.40%</td>\n",
       "      <td>12.24%</td>\n",
       "      <td>2,201,250</td>\n",
       "      <td>6.876992</td>\n",
       "      <td>31.306979</td>\n",
       "    </tr>\n",
       "  </tbody>\n",
       "</table>\n",
       "<p>195 rows × 35 columns</p>\n",
       "</div>"
      ],
      "text/plain": [
       "                            Country Density\\n(P/Km2) Abbreviation  \\\n",
       "187                         Uruguay               20           UY   \n",
       "151                    Saudi Arabia               16           SA   \n",
       "87                       Kazakhstan                7           KZ   \n",
       "97                            Libya                4           LY   \n",
       "71                           Guyana                4           GY   \n",
       "..                              ...              ...          ...   \n",
       "113                          Monaco           26,337           MC   \n",
       "120                           Nauru              541           NR   \n",
       "128                 North Macedonia               83          NaN   \n",
       "133  Palestinian National Authority              847          NaN   \n",
       "163                     South Sudan               18           SS   \n",
       "\n",
       "    Agricultural Land( %) Land Area(Km2) Armed Forces size  Birth Rate  \\\n",
       "187                82.60%        176,215            22,000       13.86   \n",
       "151                80.80%      2,149,690           252,000       17.80   \n",
       "87                 80.40%      2,724,900            71,000       21.77   \n",
       "97                  8.70%      1,759,540                 0       18.83   \n",
       "71                  8.60%        214,969             3,000       19.97   \n",
       "..                    ...            ...               ...         ...   \n",
       "113                   NaN              2               NaN        5.90   \n",
       "120                   NaN             21               NaN         NaN   \n",
       "128                   NaN         25,713               NaN         NaN   \n",
       "133                   NaN            NaN               NaN         NaN   \n",
       "163                   NaN        644,329           185,000       35.01   \n",
       "\n",
       "     Calling Code  Capital/Major City Co2-Emissions  ...  \\\n",
       "187         598.0          Montevideo         6,766  ...   \n",
       "151         966.0              Riyadh       563,449  ...   \n",
       "87            7.0              Astana       247,207  ...   \n",
       "97          218.0                 NaN        50,564  ...   \n",
       "71          592.0  Georgetown, Guyana         2,384  ...   \n",
       "..            ...                 ...           ...  ...   \n",
       "113         377.0         Monaco City           NaN  ...   \n",
       "120         674.0      Yaren District           NaN  ...   \n",
       "128         389.0              Skopje           NaN  ...   \n",
       "133           NaN                 NaN           NaN  ...   \n",
       "163         211.0                Juba         1,727  ...   \n",
       "\n",
       "    Out of pocket health expenditure Physicians per thousand  Population  \\\n",
       "187                           16.20%                    5.05   3,461,734   \n",
       "151                           15.00%                    2.61  34,268,528   \n",
       "87                            38.80%                    3.25  18,513,930   \n",
       "97                            36.70%                    2.09   6,777,452   \n",
       "71                            40.50%                    0.80     782,766   \n",
       "..                               ...                     ...         ...   \n",
       "113                            6.10%                    6.56      38,964   \n",
       "120                              NaN                     NaN      10,084   \n",
       "128                           35.60%                     NaN   1,836,713   \n",
       "133                              NaN                     NaN         NaN   \n",
       "163                           61.30%                     NaN  11,062,113   \n",
       "\n",
       "     Population: Labor force participation (%) Tax revenue (%) Total tax rate  \\\n",
       "187                                     64.00%          20.10%         41.80%   \n",
       "151                                     55.90%           8.90%         15.70%   \n",
       "87                                      68.80%          11.70%         28.40%   \n",
       "97                                      49.70%             NaN         32.60%   \n",
       "71                                      56.20%             NaN         30.60%   \n",
       "..                                         ...             ...            ...   \n",
       "113                                        NaN             NaN            NaN   \n",
       "120                                        NaN             NaN            NaN   \n",
       "128                                        NaN             NaN            NaN   \n",
       "133                                        NaN             NaN            NaN   \n",
       "163                                     72.40%             NaN         31.40%   \n",
       "\n",
       "    Unemployment rate Urban_population   Latitude   Longitude  \n",
       "187             8.73%        3,303,394 -32.522779  -55.765835  \n",
       "151             5.93%       28,807,838  23.885942   45.079162  \n",
       "87              4.59%       10,652,915  48.019573   66.923684  \n",
       "97             18.56%        5,448,597  26.335100   17.228331  \n",
       "71             11.85%          208,912   4.860416  -58.930180  \n",
       "..                ...              ...        ...         ...  \n",
       "113               NaN           38,964  43.738418    7.424616  \n",
       "120               NaN              NaN  -0.522778  166.931503  \n",
       "128               NaN              NaN  41.608635   21.745275  \n",
       "133               NaN              NaN  31.952162   35.233154  \n",
       "163            12.24%        2,201,250   6.876992   31.306979  \n",
       "\n",
       "[195 rows x 35 columns]"
      ]
     },
     "execution_count": 23,
     "metadata": {},
     "output_type": "execute_result"
    }
   ],
   "source": [
    "t1=df1.sort_values(by='Agricultural Land( %)', ascending=False)\n",
    "\n",
    "t1"
   ]
  },
  {
   "cell_type": "code",
   "execution_count": null,
   "id": "ed370835",
   "metadata": {},
   "outputs": [],
   "source": []
  },
  {
   "cell_type": "code",
   "execution_count": 24,
   "id": "08736bab",
   "metadata": {},
   "outputs": [
    {
     "data": {
      "text/html": [
       "<div>\n",
       "<style scoped>\n",
       "    .dataframe tbody tr th:only-of-type {\n",
       "        vertical-align: middle;\n",
       "    }\n",
       "\n",
       "    .dataframe tbody tr th {\n",
       "        vertical-align: top;\n",
       "    }\n",
       "\n",
       "    .dataframe thead th {\n",
       "        text-align: right;\n",
       "    }\n",
       "</style>\n",
       "<table border=\"1\" class=\"dataframe\">\n",
       "  <thead>\n",
       "    <tr style=\"text-align: right;\">\n",
       "      <th></th>\n",
       "      <th>Country</th>\n",
       "      <th>Density\\n(P/Km2)</th>\n",
       "      <th>Abbreviation</th>\n",
       "      <th>Agricultural Land( %)</th>\n",
       "      <th>Land Area(Km2)</th>\n",
       "      <th>Armed Forces size</th>\n",
       "      <th>Birth Rate</th>\n",
       "      <th>Calling Code</th>\n",
       "      <th>Capital/Major City</th>\n",
       "      <th>Co2-Emissions</th>\n",
       "      <th>...</th>\n",
       "      <th>Out of pocket health expenditure</th>\n",
       "      <th>Physicians per thousand</th>\n",
       "      <th>Population</th>\n",
       "      <th>Population: Labor force participation (%)</th>\n",
       "      <th>Tax revenue (%)</th>\n",
       "      <th>Total tax rate</th>\n",
       "      <th>Unemployment rate</th>\n",
       "      <th>Urban_population</th>\n",
       "      <th>Latitude</th>\n",
       "      <th>Longitude</th>\n",
       "    </tr>\n",
       "  </thead>\n",
       "  <tbody>\n",
       "    <tr>\n",
       "      <th>187</th>\n",
       "      <td>Uruguay</td>\n",
       "      <td>20</td>\n",
       "      <td>UY</td>\n",
       "      <td>82.60%</td>\n",
       "      <td>176,215</td>\n",
       "      <td>22,000</td>\n",
       "      <td>13.86</td>\n",
       "      <td>598.0</td>\n",
       "      <td>Montevideo</td>\n",
       "      <td>6,766</td>\n",
       "      <td>...</td>\n",
       "      <td>16.20%</td>\n",
       "      <td>5.05</td>\n",
       "      <td>3,461,734</td>\n",
       "      <td>64.00%</td>\n",
       "      <td>20.10%</td>\n",
       "      <td>41.80%</td>\n",
       "      <td>8.73%</td>\n",
       "      <td>3,303,394</td>\n",
       "      <td>-32.522779</td>\n",
       "      <td>-55.765835</td>\n",
       "    </tr>\n",
       "    <tr>\n",
       "      <th>151</th>\n",
       "      <td>Saudi Arabia</td>\n",
       "      <td>16</td>\n",
       "      <td>SA</td>\n",
       "      <td>80.80%</td>\n",
       "      <td>2,149,690</td>\n",
       "      <td>252,000</td>\n",
       "      <td>17.80</td>\n",
       "      <td>966.0</td>\n",
       "      <td>Riyadh</td>\n",
       "      <td>563,449</td>\n",
       "      <td>...</td>\n",
       "      <td>15.00%</td>\n",
       "      <td>2.61</td>\n",
       "      <td>34,268,528</td>\n",
       "      <td>55.90%</td>\n",
       "      <td>8.90%</td>\n",
       "      <td>15.70%</td>\n",
       "      <td>5.93%</td>\n",
       "      <td>28,807,838</td>\n",
       "      <td>23.885942</td>\n",
       "      <td>45.079162</td>\n",
       "    </tr>\n",
       "    <tr>\n",
       "      <th>87</th>\n",
       "      <td>Kazakhstan</td>\n",
       "      <td>7</td>\n",
       "      <td>KZ</td>\n",
       "      <td>80.40%</td>\n",
       "      <td>2,724,900</td>\n",
       "      <td>71,000</td>\n",
       "      <td>21.77</td>\n",
       "      <td>7.0</td>\n",
       "      <td>Astana</td>\n",
       "      <td>247,207</td>\n",
       "      <td>...</td>\n",
       "      <td>38.80%</td>\n",
       "      <td>3.25</td>\n",
       "      <td>18,513,930</td>\n",
       "      <td>68.80%</td>\n",
       "      <td>11.70%</td>\n",
       "      <td>28.40%</td>\n",
       "      <td>4.59%</td>\n",
       "      <td>10,652,915</td>\n",
       "      <td>48.019573</td>\n",
       "      <td>66.923684</td>\n",
       "    </tr>\n",
       "    <tr>\n",
       "      <th>97</th>\n",
       "      <td>Libya</td>\n",
       "      <td>4</td>\n",
       "      <td>LY</td>\n",
       "      <td>8.70%</td>\n",
       "      <td>1,759,540</td>\n",
       "      <td>0</td>\n",
       "      <td>18.83</td>\n",
       "      <td>218.0</td>\n",
       "      <td>NaN</td>\n",
       "      <td>50,564</td>\n",
       "      <td>...</td>\n",
       "      <td>36.70%</td>\n",
       "      <td>2.09</td>\n",
       "      <td>6,777,452</td>\n",
       "      <td>49.70%</td>\n",
       "      <td>NaN</td>\n",
       "      <td>32.60%</td>\n",
       "      <td>18.56%</td>\n",
       "      <td>5,448,597</td>\n",
       "      <td>26.335100</td>\n",
       "      <td>17.228331</td>\n",
       "    </tr>\n",
       "    <tr>\n",
       "      <th>71</th>\n",
       "      <td>Guyana</td>\n",
       "      <td>4</td>\n",
       "      <td>GY</td>\n",
       "      <td>8.60%</td>\n",
       "      <td>214,969</td>\n",
       "      <td>3,000</td>\n",
       "      <td>19.97</td>\n",
       "      <td>592.0</td>\n",
       "      <td>Georgetown, Guyana</td>\n",
       "      <td>2,384</td>\n",
       "      <td>...</td>\n",
       "      <td>40.50%</td>\n",
       "      <td>0.80</td>\n",
       "      <td>782,766</td>\n",
       "      <td>56.20%</td>\n",
       "      <td>NaN</td>\n",
       "      <td>30.60%</td>\n",
       "      <td>11.85%</td>\n",
       "      <td>208,912</td>\n",
       "      <td>4.860416</td>\n",
       "      <td>-58.930180</td>\n",
       "    </tr>\n",
       "    <tr>\n",
       "      <th>90</th>\n",
       "      <td>Kuwait</td>\n",
       "      <td>240</td>\n",
       "      <td>KW</td>\n",
       "      <td>8.40%</td>\n",
       "      <td>17,818</td>\n",
       "      <td>25,000</td>\n",
       "      <td>13.94</td>\n",
       "      <td>965.0</td>\n",
       "      <td>Kuwait City</td>\n",
       "      <td>98,734</td>\n",
       "      <td>...</td>\n",
       "      <td>14.40%</td>\n",
       "      <td>2.58</td>\n",
       "      <td>4,207,083</td>\n",
       "      <td>73.50%</td>\n",
       "      <td>1.40%</td>\n",
       "      <td>13.00%</td>\n",
       "      <td>2.18%</td>\n",
       "      <td>4,207,083</td>\n",
       "      <td>29.311660</td>\n",
       "      <td>47.481766</td>\n",
       "    </tr>\n",
       "    <tr>\n",
       "      <th>33</th>\n",
       "      <td>Central African Republic</td>\n",
       "      <td>8</td>\n",
       "      <td>CF</td>\n",
       "      <td>8.20%</td>\n",
       "      <td>622,984</td>\n",
       "      <td>8,000</td>\n",
       "      <td>35.35</td>\n",
       "      <td>236.0</td>\n",
       "      <td>Bangui</td>\n",
       "      <td>297</td>\n",
       "      <td>...</td>\n",
       "      <td>39.60%</td>\n",
       "      <td>0.06</td>\n",
       "      <td>4,745,185</td>\n",
       "      <td>72.00%</td>\n",
       "      <td>8.60%</td>\n",
       "      <td>73.30%</td>\n",
       "      <td>3.68%</td>\n",
       "      <td>1,982,064</td>\n",
       "      <td>6.611111</td>\n",
       "      <td>20.939444</td>\n",
       "    </tr>\n",
       "    <tr>\n",
       "      <th>161</th>\n",
       "      <td>South Africa</td>\n",
       "      <td>49</td>\n",
       "      <td>ZA</td>\n",
       "      <td>79.80%</td>\n",
       "      <td>1,219,090</td>\n",
       "      <td>80,000</td>\n",
       "      <td>20.51</td>\n",
       "      <td>27.0</td>\n",
       "      <td>Pretoria</td>\n",
       "      <td>476,644</td>\n",
       "      <td>...</td>\n",
       "      <td>7.70%</td>\n",
       "      <td>0.91</td>\n",
       "      <td>58,558,270</td>\n",
       "      <td>56.00%</td>\n",
       "      <td>27.50%</td>\n",
       "      <td>29.20%</td>\n",
       "      <td>28.18%</td>\n",
       "      <td>39,149,717</td>\n",
       "      <td>-30.559482</td>\n",
       "      <td>22.937506</td>\n",
       "    </tr>\n",
       "    <tr>\n",
       "      <th>27</th>\n",
       "      <td>Burundi</td>\n",
       "      <td>463</td>\n",
       "      <td>BI</td>\n",
       "      <td>79.20%</td>\n",
       "      <td>27,830</td>\n",
       "      <td>31,000</td>\n",
       "      <td>39.01</td>\n",
       "      <td>257.0</td>\n",
       "      <td>Bujumbura</td>\n",
       "      <td>495</td>\n",
       "      <td>...</td>\n",
       "      <td>19.10%</td>\n",
       "      <td>0.10</td>\n",
       "      <td>11,530,580</td>\n",
       "      <td>79.20%</td>\n",
       "      <td>13.60%</td>\n",
       "      <td>41.20%</td>\n",
       "      <td>1.43%</td>\n",
       "      <td>1,541,177</td>\n",
       "      <td>-3.373056</td>\n",
       "      <td>29.918886</td>\n",
       "    </tr>\n",
       "    <tr>\n",
       "      <th>126</th>\n",
       "      <td>Nigeria</td>\n",
       "      <td>226</td>\n",
       "      <td>NG</td>\n",
       "      <td>77.70%</td>\n",
       "      <td>923,768</td>\n",
       "      <td>215,000</td>\n",
       "      <td>37.91</td>\n",
       "      <td>234.0</td>\n",
       "      <td>Abuja</td>\n",
       "      <td>120,369</td>\n",
       "      <td>...</td>\n",
       "      <td>72.20%</td>\n",
       "      <td>0.38</td>\n",
       "      <td>200,963,599</td>\n",
       "      <td>52.90%</td>\n",
       "      <td>1.50%</td>\n",
       "      <td>34.80%</td>\n",
       "      <td>8.10%</td>\n",
       "      <td>102,806,948</td>\n",
       "      <td>9.081999</td>\n",
       "      <td>8.675277</td>\n",
       "    </tr>\n",
       "    <tr>\n",
       "      <th>95</th>\n",
       "      <td>Lesotho</td>\n",
       "      <td>71</td>\n",
       "      <td>LS</td>\n",
       "      <td>77.60%</td>\n",
       "      <td>30,355</td>\n",
       "      <td>2,000</td>\n",
       "      <td>26.81</td>\n",
       "      <td>266.0</td>\n",
       "      <td>Maseru</td>\n",
       "      <td>2,512</td>\n",
       "      <td>...</td>\n",
       "      <td>16.90%</td>\n",
       "      <td>0.07</td>\n",
       "      <td>2,125,268</td>\n",
       "      <td>67.90%</td>\n",
       "      <td>31.60%</td>\n",
       "      <td>13.60%</td>\n",
       "      <td>23.41%</td>\n",
       "      <td>607,508</td>\n",
       "      <td>-29.609988</td>\n",
       "      <td>28.233608</td>\n",
       "    </tr>\n",
       "    <tr>\n",
       "      <th>52</th>\n",
       "      <td>El Salvador</td>\n",
       "      <td>313</td>\n",
       "      <td>SV</td>\n",
       "      <td>76.40%</td>\n",
       "      <td>21,041</td>\n",
       "      <td>42,000</td>\n",
       "      <td>18.25</td>\n",
       "      <td>503.0</td>\n",
       "      <td>San Salvador</td>\n",
       "      <td>7,169</td>\n",
       "      <td>...</td>\n",
       "      <td>27.90%</td>\n",
       "      <td>1.57</td>\n",
       "      <td>6,453,553</td>\n",
       "      <td>59.10%</td>\n",
       "      <td>18.10%</td>\n",
       "      <td>36.40%</td>\n",
       "      <td>4.11%</td>\n",
       "      <td>4,694,702</td>\n",
       "      <td>13.794185</td>\n",
       "      <td>-88.896530</td>\n",
       "    </tr>\n",
       "    <tr>\n",
       "      <th>170</th>\n",
       "      <td>Syria</td>\n",
       "      <td>95</td>\n",
       "      <td>SY</td>\n",
       "      <td>75.80%</td>\n",
       "      <td>185,180</td>\n",
       "      <td>239,000</td>\n",
       "      <td>23.69</td>\n",
       "      <td>963.0</td>\n",
       "      <td>Damascus</td>\n",
       "      <td>28,830</td>\n",
       "      <td>...</td>\n",
       "      <td>53.70%</td>\n",
       "      <td>1.22</td>\n",
       "      <td>17,070,135</td>\n",
       "      <td>44.10%</td>\n",
       "      <td>14.20%</td>\n",
       "      <td>42.70%</td>\n",
       "      <td>8.37%</td>\n",
       "      <td>9,358,019</td>\n",
       "      <td>34.802075</td>\n",
       "      <td>38.996815</td>\n",
       "    </tr>\n",
       "    <tr>\n",
       "      <th>54</th>\n",
       "      <td>Eritrea</td>\n",
       "      <td>35</td>\n",
       "      <td>ER</td>\n",
       "      <td>75.20%</td>\n",
       "      <td>117,600</td>\n",
       "      <td>202,000</td>\n",
       "      <td>30.30</td>\n",
       "      <td>291.0</td>\n",
       "      <td>Asmara</td>\n",
       "      <td>711</td>\n",
       "      <td>...</td>\n",
       "      <td>52.40%</td>\n",
       "      <td>0.06</td>\n",
       "      <td>6,333,135</td>\n",
       "      <td>78.40%</td>\n",
       "      <td>NaN</td>\n",
       "      <td>83.70%</td>\n",
       "      <td>5.14%</td>\n",
       "      <td>1,149,670</td>\n",
       "      <td>15.179384</td>\n",
       "      <td>39.782334</td>\n",
       "    </tr>\n",
       "    <tr>\n",
       "      <th>112</th>\n",
       "      <td>Moldova</td>\n",
       "      <td>123</td>\n",
       "      <td>MD</td>\n",
       "      <td>74.20%</td>\n",
       "      <td>33,851</td>\n",
       "      <td>7,000</td>\n",
       "      <td>10.10</td>\n",
       "      <td>373.0</td>\n",
       "      <td>Chi����</td>\n",
       "      <td>5,115</td>\n",
       "      <td>...</td>\n",
       "      <td>46.20%</td>\n",
       "      <td>3.21</td>\n",
       "      <td>2,657,637</td>\n",
       "      <td>43.10%</td>\n",
       "      <td>17.70%</td>\n",
       "      <td>38.70%</td>\n",
       "      <td>5.47%</td>\n",
       "      <td>1,135,502</td>\n",
       "      <td>47.411631</td>\n",
       "      <td>28.369885</td>\n",
       "    </tr>\n",
       "    <tr>\n",
       "      <th>144</th>\n",
       "      <td>Rwanda</td>\n",
       "      <td>525</td>\n",
       "      <td>RW</td>\n",
       "      <td>73.40%</td>\n",
       "      <td>26,338</td>\n",
       "      <td>35,000</td>\n",
       "      <td>31.70</td>\n",
       "      <td>250.0</td>\n",
       "      <td>Kigali</td>\n",
       "      <td>1,115</td>\n",
       "      <td>...</td>\n",
       "      <td>26.00%</td>\n",
       "      <td>0.13</td>\n",
       "      <td>12,626,950</td>\n",
       "      <td>83.70%</td>\n",
       "      <td>14.30%</td>\n",
       "      <td>33.20%</td>\n",
       "      <td>1.03%</td>\n",
       "      <td>2,186,104</td>\n",
       "      <td>-1.940278</td>\n",
       "      <td>29.873888</td>\n",
       "    </tr>\n",
       "    <tr>\n",
       "      <th>47</th>\n",
       "      <td>Djibouti</td>\n",
       "      <td>43</td>\n",
       "      <td>DJ</td>\n",
       "      <td>73.40%</td>\n",
       "      <td>23,200</td>\n",
       "      <td>13,000</td>\n",
       "      <td>21.47</td>\n",
       "      <td>253.0</td>\n",
       "      <td>Djibouti City</td>\n",
       "      <td>620</td>\n",
       "      <td>...</td>\n",
       "      <td>20.40%</td>\n",
       "      <td>0.22</td>\n",
       "      <td>973,560</td>\n",
       "      <td>60.20%</td>\n",
       "      <td>NaN</td>\n",
       "      <td>37.90%</td>\n",
       "      <td>10.30%</td>\n",
       "      <td>758,549</td>\n",
       "      <td>11.825138</td>\n",
       "      <td>42.590275</td>\n",
       "    </tr>\n",
       "    <tr>\n",
       "      <th>180</th>\n",
       "      <td>Turkmenistan</td>\n",
       "      <td>13</td>\n",
       "      <td>TM</td>\n",
       "      <td>72.00%</td>\n",
       "      <td>488,100</td>\n",
       "      <td>42,000</td>\n",
       "      <td>23.83</td>\n",
       "      <td>993.0</td>\n",
       "      <td>Ashgabat</td>\n",
       "      <td>70,630</td>\n",
       "      <td>...</td>\n",
       "      <td>71.10%</td>\n",
       "      <td>2.22</td>\n",
       "      <td>5,942,089</td>\n",
       "      <td>64.50%</td>\n",
       "      <td>NaN</td>\n",
       "      <td>NaN</td>\n",
       "      <td>3.91%</td>\n",
       "      <td>3,092,738</td>\n",
       "      <td>38.969719</td>\n",
       "      <td>59.556278</td>\n",
       "    </tr>\n",
       "    <tr>\n",
       "      <th>182</th>\n",
       "      <td>Uganda</td>\n",
       "      <td>229</td>\n",
       "      <td>UG</td>\n",
       "      <td>71.90%</td>\n",
       "      <td>241,038</td>\n",
       "      <td>46,000</td>\n",
       "      <td>38.14</td>\n",
       "      <td>256.0</td>\n",
       "      <td>Kampala</td>\n",
       "      <td>5,680</td>\n",
       "      <td>...</td>\n",
       "      <td>40.50%</td>\n",
       "      <td>0.17</td>\n",
       "      <td>44,269,594</td>\n",
       "      <td>70.30%</td>\n",
       "      <td>11.70%</td>\n",
       "      <td>33.70%</td>\n",
       "      <td>1.84%</td>\n",
       "      <td>10,784,516</td>\n",
       "      <td>1.373333</td>\n",
       "      <td>32.290275</td>\n",
       "    </tr>\n",
       "    <tr>\n",
       "      <th>183</th>\n",
       "      <td>Ukraine</td>\n",
       "      <td>75</td>\n",
       "      <td>UA</td>\n",
       "      <td>71.70%</td>\n",
       "      <td>603,550</td>\n",
       "      <td>297,000</td>\n",
       "      <td>8.70</td>\n",
       "      <td>380.0</td>\n",
       "      <td>Kyiv</td>\n",
       "      <td>202,250</td>\n",
       "      <td>...</td>\n",
       "      <td>47.80%</td>\n",
       "      <td>2.99</td>\n",
       "      <td>44,385,155</td>\n",
       "      <td>54.20%</td>\n",
       "      <td>20.10%</td>\n",
       "      <td>45.20%</td>\n",
       "      <td>8.88%</td>\n",
       "      <td>30,835,699</td>\n",
       "      <td>48.379433</td>\n",
       "      <td>31.165580</td>\n",
       "    </tr>\n",
       "  </tbody>\n",
       "</table>\n",
       "<p>20 rows × 35 columns</p>\n",
       "</div>"
      ],
      "text/plain": [
       "                      Country Density\\n(P/Km2) Abbreviation  \\\n",
       "187                   Uruguay               20           UY   \n",
       "151              Saudi Arabia               16           SA   \n",
       "87                 Kazakhstan                7           KZ   \n",
       "97                      Libya                4           LY   \n",
       "71                     Guyana                4           GY   \n",
       "90                     Kuwait              240           KW   \n",
       "33   Central African Republic                8           CF   \n",
       "161              South Africa               49           ZA   \n",
       "27                    Burundi              463           BI   \n",
       "126                   Nigeria              226           NG   \n",
       "95                    Lesotho               71           LS   \n",
       "52                El Salvador              313           SV   \n",
       "170                     Syria               95           SY   \n",
       "54                    Eritrea               35           ER   \n",
       "112                   Moldova              123           MD   \n",
       "144                    Rwanda              525           RW   \n",
       "47                   Djibouti               43           DJ   \n",
       "180              Turkmenistan               13           TM   \n",
       "182                    Uganda              229           UG   \n",
       "183                   Ukraine               75           UA   \n",
       "\n",
       "    Agricultural Land( %) Land Area(Km2) Armed Forces size  Birth Rate  \\\n",
       "187                82.60%        176,215            22,000       13.86   \n",
       "151                80.80%      2,149,690           252,000       17.80   \n",
       "87                 80.40%      2,724,900            71,000       21.77   \n",
       "97                  8.70%      1,759,540                 0       18.83   \n",
       "71                  8.60%        214,969             3,000       19.97   \n",
       "90                  8.40%         17,818            25,000       13.94   \n",
       "33                  8.20%        622,984             8,000       35.35   \n",
       "161                79.80%      1,219,090            80,000       20.51   \n",
       "27                 79.20%         27,830            31,000       39.01   \n",
       "126                77.70%        923,768           215,000       37.91   \n",
       "95                 77.60%         30,355             2,000       26.81   \n",
       "52                 76.40%         21,041            42,000       18.25   \n",
       "170                75.80%        185,180           239,000       23.69   \n",
       "54                 75.20%        117,600           202,000       30.30   \n",
       "112                74.20%         33,851             7,000       10.10   \n",
       "144                73.40%         26,338            35,000       31.70   \n",
       "47                 73.40%         23,200            13,000       21.47   \n",
       "180                72.00%        488,100            42,000       23.83   \n",
       "182                71.90%        241,038            46,000       38.14   \n",
       "183                71.70%        603,550           297,000        8.70   \n",
       "\n",
       "     Calling Code  Capital/Major City Co2-Emissions  ...  \\\n",
       "187         598.0          Montevideo         6,766  ...   \n",
       "151         966.0              Riyadh       563,449  ...   \n",
       "87            7.0              Astana       247,207  ...   \n",
       "97          218.0                 NaN        50,564  ...   \n",
       "71          592.0  Georgetown, Guyana         2,384  ...   \n",
       "90          965.0         Kuwait City        98,734  ...   \n",
       "33          236.0              Bangui           297  ...   \n",
       "161          27.0            Pretoria       476,644  ...   \n",
       "27          257.0           Bujumbura           495  ...   \n",
       "126         234.0               Abuja       120,369  ...   \n",
       "95          266.0              Maseru         2,512  ...   \n",
       "52          503.0        San Salvador         7,169  ...   \n",
       "170         963.0            Damascus        28,830  ...   \n",
       "54          291.0              Asmara           711  ...   \n",
       "112         373.0             Chi����         5,115  ...   \n",
       "144         250.0              Kigali         1,115  ...   \n",
       "47          253.0       Djibouti City           620  ...   \n",
       "180         993.0            Ashgabat        70,630  ...   \n",
       "182         256.0             Kampala         5,680  ...   \n",
       "183         380.0                Kyiv       202,250  ...   \n",
       "\n",
       "    Out of pocket health expenditure Physicians per thousand   Population  \\\n",
       "187                           16.20%                    5.05    3,461,734   \n",
       "151                           15.00%                    2.61   34,268,528   \n",
       "87                            38.80%                    3.25   18,513,930   \n",
       "97                            36.70%                    2.09    6,777,452   \n",
       "71                            40.50%                    0.80      782,766   \n",
       "90                            14.40%                    2.58    4,207,083   \n",
       "33                            39.60%                    0.06    4,745,185   \n",
       "161                            7.70%                    0.91   58,558,270   \n",
       "27                            19.10%                    0.10   11,530,580   \n",
       "126                           72.20%                    0.38  200,963,599   \n",
       "95                            16.90%                    0.07    2,125,268   \n",
       "52                            27.90%                    1.57    6,453,553   \n",
       "170                           53.70%                    1.22   17,070,135   \n",
       "54                            52.40%                    0.06    6,333,135   \n",
       "112                           46.20%                    3.21    2,657,637   \n",
       "144                           26.00%                    0.13   12,626,950   \n",
       "47                            20.40%                    0.22      973,560   \n",
       "180                           71.10%                    2.22    5,942,089   \n",
       "182                           40.50%                    0.17   44,269,594   \n",
       "183                           47.80%                    2.99   44,385,155   \n",
       "\n",
       "     Population: Labor force participation (%) Tax revenue (%) Total tax rate  \\\n",
       "187                                     64.00%          20.10%         41.80%   \n",
       "151                                     55.90%           8.90%         15.70%   \n",
       "87                                      68.80%          11.70%         28.40%   \n",
       "97                                      49.70%             NaN         32.60%   \n",
       "71                                      56.20%             NaN         30.60%   \n",
       "90                                      73.50%           1.40%         13.00%   \n",
       "33                                      72.00%           8.60%         73.30%   \n",
       "161                                     56.00%          27.50%         29.20%   \n",
       "27                                      79.20%          13.60%         41.20%   \n",
       "126                                     52.90%           1.50%         34.80%   \n",
       "95                                      67.90%          31.60%         13.60%   \n",
       "52                                      59.10%          18.10%         36.40%   \n",
       "170                                     44.10%          14.20%         42.70%   \n",
       "54                                      78.40%             NaN         83.70%   \n",
       "112                                     43.10%          17.70%         38.70%   \n",
       "144                                     83.70%          14.30%         33.20%   \n",
       "47                                      60.20%             NaN         37.90%   \n",
       "180                                     64.50%             NaN            NaN   \n",
       "182                                     70.30%          11.70%         33.70%   \n",
       "183                                     54.20%          20.10%         45.20%   \n",
       "\n",
       "    Unemployment rate Urban_population   Latitude  Longitude  \n",
       "187             8.73%        3,303,394 -32.522779 -55.765835  \n",
       "151             5.93%       28,807,838  23.885942  45.079162  \n",
       "87              4.59%       10,652,915  48.019573  66.923684  \n",
       "97             18.56%        5,448,597  26.335100  17.228331  \n",
       "71             11.85%          208,912   4.860416 -58.930180  \n",
       "90              2.18%        4,207,083  29.311660  47.481766  \n",
       "33              3.68%        1,982,064   6.611111  20.939444  \n",
       "161            28.18%       39,149,717 -30.559482  22.937506  \n",
       "27              1.43%        1,541,177  -3.373056  29.918886  \n",
       "126             8.10%      102,806,948   9.081999   8.675277  \n",
       "95             23.41%          607,508 -29.609988  28.233608  \n",
       "52              4.11%        4,694,702  13.794185 -88.896530  \n",
       "170             8.37%        9,358,019  34.802075  38.996815  \n",
       "54              5.14%        1,149,670  15.179384  39.782334  \n",
       "112             5.47%        1,135,502  47.411631  28.369885  \n",
       "144             1.03%        2,186,104  -1.940278  29.873888  \n",
       "47             10.30%          758,549  11.825138  42.590275  \n",
       "180             3.91%        3,092,738  38.969719  59.556278  \n",
       "182             1.84%       10,784,516   1.373333  32.290275  \n",
       "183             8.88%       30,835,699  48.379433  31.165580  \n",
       "\n",
       "[20 rows x 35 columns]"
      ]
     },
     "execution_count": 24,
     "metadata": {},
     "output_type": "execute_result"
    }
   ],
   "source": [
    "t1.head(20)"
   ]
  },
  {
   "cell_type": "code",
   "execution_count": 25,
   "id": "cbc41716",
   "metadata": {},
   "outputs": [
    {
     "data": {
      "text/plain": [
       "Index(['Country', 'Density\\n(P/Km2)', 'Abbreviation', 'Agricultural Land( %)',\n",
       "       'Land Area(Km2)', 'Armed Forces size', 'Birth Rate', 'Calling Code',\n",
       "       'Capital/Major City', 'Co2-Emissions', 'CPI', 'CPI Change (%)',\n",
       "       'Currency-Code', 'Fertility Rate', 'Forested Area (%)',\n",
       "       'Gasoline Price', 'GDP', 'Gross primary education enrollment (%)',\n",
       "       'Gross tertiary education enrollment (%)', 'Infant mortality',\n",
       "       'Largest city', 'Life expectancy', 'Maternal mortality ratio',\n",
       "       'Minimum wage', 'Official language', 'Out of pocket health expenditure',\n",
       "       'Physicians per thousand', 'Population',\n",
       "       'Population: Labor force participation (%)', 'Tax revenue (%)',\n",
       "       'Total tax rate', 'Unemployment rate', 'Urban_population', 'Latitude',\n",
       "       'Longitude'],\n",
       "      dtype='object')"
      ]
     },
     "execution_count": 25,
     "metadata": {},
     "output_type": "execute_result"
    }
   ],
   "source": [
    "df1.columns"
   ]
  },
  {
   "cell_type": "code",
   "execution_count": 26,
   "id": "718392f6",
   "metadata": {},
   "outputs": [
    {
     "name": "stdout",
     "output_type": "stream",
     "text": [
      "<class 'pandas.core.frame.DataFrame'>\n",
      "RangeIndex: 195 entries, 0 to 194\n",
      "Data columns (total 35 columns):\n",
      " #   Column                                     Non-Null Count  Dtype  \n",
      "---  ------                                     --------------  -----  \n",
      " 0   Country                                    195 non-null    object \n",
      " 1   Density\n",
      "(P/Km2)                            195 non-null    object \n",
      " 2   Abbreviation                               188 non-null    object \n",
      " 3   Agricultural Land( %)                      188 non-null    object \n",
      " 4   Land Area(Km2)                             194 non-null    object \n",
      " 5   Armed Forces size                          171 non-null    object \n",
      " 6   Birth Rate                                 189 non-null    float64\n",
      " 7   Calling Code                               194 non-null    float64\n",
      " 8   Capital/Major City                         192 non-null    object \n",
      " 9   Co2-Emissions                              188 non-null    object \n",
      " 10  CPI                                        178 non-null    object \n",
      " 11  CPI Change (%)                             179 non-null    object \n",
      " 12  Currency-Code                              180 non-null    object \n",
      " 13  Fertility Rate                             188 non-null    float64\n",
      " 14  Forested Area (%)                          188 non-null    object \n",
      " 15  Gasoline Price                             175 non-null    object \n",
      " 16  GDP                                        193 non-null    object \n",
      " 17  Gross primary education enrollment (%)     188 non-null    object \n",
      " 18  Gross tertiary education enrollment (%)    183 non-null    object \n",
      " 19  Infant mortality                           189 non-null    float64\n",
      " 20  Largest city                               189 non-null    object \n",
      " 21  Life expectancy                            187 non-null    float64\n",
      " 22  Maternal mortality ratio                   181 non-null    float64\n",
      " 23  Minimum wage                               150 non-null    object \n",
      " 24  Official language                          194 non-null    object \n",
      " 25  Out of pocket health expenditure           188 non-null    object \n",
      " 26  Physicians per thousand                    188 non-null    float64\n",
      " 27  Population                                 194 non-null    object \n",
      " 28  Population: Labor force participation (%)  176 non-null    object \n",
      " 29  Tax revenue (%)                            169 non-null    object \n",
      " 30  Total tax rate                             183 non-null    object \n",
      " 31  Unemployment rate                          176 non-null    object \n",
      " 32  Urban_population                           190 non-null    object \n",
      " 33  Latitude                                   194 non-null    float64\n",
      " 34  Longitude                                  194 non-null    float64\n",
      "dtypes: float64(9), object(26)\n",
      "memory usage: 53.4+ KB\n"
     ]
    }
   ],
   "source": [
    "df1.info()"
   ]
  },
  {
   "cell_type": "code",
   "execution_count": null,
   "id": "59637112",
   "metadata": {},
   "outputs": [],
   "source": []
  },
  {
   "cell_type": "code",
   "execution_count": 32,
   "id": "8ee6a246",
   "metadata": {},
   "outputs": [],
   "source": [
    "df1['Agricultural Land( %)']=pd.to_numeric(df1['Agricultural Land( %)'], errors='coerce', downcast='integer')"
   ]
  },
  {
   "cell_type": "code",
   "execution_count": 33,
   "id": "e8453046",
   "metadata": {},
   "outputs": [
    {
     "name": "stdout",
     "output_type": "stream",
     "text": [
      "<class 'pandas.core.frame.DataFrame'>\n",
      "RangeIndex: 195 entries, 0 to 194\n",
      "Data columns (total 35 columns):\n",
      " #   Column                                     Non-Null Count  Dtype  \n",
      "---  ------                                     --------------  -----  \n",
      " 0   Country                                    195 non-null    object \n",
      " 1   Density\n",
      "(P/Km2)                            195 non-null    object \n",
      " 2   Abbreviation                               188 non-null    object \n",
      " 3   Agricultural Land( %)                      0 non-null      float64\n",
      " 4   Land Area(Km2)                             194 non-null    object \n",
      " 5   Armed Forces size                          171 non-null    object \n",
      " 6   Birth Rate                                 189 non-null    float64\n",
      " 7   Calling Code                               194 non-null    float64\n",
      " 8   Capital/Major City                         192 non-null    object \n",
      " 9   Co2-Emissions                              188 non-null    object \n",
      " 10  CPI                                        178 non-null    object \n",
      " 11  CPI Change (%)                             179 non-null    object \n",
      " 12  Currency-Code                              180 non-null    object \n",
      " 13  Fertility Rate                             188 non-null    float64\n",
      " 14  Forested Area (%)                          188 non-null    object \n",
      " 15  Gasoline Price                             175 non-null    object \n",
      " 16  GDP                                        193 non-null    object \n",
      " 17  Gross primary education enrollment (%)     188 non-null    object \n",
      " 18  Gross tertiary education enrollment (%)    183 non-null    object \n",
      " 19  Infant mortality                           189 non-null    float64\n",
      " 20  Largest city                               189 non-null    object \n",
      " 21  Life expectancy                            187 non-null    float64\n",
      " 22  Maternal mortality ratio                   181 non-null    float64\n",
      " 23  Minimum wage                               150 non-null    object \n",
      " 24  Official language                          194 non-null    object \n",
      " 25  Out of pocket health expenditure           188 non-null    object \n",
      " 26  Physicians per thousand                    188 non-null    float64\n",
      " 27  Population                                 194 non-null    object \n",
      " 28  Population: Labor force participation (%)  176 non-null    object \n",
      " 29  Tax revenue (%)                            169 non-null    object \n",
      " 30  Total tax rate                             183 non-null    object \n",
      " 31  Unemployment rate                          176 non-null    object \n",
      " 32  Urban_population                           190 non-null    object \n",
      " 33  Latitude                                   194 non-null    float64\n",
      " 34  Longitude                                  194 non-null    float64\n",
      "dtypes: float64(10), object(25)\n",
      "memory usage: 53.4+ KB\n"
     ]
    }
   ],
   "source": [
    "df1.info()"
   ]
  },
  {
   "cell_type": "code",
   "execution_count": null,
   "id": "b8ab33f7",
   "metadata": {},
   "outputs": [],
   "source": []
  },
  {
   "cell_type": "code",
   "execution_count": 19,
   "id": "13e80588",
   "metadata": {},
   "outputs": [
    {
     "name": "stdout",
     "output_type": "stream",
     "text": [
      "Column1    int8\n",
      "dtype: object\n"
     ]
    }
   ],
   "source": [
    "import pandas as pd\n",
    "\n",
    "# Sample DataFrame\n",
    "data = {'Column1': ['1', '2', '3', '4']}\n",
    "df = pd.DataFrame(data)\n",
    "\n",
    "# Convert 'Column1' to integer\n",
    "df['Column1'] = pd.to_numeric(df['Column1'], errors='coerce', downcast='integer')\n",
    "\n",
    "# Check the data types\n",
    "print(df.dtypes)\n"
   ]
  },
  {
   "cell_type": "code",
   "execution_count": null,
   "id": "0312811f",
   "metadata": {},
   "outputs": [],
   "source": []
  },
  {
   "cell_type": "code",
   "execution_count": 38,
   "id": "12f4f1cb",
   "metadata": {},
   "outputs": [
    {
     "name": "stdout",
     "output_type": "stream",
     "text": [
      "<class 'pandas.core.frame.DataFrame'>\n",
      "RangeIndex: 195 entries, 0 to 194\n",
      "Data columns (total 35 columns):\n",
      " #   Column                                     Non-Null Count  Dtype  \n",
      "---  ------                                     --------------  -----  \n",
      " 0   Country                                    195 non-null    object \n",
      " 1   Density\n",
      "(P/Km2)                            195 non-null    object \n",
      " 2   Abbreviation                               188 non-null    object \n",
      " 3   Agricultural Land( %)                      188 non-null    object \n",
      " 4   Land Area(Km2)                             194 non-null    object \n",
      " 5   Armed Forces size                          171 non-null    object \n",
      " 6   Birth Rate                                 189 non-null    float64\n",
      " 7   Calling Code                               194 non-null    float64\n",
      " 8   Capital/Major City                         192 non-null    object \n",
      " 9   Co2-Emissions                              188 non-null    object \n",
      " 10  CPI                                        178 non-null    object \n",
      " 11  CPI Change (%)                             179 non-null    object \n",
      " 12  Currency-Code                              180 non-null    object \n",
      " 13  Fertility Rate                             188 non-null    float64\n",
      " 14  Forested Area (%)                          188 non-null    object \n",
      " 15  Gasoline Price                             175 non-null    object \n",
      " 16  GDP                                        193 non-null    object \n",
      " 17  Gross primary education enrollment (%)     188 non-null    object \n",
      " 18  Gross tertiary education enrollment (%)    183 non-null    object \n",
      " 19  Infant mortality                           189 non-null    float64\n",
      " 20  Largest city                               189 non-null    object \n",
      " 21  Life expectancy                            187 non-null    float64\n",
      " 22  Maternal mortality ratio                   181 non-null    float64\n",
      " 23  Minimum wage                               150 non-null    object \n",
      " 24  Official language                          194 non-null    object \n",
      " 25  Out of pocket health expenditure           188 non-null    object \n",
      " 26  Physicians per thousand                    188 non-null    float64\n",
      " 27  Population                                 194 non-null    object \n",
      " 28  Population: Labor force participation (%)  176 non-null    object \n",
      " 29  Tax revenue (%)                            169 non-null    object \n",
      " 30  Total tax rate                             183 non-null    object \n",
      " 31  Unemployment rate                          176 non-null    object \n",
      " 32  Urban_population                           190 non-null    object \n",
      " 33  Latitude                                   194 non-null    float64\n",
      " 34  Longitude                                  194 non-null    float64\n",
      "dtypes: float64(9), object(26)\n",
      "memory usage: 320.3 KB\n"
     ]
    }
   ],
   "source": [
    "df1.info(memory_usage='deep')\n"
   ]
  },
  {
   "cell_type": "code",
   "execution_count": null,
   "id": "95e99784",
   "metadata": {},
   "outputs": [],
   "source": []
  },
  {
   "cell_type": "code",
   "execution_count": 40,
   "id": "ca9d7fd3",
   "metadata": {},
   "outputs": [
    {
     "ename": "SyntaxError",
     "evalue": "(unicode error) 'unicodeescape' codec can't decode bytes in position 2-3: truncated \\UXXXXXXXX escape (3909121369.py, line 1)",
     "output_type": "error",
     "traceback": [
      "\u001b[1;36m  Cell \u001b[1;32mIn[40], line 1\u001b[1;36m\u001b[0m\n\u001b[1;33m    df1.to_excel('C:\\Users\\Acer\\Downloads\\world_data_2023.csv')\u001b[0m\n\u001b[1;37m                                                              ^\u001b[0m\n\u001b[1;31mSyntaxError\u001b[0m\u001b[1;31m:\u001b[0m (unicode error) 'unicodeescape' codec can't decode bytes in position 2-3: truncated \\UXXXXXXXX escape\n"
     ]
    }
   ],
   "source": [
    "df1.to_excel('C:\\Users\\Acer\\Downloads\\world_data_2023.csv')"
   ]
  },
  {
   "cell_type": "code",
   "execution_count": null,
   "id": "c9feeb87",
   "metadata": {},
   "outputs": [],
   "source": []
  },
  {
   "cell_type": "code",
   "execution_count": null,
   "id": "cf7d5ea3",
   "metadata": {},
   "outputs": [],
   "source": []
  },
  {
   "cell_type": "code",
   "execution_count": null,
   "id": "9ef01f8d",
   "metadata": {},
   "outputs": [],
   "source": []
  },
  {
   "cell_type": "code",
   "execution_count": null,
   "id": "7050cc2f",
   "metadata": {},
   "outputs": [],
   "source": []
  },
  {
   "cell_type": "code",
   "execution_count": null,
   "id": "64bea2bb",
   "metadata": {},
   "outputs": [],
   "source": []
  },
  {
   "cell_type": "code",
   "execution_count": null,
   "id": "9adfb265",
   "metadata": {},
   "outputs": [],
   "source": []
  },
  {
   "cell_type": "code",
   "execution_count": null,
   "id": "5e4e5ac6",
   "metadata": {},
   "outputs": [],
   "source": [
    "file read\n",
    "head\n",
    "tail\n",
    "info\n",
    "describe\n",
    "unique\n",
    "null_value chack\n",
    "fill missing value\n",
    "sorting\n",
    "univariate analysis\n",
    "bivariate analysis\n",
    "multivariate analysis"
   ]
  },
  {
   "cell_type": "code",
   "execution_count": null,
   "id": "7aeff883",
   "metadata": {},
   "outputs": [],
   "source": []
  },
  {
   "cell_type": "code",
   "execution_count": null,
   "id": "0e3504af",
   "metadata": {},
   "outputs": [],
   "source": []
  },
  {
   "cell_type": "code",
   "execution_count": null,
   "id": "054b2c52",
   "metadata": {},
   "outputs": [],
   "source": []
  },
  {
   "cell_type": "code",
   "execution_count": null,
   "id": "a2164e31",
   "metadata": {},
   "outputs": [],
   "source": []
  },
  {
   "cell_type": "code",
   "execution_count": null,
   "id": "ca867e49",
   "metadata": {},
   "outputs": [],
   "source": []
  },
  {
   "cell_type": "code",
   "execution_count": null,
   "id": "f89f342b",
   "metadata": {},
   "outputs": [],
   "source": []
  },
  {
   "cell_type": "code",
   "execution_count": null,
   "id": "f4c4d0c7",
   "metadata": {},
   "outputs": [],
   "source": []
  },
  {
   "cell_type": "code",
   "execution_count": null,
   "id": "7a547782",
   "metadata": {},
   "outputs": [],
   "source": []
  }
 ],
 "metadata": {
  "kernelspec": {
   "display_name": "Python 3 (ipykernel)",
   "language": "python",
   "name": "python3"
  },
  "language_info": {
   "codemirror_mode": {
    "name": "ipython",
    "version": 3
   },
   "file_extension": ".py",
   "mimetype": "text/x-python",
   "name": "python",
   "nbconvert_exporter": "python",
   "pygments_lexer": "ipython3",
   "version": "3.11.5"
  }
 },
 "nbformat": 4,
 "nbformat_minor": 5
}
