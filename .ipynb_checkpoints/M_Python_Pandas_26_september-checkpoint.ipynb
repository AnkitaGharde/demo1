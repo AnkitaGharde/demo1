{
 "cells": [
  {
   "cell_type": "markdown",
   "id": "c43ec2d6",
   "metadata": {},
   "source": [
    "- Merge\n",
    "- groupby()\n",
    "- Crosstab\n",
    "- pivot\n",
    "- pivot_table\n",
    "- datetime module\n",
    "- Aggregate Function"
   ]
  },
  {
   "cell_type": "code",
   "execution_count": null,
   "id": "23da7ea7",
   "metadata": {},
   "outputs": [],
   "source": []
  },
  {
   "cell_type": "markdown",
   "id": "ec50ad8d",
   "metadata": {},
   "source": [
    "## Merge"
   ]
  },
  {
   "cell_type": "raw",
   "id": "82e4535a",
   "metadata": {},
   "source": [
    "The merge() function in Pandas combines two or more DataFrames by matching rows based on specified columns, allowing you to create a single unified dataset."
   ]
  },
  {
   "cell_type": "markdown",
   "id": "f41c5086",
   "metadata": {},
   "source": [
    "- inner\n",
    "- left\n",
    "- right\n",
    "- outer"
   ]
  },
  {
   "cell_type": "markdown",
   "id": "be5a0066",
   "metadata": {},
   "source": [
    "### syntax"
   ]
  },
  {
   "cell_type": "raw",
   "id": "9a54019c",
   "metadata": {},
   "source": [
    "pd.merge(dataframe1,dataframe2,on='column_name',how='merging_method')"
   ]
  },
  {
   "cell_type": "code",
   "execution_count": null,
   "id": "bed2cb84",
   "metadata": {},
   "outputs": [],
   "source": []
  },
  {
   "cell_type": "code",
   "execution_count": null,
   "id": "0257dd45",
   "metadata": {},
   "outputs": [],
   "source": []
  },
  {
   "cell_type": "markdown",
   "id": "a648eeec",
   "metadata": {},
   "source": [
    "### example"
   ]
  },
  {
   "cell_type": "code",
   "execution_count": 51,
   "id": "1c840298",
   "metadata": {},
   "outputs": [
    {
     "data": {
      "text/html": [
       "<div>\n",
       "<style scoped>\n",
       "    .dataframe tbody tr th:only-of-type {\n",
       "        vertical-align: middle;\n",
       "    }\n",
       "\n",
       "    .dataframe tbody tr th {\n",
       "        vertical-align: top;\n",
       "    }\n",
       "\n",
       "    .dataframe thead th {\n",
       "        text-align: right;\n",
       "    }\n",
       "</style>\n",
       "<table border=\"1\" class=\"dataframe\">\n",
       "  <thead>\n",
       "    <tr style=\"text-align: right;\">\n",
       "      <th></th>\n",
       "      <th>Name</th>\n",
       "      <th>ID</th>\n",
       "      <th>Cities</th>\n",
       "    </tr>\n",
       "  </thead>\n",
       "  <tbody>\n",
       "    <tr>\n",
       "      <th>0</th>\n",
       "      <td>komal</td>\n",
       "      <td>101</td>\n",
       "      <td>Bhandara</td>\n",
       "    </tr>\n",
       "    <tr>\n",
       "      <th>1</th>\n",
       "      <td>kartik</td>\n",
       "      <td>102</td>\n",
       "      <td>nagpur</td>\n",
       "    </tr>\n",
       "    <tr>\n",
       "      <th>2</th>\n",
       "      <td>priya</td>\n",
       "      <td>103</td>\n",
       "      <td>pune</td>\n",
       "    </tr>\n",
       "  </tbody>\n",
       "</table>\n",
       "</div>"
      ],
      "text/plain": [
       "     Name   ID    Cities\n",
       "0   komal  101  Bhandara\n",
       "1  kartik  102    nagpur\n",
       "2   priya  103      pune"
      ]
     },
     "execution_count": 51,
     "metadata": {},
     "output_type": "execute_result"
    }
   ],
   "source": [
    "a1=pd.DataFrame({'Name':['komal','kartik','priya'],'ID':[101,102,103],'Cities':['Bhandara','nagpur','pune']})\n",
    "\n",
    "a1"
   ]
  },
  {
   "cell_type": "code",
   "execution_count": 52,
   "id": "a3ede133",
   "metadata": {},
   "outputs": [
    {
     "data": {
      "text/html": [
       "<div>\n",
       "<style scoped>\n",
       "    .dataframe tbody tr th:only-of-type {\n",
       "        vertical-align: middle;\n",
       "    }\n",
       "\n",
       "    .dataframe tbody tr th {\n",
       "        vertical-align: top;\n",
       "    }\n",
       "\n",
       "    .dataframe thead th {\n",
       "        text-align: right;\n",
       "    }\n",
       "</style>\n",
       "<table border=\"1\" class=\"dataframe\">\n",
       "  <thead>\n",
       "    <tr style=\"text-align: right;\">\n",
       "      <th></th>\n",
       "      <th>Name</th>\n",
       "      <th>ID</th>\n",
       "      <th>Cities</th>\n",
       "    </tr>\n",
       "  </thead>\n",
       "  <tbody>\n",
       "    <tr>\n",
       "      <th>0</th>\n",
       "      <td>nidhi</td>\n",
       "      <td>101</td>\n",
       "      <td>pune</td>\n",
       "    </tr>\n",
       "    <tr>\n",
       "      <th>1</th>\n",
       "      <td>poonam</td>\n",
       "      <td>105</td>\n",
       "      <td>hyd</td>\n",
       "    </tr>\n",
       "    <tr>\n",
       "      <th>2</th>\n",
       "      <td>nikita</td>\n",
       "      <td>103</td>\n",
       "      <td>mumbai</td>\n",
       "    </tr>\n",
       "  </tbody>\n",
       "</table>\n",
       "</div>"
      ],
      "text/plain": [
       "     Name   ID  Cities\n",
       "0   nidhi  101    pune\n",
       "1  poonam  105     hyd\n",
       "2  nikita  103  mumbai"
      ]
     },
     "execution_count": 52,
     "metadata": {},
     "output_type": "execute_result"
    }
   ],
   "source": [
    "\n",
    "a2=pd.DataFrame({'Name':['nidhi','poonam','nikita'],'ID':[101,105,103],'Cities':['pune','hyd','mumbai']})\n",
    "\n",
    "a2"
   ]
  },
  {
   "cell_type": "code",
   "execution_count": null,
   "id": "feafded9",
   "metadata": {},
   "outputs": [],
   "source": []
  },
  {
   "cell_type": "markdown",
   "id": "20ccb96d",
   "metadata": {},
   "source": [
    "## inner"
   ]
  },
  {
   "cell_type": "markdown",
   "id": "fc7f7043",
   "metadata": {},
   "source": [
    "#### inner merge only show matching records from both the dataframe."
   ]
  },
  {
   "cell_type": "code",
   "execution_count": 54,
   "id": "d0f1cf44",
   "metadata": {},
   "outputs": [
    {
     "data": {
      "text/html": [
       "<div>\n",
       "<style scoped>\n",
       "    .dataframe tbody tr th:only-of-type {\n",
       "        vertical-align: middle;\n",
       "    }\n",
       "\n",
       "    .dataframe tbody tr th {\n",
       "        vertical-align: top;\n",
       "    }\n",
       "\n",
       "    .dataframe thead th {\n",
       "        text-align: right;\n",
       "    }\n",
       "</style>\n",
       "<table border=\"1\" class=\"dataframe\">\n",
       "  <thead>\n",
       "    <tr style=\"text-align: right;\">\n",
       "      <th></th>\n",
       "      <th>Name_x</th>\n",
       "      <th>ID</th>\n",
       "      <th>Cities_x</th>\n",
       "      <th>Name_y</th>\n",
       "      <th>Cities_y</th>\n",
       "    </tr>\n",
       "  </thead>\n",
       "  <tbody>\n",
       "    <tr>\n",
       "      <th>0</th>\n",
       "      <td>komal</td>\n",
       "      <td>101</td>\n",
       "      <td>Bhandara</td>\n",
       "      <td>nidhi</td>\n",
       "      <td>pune</td>\n",
       "    </tr>\n",
       "    <tr>\n",
       "      <th>1</th>\n",
       "      <td>priya</td>\n",
       "      <td>103</td>\n",
       "      <td>pune</td>\n",
       "      <td>nikita</td>\n",
       "      <td>mumbai</td>\n",
       "    </tr>\n",
       "  </tbody>\n",
       "</table>\n",
       "</div>"
      ],
      "text/plain": [
       "  Name_x   ID  Cities_x  Name_y Cities_y\n",
       "0  komal  101  Bhandara   nidhi     pune\n",
       "1  priya  103      pune  nikita   mumbai"
      ]
     },
     "execution_count": 54,
     "metadata": {},
     "output_type": "execute_result"
    }
   ],
   "source": [
    "d3=pd.merge(a1,a2,on='ID',how='inner')## Merging two DataFrames 'a1' and 'a2' based on the 'ID' column using an inner join.\n",
    "\n",
    "d3                                  # return matching records from both the datasets\n",
    "\n"
   ]
  },
  {
   "cell_type": "code",
   "execution_count": null,
   "id": "a894d075",
   "metadata": {},
   "outputs": [],
   "source": []
  },
  {
   "cell_type": "markdown",
   "id": "32919bc9",
   "metadata": {},
   "source": [
    "### left"
   ]
  },
  {
   "cell_type": "raw",
   "id": "8c4c8f93",
   "metadata": {},
   "source": [
    "display full records from left dataframe and only matching records from right dataframe"
   ]
  },
  {
   "cell_type": "markdown",
   "id": "4a49c26a",
   "metadata": {},
   "source": [
    "#### example"
   ]
  },
  {
   "cell_type": "code",
   "execution_count": 41,
   "id": "a0f19bb2",
   "metadata": {},
   "outputs": [
    {
     "data": {
      "text/html": [
       "<div>\n",
       "<style scoped>\n",
       "    .dataframe tbody tr th:only-of-type {\n",
       "        vertical-align: middle;\n",
       "    }\n",
       "\n",
       "    .dataframe tbody tr th {\n",
       "        vertical-align: top;\n",
       "    }\n",
       "\n",
       "    .dataframe thead th {\n",
       "        text-align: right;\n",
       "    }\n",
       "</style>\n",
       "<table border=\"1\" class=\"dataframe\">\n",
       "  <thead>\n",
       "    <tr style=\"text-align: right;\">\n",
       "      <th></th>\n",
       "      <th>Name_x</th>\n",
       "      <th>ID</th>\n",
       "      <th>Cities_x</th>\n",
       "      <th>Name_y</th>\n",
       "      <th>Cities_y</th>\n",
       "    </tr>\n",
       "  </thead>\n",
       "  <tbody>\n",
       "    <tr>\n",
       "      <th>0</th>\n",
       "      <td>komal</td>\n",
       "      <td>101</td>\n",
       "      <td>Bhandara</td>\n",
       "      <td>nidhi</td>\n",
       "      <td>pune</td>\n",
       "    </tr>\n",
       "    <tr>\n",
       "      <th>1</th>\n",
       "      <td>kartik</td>\n",
       "      <td>102</td>\n",
       "      <td>nagpur</td>\n",
       "      <td>NaN</td>\n",
       "      <td>NaN</td>\n",
       "    </tr>\n",
       "    <tr>\n",
       "      <th>2</th>\n",
       "      <td>priya</td>\n",
       "      <td>103</td>\n",
       "      <td>pune</td>\n",
       "      <td>nikita</td>\n",
       "      <td>mumbai</td>\n",
       "    </tr>\n",
       "  </tbody>\n",
       "</table>\n",
       "</div>"
      ],
      "text/plain": [
       "   Name_x   ID  Cities_x  Name_y Cities_y\n",
       "0   komal  101  Bhandara   nidhi     pune\n",
       "1  kartik  102    nagpur     NaN      NaN\n",
       "2   priya  103      pune  nikita   mumbai"
      ]
     },
     "execution_count": 41,
     "metadata": {},
     "output_type": "execute_result"
    }
   ],
   "source": [
    "d4=pd.merge(a1,a2,on='ID',how='left')\n",
    "\n",
    "d4"
   ]
  },
  {
   "cell_type": "code",
   "execution_count": null,
   "id": "032891dc",
   "metadata": {},
   "outputs": [],
   "source": []
  },
  {
   "cell_type": "code",
   "execution_count": null,
   "id": "7726004a",
   "metadata": {},
   "outputs": [],
   "source": []
  },
  {
   "cell_type": "markdown",
   "id": "05c34391",
   "metadata": {},
   "source": [
    "### right"
   ]
  },
  {
   "cell_type": "code",
   "execution_count": null,
   "id": "28feb337",
   "metadata": {},
   "outputs": [],
   "source": [
    "display full records from right dataframe and only matching records from left dataframe"
   ]
  },
  {
   "cell_type": "code",
   "execution_count": null,
   "id": "84d61409",
   "metadata": {},
   "outputs": [],
   "source": []
  },
  {
   "cell_type": "code",
   "execution_count": 55,
   "id": "6878940f",
   "metadata": {},
   "outputs": [
    {
     "data": {
      "text/html": [
       "<div>\n",
       "<style scoped>\n",
       "    .dataframe tbody tr th:only-of-type {\n",
       "        vertical-align: middle;\n",
       "    }\n",
       "\n",
       "    .dataframe tbody tr th {\n",
       "        vertical-align: top;\n",
       "    }\n",
       "\n",
       "    .dataframe thead th {\n",
       "        text-align: right;\n",
       "    }\n",
       "</style>\n",
       "<table border=\"1\" class=\"dataframe\">\n",
       "  <thead>\n",
       "    <tr style=\"text-align: right;\">\n",
       "      <th></th>\n",
       "      <th>Name_x</th>\n",
       "      <th>ID</th>\n",
       "      <th>Cities_x</th>\n",
       "      <th>Name_y</th>\n",
       "      <th>Cities_y</th>\n",
       "    </tr>\n",
       "  </thead>\n",
       "  <tbody>\n",
       "    <tr>\n",
       "      <th>0</th>\n",
       "      <td>komal</td>\n",
       "      <td>101</td>\n",
       "      <td>Bhandara</td>\n",
       "      <td>nidhi</td>\n",
       "      <td>pune</td>\n",
       "    </tr>\n",
       "    <tr>\n",
       "      <th>1</th>\n",
       "      <td>NaN</td>\n",
       "      <td>105</td>\n",
       "      <td>NaN</td>\n",
       "      <td>poonam</td>\n",
       "      <td>hyd</td>\n",
       "    </tr>\n",
       "    <tr>\n",
       "      <th>2</th>\n",
       "      <td>priya</td>\n",
       "      <td>103</td>\n",
       "      <td>pune</td>\n",
       "      <td>nikita</td>\n",
       "      <td>mumbai</td>\n",
       "    </tr>\n",
       "  </tbody>\n",
       "</table>\n",
       "</div>"
      ],
      "text/plain": [
       "  Name_x   ID  Cities_x  Name_y Cities_y\n",
       "0  komal  101  Bhandara   nidhi     pune\n",
       "1    NaN  105       NaN  poonam      hyd\n",
       "2  priya  103      pune  nikita   mumbai"
      ]
     },
     "execution_count": 55,
     "metadata": {},
     "output_type": "execute_result"
    }
   ],
   "source": [
    "d5=pd.merge(a1,a2,on='ID',how='right')\n",
    "\n",
    "d5"
   ]
  },
  {
   "cell_type": "code",
   "execution_count": null,
   "id": "a7ba7a71",
   "metadata": {},
   "outputs": [],
   "source": []
  },
  {
   "cell_type": "code",
   "execution_count": null,
   "id": "b3123dc4",
   "metadata": {},
   "outputs": [],
   "source": []
  },
  {
   "cell_type": "markdown",
   "id": "aca9b9d7",
   "metadata": {},
   "source": [
    "### outer"
   ]
  },
  {
   "cell_type": "markdown",
   "id": "fa19a815",
   "metadata": {},
   "source": [
    "#### display full record from both the dataframes"
   ]
  },
  {
   "cell_type": "code",
   "execution_count": null,
   "id": "d7fffd36",
   "metadata": {},
   "outputs": [],
   "source": []
  },
  {
   "cell_type": "code",
   "execution_count": 56,
   "id": "361e7a53",
   "metadata": {},
   "outputs": [
    {
     "data": {
      "text/html": [
       "<div>\n",
       "<style scoped>\n",
       "    .dataframe tbody tr th:only-of-type {\n",
       "        vertical-align: middle;\n",
       "    }\n",
       "\n",
       "    .dataframe tbody tr th {\n",
       "        vertical-align: top;\n",
       "    }\n",
       "\n",
       "    .dataframe thead th {\n",
       "        text-align: right;\n",
       "    }\n",
       "</style>\n",
       "<table border=\"1\" class=\"dataframe\">\n",
       "  <thead>\n",
       "    <tr style=\"text-align: right;\">\n",
       "      <th></th>\n",
       "      <th>Name_x</th>\n",
       "      <th>ID</th>\n",
       "      <th>Cities_x</th>\n",
       "      <th>Name_y</th>\n",
       "      <th>Cities_y</th>\n",
       "    </tr>\n",
       "  </thead>\n",
       "  <tbody>\n",
       "    <tr>\n",
       "      <th>0</th>\n",
       "      <td>komal</td>\n",
       "      <td>101</td>\n",
       "      <td>Bhandara</td>\n",
       "      <td>nidhi</td>\n",
       "      <td>pune</td>\n",
       "    </tr>\n",
       "    <tr>\n",
       "      <th>1</th>\n",
       "      <td>kartik</td>\n",
       "      <td>102</td>\n",
       "      <td>nagpur</td>\n",
       "      <td>NaN</td>\n",
       "      <td>NaN</td>\n",
       "    </tr>\n",
       "    <tr>\n",
       "      <th>2</th>\n",
       "      <td>priya</td>\n",
       "      <td>103</td>\n",
       "      <td>pune</td>\n",
       "      <td>nikita</td>\n",
       "      <td>mumbai</td>\n",
       "    </tr>\n",
       "    <tr>\n",
       "      <th>3</th>\n",
       "      <td>NaN</td>\n",
       "      <td>105</td>\n",
       "      <td>NaN</td>\n",
       "      <td>poonam</td>\n",
       "      <td>hyd</td>\n",
       "    </tr>\n",
       "  </tbody>\n",
       "</table>\n",
       "</div>"
      ],
      "text/plain": [
       "   Name_x   ID  Cities_x  Name_y Cities_y\n",
       "0   komal  101  Bhandara   nidhi     pune\n",
       "1  kartik  102    nagpur     NaN      NaN\n",
       "2   priya  103      pune  nikita   mumbai\n",
       "3     NaN  105       NaN  poonam      hyd"
      ]
     },
     "execution_count": 56,
     "metadata": {},
     "output_type": "execute_result"
    }
   ],
   "source": [
    "d4=pd.merge(a1,a2,on='ID',how='outer')\n",
    "\n",
    "d4"
   ]
  },
  {
   "cell_type": "code",
   "execution_count": null,
   "id": "288de1a9",
   "metadata": {},
   "outputs": [],
   "source": []
  },
  {
   "cell_type": "code",
   "execution_count": 1,
   "id": "12b8b204",
   "metadata": {},
   "outputs": [],
   "source": [
    "###########################################################33"
   ]
  },
  {
   "cell_type": "markdown",
   "id": "b6b1c732",
   "metadata": {},
   "source": [
    "## groupby()"
   ]
  },
  {
   "cell_type": "raw",
   "id": "9e9cd32f",
   "metadata": {},
   "source": [
    "The groupby is one of the most frequently used Pandas functions in data analysis. It is used for grouping the data points (i.e. rows) based on the distinct values in the given column or columns. We can then calculate aggregated values for the generated groups."
   ]
  },
  {
   "cell_type": "code",
   "execution_count": null,
   "id": "ecb2f9a0",
   "metadata": {},
   "outputs": [],
   "source": []
  },
  {
   "cell_type": "code",
   "execution_count": null,
   "id": "18a5a3c6",
   "metadata": {},
   "outputs": [],
   "source": []
  },
  {
   "cell_type": "code",
   "execution_count": null,
   "id": "5fdd837b",
   "metadata": {},
   "outputs": [],
   "source": []
  },
  {
   "cell_type": "code",
   "execution_count": 2,
   "id": "a81ff14d",
   "metadata": {},
   "outputs": [],
   "source": [
    "#example\n",
    "\n",
    "# g=df1.groupby('gender')\n",
    "\n",
    "# g.get_group('M')\n",
    "\n",
    "# g1.get_group('F')['salary']\n",
    "\n",
    "# g.get_group('M')['salary'].mean()\n",
    "\n",
    "\n",
    "\n",
    "# g2 = df1.groupby(['gender','city'])\n",
    "\n",
    "# g2.get_group(('M','pune'))['salary']"
   ]
  },
  {
   "cell_type": "code",
   "execution_count": null,
   "id": "54b9c1e9",
   "metadata": {},
   "outputs": [],
   "source": []
  },
  {
   "cell_type": "code",
   "execution_count": 42,
   "id": "02157207",
   "metadata": {},
   "outputs": [
    {
     "data": {
      "text/html": [
       "<div>\n",
       "<style scoped>\n",
       "    .dataframe tbody tr th:only-of-type {\n",
       "        vertical-align: middle;\n",
       "    }\n",
       "\n",
       "    .dataframe tbody tr th {\n",
       "        vertical-align: top;\n",
       "    }\n",
       "\n",
       "    .dataframe thead th {\n",
       "        text-align: right;\n",
       "    }\n",
       "</style>\n",
       "<table border=\"1\" class=\"dataframe\">\n",
       "  <thead>\n",
       "    <tr style=\"text-align: right;\">\n",
       "      <th></th>\n",
       "      <th>Id</th>\n",
       "      <th>gender</th>\n",
       "      <th>city</th>\n",
       "      <th>experience</th>\n",
       "      <th>salary</th>\n",
       "    </tr>\n",
       "  </thead>\n",
       "  <tbody>\n",
       "    <tr>\n",
       "      <th>0</th>\n",
       "      <td>1001</td>\n",
       "      <td>M</td>\n",
       "      <td>pune</td>\n",
       "      <td>1</td>\n",
       "      <td>10000.0</td>\n",
       "    </tr>\n",
       "    <tr>\n",
       "      <th>1</th>\n",
       "      <td>1002</td>\n",
       "      <td>F</td>\n",
       "      <td>mumbai</td>\n",
       "      <td>5</td>\n",
       "      <td>50000.0</td>\n",
       "    </tr>\n",
       "    <tr>\n",
       "      <th>2</th>\n",
       "      <td>1003</td>\n",
       "      <td>M</td>\n",
       "      <td>pune</td>\n",
       "      <td>4</td>\n",
       "      <td>NaN</td>\n",
       "    </tr>\n",
       "    <tr>\n",
       "      <th>3</th>\n",
       "      <td>1004</td>\n",
       "      <td>M</td>\n",
       "      <td>beed</td>\n",
       "      <td>6</td>\n",
       "      <td>60000.0</td>\n",
       "    </tr>\n",
       "    <tr>\n",
       "      <th>4</th>\n",
       "      <td>1005</td>\n",
       "      <td>F</td>\n",
       "      <td>beed</td>\n",
       "      <td>7</td>\n",
       "      <td>70000.0</td>\n",
       "    </tr>\n",
       "    <tr>\n",
       "      <th>5</th>\n",
       "      <td>1006</td>\n",
       "      <td>M</td>\n",
       "      <td>bhandara</td>\n",
       "      <td>5</td>\n",
       "      <td>50000.0</td>\n",
       "    </tr>\n",
       "    <tr>\n",
       "      <th>6</th>\n",
       "      <td>1007</td>\n",
       "      <td>F</td>\n",
       "      <td>beed</td>\n",
       "      <td>2</td>\n",
       "      <td>20000.0</td>\n",
       "    </tr>\n",
       "    <tr>\n",
       "      <th>7</th>\n",
       "      <td>1008</td>\n",
       "      <td>F</td>\n",
       "      <td>pune</td>\n",
       "      <td>8</td>\n",
       "      <td>80000.0</td>\n",
       "    </tr>\n",
       "    <tr>\n",
       "      <th>8</th>\n",
       "      <td>1009</td>\n",
       "      <td>F</td>\n",
       "      <td>nagpur</td>\n",
       "      <td>6</td>\n",
       "      <td>60000.0</td>\n",
       "    </tr>\n",
       "    <tr>\n",
       "      <th>9</th>\n",
       "      <td>1010</td>\n",
       "      <td>F</td>\n",
       "      <td>pune</td>\n",
       "      <td>3</td>\n",
       "      <td>30000.0</td>\n",
       "    </tr>\n",
       "    <tr>\n",
       "      <th>10</th>\n",
       "      <td>1011</td>\n",
       "      <td>M</td>\n",
       "      <td>nagpur</td>\n",
       "      <td>9</td>\n",
       "      <td>90000.0</td>\n",
       "    </tr>\n",
       "    <tr>\n",
       "      <th>11</th>\n",
       "      <td>1012</td>\n",
       "      <td>F</td>\n",
       "      <td>gondia</td>\n",
       "      <td>4</td>\n",
       "      <td>40000.0</td>\n",
       "    </tr>\n",
       "    <tr>\n",
       "      <th>12</th>\n",
       "      <td>1013</td>\n",
       "      <td>F</td>\n",
       "      <td>bhandara</td>\n",
       "      <td>1</td>\n",
       "      <td>10000.0</td>\n",
       "    </tr>\n",
       "    <tr>\n",
       "      <th>13</th>\n",
       "      <td>1014</td>\n",
       "      <td>M</td>\n",
       "      <td>gondia</td>\n",
       "      <td>8</td>\n",
       "      <td>80000.0</td>\n",
       "    </tr>\n",
       "    <tr>\n",
       "      <th>14</th>\n",
       "      <td>1015</td>\n",
       "      <td>M</td>\n",
       "      <td>nagpur</td>\n",
       "      <td>5</td>\n",
       "      <td>50000.0</td>\n",
       "    </tr>\n",
       "  </tbody>\n",
       "</table>\n",
       "</div>"
      ],
      "text/plain": [
       "      Id gender      city  experience   salary\n",
       "0   1001      M      pune           1  10000.0\n",
       "1   1002      F    mumbai           5  50000.0\n",
       "2   1003      M      pune           4      NaN\n",
       "3   1004      M      beed           6  60000.0\n",
       "4   1005      F      beed           7  70000.0\n",
       "5   1006      M  bhandara           5  50000.0\n",
       "6   1007      F      beed           2  20000.0\n",
       "7   1008      F      pune           8  80000.0\n",
       "8   1009      F    nagpur           6  60000.0\n",
       "9   1010      F      pune           3  30000.0\n",
       "10  1011      M    nagpur           9  90000.0\n",
       "11  1012      F    gondia           4  40000.0\n",
       "12  1013      F  bhandara           1  10000.0\n",
       "13  1014      M    gondia           8  80000.0\n",
       "14  1015      M    nagpur           5  50000.0"
      ]
     },
     "execution_count": 42,
     "metadata": {},
     "output_type": "execute_result"
    }
   ],
   "source": [
    "df1 =pd.read_csv(r\"Employee.csv\")\n",
    "\n",
    "df1"
   ]
  },
  {
   "cell_type": "code",
   "execution_count": null,
   "id": "ae93a0f8",
   "metadata": {},
   "outputs": [],
   "source": []
  },
  {
   "cell_type": "markdown",
   "id": "36f45beb",
   "metadata": {},
   "source": [
    "#### example"
   ]
  },
  {
   "cell_type": "code",
   "execution_count": 43,
   "id": "b6411221",
   "metadata": {},
   "outputs": [
    {
     "data": {
      "text/plain": [
       "<pandas.core.groupby.generic.DataFrameGroupBy object at 0x000001AFC0E7A2F0>"
      ]
     },
     "execution_count": 43,
     "metadata": {},
     "output_type": "execute_result"
    }
   ],
   "source": [
    "g=df1.groupby('gender')         # Grouping the DataFrame 'df1' by the 'gender' column.\n",
    "\n",
    "g"
   ]
  },
  {
   "cell_type": "code",
   "execution_count": null,
   "id": "d443be09",
   "metadata": {},
   "outputs": [],
   "source": []
  },
  {
   "cell_type": "code",
   "execution_count": 45,
   "id": "c98f368d",
   "metadata": {},
   "outputs": [
    {
     "data": {
      "text/plain": [
       "{'F': [1, 4, 6, 7, 8, 9, 11, 12], 'M': [0, 2, 3, 5, 10, 13, 14]}"
      ]
     },
     "execution_count": 45,
     "metadata": {},
     "output_type": "execute_result"
    }
   ],
   "source": [
    "g.groups      # Accessing the groups created by the 'groupby' operation and displaying them."
   ]
  },
  {
   "cell_type": "code",
   "execution_count": null,
   "id": "9da41806",
   "metadata": {},
   "outputs": [],
   "source": []
  },
  {
   "cell_type": "code",
   "execution_count": 46,
   "id": "0f097207",
   "metadata": {
    "scrolled": true
   },
   "outputs": [
    {
     "data": {
      "text/html": [
       "<div>\n",
       "<style scoped>\n",
       "    .dataframe tbody tr th:only-of-type {\n",
       "        vertical-align: middle;\n",
       "    }\n",
       "\n",
       "    .dataframe tbody tr th {\n",
       "        vertical-align: top;\n",
       "    }\n",
       "\n",
       "    .dataframe thead th {\n",
       "        text-align: right;\n",
       "    }\n",
       "</style>\n",
       "<table border=\"1\" class=\"dataframe\">\n",
       "  <thead>\n",
       "    <tr style=\"text-align: right;\">\n",
       "      <th></th>\n",
       "      <th>Id</th>\n",
       "      <th>gender</th>\n",
       "      <th>city</th>\n",
       "      <th>experience</th>\n",
       "      <th>salary</th>\n",
       "    </tr>\n",
       "  </thead>\n",
       "  <tbody>\n",
       "    <tr>\n",
       "      <th>0</th>\n",
       "      <td>1001</td>\n",
       "      <td>M</td>\n",
       "      <td>pune</td>\n",
       "      <td>1</td>\n",
       "      <td>10000.0</td>\n",
       "    </tr>\n",
       "    <tr>\n",
       "      <th>2</th>\n",
       "      <td>1003</td>\n",
       "      <td>M</td>\n",
       "      <td>pune</td>\n",
       "      <td>4</td>\n",
       "      <td>NaN</td>\n",
       "    </tr>\n",
       "    <tr>\n",
       "      <th>3</th>\n",
       "      <td>1004</td>\n",
       "      <td>M</td>\n",
       "      <td>beed</td>\n",
       "      <td>6</td>\n",
       "      <td>60000.0</td>\n",
       "    </tr>\n",
       "    <tr>\n",
       "      <th>5</th>\n",
       "      <td>1006</td>\n",
       "      <td>M</td>\n",
       "      <td>bhandara</td>\n",
       "      <td>5</td>\n",
       "      <td>50000.0</td>\n",
       "    </tr>\n",
       "    <tr>\n",
       "      <th>10</th>\n",
       "      <td>1011</td>\n",
       "      <td>M</td>\n",
       "      <td>nagpur</td>\n",
       "      <td>9</td>\n",
       "      <td>90000.0</td>\n",
       "    </tr>\n",
       "    <tr>\n",
       "      <th>13</th>\n",
       "      <td>1014</td>\n",
       "      <td>M</td>\n",
       "      <td>gondia</td>\n",
       "      <td>8</td>\n",
       "      <td>80000.0</td>\n",
       "    </tr>\n",
       "    <tr>\n",
       "      <th>14</th>\n",
       "      <td>1015</td>\n",
       "      <td>M</td>\n",
       "      <td>nagpur</td>\n",
       "      <td>5</td>\n",
       "      <td>50000.0</td>\n",
       "    </tr>\n",
       "  </tbody>\n",
       "</table>\n",
       "</div>"
      ],
      "text/plain": [
       "      Id gender      city  experience   salary\n",
       "0   1001      M      pune           1  10000.0\n",
       "2   1003      M      pune           4      NaN\n",
       "3   1004      M      beed           6  60000.0\n",
       "5   1006      M  bhandara           5  50000.0\n",
       "10  1011      M    nagpur           9  90000.0\n",
       "13  1014      M    gondia           8  80000.0\n",
       "14  1015      M    nagpur           5  50000.0"
      ]
     },
     "execution_count": 46,
     "metadata": {},
     "output_type": "execute_result"
    }
   ],
   "source": [
    "g.get_group('M')"
   ]
  },
  {
   "cell_type": "code",
   "execution_count": null,
   "id": "748d9a29",
   "metadata": {},
   "outputs": [],
   "source": []
  },
  {
   "cell_type": "code",
   "execution_count": 47,
   "id": "cbe18af5",
   "metadata": {},
   "outputs": [
    {
     "data": {
      "text/html": [
       "<div>\n",
       "<style scoped>\n",
       "    .dataframe tbody tr th:only-of-type {\n",
       "        vertical-align: middle;\n",
       "    }\n",
       "\n",
       "    .dataframe tbody tr th {\n",
       "        vertical-align: top;\n",
       "    }\n",
       "\n",
       "    .dataframe thead th {\n",
       "        text-align: right;\n",
       "    }\n",
       "</style>\n",
       "<table border=\"1\" class=\"dataframe\">\n",
       "  <thead>\n",
       "    <tr style=\"text-align: right;\">\n",
       "      <th></th>\n",
       "      <th>Id</th>\n",
       "      <th>gender</th>\n",
       "      <th>city</th>\n",
       "      <th>experience</th>\n",
       "      <th>salary</th>\n",
       "    </tr>\n",
       "  </thead>\n",
       "  <tbody>\n",
       "    <tr>\n",
       "      <th>1</th>\n",
       "      <td>1002</td>\n",
       "      <td>F</td>\n",
       "      <td>mumbai</td>\n",
       "      <td>5</td>\n",
       "      <td>50000.0</td>\n",
       "    </tr>\n",
       "    <tr>\n",
       "      <th>4</th>\n",
       "      <td>1005</td>\n",
       "      <td>F</td>\n",
       "      <td>beed</td>\n",
       "      <td>7</td>\n",
       "      <td>70000.0</td>\n",
       "    </tr>\n",
       "    <tr>\n",
       "      <th>6</th>\n",
       "      <td>1007</td>\n",
       "      <td>F</td>\n",
       "      <td>beed</td>\n",
       "      <td>2</td>\n",
       "      <td>20000.0</td>\n",
       "    </tr>\n",
       "    <tr>\n",
       "      <th>7</th>\n",
       "      <td>1008</td>\n",
       "      <td>F</td>\n",
       "      <td>pune</td>\n",
       "      <td>8</td>\n",
       "      <td>80000.0</td>\n",
       "    </tr>\n",
       "    <tr>\n",
       "      <th>8</th>\n",
       "      <td>1009</td>\n",
       "      <td>F</td>\n",
       "      <td>nagpur</td>\n",
       "      <td>6</td>\n",
       "      <td>60000.0</td>\n",
       "    </tr>\n",
       "    <tr>\n",
       "      <th>9</th>\n",
       "      <td>1010</td>\n",
       "      <td>F</td>\n",
       "      <td>pune</td>\n",
       "      <td>3</td>\n",
       "      <td>30000.0</td>\n",
       "    </tr>\n",
       "    <tr>\n",
       "      <th>11</th>\n",
       "      <td>1012</td>\n",
       "      <td>F</td>\n",
       "      <td>gondia</td>\n",
       "      <td>4</td>\n",
       "      <td>40000.0</td>\n",
       "    </tr>\n",
       "    <tr>\n",
       "      <th>12</th>\n",
       "      <td>1013</td>\n",
       "      <td>F</td>\n",
       "      <td>bhandara</td>\n",
       "      <td>1</td>\n",
       "      <td>10000.0</td>\n",
       "    </tr>\n",
       "  </tbody>\n",
       "</table>\n",
       "</div>"
      ],
      "text/plain": [
       "      Id gender      city  experience   salary\n",
       "1   1002      F    mumbai           5  50000.0\n",
       "4   1005      F      beed           7  70000.0\n",
       "6   1007      F      beed           2  20000.0\n",
       "7   1008      F      pune           8  80000.0\n",
       "8   1009      F    nagpur           6  60000.0\n",
       "9   1010      F      pune           3  30000.0\n",
       "11  1012      F    gondia           4  40000.0\n",
       "12  1013      F  bhandara           1  10000.0"
      ]
     },
     "execution_count": 47,
     "metadata": {},
     "output_type": "execute_result"
    }
   ],
   "source": [
    "g.get_group('F')"
   ]
  },
  {
   "cell_type": "code",
   "execution_count": null,
   "id": "d5a08a66",
   "metadata": {},
   "outputs": [],
   "source": []
  },
  {
   "cell_type": "code",
   "execution_count": null,
   "id": "67fe8ff3",
   "metadata": {},
   "outputs": [],
   "source": []
  },
  {
   "cell_type": "code",
   "execution_count": 48,
   "id": "dd344f49",
   "metadata": {},
   "outputs": [
    {
     "data": {
      "text/plain": [
       "1     50000.0\n",
       "4     70000.0\n",
       "6     20000.0\n",
       "7     80000.0\n",
       "8     60000.0\n",
       "9     30000.0\n",
       "11    40000.0\n",
       "12    10000.0\n",
       "Name: salary, dtype: float64"
      ]
     },
     "execution_count": 48,
     "metadata": {},
     "output_type": "execute_result"
    }
   ],
   "source": [
    "# example3\n",
    "\n",
    "g.get_group('F')['salary']"
   ]
  },
  {
   "cell_type": "code",
   "execution_count": null,
   "id": "c39b3d3f",
   "metadata": {},
   "outputs": [],
   "source": []
  },
  {
   "cell_type": "code",
   "execution_count": 49,
   "id": "be935a15",
   "metadata": {},
   "outputs": [
    {
     "data": {
      "text/plain": [
       "45000.0"
      ]
     },
     "execution_count": 49,
     "metadata": {},
     "output_type": "execute_result"
    }
   ],
   "source": [
    "# example4\n",
    "\n",
    "#mean--->avg\n",
    "\n",
    "g.get_group('F')['salary'].mean()"
   ]
  },
  {
   "cell_type": "code",
   "execution_count": null,
   "id": "4bc2c900",
   "metadata": {},
   "outputs": [],
   "source": []
  },
  {
   "cell_type": "code",
   "execution_count": null,
   "id": "9edc4a62",
   "metadata": {},
   "outputs": [],
   "source": [
    "g.get_group('F')['salary'].mean()"
   ]
  },
  {
   "cell_type": "code",
   "execution_count": null,
   "id": "259a6918",
   "metadata": {},
   "outputs": [],
   "source": []
  },
  {
   "cell_type": "markdown",
   "id": "63991774",
   "metadata": {},
   "source": [
    "- min\n",
    "- max\n",
    "- sum\n",
    "- mean"
   ]
  },
  {
   "cell_type": "code",
   "execution_count": 50,
   "id": "92f859bd",
   "metadata": {},
   "outputs": [
    {
     "data": {
      "text/plain": [
       "<pandas.core.groupby.generic.DataFrameGroupBy object at 0x000001AFC0FB2C50>"
      ]
     },
     "execution_count": 50,
     "metadata": {},
     "output_type": "execute_result"
    }
   ],
   "source": [
    "g2 = df1.groupby(['gender','city'])\n",
    "\n",
    "g2"
   ]
  },
  {
   "cell_type": "code",
   "execution_count": null,
   "id": "7582ff6a",
   "metadata": {},
   "outputs": [],
   "source": []
  },
  {
   "cell_type": "code",
   "execution_count": 51,
   "id": "1766f90c",
   "metadata": {},
   "outputs": [
    {
     "data": {
      "text/plain": [
       "{('F', 'beed'): [4, 6], ('F', 'bhandara'): [12], ('F', 'gondia'): [11], ('F', 'mumbai'): [1], ('F', 'nagpur'): [8], ('F', 'pune'): [7, 9], ('M', 'beed'): [3], ('M', 'bhandara'): [5], ('M', 'gondia'): [13], ('M', 'nagpur'): [10, 14], ('M', 'pune'): [0, 2]}"
      ]
     },
     "execution_count": 51,
     "metadata": {},
     "output_type": "execute_result"
    }
   ],
   "source": [
    "g2.groups"
   ]
  },
  {
   "cell_type": "code",
   "execution_count": null,
   "id": "11e3276f",
   "metadata": {},
   "outputs": [],
   "source": []
  },
  {
   "cell_type": "code",
   "execution_count": 53,
   "id": "0c577961",
   "metadata": {},
   "outputs": [
    {
     "data": {
      "text/html": [
       "<div>\n",
       "<style scoped>\n",
       "    .dataframe tbody tr th:only-of-type {\n",
       "        vertical-align: middle;\n",
       "    }\n",
       "\n",
       "    .dataframe tbody tr th {\n",
       "        vertical-align: top;\n",
       "    }\n",
       "\n",
       "    .dataframe thead th {\n",
       "        text-align: right;\n",
       "    }\n",
       "</style>\n",
       "<table border=\"1\" class=\"dataframe\">\n",
       "  <thead>\n",
       "    <tr style=\"text-align: right;\">\n",
       "      <th></th>\n",
       "      <th>Id</th>\n",
       "      <th>gender</th>\n",
       "      <th>city</th>\n",
       "      <th>experience</th>\n",
       "      <th>salary</th>\n",
       "    </tr>\n",
       "  </thead>\n",
       "  <tbody>\n",
       "    <tr>\n",
       "      <th>0</th>\n",
       "      <td>1001</td>\n",
       "      <td>M</td>\n",
       "      <td>pune</td>\n",
       "      <td>1</td>\n",
       "      <td>10000.0</td>\n",
       "    </tr>\n",
       "    <tr>\n",
       "      <th>1</th>\n",
       "      <td>1002</td>\n",
       "      <td>F</td>\n",
       "      <td>mumbai</td>\n",
       "      <td>5</td>\n",
       "      <td>50000.0</td>\n",
       "    </tr>\n",
       "    <tr>\n",
       "      <th>2</th>\n",
       "      <td>1003</td>\n",
       "      <td>M</td>\n",
       "      <td>pune</td>\n",
       "      <td>4</td>\n",
       "      <td>NaN</td>\n",
       "    </tr>\n",
       "    <tr>\n",
       "      <th>3</th>\n",
       "      <td>1004</td>\n",
       "      <td>M</td>\n",
       "      <td>beed</td>\n",
       "      <td>6</td>\n",
       "      <td>60000.0</td>\n",
       "    </tr>\n",
       "    <tr>\n",
       "      <th>4</th>\n",
       "      <td>1005</td>\n",
       "      <td>F</td>\n",
       "      <td>beed</td>\n",
       "      <td>7</td>\n",
       "      <td>70000.0</td>\n",
       "    </tr>\n",
       "    <tr>\n",
       "      <th>5</th>\n",
       "      <td>1006</td>\n",
       "      <td>M</td>\n",
       "      <td>bhandara</td>\n",
       "      <td>5</td>\n",
       "      <td>50000.0</td>\n",
       "    </tr>\n",
       "    <tr>\n",
       "      <th>6</th>\n",
       "      <td>1007</td>\n",
       "      <td>F</td>\n",
       "      <td>beed</td>\n",
       "      <td>2</td>\n",
       "      <td>20000.0</td>\n",
       "    </tr>\n",
       "    <tr>\n",
       "      <th>7</th>\n",
       "      <td>1008</td>\n",
       "      <td>F</td>\n",
       "      <td>pune</td>\n",
       "      <td>8</td>\n",
       "      <td>80000.0</td>\n",
       "    </tr>\n",
       "    <tr>\n",
       "      <th>8</th>\n",
       "      <td>1009</td>\n",
       "      <td>F</td>\n",
       "      <td>nagpur</td>\n",
       "      <td>6</td>\n",
       "      <td>60000.0</td>\n",
       "    </tr>\n",
       "    <tr>\n",
       "      <th>9</th>\n",
       "      <td>1010</td>\n",
       "      <td>F</td>\n",
       "      <td>pune</td>\n",
       "      <td>3</td>\n",
       "      <td>30000.0</td>\n",
       "    </tr>\n",
       "    <tr>\n",
       "      <th>10</th>\n",
       "      <td>1011</td>\n",
       "      <td>M</td>\n",
       "      <td>nagpur</td>\n",
       "      <td>9</td>\n",
       "      <td>90000.0</td>\n",
       "    </tr>\n",
       "    <tr>\n",
       "      <th>11</th>\n",
       "      <td>1012</td>\n",
       "      <td>F</td>\n",
       "      <td>gondia</td>\n",
       "      <td>4</td>\n",
       "      <td>40000.0</td>\n",
       "    </tr>\n",
       "    <tr>\n",
       "      <th>12</th>\n",
       "      <td>1013</td>\n",
       "      <td>F</td>\n",
       "      <td>bhandara</td>\n",
       "      <td>1</td>\n",
       "      <td>10000.0</td>\n",
       "    </tr>\n",
       "    <tr>\n",
       "      <th>13</th>\n",
       "      <td>1014</td>\n",
       "      <td>M</td>\n",
       "      <td>gondia</td>\n",
       "      <td>8</td>\n",
       "      <td>80000.0</td>\n",
       "    </tr>\n",
       "    <tr>\n",
       "      <th>14</th>\n",
       "      <td>1015</td>\n",
       "      <td>M</td>\n",
       "      <td>nagpur</td>\n",
       "      <td>5</td>\n",
       "      <td>50000.0</td>\n",
       "    </tr>\n",
       "  </tbody>\n",
       "</table>\n",
       "</div>"
      ],
      "text/plain": [
       "      Id gender      city  experience   salary\n",
       "0   1001      M      pune           1  10000.0\n",
       "1   1002      F    mumbai           5  50000.0\n",
       "2   1003      M      pune           4      NaN\n",
       "3   1004      M      beed           6  60000.0\n",
       "4   1005      F      beed           7  70000.0\n",
       "5   1006      M  bhandara           5  50000.0\n",
       "6   1007      F      beed           2  20000.0\n",
       "7   1008      F      pune           8  80000.0\n",
       "8   1009      F    nagpur           6  60000.0\n",
       "9   1010      F      pune           3  30000.0\n",
       "10  1011      M    nagpur           9  90000.0\n",
       "11  1012      F    gondia           4  40000.0\n",
       "12  1013      F  bhandara           1  10000.0\n",
       "13  1014      M    gondia           8  80000.0\n",
       "14  1015      M    nagpur           5  50000.0"
      ]
     },
     "execution_count": 53,
     "metadata": {},
     "output_type": "execute_result"
    }
   ],
   "source": [
    "df1"
   ]
  },
  {
   "cell_type": "code",
   "execution_count": null,
   "id": "186c034a",
   "metadata": {},
   "outputs": [],
   "source": []
  },
  {
   "cell_type": "code",
   "execution_count": 54,
   "id": "b73a1457",
   "metadata": {},
   "outputs": [
    {
     "data": {
      "text/plain": [
       "0    10000.0\n",
       "2        NaN\n",
       "Name: salary, dtype: float64"
      ]
     },
     "execution_count": 54,
     "metadata": {},
     "output_type": "execute_result"
    }
   ],
   "source": [
    "g2.get_group(('M','pune'))['salary']"
   ]
  },
  {
   "cell_type": "code",
   "execution_count": null,
   "id": "dfec22eb",
   "metadata": {},
   "outputs": [],
   "source": []
  },
  {
   "cell_type": "code",
   "execution_count": null,
   "id": "13fec2e2",
   "metadata": {},
   "outputs": [],
   "source": []
  },
  {
   "cell_type": "code",
   "execution_count": null,
   "id": "c83a95a9",
   "metadata": {},
   "outputs": [],
   "source": []
  },
  {
   "cell_type": "code",
   "execution_count": null,
   "id": "e3689099",
   "metadata": {},
   "outputs": [],
   "source": [
    "#############################################"
   ]
  },
  {
   "cell_type": "code",
   "execution_count": null,
   "id": "5a435a26",
   "metadata": {},
   "outputs": [],
   "source": []
  },
  {
   "cell_type": "code",
   "execution_count": null,
   "id": "1d7a58e0",
   "metadata": {},
   "outputs": [],
   "source": []
  },
  {
   "cell_type": "code",
   "execution_count": null,
   "id": "b2a0c25c",
   "metadata": {},
   "outputs": [],
   "source": []
  },
  {
   "cell_type": "markdown",
   "id": "e26f65bc",
   "metadata": {},
   "source": [
    "### Crosstab"
   ]
  },
  {
   "cell_type": "markdown",
   "id": "dd32eb02",
   "metadata": {},
   "source": [
    "#### cross tabulation"
   ]
  },
  {
   "cell_type": "markdown",
   "id": "eafb9f90",
   "metadata": {},
   "source": [
    "The Crosstab function in Pandas is a method for restructuring and summarizing data, particularly useful for analyzing relationships between categorical variables."
   ]
  },
  {
   "cell_type": "code",
   "execution_count": 55,
   "id": "57a1bece",
   "metadata": {},
   "outputs": [
    {
     "data": {
      "text/html": [
       "<div>\n",
       "<style scoped>\n",
       "    .dataframe tbody tr th:only-of-type {\n",
       "        vertical-align: middle;\n",
       "    }\n",
       "\n",
       "    .dataframe tbody tr th {\n",
       "        vertical-align: top;\n",
       "    }\n",
       "\n",
       "    .dataframe thead th {\n",
       "        text-align: right;\n",
       "    }\n",
       "</style>\n",
       "<table border=\"1\" class=\"dataframe\">\n",
       "  <thead>\n",
       "    <tr style=\"text-align: right;\">\n",
       "      <th></th>\n",
       "      <th>Name</th>\n",
       "      <th>Nationality</th>\n",
       "      <th>Gender</th>\n",
       "      <th>Age</th>\n",
       "      <th>Handedness</th>\n",
       "    </tr>\n",
       "  </thead>\n",
       "  <tbody>\n",
       "    <tr>\n",
       "      <th>0</th>\n",
       "      <td>Kathy</td>\n",
       "      <td>USA</td>\n",
       "      <td>Female</td>\n",
       "      <td>23</td>\n",
       "      <td>Right</td>\n",
       "    </tr>\n",
       "    <tr>\n",
       "      <th>1</th>\n",
       "      <td>Linda</td>\n",
       "      <td>USA</td>\n",
       "      <td>Female</td>\n",
       "      <td>18</td>\n",
       "      <td>Right</td>\n",
       "    </tr>\n",
       "    <tr>\n",
       "      <th>2</th>\n",
       "      <td>Peter</td>\n",
       "      <td>USA</td>\n",
       "      <td>Male</td>\n",
       "      <td>19</td>\n",
       "      <td>Right</td>\n",
       "    </tr>\n",
       "    <tr>\n",
       "      <th>3</th>\n",
       "      <td>John</td>\n",
       "      <td>USA</td>\n",
       "      <td>Male</td>\n",
       "      <td>22</td>\n",
       "      <td>Left</td>\n",
       "    </tr>\n",
       "    <tr>\n",
       "      <th>4</th>\n",
       "      <td>Fatima</td>\n",
       "      <td>Bangadesh</td>\n",
       "      <td>Female</td>\n",
       "      <td>31</td>\n",
       "      <td>Left</td>\n",
       "    </tr>\n",
       "    <tr>\n",
       "      <th>5</th>\n",
       "      <td>Kadir</td>\n",
       "      <td>Bangadesh</td>\n",
       "      <td>Male</td>\n",
       "      <td>25</td>\n",
       "      <td>Left</td>\n",
       "    </tr>\n",
       "    <tr>\n",
       "      <th>6</th>\n",
       "      <td>Dhaval</td>\n",
       "      <td>India</td>\n",
       "      <td>Male</td>\n",
       "      <td>35</td>\n",
       "      <td>Left</td>\n",
       "    </tr>\n",
       "    <tr>\n",
       "      <th>7</th>\n",
       "      <td>Sudhir</td>\n",
       "      <td>India</td>\n",
       "      <td>Male</td>\n",
       "      <td>31</td>\n",
       "      <td>Left</td>\n",
       "    </tr>\n",
       "    <tr>\n",
       "      <th>8</th>\n",
       "      <td>Parvir</td>\n",
       "      <td>India</td>\n",
       "      <td>Female</td>\n",
       "      <td>37</td>\n",
       "      <td>Right</td>\n",
       "    </tr>\n",
       "    <tr>\n",
       "      <th>9</th>\n",
       "      <td>Yan</td>\n",
       "      <td>China</td>\n",
       "      <td>Female</td>\n",
       "      <td>52</td>\n",
       "      <td>Right</td>\n",
       "    </tr>\n",
       "    <tr>\n",
       "      <th>10</th>\n",
       "      <td>Juan</td>\n",
       "      <td>China</td>\n",
       "      <td>Female</td>\n",
       "      <td>58</td>\n",
       "      <td>Left</td>\n",
       "    </tr>\n",
       "    <tr>\n",
       "      <th>11</th>\n",
       "      <td>Liang</td>\n",
       "      <td>China</td>\n",
       "      <td>Male</td>\n",
       "      <td>43</td>\n",
       "      <td>Left</td>\n",
       "    </tr>\n",
       "  </tbody>\n",
       "</table>\n",
       "</div>"
      ],
      "text/plain": [
       "      Name Nationality  Gender  Age Handedness\n",
       "0    Kathy         USA  Female   23      Right\n",
       "1    Linda         USA  Female   18      Right\n",
       "2    Peter         USA    Male   19      Right\n",
       "3     John         USA    Male   22       Left\n",
       "4   Fatima   Bangadesh  Female   31       Left\n",
       "5    Kadir   Bangadesh    Male   25       Left\n",
       "6   Dhaval       India    Male   35       Left\n",
       "7   Sudhir       India    Male   31       Left\n",
       "8   Parvir       India  Female   37      Right\n",
       "9      Yan       China  Female   52      Right\n",
       "10    Juan       China  Female   58       Left\n",
       "11   Liang       China    Male   43       Left"
      ]
     },
     "execution_count": 55,
     "metadata": {},
     "output_type": "execute_result"
    }
   ],
   "source": [
    "import pandas as pd\n",
    "\n",
    "df2 = pd.read_excel(r'C:\\Users\\Acer\\Downloads\\survey.xls')\n",
    "\n",
    "df2"
   ]
  },
  {
   "cell_type": "code",
   "execution_count": null,
   "id": "7b9f40c6",
   "metadata": {},
   "outputs": [],
   "source": []
  },
  {
   "cell_type": "markdown",
   "id": "ce6c19fb",
   "metadata": {},
   "source": [
    "#### syntax"
   ]
  },
  {
   "cell_type": "code",
   "execution_count": null,
   "id": "9f3b1523",
   "metadata": {},
   "outputs": [],
   "source": [
    "pd.crosstab(index,column)"
   ]
  },
  {
   "cell_type": "code",
   "execution_count": null,
   "id": "0f8268f8",
   "metadata": {},
   "outputs": [],
   "source": []
  },
  {
   "cell_type": "markdown",
   "id": "d29a9175",
   "metadata": {},
   "source": [
    "#### example1\n",
    "\n"
   ]
  },
  {
   "cell_type": "code",
   "execution_count": 56,
   "id": "cf9e240b",
   "metadata": {},
   "outputs": [
    {
     "data": {
      "text/html": [
       "<div>\n",
       "<style scoped>\n",
       "    .dataframe tbody tr th:only-of-type {\n",
       "        vertical-align: middle;\n",
       "    }\n",
       "\n",
       "    .dataframe tbody tr th {\n",
       "        vertical-align: top;\n",
       "    }\n",
       "\n",
       "    .dataframe thead th {\n",
       "        text-align: right;\n",
       "    }\n",
       "</style>\n",
       "<table border=\"1\" class=\"dataframe\">\n",
       "  <thead>\n",
       "    <tr style=\"text-align: right;\">\n",
       "      <th>Handedness</th>\n",
       "      <th>Left</th>\n",
       "      <th>Right</th>\n",
       "    </tr>\n",
       "    <tr>\n",
       "      <th>Nationality</th>\n",
       "      <th></th>\n",
       "      <th></th>\n",
       "    </tr>\n",
       "  </thead>\n",
       "  <tbody>\n",
       "    <tr>\n",
       "      <th>Bangadesh</th>\n",
       "      <td>2</td>\n",
       "      <td>0</td>\n",
       "    </tr>\n",
       "    <tr>\n",
       "      <th>China</th>\n",
       "      <td>2</td>\n",
       "      <td>1</td>\n",
       "    </tr>\n",
       "    <tr>\n",
       "      <th>India</th>\n",
       "      <td>2</td>\n",
       "      <td>1</td>\n",
       "    </tr>\n",
       "    <tr>\n",
       "      <th>USA</th>\n",
       "      <td>1</td>\n",
       "      <td>3</td>\n",
       "    </tr>\n",
       "  </tbody>\n",
       "</table>\n",
       "</div>"
      ],
      "text/plain": [
       "Handedness   Left  Right\n",
       "Nationality             \n",
       "Bangadesh       2      0\n",
       "China           2      1\n",
       "India           2      1\n",
       "USA             1      3"
      ]
     },
     "execution_count": 56,
     "metadata": {},
     "output_type": "execute_result"
    }
   ],
   "source": [
    "pd.crosstab(df2.Nationality,df2.Handedness)"
   ]
  },
  {
   "cell_type": "code",
   "execution_count": null,
   "id": "7f8ae0af",
   "metadata": {},
   "outputs": [],
   "source": []
  },
  {
   "cell_type": "markdown",
   "id": "22817006",
   "metadata": {},
   "source": [
    "#### example2"
   ]
  },
  {
   "cell_type": "code",
   "execution_count": 57,
   "id": "d67526e0",
   "metadata": {},
   "outputs": [
    {
     "data": {
      "text/html": [
       "<div>\n",
       "<style scoped>\n",
       "    .dataframe tbody tr th:only-of-type {\n",
       "        vertical-align: middle;\n",
       "    }\n",
       "\n",
       "    .dataframe tbody tr th {\n",
       "        vertical-align: top;\n",
       "    }\n",
       "\n",
       "    .dataframe thead th {\n",
       "        text-align: right;\n",
       "    }\n",
       "</style>\n",
       "<table border=\"1\" class=\"dataframe\">\n",
       "  <thead>\n",
       "    <tr style=\"text-align: right;\">\n",
       "      <th>Handedness</th>\n",
       "      <th>Left</th>\n",
       "      <th>Right</th>\n",
       "    </tr>\n",
       "    <tr>\n",
       "      <th>Gender</th>\n",
       "      <th></th>\n",
       "      <th></th>\n",
       "    </tr>\n",
       "  </thead>\n",
       "  <tbody>\n",
       "    <tr>\n",
       "      <th>Female</th>\n",
       "      <td>2</td>\n",
       "      <td>4</td>\n",
       "    </tr>\n",
       "    <tr>\n",
       "      <th>Male</th>\n",
       "      <td>5</td>\n",
       "      <td>1</td>\n",
       "    </tr>\n",
       "  </tbody>\n",
       "</table>\n",
       "</div>"
      ],
      "text/plain": [
       "Handedness  Left  Right\n",
       "Gender                 \n",
       "Female         2      4\n",
       "Male           5      1"
      ]
     },
     "execution_count": 57,
     "metadata": {},
     "output_type": "execute_result"
    }
   ],
   "source": [
    "pd.crosstab(df2.Gender,df2.Handedness)"
   ]
  },
  {
   "cell_type": "code",
   "execution_count": null,
   "id": "0ec4a88c",
   "metadata": {},
   "outputs": [],
   "source": []
  },
  {
   "cell_type": "markdown",
   "id": "b1fb0940",
   "metadata": {},
   "source": [
    "#### example3"
   ]
  },
  {
   "cell_type": "code",
   "execution_count": 58,
   "id": "8e1d1be5",
   "metadata": {},
   "outputs": [
    {
     "data": {
      "text/html": [
       "<div>\n",
       "<style scoped>\n",
       "    .dataframe tbody tr th:only-of-type {\n",
       "        vertical-align: middle;\n",
       "    }\n",
       "\n",
       "    .dataframe tbody tr th {\n",
       "        vertical-align: top;\n",
       "    }\n",
       "\n",
       "    .dataframe thead th {\n",
       "        text-align: right;\n",
       "    }\n",
       "</style>\n",
       "<table border=\"1\" class=\"dataframe\">\n",
       "  <thead>\n",
       "    <tr style=\"text-align: right;\">\n",
       "      <th></th>\n",
       "      <th>Handedness</th>\n",
       "      <th>Left</th>\n",
       "      <th>Right</th>\n",
       "    </tr>\n",
       "    <tr>\n",
       "      <th>Nationality</th>\n",
       "      <th>Gender</th>\n",
       "      <th></th>\n",
       "      <th></th>\n",
       "    </tr>\n",
       "  </thead>\n",
       "  <tbody>\n",
       "    <tr>\n",
       "      <th rowspan=\"2\" valign=\"top\">Bangadesh</th>\n",
       "      <th>Female</th>\n",
       "      <td>1</td>\n",
       "      <td>0</td>\n",
       "    </tr>\n",
       "    <tr>\n",
       "      <th>Male</th>\n",
       "      <td>1</td>\n",
       "      <td>0</td>\n",
       "    </tr>\n",
       "    <tr>\n",
       "      <th rowspan=\"2\" valign=\"top\">China</th>\n",
       "      <th>Female</th>\n",
       "      <td>1</td>\n",
       "      <td>1</td>\n",
       "    </tr>\n",
       "    <tr>\n",
       "      <th>Male</th>\n",
       "      <td>1</td>\n",
       "      <td>0</td>\n",
       "    </tr>\n",
       "    <tr>\n",
       "      <th rowspan=\"2\" valign=\"top\">India</th>\n",
       "      <th>Female</th>\n",
       "      <td>0</td>\n",
       "      <td>1</td>\n",
       "    </tr>\n",
       "    <tr>\n",
       "      <th>Male</th>\n",
       "      <td>2</td>\n",
       "      <td>0</td>\n",
       "    </tr>\n",
       "    <tr>\n",
       "      <th rowspan=\"2\" valign=\"top\">USA</th>\n",
       "      <th>Female</th>\n",
       "      <td>0</td>\n",
       "      <td>2</td>\n",
       "    </tr>\n",
       "    <tr>\n",
       "      <th>Male</th>\n",
       "      <td>1</td>\n",
       "      <td>1</td>\n",
       "    </tr>\n",
       "  </tbody>\n",
       "</table>\n",
       "</div>"
      ],
      "text/plain": [
       "Handedness          Left  Right\n",
       "Nationality Gender             \n",
       "Bangadesh   Female     1      0\n",
       "            Male       1      0\n",
       "China       Female     1      1\n",
       "            Male       1      0\n",
       "India       Female     0      1\n",
       "            Male       2      0\n",
       "USA         Female     0      2\n",
       "            Male       1      1"
      ]
     },
     "execution_count": 58,
     "metadata": {},
     "output_type": "execute_result"
    }
   ],
   "source": [
    "pd.crosstab([df2.Nationality,df2.Gender],[df2.Handedness])"
   ]
  },
  {
   "cell_type": "code",
   "execution_count": null,
   "id": "afdb86c5",
   "metadata": {},
   "outputs": [],
   "source": []
  },
  {
   "cell_type": "code",
   "execution_count": null,
   "id": "3a62886c",
   "metadata": {},
   "outputs": [],
   "source": []
  },
  {
   "cell_type": "markdown",
   "id": "58c5afe9",
   "metadata": {},
   "source": [
    "### margins"
   ]
  },
  {
   "cell_type": "code",
   "execution_count": 61,
   "id": "71383c1d",
   "metadata": {},
   "outputs": [
    {
     "data": {
      "text/html": [
       "<div>\n",
       "<style scoped>\n",
       "    .dataframe tbody tr th:only-of-type {\n",
       "        vertical-align: middle;\n",
       "    }\n",
       "\n",
       "    .dataframe tbody tr th {\n",
       "        vertical-align: top;\n",
       "    }\n",
       "\n",
       "    .dataframe thead th {\n",
       "        text-align: right;\n",
       "    }\n",
       "</style>\n",
       "<table border=\"1\" class=\"dataframe\">\n",
       "  <thead>\n",
       "    <tr style=\"text-align: right;\">\n",
       "      <th></th>\n",
       "      <th>Handedness</th>\n",
       "      <th>Left</th>\n",
       "      <th>Right</th>\n",
       "      <th>Total</th>\n",
       "    </tr>\n",
       "    <tr>\n",
       "      <th>Nationality</th>\n",
       "      <th>Gender</th>\n",
       "      <th></th>\n",
       "      <th></th>\n",
       "      <th></th>\n",
       "    </tr>\n",
       "  </thead>\n",
       "  <tbody>\n",
       "    <tr>\n",
       "      <th rowspan=\"2\" valign=\"top\">Bangadesh</th>\n",
       "      <th>Female</th>\n",
       "      <td>1</td>\n",
       "      <td>0</td>\n",
       "      <td>1</td>\n",
       "    </tr>\n",
       "    <tr>\n",
       "      <th>Male</th>\n",
       "      <td>1</td>\n",
       "      <td>0</td>\n",
       "      <td>1</td>\n",
       "    </tr>\n",
       "    <tr>\n",
       "      <th rowspan=\"2\" valign=\"top\">China</th>\n",
       "      <th>Female</th>\n",
       "      <td>1</td>\n",
       "      <td>1</td>\n",
       "      <td>2</td>\n",
       "    </tr>\n",
       "    <tr>\n",
       "      <th>Male</th>\n",
       "      <td>1</td>\n",
       "      <td>0</td>\n",
       "      <td>1</td>\n",
       "    </tr>\n",
       "    <tr>\n",
       "      <th rowspan=\"2\" valign=\"top\">India</th>\n",
       "      <th>Female</th>\n",
       "      <td>0</td>\n",
       "      <td>1</td>\n",
       "      <td>1</td>\n",
       "    </tr>\n",
       "    <tr>\n",
       "      <th>Male</th>\n",
       "      <td>2</td>\n",
       "      <td>0</td>\n",
       "      <td>2</td>\n",
       "    </tr>\n",
       "    <tr>\n",
       "      <th rowspan=\"2\" valign=\"top\">USA</th>\n",
       "      <th>Female</th>\n",
       "      <td>0</td>\n",
       "      <td>2</td>\n",
       "      <td>2</td>\n",
       "    </tr>\n",
       "    <tr>\n",
       "      <th>Male</th>\n",
       "      <td>1</td>\n",
       "      <td>1</td>\n",
       "      <td>2</td>\n",
       "    </tr>\n",
       "    <tr>\n",
       "      <th>Total</th>\n",
       "      <th></th>\n",
       "      <td>7</td>\n",
       "      <td>5</td>\n",
       "      <td>12</td>\n",
       "    </tr>\n",
       "  </tbody>\n",
       "</table>\n",
       "</div>"
      ],
      "text/plain": [
       "Handedness          Left  Right  Total\n",
       "Nationality Gender                    \n",
       "Bangadesh   Female     1      0      1\n",
       "            Male       1      0      1\n",
       "China       Female     1      1      2\n",
       "            Male       1      0      1\n",
       "India       Female     0      1      1\n",
       "            Male       2      0      2\n",
       "USA         Female     0      2      2\n",
       "            Male       1      1      2\n",
       "Total                  7      5     12"
      ]
     },
     "execution_count": 61,
     "metadata": {},
     "output_type": "execute_result"
    }
   ],
   "source": [
    "# example\n",
    "\n",
    "\n",
    "pd.crosstab([df2.Nationality,df2.Gender],[df2.Handedness],margins=True,margins_name='Total')"
   ]
  },
  {
   "cell_type": "code",
   "execution_count": null,
   "id": "18fdf8cf",
   "metadata": {},
   "outputs": [],
   "source": []
  },
  {
   "cell_type": "code",
   "execution_count": null,
   "id": "2a487ff0",
   "metadata": {},
   "outputs": [],
   "source": []
  },
  {
   "cell_type": "code",
   "execution_count": 60,
   "id": "36836f47",
   "metadata": {},
   "outputs": [
    {
     "data": {
      "text/html": [
       "<div>\n",
       "<style scoped>\n",
       "    .dataframe tbody tr th:only-of-type {\n",
       "        vertical-align: middle;\n",
       "    }\n",
       "\n",
       "    .dataframe tbody tr th {\n",
       "        vertical-align: top;\n",
       "    }\n",
       "\n",
       "    .dataframe thead th {\n",
       "        text-align: right;\n",
       "    }\n",
       "</style>\n",
       "<table border=\"1\" class=\"dataframe\">\n",
       "  <thead>\n",
       "    <tr style=\"text-align: right;\">\n",
       "      <th>Handedness</th>\n",
       "      <th>Left</th>\n",
       "      <th>Right</th>\n",
       "      <th>Sum</th>\n",
       "    </tr>\n",
       "    <tr>\n",
       "      <th>Gender</th>\n",
       "      <th></th>\n",
       "      <th></th>\n",
       "      <th></th>\n",
       "    </tr>\n",
       "  </thead>\n",
       "  <tbody>\n",
       "    <tr>\n",
       "      <th>Female</th>\n",
       "      <td>2</td>\n",
       "      <td>4</td>\n",
       "      <td>6</td>\n",
       "    </tr>\n",
       "    <tr>\n",
       "      <th>Male</th>\n",
       "      <td>5</td>\n",
       "      <td>1</td>\n",
       "      <td>6</td>\n",
       "    </tr>\n",
       "    <tr>\n",
       "      <th>Sum</th>\n",
       "      <td>7</td>\n",
       "      <td>5</td>\n",
       "      <td>12</td>\n",
       "    </tr>\n",
       "  </tbody>\n",
       "</table>\n",
       "</div>"
      ],
      "text/plain": [
       "Handedness  Left  Right  Sum\n",
       "Gender                      \n",
       "Female         2      4    6\n",
       "Male           5      1    6\n",
       "Sum            7      5   12"
      ]
     },
     "execution_count": 60,
     "metadata": {},
     "output_type": "execute_result"
    }
   ],
   "source": [
    "pd.crosstab(df2.Gender,df2.Handedness,margins=True,margins_name='Sum')"
   ]
  },
  {
   "cell_type": "code",
   "execution_count": null,
   "id": "fd4490b9",
   "metadata": {},
   "outputs": [],
   "source": []
  },
  {
   "cell_type": "markdown",
   "id": "1d0cb7b6",
   "metadata": {},
   "source": [
    "### multi index,columns"
   ]
  },
  {
   "cell_type": "code",
   "execution_count": null,
   "id": "0890b8aa",
   "metadata": {},
   "outputs": [],
   "source": [
    "# pd.crosstab([df2.Nationality,df2.Gender],[df2.Handedness],margins=True,margins_name='Sum')"
   ]
  },
  {
   "cell_type": "code",
   "execution_count": null,
   "id": "4c040508",
   "metadata": {},
   "outputs": [],
   "source": []
  },
  {
   "cell_type": "code",
   "execution_count": null,
   "id": "2588a1ab",
   "metadata": {},
   "outputs": [],
   "source": []
  },
  {
   "cell_type": "code",
   "execution_count": null,
   "id": "dbfa24da",
   "metadata": {},
   "outputs": [],
   "source": []
  },
  {
   "cell_type": "code",
   "execution_count": 62,
   "id": "3447c512",
   "metadata": {},
   "outputs": [],
   "source": [
    "##########################################################################"
   ]
  },
  {
   "cell_type": "markdown",
   "id": "02f9060c",
   "metadata": {},
   "source": [
    "## pivot"
   ]
  },
  {
   "cell_type": "markdown",
   "id": "945e4343",
   "metadata": {},
   "source": [
    "- Reshape data\n",
    "- duplication not allowed\n",
    "- To summarized the data"
   ]
  },
  {
   "cell_type": "code",
   "execution_count": 4,
   "id": "61819d46",
   "metadata": {},
   "outputs": [
    {
     "data": {
      "text/html": [
       "<div>\n",
       "<style scoped>\n",
       "    .dataframe tbody tr th:only-of-type {\n",
       "        vertical-align: middle;\n",
       "    }\n",
       "\n",
       "    .dataframe tbody tr th {\n",
       "        vertical-align: top;\n",
       "    }\n",
       "\n",
       "    .dataframe thead th {\n",
       "        text-align: right;\n",
       "    }\n",
       "</style>\n",
       "<table border=\"1\" class=\"dataframe\">\n",
       "  <thead>\n",
       "    <tr style=\"text-align: right;\">\n",
       "      <th></th>\n",
       "      <th>Id</th>\n",
       "      <th>gender</th>\n",
       "      <th>city</th>\n",
       "      <th>experience</th>\n",
       "      <th>salary</th>\n",
       "    </tr>\n",
       "  </thead>\n",
       "  <tbody>\n",
       "    <tr>\n",
       "      <th>0</th>\n",
       "      <td>1001</td>\n",
       "      <td>M</td>\n",
       "      <td>pune</td>\n",
       "      <td>1</td>\n",
       "      <td>10000.0</td>\n",
       "    </tr>\n",
       "    <tr>\n",
       "      <th>1</th>\n",
       "      <td>1002</td>\n",
       "      <td>F</td>\n",
       "      <td>mumbai</td>\n",
       "      <td>5</td>\n",
       "      <td>50000.0</td>\n",
       "    </tr>\n",
       "    <tr>\n",
       "      <th>2</th>\n",
       "      <td>1003</td>\n",
       "      <td>M</td>\n",
       "      <td>pune</td>\n",
       "      <td>4</td>\n",
       "      <td>NaN</td>\n",
       "    </tr>\n",
       "    <tr>\n",
       "      <th>3</th>\n",
       "      <td>1004</td>\n",
       "      <td>M</td>\n",
       "      <td>beed</td>\n",
       "      <td>6</td>\n",
       "      <td>60000.0</td>\n",
       "    </tr>\n",
       "    <tr>\n",
       "      <th>4</th>\n",
       "      <td>1005</td>\n",
       "      <td>F</td>\n",
       "      <td>beed</td>\n",
       "      <td>7</td>\n",
       "      <td>70000.0</td>\n",
       "    </tr>\n",
       "    <tr>\n",
       "      <th>5</th>\n",
       "      <td>1006</td>\n",
       "      <td>M</td>\n",
       "      <td>bhandara</td>\n",
       "      <td>5</td>\n",
       "      <td>50000.0</td>\n",
       "    </tr>\n",
       "    <tr>\n",
       "      <th>6</th>\n",
       "      <td>1007</td>\n",
       "      <td>F</td>\n",
       "      <td>beed</td>\n",
       "      <td>2</td>\n",
       "      <td>20000.0</td>\n",
       "    </tr>\n",
       "    <tr>\n",
       "      <th>7</th>\n",
       "      <td>1008</td>\n",
       "      <td>F</td>\n",
       "      <td>pune</td>\n",
       "      <td>8</td>\n",
       "      <td>80000.0</td>\n",
       "    </tr>\n",
       "    <tr>\n",
       "      <th>8</th>\n",
       "      <td>1009</td>\n",
       "      <td>F</td>\n",
       "      <td>nagpur</td>\n",
       "      <td>6</td>\n",
       "      <td>60000.0</td>\n",
       "    </tr>\n",
       "    <tr>\n",
       "      <th>9</th>\n",
       "      <td>1010</td>\n",
       "      <td>F</td>\n",
       "      <td>pune</td>\n",
       "      <td>3</td>\n",
       "      <td>30000.0</td>\n",
       "    </tr>\n",
       "    <tr>\n",
       "      <th>10</th>\n",
       "      <td>1011</td>\n",
       "      <td>M</td>\n",
       "      <td>nagpur</td>\n",
       "      <td>9</td>\n",
       "      <td>90000.0</td>\n",
       "    </tr>\n",
       "    <tr>\n",
       "      <th>11</th>\n",
       "      <td>1012</td>\n",
       "      <td>F</td>\n",
       "      <td>gondia</td>\n",
       "      <td>4</td>\n",
       "      <td>40000.0</td>\n",
       "    </tr>\n",
       "    <tr>\n",
       "      <th>12</th>\n",
       "      <td>1013</td>\n",
       "      <td>F</td>\n",
       "      <td>bhandara</td>\n",
       "      <td>1</td>\n",
       "      <td>10000.0</td>\n",
       "    </tr>\n",
       "    <tr>\n",
       "      <th>13</th>\n",
       "      <td>1014</td>\n",
       "      <td>M</td>\n",
       "      <td>gondia</td>\n",
       "      <td>8</td>\n",
       "      <td>80000.0</td>\n",
       "    </tr>\n",
       "    <tr>\n",
       "      <th>14</th>\n",
       "      <td>1015</td>\n",
       "      <td>M</td>\n",
       "      <td>nagpur</td>\n",
       "      <td>5</td>\n",
       "      <td>50000.0</td>\n",
       "    </tr>\n",
       "  </tbody>\n",
       "</table>\n",
       "</div>"
      ],
      "text/plain": [
       "      Id gender      city  experience   salary\n",
       "0   1001      M      pune           1  10000.0\n",
       "1   1002      F    mumbai           5  50000.0\n",
       "2   1003      M      pune           4      NaN\n",
       "3   1004      M      beed           6  60000.0\n",
       "4   1005      F      beed           7  70000.0\n",
       "5   1006      M  bhandara           5  50000.0\n",
       "6   1007      F      beed           2  20000.0\n",
       "7   1008      F      pune           8  80000.0\n",
       "8   1009      F    nagpur           6  60000.0\n",
       "9   1010      F      pune           3  30000.0\n",
       "10  1011      M    nagpur           9  90000.0\n",
       "11  1012      F    gondia           4  40000.0\n",
       "12  1013      F  bhandara           1  10000.0\n",
       "13  1014      M    gondia           8  80000.0\n",
       "14  1015      M    nagpur           5  50000.0"
      ]
     },
     "execution_count": 4,
     "metadata": {},
     "output_type": "execute_result"
    }
   ],
   "source": [
    "import pandas as pd\n",
    "\n",
    "df3 =pd.read_csv(r\"Employee.csv\")\n",
    "\n",
    "df3"
   ]
  },
  {
   "cell_type": "code",
   "execution_count": null,
   "id": "7de2b7b4",
   "metadata": {},
   "outputs": [],
   "source": []
  },
  {
   "cell_type": "markdown",
   "id": "8faef992",
   "metadata": {},
   "source": [
    "#### syntax"
   ]
  },
  {
   "cell_type": "raw",
   "id": "4e33de45",
   "metadata": {},
   "source": [
    "dataframe_name.pivot(index='column_name',columns='columns_name')"
   ]
  },
  {
   "cell_type": "code",
   "execution_count": null,
   "id": "d75b6c8b",
   "metadata": {},
   "outputs": [],
   "source": []
  },
  {
   "cell_type": "markdown",
   "id": "af2b6e77",
   "metadata": {},
   "source": [
    "#### example"
   ]
  },
  {
   "cell_type": "code",
   "execution_count": 7,
   "id": "0248d3f8",
   "metadata": {},
   "outputs": [
    {
     "data": {
      "text/html": [
       "<div>\n",
       "<style scoped>\n",
       "    .dataframe tbody tr th:only-of-type {\n",
       "        vertical-align: middle;\n",
       "    }\n",
       "\n",
       "    .dataframe tbody tr th {\n",
       "        vertical-align: top;\n",
       "    }\n",
       "\n",
       "    .dataframe thead th {\n",
       "        text-align: right;\n",
       "    }\n",
       "</style>\n",
       "<table border=\"1\" class=\"dataframe\">\n",
       "  <thead>\n",
       "    <tr style=\"text-align: right;\">\n",
       "      <th>city</th>\n",
       "      <th>beed</th>\n",
       "      <th>bhandara</th>\n",
       "      <th>gondia</th>\n",
       "      <th>mumbai</th>\n",
       "      <th>nagpur</th>\n",
       "      <th>pune</th>\n",
       "    </tr>\n",
       "    <tr>\n",
       "      <th>Id</th>\n",
       "      <th></th>\n",
       "      <th></th>\n",
       "      <th></th>\n",
       "      <th></th>\n",
       "      <th></th>\n",
       "      <th></th>\n",
       "    </tr>\n",
       "  </thead>\n",
       "  <tbody>\n",
       "    <tr>\n",
       "      <th>1001</th>\n",
       "      <td>NaN</td>\n",
       "      <td>NaN</td>\n",
       "      <td>NaN</td>\n",
       "      <td>NaN</td>\n",
       "      <td>NaN</td>\n",
       "      <td>10000.0</td>\n",
       "    </tr>\n",
       "    <tr>\n",
       "      <th>1002</th>\n",
       "      <td>NaN</td>\n",
       "      <td>NaN</td>\n",
       "      <td>NaN</td>\n",
       "      <td>50000.0</td>\n",
       "      <td>NaN</td>\n",
       "      <td>NaN</td>\n",
       "    </tr>\n",
       "    <tr>\n",
       "      <th>1003</th>\n",
       "      <td>NaN</td>\n",
       "      <td>NaN</td>\n",
       "      <td>NaN</td>\n",
       "      <td>NaN</td>\n",
       "      <td>NaN</td>\n",
       "      <td>NaN</td>\n",
       "    </tr>\n",
       "    <tr>\n",
       "      <th>1004</th>\n",
       "      <td>60000.0</td>\n",
       "      <td>NaN</td>\n",
       "      <td>NaN</td>\n",
       "      <td>NaN</td>\n",
       "      <td>NaN</td>\n",
       "      <td>NaN</td>\n",
       "    </tr>\n",
       "    <tr>\n",
       "      <th>1005</th>\n",
       "      <td>70000.0</td>\n",
       "      <td>NaN</td>\n",
       "      <td>NaN</td>\n",
       "      <td>NaN</td>\n",
       "      <td>NaN</td>\n",
       "      <td>NaN</td>\n",
       "    </tr>\n",
       "    <tr>\n",
       "      <th>1006</th>\n",
       "      <td>NaN</td>\n",
       "      <td>50000.0</td>\n",
       "      <td>NaN</td>\n",
       "      <td>NaN</td>\n",
       "      <td>NaN</td>\n",
       "      <td>NaN</td>\n",
       "    </tr>\n",
       "    <tr>\n",
       "      <th>1007</th>\n",
       "      <td>20000.0</td>\n",
       "      <td>NaN</td>\n",
       "      <td>NaN</td>\n",
       "      <td>NaN</td>\n",
       "      <td>NaN</td>\n",
       "      <td>NaN</td>\n",
       "    </tr>\n",
       "    <tr>\n",
       "      <th>1008</th>\n",
       "      <td>NaN</td>\n",
       "      <td>NaN</td>\n",
       "      <td>NaN</td>\n",
       "      <td>NaN</td>\n",
       "      <td>NaN</td>\n",
       "      <td>80000.0</td>\n",
       "    </tr>\n",
       "    <tr>\n",
       "      <th>1009</th>\n",
       "      <td>NaN</td>\n",
       "      <td>NaN</td>\n",
       "      <td>NaN</td>\n",
       "      <td>NaN</td>\n",
       "      <td>60000.0</td>\n",
       "      <td>NaN</td>\n",
       "    </tr>\n",
       "    <tr>\n",
       "      <th>1010</th>\n",
       "      <td>NaN</td>\n",
       "      <td>NaN</td>\n",
       "      <td>NaN</td>\n",
       "      <td>NaN</td>\n",
       "      <td>NaN</td>\n",
       "      <td>30000.0</td>\n",
       "    </tr>\n",
       "    <tr>\n",
       "      <th>1011</th>\n",
       "      <td>NaN</td>\n",
       "      <td>NaN</td>\n",
       "      <td>NaN</td>\n",
       "      <td>NaN</td>\n",
       "      <td>90000.0</td>\n",
       "      <td>NaN</td>\n",
       "    </tr>\n",
       "    <tr>\n",
       "      <th>1012</th>\n",
       "      <td>NaN</td>\n",
       "      <td>NaN</td>\n",
       "      <td>40000.0</td>\n",
       "      <td>NaN</td>\n",
       "      <td>NaN</td>\n",
       "      <td>NaN</td>\n",
       "    </tr>\n",
       "    <tr>\n",
       "      <th>1013</th>\n",
       "      <td>NaN</td>\n",
       "      <td>10000.0</td>\n",
       "      <td>NaN</td>\n",
       "      <td>NaN</td>\n",
       "      <td>NaN</td>\n",
       "      <td>NaN</td>\n",
       "    </tr>\n",
       "    <tr>\n",
       "      <th>1014</th>\n",
       "      <td>NaN</td>\n",
       "      <td>NaN</td>\n",
       "      <td>80000.0</td>\n",
       "      <td>NaN</td>\n",
       "      <td>NaN</td>\n",
       "      <td>NaN</td>\n",
       "    </tr>\n",
       "    <tr>\n",
       "      <th>1015</th>\n",
       "      <td>NaN</td>\n",
       "      <td>NaN</td>\n",
       "      <td>NaN</td>\n",
       "      <td>NaN</td>\n",
       "      <td>50000.0</td>\n",
       "      <td>NaN</td>\n",
       "    </tr>\n",
       "  </tbody>\n",
       "</table>\n",
       "</div>"
      ],
      "text/plain": [
       "city     beed  bhandara   gondia   mumbai   nagpur     pune\n",
       "Id                                                         \n",
       "1001      NaN       NaN      NaN      NaN      NaN  10000.0\n",
       "1002      NaN       NaN      NaN  50000.0      NaN      NaN\n",
       "1003      NaN       NaN      NaN      NaN      NaN      NaN\n",
       "1004  60000.0       NaN      NaN      NaN      NaN      NaN\n",
       "1005  70000.0       NaN      NaN      NaN      NaN      NaN\n",
       "1006      NaN   50000.0      NaN      NaN      NaN      NaN\n",
       "1007  20000.0       NaN      NaN      NaN      NaN      NaN\n",
       "1008      NaN       NaN      NaN      NaN      NaN  80000.0\n",
       "1009      NaN       NaN      NaN      NaN  60000.0      NaN\n",
       "1010      NaN       NaN      NaN      NaN      NaN  30000.0\n",
       "1011      NaN       NaN      NaN      NaN  90000.0      NaN\n",
       "1012      NaN       NaN  40000.0      NaN      NaN      NaN\n",
       "1013      NaN   10000.0      NaN      NaN      NaN      NaN\n",
       "1014      NaN       NaN  80000.0      NaN      NaN      NaN\n",
       "1015      NaN       NaN      NaN      NaN  50000.0      NaN"
      ]
     },
     "execution_count": 7,
     "metadata": {},
     "output_type": "execute_result"
    }
   ],
   "source": [
    "df3.pivot(index='Id',columns='city',values='salary')"
   ]
  },
  {
   "cell_type": "code",
   "execution_count": null,
   "id": "d7c793a8",
   "metadata": {},
   "outputs": [],
   "source": []
  },
  {
   "cell_type": "code",
   "execution_count": 9,
   "id": "650ca808",
   "metadata": {},
   "outputs": [
    {
     "data": {
      "text/html": [
       "<div>\n",
       "<style scoped>\n",
       "    .dataframe tbody tr th:only-of-type {\n",
       "        vertical-align: middle;\n",
       "    }\n",
       "\n",
       "    .dataframe tbody tr th {\n",
       "        vertical-align: top;\n",
       "    }\n",
       "\n",
       "    .dataframe thead th {\n",
       "        text-align: right;\n",
       "    }\n",
       "</style>\n",
       "<table border=\"1\" class=\"dataframe\">\n",
       "  <thead>\n",
       "    <tr style=\"text-align: right;\">\n",
       "      <th>city</th>\n",
       "      <th>beed</th>\n",
       "      <th>bhandara</th>\n",
       "      <th>gondia</th>\n",
       "      <th>mumbai</th>\n",
       "      <th>nagpur</th>\n",
       "      <th>pune</th>\n",
       "    </tr>\n",
       "    <tr>\n",
       "      <th>Id</th>\n",
       "      <th></th>\n",
       "      <th></th>\n",
       "      <th></th>\n",
       "      <th></th>\n",
       "      <th></th>\n",
       "      <th></th>\n",
       "    </tr>\n",
       "  </thead>\n",
       "  <tbody>\n",
       "    <tr>\n",
       "      <th>1001</th>\n",
       "      <td>NaN</td>\n",
       "      <td>NaN</td>\n",
       "      <td>NaN</td>\n",
       "      <td>NaN</td>\n",
       "      <td>NaN</td>\n",
       "      <td>10000.0</td>\n",
       "    </tr>\n",
       "    <tr>\n",
       "      <th>1002</th>\n",
       "      <td>NaN</td>\n",
       "      <td>NaN</td>\n",
       "      <td>NaN</td>\n",
       "      <td>50000.0</td>\n",
       "      <td>NaN</td>\n",
       "      <td>NaN</td>\n",
       "    </tr>\n",
       "    <tr>\n",
       "      <th>1003</th>\n",
       "      <td>NaN</td>\n",
       "      <td>NaN</td>\n",
       "      <td>NaN</td>\n",
       "      <td>NaN</td>\n",
       "      <td>NaN</td>\n",
       "      <td>NaN</td>\n",
       "    </tr>\n",
       "    <tr>\n",
       "      <th>1004</th>\n",
       "      <td>60000.0</td>\n",
       "      <td>NaN</td>\n",
       "      <td>NaN</td>\n",
       "      <td>NaN</td>\n",
       "      <td>NaN</td>\n",
       "      <td>NaN</td>\n",
       "    </tr>\n",
       "    <tr>\n",
       "      <th>1005</th>\n",
       "      <td>70000.0</td>\n",
       "      <td>NaN</td>\n",
       "      <td>NaN</td>\n",
       "      <td>NaN</td>\n",
       "      <td>NaN</td>\n",
       "      <td>NaN</td>\n",
       "    </tr>\n",
       "    <tr>\n",
       "      <th>1006</th>\n",
       "      <td>NaN</td>\n",
       "      <td>50000.0</td>\n",
       "      <td>NaN</td>\n",
       "      <td>NaN</td>\n",
       "      <td>NaN</td>\n",
       "      <td>NaN</td>\n",
       "    </tr>\n",
       "    <tr>\n",
       "      <th>1007</th>\n",
       "      <td>20000.0</td>\n",
       "      <td>NaN</td>\n",
       "      <td>NaN</td>\n",
       "      <td>NaN</td>\n",
       "      <td>NaN</td>\n",
       "      <td>NaN</td>\n",
       "    </tr>\n",
       "    <tr>\n",
       "      <th>1008</th>\n",
       "      <td>NaN</td>\n",
       "      <td>NaN</td>\n",
       "      <td>NaN</td>\n",
       "      <td>NaN</td>\n",
       "      <td>NaN</td>\n",
       "      <td>80000.0</td>\n",
       "    </tr>\n",
       "    <tr>\n",
       "      <th>1009</th>\n",
       "      <td>NaN</td>\n",
       "      <td>NaN</td>\n",
       "      <td>NaN</td>\n",
       "      <td>NaN</td>\n",
       "      <td>60000.0</td>\n",
       "      <td>NaN</td>\n",
       "    </tr>\n",
       "    <tr>\n",
       "      <th>1010</th>\n",
       "      <td>NaN</td>\n",
       "      <td>NaN</td>\n",
       "      <td>NaN</td>\n",
       "      <td>NaN</td>\n",
       "      <td>NaN</td>\n",
       "      <td>30000.0</td>\n",
       "    </tr>\n",
       "    <tr>\n",
       "      <th>1011</th>\n",
       "      <td>NaN</td>\n",
       "      <td>NaN</td>\n",
       "      <td>NaN</td>\n",
       "      <td>NaN</td>\n",
       "      <td>90000.0</td>\n",
       "      <td>NaN</td>\n",
       "    </tr>\n",
       "    <tr>\n",
       "      <th>1012</th>\n",
       "      <td>NaN</td>\n",
       "      <td>NaN</td>\n",
       "      <td>40000.0</td>\n",
       "      <td>NaN</td>\n",
       "      <td>NaN</td>\n",
       "      <td>NaN</td>\n",
       "    </tr>\n",
       "    <tr>\n",
       "      <th>1013</th>\n",
       "      <td>NaN</td>\n",
       "      <td>10000.0</td>\n",
       "      <td>NaN</td>\n",
       "      <td>NaN</td>\n",
       "      <td>NaN</td>\n",
       "      <td>NaN</td>\n",
       "    </tr>\n",
       "    <tr>\n",
       "      <th>1014</th>\n",
       "      <td>NaN</td>\n",
       "      <td>NaN</td>\n",
       "      <td>80000.0</td>\n",
       "      <td>NaN</td>\n",
       "      <td>NaN</td>\n",
       "      <td>NaN</td>\n",
       "    </tr>\n",
       "    <tr>\n",
       "      <th>1015</th>\n",
       "      <td>NaN</td>\n",
       "      <td>NaN</td>\n",
       "      <td>NaN</td>\n",
       "      <td>NaN</td>\n",
       "      <td>50000.0</td>\n",
       "      <td>NaN</td>\n",
       "    </tr>\n",
       "  </tbody>\n",
       "</table>\n",
       "</div>"
      ],
      "text/plain": [
       "city     beed  bhandara   gondia   mumbai   nagpur     pune\n",
       "Id                                                         \n",
       "1001      NaN       NaN      NaN      NaN      NaN  10000.0\n",
       "1002      NaN       NaN      NaN  50000.0      NaN      NaN\n",
       "1003      NaN       NaN      NaN      NaN      NaN      NaN\n",
       "1004  60000.0       NaN      NaN      NaN      NaN      NaN\n",
       "1005  70000.0       NaN      NaN      NaN      NaN      NaN\n",
       "1006      NaN   50000.0      NaN      NaN      NaN      NaN\n",
       "1007  20000.0       NaN      NaN      NaN      NaN      NaN\n",
       "1008      NaN       NaN      NaN      NaN      NaN  80000.0\n",
       "1009      NaN       NaN      NaN      NaN  60000.0      NaN\n",
       "1010      NaN       NaN      NaN      NaN      NaN  30000.0\n",
       "1011      NaN       NaN      NaN      NaN  90000.0      NaN\n",
       "1012      NaN       NaN  40000.0      NaN      NaN      NaN\n",
       "1013      NaN   10000.0      NaN      NaN      NaN      NaN\n",
       "1014      NaN       NaN  80000.0      NaN      NaN      NaN\n",
       "1015      NaN       NaN      NaN      NaN  50000.0      NaN"
      ]
     },
     "execution_count": 9,
     "metadata": {},
     "output_type": "execute_result"
    }
   ],
   "source": [
    "# example2\n",
    "\n",
    "# df3.pivot(index='Id',columns='city',values='salary')"
   ]
  },
  {
   "cell_type": "code",
   "execution_count": null,
   "id": "f7975f79",
   "metadata": {},
   "outputs": [],
   "source": []
  },
  {
   "cell_type": "code",
   "execution_count": null,
   "id": "c6f44552",
   "metadata": {},
   "outputs": [],
   "source": []
  },
  {
   "cell_type": "code",
   "execution_count": 10,
   "id": "93c6512d",
   "metadata": {},
   "outputs": [
    {
     "data": {
      "text/html": [
       "<div>\n",
       "<style scoped>\n",
       "    .dataframe tbody tr th:only-of-type {\n",
       "        vertical-align: middle;\n",
       "    }\n",
       "\n",
       "    .dataframe tbody tr th {\n",
       "        vertical-align: top;\n",
       "    }\n",
       "\n",
       "    .dataframe thead th {\n",
       "        text-align: right;\n",
       "    }\n",
       "</style>\n",
       "<table border=\"1\" class=\"dataframe\">\n",
       "  <thead>\n",
       "    <tr style=\"text-align: right;\">\n",
       "      <th>Id</th>\n",
       "      <th>1001</th>\n",
       "      <th>1002</th>\n",
       "      <th>1003</th>\n",
       "      <th>1004</th>\n",
       "      <th>1005</th>\n",
       "      <th>1006</th>\n",
       "      <th>1007</th>\n",
       "      <th>1008</th>\n",
       "      <th>1009</th>\n",
       "      <th>1010</th>\n",
       "      <th>1011</th>\n",
       "      <th>1012</th>\n",
       "      <th>1013</th>\n",
       "      <th>1014</th>\n",
       "      <th>1015</th>\n",
       "    </tr>\n",
       "    <tr>\n",
       "      <th>gender</th>\n",
       "      <th></th>\n",
       "      <th></th>\n",
       "      <th></th>\n",
       "      <th></th>\n",
       "      <th></th>\n",
       "      <th></th>\n",
       "      <th></th>\n",
       "      <th></th>\n",
       "      <th></th>\n",
       "      <th></th>\n",
       "      <th></th>\n",
       "      <th></th>\n",
       "      <th></th>\n",
       "      <th></th>\n",
       "      <th></th>\n",
       "    </tr>\n",
       "  </thead>\n",
       "  <tbody>\n",
       "    <tr>\n",
       "      <th>F</th>\n",
       "      <td>NaN</td>\n",
       "      <td>50000.0</td>\n",
       "      <td>NaN</td>\n",
       "      <td>NaN</td>\n",
       "      <td>70000.0</td>\n",
       "      <td>NaN</td>\n",
       "      <td>20000.0</td>\n",
       "      <td>80000.0</td>\n",
       "      <td>60000.0</td>\n",
       "      <td>30000.0</td>\n",
       "      <td>NaN</td>\n",
       "      <td>40000.0</td>\n",
       "      <td>10000.0</td>\n",
       "      <td>NaN</td>\n",
       "      <td>NaN</td>\n",
       "    </tr>\n",
       "    <tr>\n",
       "      <th>M</th>\n",
       "      <td>10000.0</td>\n",
       "      <td>NaN</td>\n",
       "      <td>NaN</td>\n",
       "      <td>60000.0</td>\n",
       "      <td>NaN</td>\n",
       "      <td>50000.0</td>\n",
       "      <td>NaN</td>\n",
       "      <td>NaN</td>\n",
       "      <td>NaN</td>\n",
       "      <td>NaN</td>\n",
       "      <td>90000.0</td>\n",
       "      <td>NaN</td>\n",
       "      <td>NaN</td>\n",
       "      <td>80000.0</td>\n",
       "      <td>50000.0</td>\n",
       "    </tr>\n",
       "  </tbody>\n",
       "</table>\n",
       "</div>"
      ],
      "text/plain": [
       "Id         1001     1002  1003     1004     1005     1006     1007     1008  \\\n",
       "gender                                                                        \n",
       "F           NaN  50000.0   NaN      NaN  70000.0      NaN  20000.0  80000.0   \n",
       "M       10000.0      NaN   NaN  60000.0      NaN  50000.0      NaN      NaN   \n",
       "\n",
       "Id         1009     1010     1011     1012     1013     1014     1015  \n",
       "gender                                                                 \n",
       "F       60000.0  30000.0      NaN  40000.0  10000.0      NaN      NaN  \n",
       "M           NaN      NaN  90000.0      NaN      NaN  80000.0  50000.0  "
      ]
     },
     "execution_count": 10,
     "metadata": {},
     "output_type": "execute_result"
    }
   ],
   "source": [
    "# # example3\n",
    "\n",
    "\n",
    "df3.pivot(index='gender',columns='Id',values='salary')"
   ]
  },
  {
   "cell_type": "code",
   "execution_count": null,
   "id": "98d54d32",
   "metadata": {},
   "outputs": [],
   "source": []
  },
  {
   "cell_type": "code",
   "execution_count": null,
   "id": "1b107408",
   "metadata": {},
   "outputs": [],
   "source": []
  },
  {
   "cell_type": "code",
   "execution_count": 13,
   "id": "d8faa5e6",
   "metadata": {},
   "outputs": [
    {
     "ename": "ValueError",
     "evalue": "Index contains duplicate entries, cannot reshape",
     "output_type": "error",
     "traceback": [
      "\u001b[1;31m---------------------------------------------------------------------------\u001b[0m",
      "\u001b[1;31mValueError\u001b[0m                                Traceback (most recent call last)",
      "Cell \u001b[1;32mIn[13], line 3\u001b[0m\n\u001b[0;32m      1\u001b[0m \u001b[38;5;66;03m#duplication\u001b[39;00m\n\u001b[1;32m----> 3\u001b[0m \u001b[43mdf3\u001b[49m\u001b[38;5;241;43m.\u001b[39;49m\u001b[43mpivot\u001b[49m\u001b[43m(\u001b[49m\u001b[43mindex\u001b[49m\u001b[38;5;241;43m=\u001b[39;49m\u001b[38;5;124;43m'\u001b[39;49m\u001b[38;5;124;43mgender\u001b[39;49m\u001b[38;5;124;43m'\u001b[39;49m\u001b[43m,\u001b[49m\u001b[43mcolumns\u001b[49m\u001b[38;5;241;43m=\u001b[39;49m\u001b[38;5;124;43m'\u001b[39;49m\u001b[38;5;124;43mcity\u001b[39;49m\u001b[38;5;124;43m'\u001b[39;49m\u001b[43m,\u001b[49m\u001b[43mvalues\u001b[49m\u001b[38;5;241;43m=\u001b[39;49m\u001b[38;5;124;43m'\u001b[39;49m\u001b[38;5;124;43msalary\u001b[39;49m\u001b[38;5;124;43m'\u001b[39;49m\u001b[43m)\u001b[49m\n",
      "File \u001b[1;32m~\\anaconda3\\lib\\site-packages\\pandas\\util\\_decorators.py:331\u001b[0m, in \u001b[0;36mdeprecate_nonkeyword_arguments.<locals>.decorate.<locals>.wrapper\u001b[1;34m(*args, **kwargs)\u001b[0m\n\u001b[0;32m    325\u001b[0m \u001b[38;5;28;01mif\u001b[39;00m \u001b[38;5;28mlen\u001b[39m(args) \u001b[38;5;241m>\u001b[39m num_allow_args:\n\u001b[0;32m    326\u001b[0m     warnings\u001b[38;5;241m.\u001b[39mwarn(\n\u001b[0;32m    327\u001b[0m         msg\u001b[38;5;241m.\u001b[39mformat(arguments\u001b[38;5;241m=\u001b[39m_format_argument_list(allow_args)),\n\u001b[0;32m    328\u001b[0m         \u001b[38;5;167;01mFutureWarning\u001b[39;00m,\n\u001b[0;32m    329\u001b[0m         stacklevel\u001b[38;5;241m=\u001b[39mfind_stack_level(),\n\u001b[0;32m    330\u001b[0m     )\n\u001b[1;32m--> 331\u001b[0m \u001b[38;5;28;01mreturn\u001b[39;00m func(\u001b[38;5;241m*\u001b[39margs, \u001b[38;5;241m*\u001b[39m\u001b[38;5;241m*\u001b[39mkwargs)\n",
      "File \u001b[1;32m~\\anaconda3\\lib\\site-packages\\pandas\\core\\frame.py:8567\u001b[0m, in \u001b[0;36mDataFrame.pivot\u001b[1;34m(self, index, columns, values)\u001b[0m\n\u001b[0;32m   8561\u001b[0m \u001b[38;5;129m@Substitution\u001b[39m(\u001b[38;5;124m\"\u001b[39m\u001b[38;5;124m\"\u001b[39m)\n\u001b[0;32m   8562\u001b[0m \u001b[38;5;129m@Appender\u001b[39m(_shared_docs[\u001b[38;5;124m\"\u001b[39m\u001b[38;5;124mpivot\u001b[39m\u001b[38;5;124m\"\u001b[39m])\n\u001b[0;32m   8563\u001b[0m \u001b[38;5;129m@deprecate_nonkeyword_arguments\u001b[39m(version\u001b[38;5;241m=\u001b[39m\u001b[38;5;28;01mNone\u001b[39;00m, allowed_args\u001b[38;5;241m=\u001b[39m[\u001b[38;5;124m\"\u001b[39m\u001b[38;5;124mself\u001b[39m\u001b[38;5;124m\"\u001b[39m])\n\u001b[0;32m   8564\u001b[0m \u001b[38;5;28;01mdef\u001b[39;00m \u001b[38;5;21mpivot\u001b[39m(\u001b[38;5;28mself\u001b[39m, index\u001b[38;5;241m=\u001b[39m\u001b[38;5;28;01mNone\u001b[39;00m, columns\u001b[38;5;241m=\u001b[39m\u001b[38;5;28;01mNone\u001b[39;00m, values\u001b[38;5;241m=\u001b[39m\u001b[38;5;28;01mNone\u001b[39;00m) \u001b[38;5;241m-\u001b[39m\u001b[38;5;241m>\u001b[39m DataFrame:\n\u001b[0;32m   8565\u001b[0m     \u001b[38;5;28;01mfrom\u001b[39;00m \u001b[38;5;21;01mpandas\u001b[39;00m\u001b[38;5;21;01m.\u001b[39;00m\u001b[38;5;21;01mcore\u001b[39;00m\u001b[38;5;21;01m.\u001b[39;00m\u001b[38;5;21;01mreshape\u001b[39;00m\u001b[38;5;21;01m.\u001b[39;00m\u001b[38;5;21;01mpivot\u001b[39;00m \u001b[38;5;28;01mimport\u001b[39;00m pivot\n\u001b[1;32m-> 8567\u001b[0m     \u001b[38;5;28;01mreturn\u001b[39;00m \u001b[43mpivot\u001b[49m\u001b[43m(\u001b[49m\u001b[38;5;28;43mself\u001b[39;49m\u001b[43m,\u001b[49m\u001b[43m \u001b[49m\u001b[43mindex\u001b[49m\u001b[38;5;241;43m=\u001b[39;49m\u001b[43mindex\u001b[49m\u001b[43m,\u001b[49m\u001b[43m \u001b[49m\u001b[43mcolumns\u001b[49m\u001b[38;5;241;43m=\u001b[39;49m\u001b[43mcolumns\u001b[49m\u001b[43m,\u001b[49m\u001b[43m \u001b[49m\u001b[43mvalues\u001b[49m\u001b[38;5;241;43m=\u001b[39;49m\u001b[43mvalues\u001b[49m\u001b[43m)\u001b[49m\n",
      "File \u001b[1;32m~\\anaconda3\\lib\\site-packages\\pandas\\util\\_decorators.py:331\u001b[0m, in \u001b[0;36mdeprecate_nonkeyword_arguments.<locals>.decorate.<locals>.wrapper\u001b[1;34m(*args, **kwargs)\u001b[0m\n\u001b[0;32m    325\u001b[0m \u001b[38;5;28;01mif\u001b[39;00m \u001b[38;5;28mlen\u001b[39m(args) \u001b[38;5;241m>\u001b[39m num_allow_args:\n\u001b[0;32m    326\u001b[0m     warnings\u001b[38;5;241m.\u001b[39mwarn(\n\u001b[0;32m    327\u001b[0m         msg\u001b[38;5;241m.\u001b[39mformat(arguments\u001b[38;5;241m=\u001b[39m_format_argument_list(allow_args)),\n\u001b[0;32m    328\u001b[0m         \u001b[38;5;167;01mFutureWarning\u001b[39;00m,\n\u001b[0;32m    329\u001b[0m         stacklevel\u001b[38;5;241m=\u001b[39mfind_stack_level(),\n\u001b[0;32m    330\u001b[0m     )\n\u001b[1;32m--> 331\u001b[0m \u001b[38;5;28;01mreturn\u001b[39;00m func(\u001b[38;5;241m*\u001b[39margs, \u001b[38;5;241m*\u001b[39m\u001b[38;5;241m*\u001b[39mkwargs)\n",
      "File \u001b[1;32m~\\anaconda3\\lib\\site-packages\\pandas\\core\\reshape\\pivot.py:540\u001b[0m, in \u001b[0;36mpivot\u001b[1;34m(data, index, columns, values)\u001b[0m\n\u001b[0;32m    536\u001b[0m         indexed \u001b[38;5;241m=\u001b[39m data\u001b[38;5;241m.\u001b[39m_constructor_sliced(data[values]\u001b[38;5;241m.\u001b[39m_values, index\u001b[38;5;241m=\u001b[39mmultiindex)\n\u001b[0;32m    537\u001b[0m \u001b[38;5;66;03m# error: Argument 1 to \"unstack\" of \"DataFrame\" has incompatible type \"Union\u001b[39;00m\n\u001b[0;32m    538\u001b[0m \u001b[38;5;66;03m# [List[Any], ExtensionArray, ndarray[Any, Any], Index, Series]\"; expected\u001b[39;00m\n\u001b[0;32m    539\u001b[0m \u001b[38;5;66;03m# \"Hashable\"\u001b[39;00m\n\u001b[1;32m--> 540\u001b[0m \u001b[38;5;28;01mreturn\u001b[39;00m \u001b[43mindexed\u001b[49m\u001b[38;5;241;43m.\u001b[39;49m\u001b[43munstack\u001b[49m\u001b[43m(\u001b[49m\u001b[43mcolumns_listlike\u001b[49m\u001b[43m)\u001b[49m\n",
      "File \u001b[1;32m~\\anaconda3\\lib\\site-packages\\pandas\\core\\series.py:4455\u001b[0m, in \u001b[0;36mSeries.unstack\u001b[1;34m(self, level, fill_value)\u001b[0m\n\u001b[0;32m   4412\u001b[0m \u001b[38;5;124;03m\"\"\"\u001b[39;00m\n\u001b[0;32m   4413\u001b[0m \u001b[38;5;124;03mUnstack, also known as pivot, Series with MultiIndex to produce DataFrame.\u001b[39;00m\n\u001b[0;32m   4414\u001b[0m \n\u001b[1;32m   (...)\u001b[0m\n\u001b[0;32m   4451\u001b[0m \u001b[38;5;124;03mb    2    4\u001b[39;00m\n\u001b[0;32m   4452\u001b[0m \u001b[38;5;124;03m\"\"\"\u001b[39;00m\n\u001b[0;32m   4453\u001b[0m \u001b[38;5;28;01mfrom\u001b[39;00m \u001b[38;5;21;01mpandas\u001b[39;00m\u001b[38;5;21;01m.\u001b[39;00m\u001b[38;5;21;01mcore\u001b[39;00m\u001b[38;5;21;01m.\u001b[39;00m\u001b[38;5;21;01mreshape\u001b[39;00m\u001b[38;5;21;01m.\u001b[39;00m\u001b[38;5;21;01mreshape\u001b[39;00m \u001b[38;5;28;01mimport\u001b[39;00m unstack\n\u001b[1;32m-> 4455\u001b[0m \u001b[38;5;28;01mreturn\u001b[39;00m \u001b[43munstack\u001b[49m\u001b[43m(\u001b[49m\u001b[38;5;28;43mself\u001b[39;49m\u001b[43m,\u001b[49m\u001b[43m \u001b[49m\u001b[43mlevel\u001b[49m\u001b[43m,\u001b[49m\u001b[43m \u001b[49m\u001b[43mfill_value\u001b[49m\u001b[43m)\u001b[49m\n",
      "File \u001b[1;32m~\\anaconda3\\lib\\site-packages\\pandas\\core\\reshape\\reshape.py:489\u001b[0m, in \u001b[0;36munstack\u001b[1;34m(obj, level, fill_value)\u001b[0m\n\u001b[0;32m    487\u001b[0m \u001b[38;5;28;01mif\u001b[39;00m is_1d_only_ea_dtype(obj\u001b[38;5;241m.\u001b[39mdtype):\n\u001b[0;32m    488\u001b[0m     \u001b[38;5;28;01mreturn\u001b[39;00m _unstack_extension_series(obj, level, fill_value)\n\u001b[1;32m--> 489\u001b[0m unstacker \u001b[38;5;241m=\u001b[39m \u001b[43m_Unstacker\u001b[49m\u001b[43m(\u001b[49m\n\u001b[0;32m    490\u001b[0m \u001b[43m    \u001b[49m\u001b[43mobj\u001b[49m\u001b[38;5;241;43m.\u001b[39;49m\u001b[43mindex\u001b[49m\u001b[43m,\u001b[49m\u001b[43m \u001b[49m\u001b[43mlevel\u001b[49m\u001b[38;5;241;43m=\u001b[39;49m\u001b[43mlevel\u001b[49m\u001b[43m,\u001b[49m\u001b[43m \u001b[49m\u001b[43mconstructor\u001b[49m\u001b[38;5;241;43m=\u001b[39;49m\u001b[43mobj\u001b[49m\u001b[38;5;241;43m.\u001b[39;49m\u001b[43m_constructor_expanddim\u001b[49m\n\u001b[0;32m    491\u001b[0m \u001b[43m\u001b[49m\u001b[43m)\u001b[49m\n\u001b[0;32m    492\u001b[0m \u001b[38;5;28;01mreturn\u001b[39;00m unstacker\u001b[38;5;241m.\u001b[39mget_result(\n\u001b[0;32m    493\u001b[0m     obj\u001b[38;5;241m.\u001b[39m_values, value_columns\u001b[38;5;241m=\u001b[39m\u001b[38;5;28;01mNone\u001b[39;00m, fill_value\u001b[38;5;241m=\u001b[39mfill_value\n\u001b[0;32m    494\u001b[0m )\n",
      "File \u001b[1;32m~\\anaconda3\\lib\\site-packages\\pandas\\core\\reshape\\reshape.py:137\u001b[0m, in \u001b[0;36m_Unstacker.__init__\u001b[1;34m(self, index, level, constructor)\u001b[0m\n\u001b[0;32m    129\u001b[0m \u001b[38;5;28;01mif\u001b[39;00m num_cells \u001b[38;5;241m>\u001b[39m np\u001b[38;5;241m.\u001b[39miinfo(np\u001b[38;5;241m.\u001b[39mint32)\u001b[38;5;241m.\u001b[39mmax:\n\u001b[0;32m    130\u001b[0m     warnings\u001b[38;5;241m.\u001b[39mwarn(\n\u001b[0;32m    131\u001b[0m         \u001b[38;5;124mf\u001b[39m\u001b[38;5;124m\"\u001b[39m\u001b[38;5;124mThe following operation may generate \u001b[39m\u001b[38;5;132;01m{\u001b[39;00mnum_cells\u001b[38;5;132;01m}\u001b[39;00m\u001b[38;5;124m cells \u001b[39m\u001b[38;5;124m\"\u001b[39m\n\u001b[0;32m    132\u001b[0m         \u001b[38;5;124mf\u001b[39m\u001b[38;5;124m\"\u001b[39m\u001b[38;5;124min the resulting pandas object.\u001b[39m\u001b[38;5;124m\"\u001b[39m,\n\u001b[0;32m    133\u001b[0m         PerformanceWarning,\n\u001b[0;32m    134\u001b[0m         stacklevel\u001b[38;5;241m=\u001b[39mfind_stack_level(),\n\u001b[0;32m    135\u001b[0m     )\n\u001b[1;32m--> 137\u001b[0m \u001b[38;5;28;43mself\u001b[39;49m\u001b[38;5;241;43m.\u001b[39;49m\u001b[43m_make_selectors\u001b[49m\u001b[43m(\u001b[49m\u001b[43m)\u001b[49m\n",
      "File \u001b[1;32m~\\anaconda3\\lib\\site-packages\\pandas\\core\\reshape\\reshape.py:189\u001b[0m, in \u001b[0;36m_Unstacker._make_selectors\u001b[1;34m(self)\u001b[0m\n\u001b[0;32m    186\u001b[0m mask\u001b[38;5;241m.\u001b[39mput(selector, \u001b[38;5;28;01mTrue\u001b[39;00m)\n\u001b[0;32m    188\u001b[0m \u001b[38;5;28;01mif\u001b[39;00m mask\u001b[38;5;241m.\u001b[39msum() \u001b[38;5;241m<\u001b[39m \u001b[38;5;28mlen\u001b[39m(\u001b[38;5;28mself\u001b[39m\u001b[38;5;241m.\u001b[39mindex):\n\u001b[1;32m--> 189\u001b[0m     \u001b[38;5;28;01mraise\u001b[39;00m \u001b[38;5;167;01mValueError\u001b[39;00m(\u001b[38;5;124m\"\u001b[39m\u001b[38;5;124mIndex contains duplicate entries, cannot reshape\u001b[39m\u001b[38;5;124m\"\u001b[39m)\n\u001b[0;32m    191\u001b[0m \u001b[38;5;28mself\u001b[39m\u001b[38;5;241m.\u001b[39mgroup_index \u001b[38;5;241m=\u001b[39m comp_index\n\u001b[0;32m    192\u001b[0m \u001b[38;5;28mself\u001b[39m\u001b[38;5;241m.\u001b[39mmask \u001b[38;5;241m=\u001b[39m mask\n",
      "\u001b[1;31mValueError\u001b[0m: Index contains duplicate entries, cannot reshape"
     ]
    }
   ],
   "source": [
    "#duplication  not allowed\n",
    "\n",
    "df3.pivot(index='gender',columns='city',values='salary')"
   ]
  },
  {
   "cell_type": "code",
   "execution_count": null,
   "id": "c77352a3",
   "metadata": {},
   "outputs": [],
   "source": []
  },
  {
   "cell_type": "code",
   "execution_count": null,
   "id": "6361a58f",
   "metadata": {},
   "outputs": [],
   "source": []
  },
  {
   "cell_type": "code",
   "execution_count": null,
   "id": "783a5e6d",
   "metadata": {},
   "outputs": [],
   "source": []
  },
  {
   "cell_type": "markdown",
   "id": "c7d6740d",
   "metadata": {},
   "source": [
    "### pivot_table"
   ]
  },
  {
   "cell_type": "markdown",
   "id": "a4aa6ddc",
   "metadata": {},
   "source": [
    "- duplication allowed\n",
    "- use for reshaping data"
   ]
  },
  {
   "cell_type": "code",
   "execution_count": 14,
   "id": "a7e8d8d5",
   "metadata": {},
   "outputs": [
    {
     "data": {
      "text/html": [
       "<div>\n",
       "<style scoped>\n",
       "    .dataframe tbody tr th:only-of-type {\n",
       "        vertical-align: middle;\n",
       "    }\n",
       "\n",
       "    .dataframe tbody tr th {\n",
       "        vertical-align: top;\n",
       "    }\n",
       "\n",
       "    .dataframe thead th {\n",
       "        text-align: right;\n",
       "    }\n",
       "</style>\n",
       "<table border=\"1\" class=\"dataframe\">\n",
       "  <thead>\n",
       "    <tr style=\"text-align: right;\">\n",
       "      <th>city</th>\n",
       "      <th>beed</th>\n",
       "      <th>bhandara</th>\n",
       "      <th>gondia</th>\n",
       "      <th>mumbai</th>\n",
       "      <th>nagpur</th>\n",
       "      <th>pune</th>\n",
       "    </tr>\n",
       "    <tr>\n",
       "      <th>gender</th>\n",
       "      <th></th>\n",
       "      <th></th>\n",
       "      <th></th>\n",
       "      <th></th>\n",
       "      <th></th>\n",
       "      <th></th>\n",
       "    </tr>\n",
       "  </thead>\n",
       "  <tbody>\n",
       "    <tr>\n",
       "      <th>F</th>\n",
       "      <td>45000.0</td>\n",
       "      <td>10000.0</td>\n",
       "      <td>40000.0</td>\n",
       "      <td>50000.0</td>\n",
       "      <td>60000.0</td>\n",
       "      <td>55000.0</td>\n",
       "    </tr>\n",
       "    <tr>\n",
       "      <th>M</th>\n",
       "      <td>60000.0</td>\n",
       "      <td>50000.0</td>\n",
       "      <td>80000.0</td>\n",
       "      <td>NaN</td>\n",
       "      <td>70000.0</td>\n",
       "      <td>10000.0</td>\n",
       "    </tr>\n",
       "  </tbody>\n",
       "</table>\n",
       "</div>"
      ],
      "text/plain": [
       "city       beed  bhandara   gondia   mumbai   nagpur     pune\n",
       "gender                                                       \n",
       "F       45000.0   10000.0  40000.0  50000.0  60000.0  55000.0\n",
       "M       60000.0   50000.0  80000.0      NaN  70000.0  10000.0"
      ]
     },
     "execution_count": 14,
     "metadata": {},
     "output_type": "execute_result"
    }
   ],
   "source": [
    "df3.pivot_table(index='gender',columns='city',values='salary')  # duplication allowed"
   ]
  },
  {
   "cell_type": "code",
   "execution_count": null,
   "id": "aa604940",
   "metadata": {},
   "outputs": [],
   "source": []
  },
  {
   "cell_type": "code",
   "execution_count": 17,
   "id": "0d476afa",
   "metadata": {},
   "outputs": [
    {
     "data": {
      "text/html": [
       "<div>\n",
       "<style scoped>\n",
       "    .dataframe tbody tr th:only-of-type {\n",
       "        vertical-align: middle;\n",
       "    }\n",
       "\n",
       "    .dataframe tbody tr th {\n",
       "        vertical-align: top;\n",
       "    }\n",
       "\n",
       "    .dataframe thead th {\n",
       "        text-align: right;\n",
       "    }\n",
       "</style>\n",
       "<table border=\"1\" class=\"dataframe\">\n",
       "  <thead>\n",
       "    <tr style=\"text-align: right;\">\n",
       "      <th>city</th>\n",
       "      <th>beed</th>\n",
       "      <th>bhandara</th>\n",
       "      <th>gondia</th>\n",
       "      <th>mumbai</th>\n",
       "      <th>nagpur</th>\n",
       "      <th>pune</th>\n",
       "    </tr>\n",
       "    <tr>\n",
       "      <th>gender</th>\n",
       "      <th></th>\n",
       "      <th></th>\n",
       "      <th></th>\n",
       "      <th></th>\n",
       "      <th></th>\n",
       "      <th></th>\n",
       "    </tr>\n",
       "  </thead>\n",
       "  <tbody>\n",
       "    <tr>\n",
       "      <th>F</th>\n",
       "      <td>45000</td>\n",
       "      <td>10000</td>\n",
       "      <td>40000</td>\n",
       "      <td>50000</td>\n",
       "      <td>60000</td>\n",
       "      <td>55000</td>\n",
       "    </tr>\n",
       "    <tr>\n",
       "      <th>M</th>\n",
       "      <td>60000</td>\n",
       "      <td>50000</td>\n",
       "      <td>80000</td>\n",
       "      <td>0</td>\n",
       "      <td>70000</td>\n",
       "      <td>10000</td>\n",
       "    </tr>\n",
       "  </tbody>\n",
       "</table>\n",
       "</div>"
      ],
      "text/plain": [
       "city     beed  bhandara  gondia  mumbai  nagpur   pune\n",
       "gender                                                \n",
       "F       45000     10000   40000   50000   60000  55000\n",
       "M       60000     50000   80000       0   70000  10000"
      ]
     },
     "execution_count": 17,
     "metadata": {},
     "output_type": "execute_result"
    }
   ],
   "source": [
    "#example1\n",
    "\n",
    "df3.pivot_table(index='gender',columns='city',values='salary',fill_value=0)"
   ]
  },
  {
   "cell_type": "code",
   "execution_count": null,
   "id": "1cb18ab8",
   "metadata": {},
   "outputs": [],
   "source": []
  },
  {
   "cell_type": "code",
   "execution_count": 19,
   "id": "aa7fa062",
   "metadata": {},
   "outputs": [
    {
     "data": {
      "text/html": [
       "<div>\n",
       "<style scoped>\n",
       "    .dataframe tbody tr th:only-of-type {\n",
       "        vertical-align: middle;\n",
       "    }\n",
       "\n",
       "    .dataframe tbody tr th {\n",
       "        vertical-align: top;\n",
       "    }\n",
       "\n",
       "    .dataframe thead th {\n",
       "        text-align: right;\n",
       "    }\n",
       "</style>\n",
       "<table border=\"1\" class=\"dataframe\">\n",
       "  <thead>\n",
       "    <tr style=\"text-align: right;\">\n",
       "      <th></th>\n",
       "      <th>Id</th>\n",
       "      <th>gender</th>\n",
       "      <th>city</th>\n",
       "      <th>experience</th>\n",
       "      <th>salary</th>\n",
       "    </tr>\n",
       "  </thead>\n",
       "  <tbody>\n",
       "    <tr>\n",
       "      <th>0</th>\n",
       "      <td>1001</td>\n",
       "      <td>M</td>\n",
       "      <td>pune</td>\n",
       "      <td>1</td>\n",
       "      <td>10000.0</td>\n",
       "    </tr>\n",
       "    <tr>\n",
       "      <th>1</th>\n",
       "      <td>1002</td>\n",
       "      <td>F</td>\n",
       "      <td>mumbai</td>\n",
       "      <td>5</td>\n",
       "      <td>50000.0</td>\n",
       "    </tr>\n",
       "    <tr>\n",
       "      <th>2</th>\n",
       "      <td>1003</td>\n",
       "      <td>M</td>\n",
       "      <td>pune</td>\n",
       "      <td>4</td>\n",
       "      <td>NaN</td>\n",
       "    </tr>\n",
       "    <tr>\n",
       "      <th>3</th>\n",
       "      <td>1004</td>\n",
       "      <td>M</td>\n",
       "      <td>beed</td>\n",
       "      <td>6</td>\n",
       "      <td>60000.0</td>\n",
       "    </tr>\n",
       "    <tr>\n",
       "      <th>4</th>\n",
       "      <td>1005</td>\n",
       "      <td>F</td>\n",
       "      <td>beed</td>\n",
       "      <td>7</td>\n",
       "      <td>70000.0</td>\n",
       "    </tr>\n",
       "    <tr>\n",
       "      <th>5</th>\n",
       "      <td>1006</td>\n",
       "      <td>M</td>\n",
       "      <td>bhandara</td>\n",
       "      <td>5</td>\n",
       "      <td>50000.0</td>\n",
       "    </tr>\n",
       "    <tr>\n",
       "      <th>6</th>\n",
       "      <td>1007</td>\n",
       "      <td>F</td>\n",
       "      <td>beed</td>\n",
       "      <td>2</td>\n",
       "      <td>20000.0</td>\n",
       "    </tr>\n",
       "    <tr>\n",
       "      <th>7</th>\n",
       "      <td>1008</td>\n",
       "      <td>F</td>\n",
       "      <td>pune</td>\n",
       "      <td>8</td>\n",
       "      <td>80000.0</td>\n",
       "    </tr>\n",
       "    <tr>\n",
       "      <th>8</th>\n",
       "      <td>1009</td>\n",
       "      <td>F</td>\n",
       "      <td>nagpur</td>\n",
       "      <td>6</td>\n",
       "      <td>60000.0</td>\n",
       "    </tr>\n",
       "    <tr>\n",
       "      <th>9</th>\n",
       "      <td>1010</td>\n",
       "      <td>F</td>\n",
       "      <td>pune</td>\n",
       "      <td>3</td>\n",
       "      <td>30000.0</td>\n",
       "    </tr>\n",
       "    <tr>\n",
       "      <th>10</th>\n",
       "      <td>1011</td>\n",
       "      <td>M</td>\n",
       "      <td>nagpur</td>\n",
       "      <td>9</td>\n",
       "      <td>90000.0</td>\n",
       "    </tr>\n",
       "    <tr>\n",
       "      <th>11</th>\n",
       "      <td>1012</td>\n",
       "      <td>F</td>\n",
       "      <td>gondia</td>\n",
       "      <td>4</td>\n",
       "      <td>40000.0</td>\n",
       "    </tr>\n",
       "    <tr>\n",
       "      <th>12</th>\n",
       "      <td>1013</td>\n",
       "      <td>F</td>\n",
       "      <td>bhandara</td>\n",
       "      <td>1</td>\n",
       "      <td>10000.0</td>\n",
       "    </tr>\n",
       "    <tr>\n",
       "      <th>13</th>\n",
       "      <td>1014</td>\n",
       "      <td>M</td>\n",
       "      <td>gondia</td>\n",
       "      <td>8</td>\n",
       "      <td>80000.0</td>\n",
       "    </tr>\n",
       "    <tr>\n",
       "      <th>14</th>\n",
       "      <td>1015</td>\n",
       "      <td>M</td>\n",
       "      <td>nagpur</td>\n",
       "      <td>5</td>\n",
       "      <td>50000.0</td>\n",
       "    </tr>\n",
       "  </tbody>\n",
       "</table>\n",
       "</div>"
      ],
      "text/plain": [
       "      Id gender      city  experience   salary\n",
       "0   1001      M      pune           1  10000.0\n",
       "1   1002      F    mumbai           5  50000.0\n",
       "2   1003      M      pune           4      NaN\n",
       "3   1004      M      beed           6  60000.0\n",
       "4   1005      F      beed           7  70000.0\n",
       "5   1006      M  bhandara           5  50000.0\n",
       "6   1007      F      beed           2  20000.0\n",
       "7   1008      F      pune           8  80000.0\n",
       "8   1009      F    nagpur           6  60000.0\n",
       "9   1010      F      pune           3  30000.0\n",
       "10  1011      M    nagpur           9  90000.0\n",
       "11  1012      F    gondia           4  40000.0\n",
       "12  1013      F  bhandara           1  10000.0\n",
       "13  1014      M    gondia           8  80000.0\n",
       "14  1015      M    nagpur           5  50000.0"
      ]
     },
     "execution_count": 19,
     "metadata": {},
     "output_type": "execute_result"
    }
   ],
   "source": [
    "df3"
   ]
  },
  {
   "cell_type": "code",
   "execution_count": 18,
   "id": "72100a99",
   "metadata": {},
   "outputs": [
    {
     "data": {
      "text/html": [
       "<div>\n",
       "<style scoped>\n",
       "    .dataframe tbody tr th:only-of-type {\n",
       "        vertical-align: middle;\n",
       "    }\n",
       "\n",
       "    .dataframe tbody tr th {\n",
       "        vertical-align: top;\n",
       "    }\n",
       "\n",
       "    .dataframe thead th {\n",
       "        text-align: right;\n",
       "    }\n",
       "</style>\n",
       "<table border=\"1\" class=\"dataframe\">\n",
       "  <thead>\n",
       "    <tr style=\"text-align: right;\">\n",
       "      <th>city</th>\n",
       "      <th>beed</th>\n",
       "      <th>bhandara</th>\n",
       "      <th>gondia</th>\n",
       "      <th>mumbai</th>\n",
       "      <th>nagpur</th>\n",
       "      <th>pune</th>\n",
       "    </tr>\n",
       "    <tr>\n",
       "      <th>gender</th>\n",
       "      <th></th>\n",
       "      <th></th>\n",
       "      <th></th>\n",
       "      <th></th>\n",
       "      <th></th>\n",
       "      <th></th>\n",
       "    </tr>\n",
       "  </thead>\n",
       "  <tbody>\n",
       "    <tr>\n",
       "      <th>F</th>\n",
       "      <td>70000.0</td>\n",
       "      <td>10000.0</td>\n",
       "      <td>40000.0</td>\n",
       "      <td>50000.0</td>\n",
       "      <td>60000.0</td>\n",
       "      <td>80000.0</td>\n",
       "    </tr>\n",
       "    <tr>\n",
       "      <th>M</th>\n",
       "      <td>60000.0</td>\n",
       "      <td>50000.0</td>\n",
       "      <td>80000.0</td>\n",
       "      <td>NaN</td>\n",
       "      <td>90000.0</td>\n",
       "      <td>10000.0</td>\n",
       "    </tr>\n",
       "  </tbody>\n",
       "</table>\n",
       "</div>"
      ],
      "text/plain": [
       "city       beed  bhandara   gondia   mumbai   nagpur     pune\n",
       "gender                                                       \n",
       "F       70000.0   10000.0  40000.0  50000.0  60000.0  80000.0\n",
       "M       60000.0   50000.0  80000.0      NaN  90000.0  10000.0"
      ]
     },
     "execution_count": 18,
     "metadata": {},
     "output_type": "execute_result"
    }
   ],
   "source": [
    "# example2\n",
    "\n",
    "df3.pivot_table(index='gender',columns='city',values='salary',aggfunc='max')"
   ]
  },
  {
   "cell_type": "code",
   "execution_count": null,
   "id": "a91fcee5",
   "metadata": {},
   "outputs": [],
   "source": []
  },
  {
   "cell_type": "code",
   "execution_count": null,
   "id": "4973ca2e",
   "metadata": {},
   "outputs": [],
   "source": []
  },
  {
   "cell_type": "markdown",
   "id": "e4ff1efc",
   "metadata": {},
   "source": [
    "## datetime module"
   ]
  },
  {
   "cell_type": "code",
   "execution_count": 20,
   "id": "26d61183",
   "metadata": {},
   "outputs": [],
   "source": [
    "import datetime"
   ]
  },
  {
   "cell_type": "markdown",
   "id": "6fbdb359",
   "metadata": {},
   "source": [
    "#### examples"
   ]
  },
  {
   "cell_type": "code",
   "execution_count": 21,
   "id": "c90dd9d0",
   "metadata": {},
   "outputs": [
    {
     "data": {
      "text/plain": [
       "datetime.datetime(2023, 9, 5, 15, 48, 31, 705732)"
      ]
     },
     "execution_count": 21,
     "metadata": {},
     "output_type": "execute_result"
    }
   ],
   "source": [
    "datetime.datetime.now()"
   ]
  },
  {
   "cell_type": "code",
   "execution_count": null,
   "id": "d81f9d03",
   "metadata": {},
   "outputs": [],
   "source": []
  },
  {
   "cell_type": "code",
   "execution_count": 22,
   "id": "f82a1be3",
   "metadata": {},
   "outputs": [
    {
     "data": {
      "text/plain": [
       "datetime.datetime(2023, 9, 5, 15, 49, 20, 336889)"
      ]
     },
     "execution_count": 22,
     "metadata": {},
     "output_type": "execute_result"
    }
   ],
   "source": [
    "datetime.datetime.today()"
   ]
  },
  {
   "cell_type": "code",
   "execution_count": null,
   "id": "9d97896b",
   "metadata": {},
   "outputs": [],
   "source": []
  },
  {
   "cell_type": "code",
   "execution_count": null,
   "id": "a534d071",
   "metadata": {},
   "outputs": [],
   "source": []
  },
  {
   "cell_type": "code",
   "execution_count": 23,
   "id": "72b2fb3a",
   "metadata": {},
   "outputs": [],
   "source": [
    "current_date = datetime.datetime.now()"
   ]
  },
  {
   "cell_type": "code",
   "execution_count": 24,
   "id": "101bad98",
   "metadata": {},
   "outputs": [
    {
     "data": {
      "text/plain": [
       "datetime.datetime(2023, 9, 5, 17, 20, 25, 505388)"
      ]
     },
     "execution_count": 24,
     "metadata": {},
     "output_type": "execute_result"
    }
   ],
   "source": [
    "current_date"
   ]
  },
  {
   "cell_type": "code",
   "execution_count": null,
   "id": "9105e281",
   "metadata": {},
   "outputs": [],
   "source": []
  },
  {
   "cell_type": "code",
   "execution_count": 25,
   "id": "1b8bdf78",
   "metadata": {},
   "outputs": [
    {
     "data": {
      "text/plain": [
       "2023"
      ]
     },
     "execution_count": 25,
     "metadata": {},
     "output_type": "execute_result"
    }
   ],
   "source": [
    "current_date.year"
   ]
  },
  {
   "cell_type": "code",
   "execution_count": null,
   "id": "4740e6d9",
   "metadata": {},
   "outputs": [],
   "source": []
  },
  {
   "cell_type": "code",
   "execution_count": 26,
   "id": "b02ab6e9",
   "metadata": {},
   "outputs": [
    {
     "data": {
      "text/plain": [
       "9"
      ]
     },
     "execution_count": 26,
     "metadata": {},
     "output_type": "execute_result"
    }
   ],
   "source": [
    "current_date.month"
   ]
  },
  {
   "cell_type": "code",
   "execution_count": null,
   "id": "87e28b81",
   "metadata": {},
   "outputs": [],
   "source": []
  },
  {
   "cell_type": "code",
   "execution_count": 27,
   "id": "eadc9ff8",
   "metadata": {},
   "outputs": [
    {
     "data": {
      "text/plain": [
       "5"
      ]
     },
     "execution_count": 27,
     "metadata": {},
     "output_type": "execute_result"
    }
   ],
   "source": [
    "current_date.day"
   ]
  },
  {
   "cell_type": "code",
   "execution_count": 28,
   "id": "f0a4bd5e",
   "metadata": {},
   "outputs": [
    {
     "data": {
      "text/plain": [
       "17"
      ]
     },
     "execution_count": 28,
     "metadata": {},
     "output_type": "execute_result"
    }
   ],
   "source": [
    "current_date.hour"
   ]
  },
  {
   "cell_type": "code",
   "execution_count": 29,
   "id": "4b6ae66b",
   "metadata": {},
   "outputs": [
    {
     "data": {
      "text/plain": [
       "20"
      ]
     },
     "execution_count": 29,
     "metadata": {},
     "output_type": "execute_result"
    }
   ],
   "source": [
    "current_date.minute"
   ]
  },
  {
   "cell_type": "code",
   "execution_count": null,
   "id": "783c70a1",
   "metadata": {},
   "outputs": [],
   "source": []
  },
  {
   "cell_type": "code",
   "execution_count": 30,
   "id": "9eafe836",
   "metadata": {},
   "outputs": [
    {
     "data": {
      "text/plain": [
       "25"
      ]
     },
     "execution_count": 30,
     "metadata": {},
     "output_type": "execute_result"
    }
   ],
   "source": [
    "current_date.second"
   ]
  },
  {
   "cell_type": "code",
   "execution_count": null,
   "id": "5495f3f9",
   "metadata": {},
   "outputs": [],
   "source": []
  },
  {
   "cell_type": "code",
   "execution_count": 31,
   "id": "bce5de52",
   "metadata": {},
   "outputs": [
    {
     "data": {
      "text/plain": [
       "505388"
      ]
     },
     "execution_count": 31,
     "metadata": {},
     "output_type": "execute_result"
    }
   ],
   "source": [
    "current_date.microsecond"
   ]
  },
  {
   "cell_type": "code",
   "execution_count": null,
   "id": "5c7e4ed2",
   "metadata": {},
   "outputs": [],
   "source": []
  },
  {
   "cell_type": "code",
   "execution_count": 32,
   "id": "1cb520b0",
   "metadata": {},
   "outputs": [
    {
     "name": "stdout",
     "output_type": "stream",
     "text": [
      "5 / 9 / 2023\n"
     ]
    }
   ],
   "source": [
    "print(current_date.day,'/',current_date.month,'/',current_date.year)"
   ]
  },
  {
   "cell_type": "code",
   "execution_count": null,
   "id": "d734d7a1",
   "metadata": {},
   "outputs": [],
   "source": []
  },
  {
   "cell_type": "code",
   "execution_count": 33,
   "id": "121cc486",
   "metadata": {},
   "outputs": [
    {
     "name": "stdout",
     "output_type": "stream",
     "text": [
      "5 - 9 - 2023\n"
     ]
    }
   ],
   "source": [
    "print(current_date.day,'-',current_date.month,'-',current_date.year  )"
   ]
  },
  {
   "cell_type": "code",
   "execution_count": null,
   "id": "7c6f2414",
   "metadata": {},
   "outputs": [],
   "source": []
  },
  {
   "cell_type": "markdown",
   "id": "20e75d36",
   "metadata": {},
   "source": [
    "### strftime"
   ]
  },
  {
   "cell_type": "markdown",
   "id": "369b959c",
   "metadata": {},
   "source": [
    "#### string formatting time"
   ]
  },
  {
   "cell_type": "raw",
   "id": "5f5aacd8",
   "metadata": {},
   "source": [
    "%a Weekday, short version\n",
    "%A Weekday, full version\n",
    "%w Weekday as a number 0-6, 0 is Sunday\n",
    "%d Day of month 01-31\n",
    "%b Month name, short version\n",
    "%B Month name, full version\n",
    "%m Month as a number\n",
    "%y Year, short version, without century\n",
    "%Y Year, full version"
   ]
  },
  {
   "cell_type": "code",
   "execution_count": null,
   "id": "25bb0d7b",
   "metadata": {},
   "outputs": [],
   "source": []
  },
  {
   "cell_type": "code",
   "execution_count": null,
   "id": "7abfbabd",
   "metadata": {},
   "outputs": [],
   "source": [
    "# current_date.strftime('%A')\n",
    "\n",
    "# print(current_date.strftime('%d %B %Y'))"
   ]
  },
  {
   "cell_type": "code",
   "execution_count": null,
   "id": "abe0dd9a",
   "metadata": {},
   "outputs": [],
   "source": []
  },
  {
   "cell_type": "code",
   "execution_count": 34,
   "id": "910031dd",
   "metadata": {},
   "outputs": [
    {
     "data": {
      "text/plain": [
       "'Tue'"
      ]
     },
     "execution_count": 34,
     "metadata": {},
     "output_type": "execute_result"
    }
   ],
   "source": [
    "current_date.strftime('%a')"
   ]
  },
  {
   "cell_type": "code",
   "execution_count": 35,
   "id": "23add7c7",
   "metadata": {},
   "outputs": [
    {
     "data": {
      "text/plain": [
       "'Tuesday'"
      ]
     },
     "execution_count": 35,
     "metadata": {},
     "output_type": "execute_result"
    }
   ],
   "source": [
    "current_date.strftime('%A')"
   ]
  },
  {
   "cell_type": "code",
   "execution_count": null,
   "id": "d731f37c",
   "metadata": {},
   "outputs": [],
   "source": []
  },
  {
   "cell_type": "code",
   "execution_count": 36,
   "id": "092d478a",
   "metadata": {},
   "outputs": [
    {
     "data": {
      "text/plain": [
       "'2'"
      ]
     },
     "execution_count": 36,
     "metadata": {},
     "output_type": "execute_result"
    }
   ],
   "source": [
    "current_date.strftime('%w')"
   ]
  },
  {
   "cell_type": "code",
   "execution_count": null,
   "id": "6e5fb960",
   "metadata": {},
   "outputs": [],
   "source": []
  },
  {
   "cell_type": "code",
   "execution_count": 37,
   "id": "10422921",
   "metadata": {},
   "outputs": [
    {
     "data": {
      "text/plain": [
       "'05'"
      ]
     },
     "execution_count": 37,
     "metadata": {},
     "output_type": "execute_result"
    }
   ],
   "source": [
    "current_date.strftime('%d')"
   ]
  },
  {
   "cell_type": "code",
   "execution_count": null,
   "id": "bab59034",
   "metadata": {},
   "outputs": [],
   "source": []
  },
  {
   "cell_type": "code",
   "execution_count": 38,
   "id": "c53098ed",
   "metadata": {},
   "outputs": [
    {
     "data": {
      "text/plain": [
       "'09/05/23'"
      ]
     },
     "execution_count": 38,
     "metadata": {},
     "output_type": "execute_result"
    }
   ],
   "source": [
    "current_date.strftime('%D')"
   ]
  },
  {
   "cell_type": "code",
   "execution_count": null,
   "id": "ae04061f",
   "metadata": {},
   "outputs": [],
   "source": []
  },
  {
   "cell_type": "code",
   "execution_count": null,
   "id": "3e46c3fc",
   "metadata": {},
   "outputs": [],
   "source": []
  },
  {
   "cell_type": "markdown",
   "id": "1f8a433f",
   "metadata": {},
   "source": [
    "#### Months name"
   ]
  },
  {
   "cell_type": "code",
   "execution_count": 39,
   "id": "a3382f91",
   "metadata": {},
   "outputs": [
    {
     "data": {
      "text/plain": [
       "'Sep'"
      ]
     },
     "execution_count": 39,
     "metadata": {},
     "output_type": "execute_result"
    }
   ],
   "source": [
    "current_date.strftime('%b')"
   ]
  },
  {
   "cell_type": "code",
   "execution_count": null,
   "id": "af7ed4fb",
   "metadata": {},
   "outputs": [],
   "source": []
  },
  {
   "cell_type": "code",
   "execution_count": 40,
   "id": "3e761df8",
   "metadata": {},
   "outputs": [
    {
     "data": {
      "text/plain": [
       "'September'"
      ]
     },
     "execution_count": 40,
     "metadata": {},
     "output_type": "execute_result"
    }
   ],
   "source": [
    "current_date.strftime('%B')"
   ]
  },
  {
   "cell_type": "code",
   "execution_count": null,
   "id": "92df03d3",
   "metadata": {},
   "outputs": [],
   "source": []
  },
  {
   "cell_type": "code",
   "execution_count": null,
   "id": "ab8cfa1b",
   "metadata": {},
   "outputs": [],
   "source": []
  },
  {
   "cell_type": "markdown",
   "id": "126ba7ea",
   "metadata": {},
   "source": [
    "#### Month as a number"
   ]
  },
  {
   "cell_type": "code",
   "execution_count": 41,
   "id": "37135648",
   "metadata": {},
   "outputs": [
    {
     "data": {
      "text/plain": [
       "'09'"
      ]
     },
     "execution_count": 41,
     "metadata": {},
     "output_type": "execute_result"
    }
   ],
   "source": [
    "current_date.strftime('%m')"
   ]
  },
  {
   "cell_type": "code",
   "execution_count": null,
   "id": "2b1163dd",
   "metadata": {},
   "outputs": [],
   "source": []
  },
  {
   "cell_type": "markdown",
   "id": "dadba6a3",
   "metadata": {},
   "source": [
    "#### year"
   ]
  },
  {
   "cell_type": "code",
   "execution_count": 42,
   "id": "b6e80232",
   "metadata": {},
   "outputs": [
    {
     "data": {
      "text/plain": [
       "'23'"
      ]
     },
     "execution_count": 42,
     "metadata": {},
     "output_type": "execute_result"
    }
   ],
   "source": [
    "current_date.strftime('%y')"
   ]
  },
  {
   "cell_type": "code",
   "execution_count": 43,
   "id": "3cb6f98d",
   "metadata": {},
   "outputs": [
    {
     "data": {
      "text/plain": [
       "'2023'"
      ]
     },
     "execution_count": 43,
     "metadata": {},
     "output_type": "execute_result"
    }
   ],
   "source": [
    "current_date.strftime('%Y')"
   ]
  },
  {
   "cell_type": "code",
   "execution_count": null,
   "id": "f6284bc7",
   "metadata": {},
   "outputs": [],
   "source": []
  },
  {
   "cell_type": "code",
   "execution_count": null,
   "id": "4e21a76f",
   "metadata": {},
   "outputs": [],
   "source": []
  },
  {
   "cell_type": "markdown",
   "id": "92dc7377",
   "metadata": {},
   "source": [
    "### isoweekday"
   ]
  },
  {
   "cell_type": "raw",
   "id": "1063f2e6",
   "metadata": {},
   "source": [
    "mon=1\n",
    "tue=2\n",
    "sunday=7"
   ]
  },
  {
   "cell_type": "code",
   "execution_count": 45,
   "id": "fde1ae58",
   "metadata": {},
   "outputs": [
    {
     "data": {
      "text/plain": [
       "2"
      ]
     },
     "execution_count": 45,
     "metadata": {},
     "output_type": "execute_result"
    }
   ],
   "source": [
    "current_date.isoweekday()"
   ]
  },
  {
   "cell_type": "code",
   "execution_count": null,
   "id": "6cf505ae",
   "metadata": {},
   "outputs": [],
   "source": []
  },
  {
   "cell_type": "code",
   "execution_count": null,
   "id": "301b6fbb",
   "metadata": {},
   "outputs": [],
   "source": []
  },
  {
   "cell_type": "markdown",
   "id": "8203d89c",
   "metadata": {},
   "source": [
    "### weekday()"
   ]
  },
  {
   "cell_type": "code",
   "execution_count": 12,
   "id": "c745c1b0",
   "metadata": {},
   "outputs": [],
   "source": [
    "mon=0\n",
    "sun=6"
   ]
  },
  {
   "cell_type": "code",
   "execution_count": 48,
   "id": "0b9a50d6",
   "metadata": {},
   "outputs": [
    {
     "data": {
      "text/plain": [
       "1"
      ]
     },
     "execution_count": 48,
     "metadata": {},
     "output_type": "execute_result"
    }
   ],
   "source": [
    "current_date.weekday()"
   ]
  },
  {
   "cell_type": "code",
   "execution_count": null,
   "id": "53407064",
   "metadata": {},
   "outputs": [],
   "source": []
  },
  {
   "cell_type": "markdown",
   "id": "324cf1c7",
   "metadata": {},
   "source": [
    "### date_range()"
   ]
  },
  {
   "cell_type": "code",
   "execution_count": 49,
   "id": "61f1a94d",
   "metadata": {},
   "outputs": [
    {
     "data": {
      "text/plain": [
       "DatetimeIndex(['2023-01-01', '2023-01-02', '2023-01-03', '2023-01-04',\n",
       "               '2023-01-05', '2023-01-06', '2023-01-07', '2023-01-08',\n",
       "               '2023-01-09', '2023-01-10'],\n",
       "              dtype='datetime64[ns]', freq='D')"
      ]
     },
     "execution_count": 49,
     "metadata": {},
     "output_type": "execute_result"
    }
   ],
   "source": [
    "import pandas as pd\n",
    "\n",
    "\n",
    "f=pd.date_range('2023',periods=10)\n",
    "\n",
    "f"
   ]
  },
  {
   "cell_type": "code",
   "execution_count": null,
   "id": "19352988",
   "metadata": {},
   "outputs": [],
   "source": []
  },
  {
   "cell_type": "code",
   "execution_count": 5,
   "id": "9985813f",
   "metadata": {},
   "outputs": [
    {
     "data": {
      "text/html": [
       "<div>\n",
       "<style scoped>\n",
       "    .dataframe tbody tr th:only-of-type {\n",
       "        vertical-align: middle;\n",
       "    }\n",
       "\n",
       "    .dataframe tbody tr th {\n",
       "        vertical-align: top;\n",
       "    }\n",
       "\n",
       "    .dataframe thead th {\n",
       "        text-align: right;\n",
       "    }\n",
       "</style>\n",
       "<table border=\"1\" class=\"dataframe\">\n",
       "  <thead>\n",
       "    <tr style=\"text-align: right;\">\n",
       "      <th></th>\n",
       "      <th>Id</th>\n",
       "      <th>gender</th>\n",
       "      <th>city</th>\n",
       "      <th>experience</th>\n",
       "      <th>salary</th>\n",
       "    </tr>\n",
       "  </thead>\n",
       "  <tbody>\n",
       "    <tr>\n",
       "      <th>0</th>\n",
       "      <td>1001</td>\n",
       "      <td>M</td>\n",
       "      <td>pune</td>\n",
       "      <td>1</td>\n",
       "      <td>10000.0</td>\n",
       "    </tr>\n",
       "    <tr>\n",
       "      <th>1</th>\n",
       "      <td>1002</td>\n",
       "      <td>F</td>\n",
       "      <td>mumbai</td>\n",
       "      <td>5</td>\n",
       "      <td>50000.0</td>\n",
       "    </tr>\n",
       "    <tr>\n",
       "      <th>2</th>\n",
       "      <td>1003</td>\n",
       "      <td>M</td>\n",
       "      <td>pune</td>\n",
       "      <td>4</td>\n",
       "      <td>NaN</td>\n",
       "    </tr>\n",
       "    <tr>\n",
       "      <th>3</th>\n",
       "      <td>1004</td>\n",
       "      <td>M</td>\n",
       "      <td>beed</td>\n",
       "      <td>6</td>\n",
       "      <td>60000.0</td>\n",
       "    </tr>\n",
       "    <tr>\n",
       "      <th>4</th>\n",
       "      <td>1005</td>\n",
       "      <td>F</td>\n",
       "      <td>beed</td>\n",
       "      <td>7</td>\n",
       "      <td>70000.0</td>\n",
       "    </tr>\n",
       "    <tr>\n",
       "      <th>5</th>\n",
       "      <td>1006</td>\n",
       "      <td>M</td>\n",
       "      <td>bhandara</td>\n",
       "      <td>5</td>\n",
       "      <td>50000.0</td>\n",
       "    </tr>\n",
       "    <tr>\n",
       "      <th>6</th>\n",
       "      <td>1007</td>\n",
       "      <td>F</td>\n",
       "      <td>beed</td>\n",
       "      <td>2</td>\n",
       "      <td>20000.0</td>\n",
       "    </tr>\n",
       "    <tr>\n",
       "      <th>7</th>\n",
       "      <td>1008</td>\n",
       "      <td>F</td>\n",
       "      <td>pune</td>\n",
       "      <td>8</td>\n",
       "      <td>80000.0</td>\n",
       "    </tr>\n",
       "    <tr>\n",
       "      <th>8</th>\n",
       "      <td>1009</td>\n",
       "      <td>F</td>\n",
       "      <td>nagpur</td>\n",
       "      <td>6</td>\n",
       "      <td>60000.0</td>\n",
       "    </tr>\n",
       "    <tr>\n",
       "      <th>9</th>\n",
       "      <td>1010</td>\n",
       "      <td>F</td>\n",
       "      <td>pune</td>\n",
       "      <td>3</td>\n",
       "      <td>30000.0</td>\n",
       "    </tr>\n",
       "    <tr>\n",
       "      <th>10</th>\n",
       "      <td>1011</td>\n",
       "      <td>M</td>\n",
       "      <td>nagpur</td>\n",
       "      <td>9</td>\n",
       "      <td>90000.0</td>\n",
       "    </tr>\n",
       "    <tr>\n",
       "      <th>11</th>\n",
       "      <td>1012</td>\n",
       "      <td>F</td>\n",
       "      <td>gondia</td>\n",
       "      <td>4</td>\n",
       "      <td>40000.0</td>\n",
       "    </tr>\n",
       "    <tr>\n",
       "      <th>12</th>\n",
       "      <td>1013</td>\n",
       "      <td>F</td>\n",
       "      <td>bhandara</td>\n",
       "      <td>1</td>\n",
       "      <td>10000.0</td>\n",
       "    </tr>\n",
       "    <tr>\n",
       "      <th>13</th>\n",
       "      <td>1014</td>\n",
       "      <td>M</td>\n",
       "      <td>gondia</td>\n",
       "      <td>8</td>\n",
       "      <td>80000.0</td>\n",
       "    </tr>\n",
       "    <tr>\n",
       "      <th>14</th>\n",
       "      <td>1015</td>\n",
       "      <td>M</td>\n",
       "      <td>nagpur</td>\n",
       "      <td>5</td>\n",
       "      <td>50000.0</td>\n",
       "    </tr>\n",
       "  </tbody>\n",
       "</table>\n",
       "</div>"
      ],
      "text/plain": [
       "      Id gender      city  experience   salary\n",
       "0   1001      M      pune           1  10000.0\n",
       "1   1002      F    mumbai           5  50000.0\n",
       "2   1003      M      pune           4      NaN\n",
       "3   1004      M      beed           6  60000.0\n",
       "4   1005      F      beed           7  70000.0\n",
       "5   1006      M  bhandara           5  50000.0\n",
       "6   1007      F      beed           2  20000.0\n",
       "7   1008      F      pune           8  80000.0\n",
       "8   1009      F    nagpur           6  60000.0\n",
       "9   1010      F      pune           3  30000.0\n",
       "10  1011      M    nagpur           9  90000.0\n",
       "11  1012      F    gondia           4  40000.0\n",
       "12  1013      F  bhandara           1  10000.0\n",
       "13  1014      M    gondia           8  80000.0\n",
       "14  1015      M    nagpur           5  50000.0"
      ]
     },
     "execution_count": 5,
     "metadata": {},
     "output_type": "execute_result"
    }
   ],
   "source": [
    "df3"
   ]
  },
  {
   "cell_type": "code",
   "execution_count": null,
   "id": "afbb00ae",
   "metadata": {},
   "outputs": [],
   "source": []
  },
  {
   "cell_type": "markdown",
   "id": "8887a696",
   "metadata": {},
   "source": [
    "### Aggregate Function"
   ]
  },
  {
   "cell_type": "markdown",
   "id": "bcca1c3c",
   "metadata": {},
   "source": [
    "- sum\n",
    "- mean\n",
    "- std\n",
    "- var\n",
    "- min\n",
    "- max"
   ]
  },
  {
   "cell_type": "code",
   "execution_count": null,
   "id": "bb65cb55",
   "metadata": {},
   "outputs": [],
   "source": []
  },
  {
   "cell_type": "code",
   "execution_count": 6,
   "id": "4c0cfce0",
   "metadata": {},
   "outputs": [
    {
     "name": "stderr",
     "output_type": "stream",
     "text": [
      "C:\\Users\\Acer\\AppData\\Local\\Temp\\ipykernel_11384\\116822281.py:1: FutureWarning: ['gender', 'city'] did not aggregate successfully. If any error is raised this will raise in a future version of pandas. Drop these columns/ops to avoid this warning.\n",
      "  z2=df3.agg(['max','min','sum','std','var'])\n"
     ]
    },
    {
     "data": {
      "text/html": [
       "<div>\n",
       "<style scoped>\n",
       "    .dataframe tbody tr th:only-of-type {\n",
       "        vertical-align: middle;\n",
       "    }\n",
       "\n",
       "    .dataframe tbody tr th {\n",
       "        vertical-align: top;\n",
       "    }\n",
       "\n",
       "    .dataframe thead th {\n",
       "        text-align: right;\n",
       "    }\n",
       "</style>\n",
       "<table border=\"1\" class=\"dataframe\">\n",
       "  <thead>\n",
       "    <tr style=\"text-align: right;\">\n",
       "      <th></th>\n",
       "      <th>Id</th>\n",
       "      <th>gender</th>\n",
       "      <th>city</th>\n",
       "      <th>experience</th>\n",
       "      <th>salary</th>\n",
       "    </tr>\n",
       "  </thead>\n",
       "  <tbody>\n",
       "    <tr>\n",
       "      <th>max</th>\n",
       "      <td>1015.000000</td>\n",
       "      <td>M</td>\n",
       "      <td>pune</td>\n",
       "      <td>9.000000</td>\n",
       "      <td>9.000000e+04</td>\n",
       "    </tr>\n",
       "    <tr>\n",
       "      <th>min</th>\n",
       "      <td>1001.000000</td>\n",
       "      <td>F</td>\n",
       "      <td>beed</td>\n",
       "      <td>1.000000</td>\n",
       "      <td>1.000000e+04</td>\n",
       "    </tr>\n",
       "    <tr>\n",
       "      <th>sum</th>\n",
       "      <td>15120.000000</td>\n",
       "      <td>MFMMFMFFFFMFFMM</td>\n",
       "      <td>punemumbaipunebeedbeedbhandarabeedpunenagpurpu...</td>\n",
       "      <td>74.000000</td>\n",
       "      <td>7.000000e+05</td>\n",
       "    </tr>\n",
       "    <tr>\n",
       "      <th>std</th>\n",
       "      <td>4.472136</td>\n",
       "      <td>NaN</td>\n",
       "      <td>NaN</td>\n",
       "      <td>2.491892</td>\n",
       "      <td>2.572039e+04</td>\n",
       "    </tr>\n",
       "    <tr>\n",
       "      <th>var</th>\n",
       "      <td>20.000000</td>\n",
       "      <td>NaN</td>\n",
       "      <td>NaN</td>\n",
       "      <td>6.209524</td>\n",
       "      <td>6.615385e+08</td>\n",
       "    </tr>\n",
       "  </tbody>\n",
       "</table>\n",
       "</div>"
      ],
      "text/plain": [
       "               Id           gender  \\\n",
       "max   1015.000000                M   \n",
       "min   1001.000000                F   \n",
       "sum  15120.000000  MFMMFMFFFFMFFMM   \n",
       "std      4.472136              NaN   \n",
       "var     20.000000              NaN   \n",
       "\n",
       "                                                  city  experience  \\\n",
       "max                                               pune    9.000000   \n",
       "min                                               beed    1.000000   \n",
       "sum  punemumbaipunebeedbeedbhandarabeedpunenagpurpu...   74.000000   \n",
       "std                                                NaN    2.491892   \n",
       "var                                                NaN    6.209524   \n",
       "\n",
       "           salary  \n",
       "max  9.000000e+04  \n",
       "min  1.000000e+04  \n",
       "sum  7.000000e+05  \n",
       "std  2.572039e+04  \n",
       "var  6.615385e+08  "
      ]
     },
     "execution_count": 6,
     "metadata": {},
     "output_type": "execute_result"
    }
   ],
   "source": [
    "z2=df3.agg(['max','min','sum','std','var'])\n",
    "z2"
   ]
  },
  {
   "cell_type": "code",
   "execution_count": null,
   "id": "4058cd7c",
   "metadata": {},
   "outputs": [],
   "source": []
  },
  {
   "cell_type": "code",
   "execution_count": 10,
   "id": "baddb60c",
   "metadata": {},
   "outputs": [
    {
     "data": {
      "text/plain": [
       "sub1    35\n",
       "sub2    45\n",
       "sub3    45\n",
       "sub4    54\n",
       "sub5    45\n",
       "sub6    46\n",
       "dtype: int64"
      ]
     },
     "execution_count": 10,
     "metadata": {},
     "output_type": "execute_result"
    }
   ],
   "source": [
    "z1=df2.agg(min)\n",
    "\n",
    "z1"
   ]
  },
  {
   "cell_type": "code",
   "execution_count": null,
   "id": "b87ac658",
   "metadata": {},
   "outputs": [],
   "source": []
  },
  {
   "cell_type": "code",
   "execution_count": 7,
   "id": "e71d6196",
   "metadata": {},
   "outputs": [
    {
     "data": {
      "text/html": [
       "<div>\n",
       "<style scoped>\n",
       "    .dataframe tbody tr th:only-of-type {\n",
       "        vertical-align: middle;\n",
       "    }\n",
       "\n",
       "    .dataframe tbody tr th {\n",
       "        vertical-align: top;\n",
       "    }\n",
       "\n",
       "    .dataframe thead th {\n",
       "        text-align: right;\n",
       "    }\n",
       "</style>\n",
       "<table border=\"1\" class=\"dataframe\">\n",
       "  <thead>\n",
       "    <tr style=\"text-align: right;\">\n",
       "      <th></th>\n",
       "      <th>sub1</th>\n",
       "      <th>sub2</th>\n",
       "      <th>sub3</th>\n",
       "      <th>sub4</th>\n",
       "      <th>sub5</th>\n",
       "      <th>sub6</th>\n",
       "    </tr>\n",
       "  </thead>\n",
       "  <tbody>\n",
       "    <tr>\n",
       "      <th>0</th>\n",
       "      <td>50</td>\n",
       "      <td>54</td>\n",
       "      <td>45</td>\n",
       "      <td>65</td>\n",
       "      <td>60</td>\n",
       "      <td>78</td>\n",
       "    </tr>\n",
       "    <tr>\n",
       "      <th>1</th>\n",
       "      <td>63</td>\n",
       "      <td>74</td>\n",
       "      <td>54</td>\n",
       "      <td>54</td>\n",
       "      <td>47</td>\n",
       "      <td>50</td>\n",
       "    </tr>\n",
       "    <tr>\n",
       "      <th>2</th>\n",
       "      <td>41</td>\n",
       "      <td>58</td>\n",
       "      <td>65</td>\n",
       "      <td>54</td>\n",
       "      <td>45</td>\n",
       "      <td>46</td>\n",
       "    </tr>\n",
       "    <tr>\n",
       "      <th>3</th>\n",
       "      <td>78</td>\n",
       "      <td>69</td>\n",
       "      <td>56</td>\n",
       "      <td>65</td>\n",
       "      <td>63</td>\n",
       "      <td>64</td>\n",
       "    </tr>\n",
       "    <tr>\n",
       "      <th>4</th>\n",
       "      <td>96</td>\n",
       "      <td>45</td>\n",
       "      <td>60</td>\n",
       "      <td>78</td>\n",
       "      <td>52</td>\n",
       "      <td>52</td>\n",
       "    </tr>\n",
       "    <tr>\n",
       "      <th>5</th>\n",
       "      <td>96</td>\n",
       "      <td>45</td>\n",
       "      <td>60</td>\n",
       "      <td>78</td>\n",
       "      <td>52</td>\n",
       "      <td>52</td>\n",
       "    </tr>\n",
       "    <tr>\n",
       "      <th>6</th>\n",
       "      <td>35</td>\n",
       "      <td>55</td>\n",
       "      <td>66</td>\n",
       "      <td>77</td>\n",
       "      <td>52</td>\n",
       "      <td>50</td>\n",
       "    </tr>\n",
       "    <tr>\n",
       "      <th>7</th>\n",
       "      <td>65</td>\n",
       "      <td>66</td>\n",
       "      <td>45</td>\n",
       "      <td>58</td>\n",
       "      <td>63</td>\n",
       "      <td>63</td>\n",
       "    </tr>\n",
       "    <tr>\n",
       "      <th>8</th>\n",
       "      <td>35</td>\n",
       "      <td>55</td>\n",
       "      <td>66</td>\n",
       "      <td>77</td>\n",
       "      <td>52</td>\n",
       "      <td>50</td>\n",
       "    </tr>\n",
       "  </tbody>\n",
       "</table>\n",
       "</div>"
      ],
      "text/plain": [
       "   sub1  sub2  sub3  sub4  sub5  sub6\n",
       "0    50    54    45    65    60    78\n",
       "1    63    74    54    54    47    50\n",
       "2    41    58    65    54    45    46\n",
       "3    78    69    56    65    63    64\n",
       "4    96    45    60    78    52    52\n",
       "5    96    45    60    78    52    52\n",
       "6    35    55    66    77    52    50\n",
       "7    65    66    45    58    63    63\n",
       "8    35    55    66    77    52    50"
      ]
     },
     "execution_count": 7,
     "metadata": {},
     "output_type": "execute_result"
    }
   ],
   "source": [
    "df2 =pd.read_csv(r\"data.csv\")\n",
    "\n",
    "df2"
   ]
  },
  {
   "cell_type": "code",
   "execution_count": null,
   "id": "5d3ca192",
   "metadata": {},
   "outputs": [],
   "source": []
  },
  {
   "cell_type": "code",
   "execution_count": 8,
   "id": "2703615f",
   "metadata": {},
   "outputs": [
    {
     "data": {
      "text/html": [
       "<div>\n",
       "<style scoped>\n",
       "    .dataframe tbody tr th:only-of-type {\n",
       "        vertical-align: middle;\n",
       "    }\n",
       "\n",
       "    .dataframe tbody tr th {\n",
       "        vertical-align: top;\n",
       "    }\n",
       "\n",
       "    .dataframe thead th {\n",
       "        text-align: right;\n",
       "    }\n",
       "</style>\n",
       "<table border=\"1\" class=\"dataframe\">\n",
       "  <thead>\n",
       "    <tr style=\"text-align: right;\">\n",
       "      <th></th>\n",
       "      <th>sub1</th>\n",
       "      <th>sub2</th>\n",
       "      <th>sub3</th>\n",
       "      <th>sub4</th>\n",
       "      <th>sub5</th>\n",
       "      <th>sub6</th>\n",
       "    </tr>\n",
       "  </thead>\n",
       "  <tbody>\n",
       "    <tr>\n",
       "      <th>max</th>\n",
       "      <td>96.000000</td>\n",
       "      <td>74.000000</td>\n",
       "      <td>66.000000</td>\n",
       "      <td>78.000000</td>\n",
       "      <td>63.000000</td>\n",
       "      <td>78.000000</td>\n",
       "    </tr>\n",
       "    <tr>\n",
       "      <th>min</th>\n",
       "      <td>35.000000</td>\n",
       "      <td>45.000000</td>\n",
       "      <td>45.000000</td>\n",
       "      <td>54.000000</td>\n",
       "      <td>45.000000</td>\n",
       "      <td>46.000000</td>\n",
       "    </tr>\n",
       "    <tr>\n",
       "      <th>sum</th>\n",
       "      <td>559.000000</td>\n",
       "      <td>521.000000</td>\n",
       "      <td>517.000000</td>\n",
       "      <td>606.000000</td>\n",
       "      <td>486.000000</td>\n",
       "      <td>505.000000</td>\n",
       "    </tr>\n",
       "    <tr>\n",
       "      <th>std</th>\n",
       "      <td>24.033541</td>\n",
       "      <td>10.080234</td>\n",
       "      <td>8.217529</td>\n",
       "      <td>10.416333</td>\n",
       "      <td>6.557439</td>\n",
       "      <td>10.227957</td>\n",
       "    </tr>\n",
       "    <tr>\n",
       "      <th>var</th>\n",
       "      <td>577.611111</td>\n",
       "      <td>101.611111</td>\n",
       "      <td>67.527778</td>\n",
       "      <td>108.500000</td>\n",
       "      <td>43.000000</td>\n",
       "      <td>104.611111</td>\n",
       "    </tr>\n",
       "  </tbody>\n",
       "</table>\n",
       "</div>"
      ],
      "text/plain": [
       "           sub1        sub2        sub3        sub4        sub5        sub6\n",
       "max   96.000000   74.000000   66.000000   78.000000   63.000000   78.000000\n",
       "min   35.000000   45.000000   45.000000   54.000000   45.000000   46.000000\n",
       "sum  559.000000  521.000000  517.000000  606.000000  486.000000  505.000000\n",
       "std   24.033541   10.080234    8.217529   10.416333    6.557439   10.227957\n",
       "var  577.611111  101.611111   67.527778  108.500000   43.000000  104.611111"
      ]
     },
     "execution_count": 8,
     "metadata": {},
     "output_type": "execute_result"
    }
   ],
   "source": [
    "df2.agg(['max','min','sum','std','var'])"
   ]
  },
  {
   "cell_type": "code",
   "execution_count": null,
   "id": "a5f6500f",
   "metadata": {},
   "outputs": [],
   "source": []
  },
  {
   "cell_type": "code",
   "execution_count": null,
   "id": "92efcd16",
   "metadata": {},
   "outputs": [],
   "source": []
  },
  {
   "cell_type": "code",
   "execution_count": 11,
   "id": "e19efdc7",
   "metadata": {},
   "outputs": [
    {
     "data": {
      "text/html": [
       "<div>\n",
       "<style scoped>\n",
       "    .dataframe tbody tr th:only-of-type {\n",
       "        vertical-align: middle;\n",
       "    }\n",
       "\n",
       "    .dataframe tbody tr th {\n",
       "        vertical-align: top;\n",
       "    }\n",
       "\n",
       "    .dataframe thead th {\n",
       "        text-align: right;\n",
       "    }\n",
       "</style>\n",
       "<table border=\"1\" class=\"dataframe\">\n",
       "  <thead>\n",
       "    <tr style=\"text-align: right;\">\n",
       "      <th></th>\n",
       "      <th>sub1</th>\n",
       "      <th>sub2</th>\n",
       "      <th>sub3</th>\n",
       "      <th>sub4</th>\n",
       "      <th>sub5</th>\n",
       "      <th>sub6</th>\n",
       "    </tr>\n",
       "  </thead>\n",
       "  <tbody>\n",
       "    <tr>\n",
       "      <th>0</th>\n",
       "      <td>50</td>\n",
       "      <td>54</td>\n",
       "      <td>45</td>\n",
       "      <td>65</td>\n",
       "      <td>60</td>\n",
       "      <td>78</td>\n",
       "    </tr>\n",
       "    <tr>\n",
       "      <th>1</th>\n",
       "      <td>63</td>\n",
       "      <td>74</td>\n",
       "      <td>54</td>\n",
       "      <td>54</td>\n",
       "      <td>47</td>\n",
       "      <td>50</td>\n",
       "    </tr>\n",
       "    <tr>\n",
       "      <th>2</th>\n",
       "      <td>41</td>\n",
       "      <td>58</td>\n",
       "      <td>65</td>\n",
       "      <td>54</td>\n",
       "      <td>45</td>\n",
       "      <td>46</td>\n",
       "    </tr>\n",
       "    <tr>\n",
       "      <th>3</th>\n",
       "      <td>78</td>\n",
       "      <td>69</td>\n",
       "      <td>56</td>\n",
       "      <td>65</td>\n",
       "      <td>63</td>\n",
       "      <td>64</td>\n",
       "    </tr>\n",
       "    <tr>\n",
       "      <th>4</th>\n",
       "      <td>96</td>\n",
       "      <td>45</td>\n",
       "      <td>60</td>\n",
       "      <td>78</td>\n",
       "      <td>52</td>\n",
       "      <td>52</td>\n",
       "    </tr>\n",
       "    <tr>\n",
       "      <th>5</th>\n",
       "      <td>96</td>\n",
       "      <td>45</td>\n",
       "      <td>60</td>\n",
       "      <td>78</td>\n",
       "      <td>52</td>\n",
       "      <td>52</td>\n",
       "    </tr>\n",
       "    <tr>\n",
       "      <th>6</th>\n",
       "      <td>35</td>\n",
       "      <td>55</td>\n",
       "      <td>66</td>\n",
       "      <td>77</td>\n",
       "      <td>52</td>\n",
       "      <td>50</td>\n",
       "    </tr>\n",
       "    <tr>\n",
       "      <th>7</th>\n",
       "      <td>65</td>\n",
       "      <td>66</td>\n",
       "      <td>45</td>\n",
       "      <td>58</td>\n",
       "      <td>63</td>\n",
       "      <td>63</td>\n",
       "    </tr>\n",
       "    <tr>\n",
       "      <th>8</th>\n",
       "      <td>35</td>\n",
       "      <td>55</td>\n",
       "      <td>66</td>\n",
       "      <td>77</td>\n",
       "      <td>52</td>\n",
       "      <td>50</td>\n",
       "    </tr>\n",
       "  </tbody>\n",
       "</table>\n",
       "</div>"
      ],
      "text/plain": [
       "   sub1  sub2  sub3  sub4  sub5  sub6\n",
       "0    50    54    45    65    60    78\n",
       "1    63    74    54    54    47    50\n",
       "2    41    58    65    54    45    46\n",
       "3    78    69    56    65    63    64\n",
       "4    96    45    60    78    52    52\n",
       "5    96    45    60    78    52    52\n",
       "6    35    55    66    77    52    50\n",
       "7    65    66    45    58    63    63\n",
       "8    35    55    66    77    52    50"
      ]
     },
     "execution_count": 11,
     "metadata": {},
     "output_type": "execute_result"
    }
   ],
   "source": [
    "df2"
   ]
  },
  {
   "cell_type": "code",
   "execution_count": null,
   "id": "ea085435",
   "metadata": {},
   "outputs": [],
   "source": []
  },
  {
   "cell_type": "code",
   "execution_count": 13,
   "id": "409becee",
   "metadata": {},
   "outputs": [],
   "source": [
    "df2[\"sub7\"]=[12,23,23,45,56,67,78,67,78]"
   ]
  },
  {
   "cell_type": "code",
   "execution_count": 14,
   "id": "b203702d",
   "metadata": {},
   "outputs": [
    {
     "data": {
      "text/html": [
       "<div>\n",
       "<style scoped>\n",
       "    .dataframe tbody tr th:only-of-type {\n",
       "        vertical-align: middle;\n",
       "    }\n",
       "\n",
       "    .dataframe tbody tr th {\n",
       "        vertical-align: top;\n",
       "    }\n",
       "\n",
       "    .dataframe thead th {\n",
       "        text-align: right;\n",
       "    }\n",
       "</style>\n",
       "<table border=\"1\" class=\"dataframe\">\n",
       "  <thead>\n",
       "    <tr style=\"text-align: right;\">\n",
       "      <th></th>\n",
       "      <th>sub1</th>\n",
       "      <th>sub2</th>\n",
       "      <th>sub3</th>\n",
       "      <th>sub4</th>\n",
       "      <th>sub5</th>\n",
       "      <th>sub6</th>\n",
       "      <th>sub7</th>\n",
       "    </tr>\n",
       "  </thead>\n",
       "  <tbody>\n",
       "    <tr>\n",
       "      <th>0</th>\n",
       "      <td>50</td>\n",
       "      <td>54</td>\n",
       "      <td>45</td>\n",
       "      <td>65</td>\n",
       "      <td>60</td>\n",
       "      <td>78</td>\n",
       "      <td>12</td>\n",
       "    </tr>\n",
       "    <tr>\n",
       "      <th>1</th>\n",
       "      <td>63</td>\n",
       "      <td>74</td>\n",
       "      <td>54</td>\n",
       "      <td>54</td>\n",
       "      <td>47</td>\n",
       "      <td>50</td>\n",
       "      <td>23</td>\n",
       "    </tr>\n",
       "    <tr>\n",
       "      <th>2</th>\n",
       "      <td>41</td>\n",
       "      <td>58</td>\n",
       "      <td>65</td>\n",
       "      <td>54</td>\n",
       "      <td>45</td>\n",
       "      <td>46</td>\n",
       "      <td>23</td>\n",
       "    </tr>\n",
       "    <tr>\n",
       "      <th>3</th>\n",
       "      <td>78</td>\n",
       "      <td>69</td>\n",
       "      <td>56</td>\n",
       "      <td>65</td>\n",
       "      <td>63</td>\n",
       "      <td>64</td>\n",
       "      <td>45</td>\n",
       "    </tr>\n",
       "    <tr>\n",
       "      <th>4</th>\n",
       "      <td>96</td>\n",
       "      <td>45</td>\n",
       "      <td>60</td>\n",
       "      <td>78</td>\n",
       "      <td>52</td>\n",
       "      <td>52</td>\n",
       "      <td>56</td>\n",
       "    </tr>\n",
       "    <tr>\n",
       "      <th>5</th>\n",
       "      <td>96</td>\n",
       "      <td>45</td>\n",
       "      <td>60</td>\n",
       "      <td>78</td>\n",
       "      <td>52</td>\n",
       "      <td>52</td>\n",
       "      <td>67</td>\n",
       "    </tr>\n",
       "    <tr>\n",
       "      <th>6</th>\n",
       "      <td>35</td>\n",
       "      <td>55</td>\n",
       "      <td>66</td>\n",
       "      <td>77</td>\n",
       "      <td>52</td>\n",
       "      <td>50</td>\n",
       "      <td>78</td>\n",
       "    </tr>\n",
       "    <tr>\n",
       "      <th>7</th>\n",
       "      <td>65</td>\n",
       "      <td>66</td>\n",
       "      <td>45</td>\n",
       "      <td>58</td>\n",
       "      <td>63</td>\n",
       "      <td>63</td>\n",
       "      <td>67</td>\n",
       "    </tr>\n",
       "    <tr>\n",
       "      <th>8</th>\n",
       "      <td>35</td>\n",
       "      <td>55</td>\n",
       "      <td>66</td>\n",
       "      <td>77</td>\n",
       "      <td>52</td>\n",
       "      <td>50</td>\n",
       "      <td>78</td>\n",
       "    </tr>\n",
       "  </tbody>\n",
       "</table>\n",
       "</div>"
      ],
      "text/plain": [
       "   sub1  sub2  sub3  sub4  sub5  sub6  sub7\n",
       "0    50    54    45    65    60    78    12\n",
       "1    63    74    54    54    47    50    23\n",
       "2    41    58    65    54    45    46    23\n",
       "3    78    69    56    65    63    64    45\n",
       "4    96    45    60    78    52    52    56\n",
       "5    96    45    60    78    52    52    67\n",
       "6    35    55    66    77    52    50    78\n",
       "7    65    66    45    58    63    63    67\n",
       "8    35    55    66    77    52    50    78"
      ]
     },
     "execution_count": 14,
     "metadata": {},
     "output_type": "execute_result"
    }
   ],
   "source": [
    "df2"
   ]
  },
  {
   "cell_type": "code",
   "execution_count": null,
   "id": "42689691",
   "metadata": {},
   "outputs": [],
   "source": []
  },
  {
   "cell_type": "code",
   "execution_count": null,
   "id": "5666ee21",
   "metadata": {},
   "outputs": [],
   "source": []
  }
 ],
 "metadata": {
  "kernelspec": {
   "display_name": "Python 3 (ipykernel)",
   "language": "python",
   "name": "python3"
  },
  "language_info": {
   "codemirror_mode": {
    "name": "ipython",
    "version": 3
   },
   "file_extension": ".py",
   "mimetype": "text/x-python",
   "name": "python",
   "nbconvert_exporter": "python",
   "pygments_lexer": "ipython3",
   "version": "3.10.9"
  }
 },
 "nbformat": 4,
 "nbformat_minor": 5
}
