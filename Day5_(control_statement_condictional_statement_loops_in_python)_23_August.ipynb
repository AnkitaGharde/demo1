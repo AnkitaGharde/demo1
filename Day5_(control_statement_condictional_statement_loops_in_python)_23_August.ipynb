{
 "cells": [
  {
   "cell_type": "markdown",
   "id": "191ace1c",
   "metadata": {},
   "source": [
    "### control statement"
   ]
  },
  {
   "cell_type": "markdown",
   "id": "7a7ff32c",
   "metadata": {},
   "source": [
    "- pass :-the pass statement is a null statement which can be used as a placeholder for future code.\n",
    "\n",
    "- break :-Iteration break, out of the block\n",
    "\n",
    "- continue :-The continue keyword is used to end the current iteration in a for loop (or a while loop), and continues to the next iteration."
   ]
  },
  {
   "cell_type": "markdown",
   "id": "8044cdba",
   "metadata": {},
   "source": [
    "### range()"
   ]
  },
  {
   "cell_type": "code",
   "execution_count": 46,
   "id": "3bc496c8",
   "metadata": {},
   "outputs": [
    {
     "data": {
      "text/plain": [
       "range(0, 10)"
      ]
     },
     "execution_count": 46,
     "metadata": {},
     "output_type": "execute_result"
    }
   ],
   "source": [
    "# example\n",
    "\n",
    "range(10)"
   ]
  },
  {
   "cell_type": "code",
   "execution_count": null,
   "id": "8bebb3c9",
   "metadata": {},
   "outputs": [],
   "source": [
    "# syntax\n",
    "\n",
    "range(start,stop-1,step)"
   ]
  },
  {
   "cell_type": "code",
   "execution_count": 54,
   "id": "af8ef0ee",
   "metadata": {},
   "outputs": [
    {
     "name": "stdout",
     "output_type": "stream",
     "text": [
      "1\n",
      "3\n",
      "5\n",
      "7\n",
      "9\n",
      "11\n",
      "13\n",
      "15\n",
      "17\n",
      "19\n",
      "21\n",
      "23\n",
      "25\n",
      "27\n",
      "29\n",
      "31\n",
      "33\n",
      "35\n",
      "37\n",
      "39\n",
      "41\n",
      "43\n",
      "45\n",
      "47\n",
      "49\n"
     ]
    }
   ],
   "source": [
    "for i in range(1,51,2):\n",
    "    print(i)"
   ]
  },
  {
   "cell_type": "code",
   "execution_count": null,
   "id": "d90a8d36",
   "metadata": {},
   "outputs": [],
   "source": []
  },
  {
   "cell_type": "markdown",
   "id": "32551dec",
   "metadata": {},
   "source": [
    "### pass"
   ]
  },
  {
   "cell_type": "code",
   "execution_count": null,
   "id": "67db4262",
   "metadata": {},
   "outputs": [],
   "source": [
    "- perform null action"
   ]
  },
  {
   "cell_type": "code",
   "execution_count": null,
   "id": "a79e0642",
   "metadata": {},
   "outputs": [],
   "source": []
  },
  {
   "cell_type": "code",
   "execution_count": 61,
   "id": "f0a3dc4a",
   "metadata": {},
   "outputs": [],
   "source": [
    "for i in range(1,51,2):\n",
    "    pass\n"
   ]
  },
  {
   "cell_type": "code",
   "execution_count": 59,
   "id": "47dd8221",
   "metadata": {},
   "outputs": [
    {
     "name": "stdout",
     "output_type": "stream",
     "text": [
      "49\n"
     ]
    }
   ],
   "source": [
    "print(i)"
   ]
  },
  {
   "cell_type": "markdown",
   "id": "28f4a396",
   "metadata": {},
   "source": [
    "### break"
   ]
  },
  {
   "cell_type": "raw",
   "id": "f4cdcd78",
   "metadata": {},
   "source": [
    "Iteration break, out of the block"
   ]
  },
  {
   "cell_type": "markdown",
   "id": "5d4063e1",
   "metadata": {},
   "source": [
    "#### example"
   ]
  },
  {
   "cell_type": "code",
   "execution_count": 67,
   "id": "6532dec2",
   "metadata": {},
   "outputs": [
    {
     "name": "stdout",
     "output_type": "stream",
     "text": [
      "1\n",
      "2\n",
      "3\n",
      "4\n"
     ]
    }
   ],
   "source": [
    "for s in range(1,11):\n",
    "    if s==5:\n",
    "        break\n",
    "    print(s)"
   ]
  },
  {
   "cell_type": "code",
   "execution_count": null,
   "id": "75a8089f",
   "metadata": {},
   "outputs": [],
   "source": []
  },
  {
   "cell_type": "markdown",
   "id": "d282f215",
   "metadata": {},
   "source": [
    "### continue"
   ]
  },
  {
   "cell_type": "code",
   "execution_count": 68,
   "id": "84e14302",
   "metadata": {},
   "outputs": [
    {
     "name": "stdout",
     "output_type": "stream",
     "text": [
      "1\n",
      "2\n",
      "3\n",
      "4\n",
      "6\n",
      "7\n",
      "8\n",
      "9\n",
      "10\n"
     ]
    }
   ],
   "source": [
    "for s in range(1,11):\n",
    "    if s==5:\n",
    "        continue\n",
    "    print(s)"
   ]
  },
  {
   "cell_type": "code",
   "execution_count": null,
   "id": "076b6154",
   "metadata": {},
   "outputs": [],
   "source": []
  },
  {
   "cell_type": "code",
   "execution_count": null,
   "id": "8c90b09e",
   "metadata": {},
   "outputs": [],
   "source": []
  },
  {
   "cell_type": "markdown",
   "id": "ae461851",
   "metadata": {},
   "source": [
    "### Conditional Statements : "
   ]
  },
  {
   "cell_type": "markdown",
   "id": "e60bb28a",
   "metadata": {},
   "source": [
    "- if\n",
    "- if else\n",
    "- if elif else"
   ]
  },
  {
   "cell_type": "code",
   "execution_count": null,
   "id": "e792004d",
   "metadata": {},
   "outputs": [],
   "source": []
  },
  {
   "cell_type": "markdown",
   "id": "560c3215",
   "metadata": {},
   "source": [
    "### if"
   ]
  },
  {
   "cell_type": "code",
   "execution_count": null,
   "id": "f6e9a416",
   "metadata": {},
   "outputs": [],
   "source": [
    "- if give ouput when only and only if condition is True"
   ]
  },
  {
   "cell_type": "code",
   "execution_count": null,
   "id": "ecc819c4",
   "metadata": {},
   "outputs": [],
   "source": []
  },
  {
   "cell_type": "markdown",
   "id": "62a3cd24",
   "metadata": {},
   "source": [
    "#### syntax:"
   ]
  },
  {
   "cell_type": "code",
   "execution_count": null,
   "id": "16a01a9f",
   "metadata": {},
   "outputs": [],
   "source": [
    "if condition:\n",
    "    #statements"
   ]
  },
  {
   "cell_type": "code",
   "execution_count": null,
   "id": "f36d451e",
   "metadata": {},
   "outputs": [],
   "source": []
  },
  {
   "cell_type": "markdown",
   "id": "59252ab2",
   "metadata": {},
   "source": [
    "#### example"
   ]
  },
  {
   "cell_type": "code",
   "execution_count": 73,
   "id": "3c659ed8",
   "metadata": {},
   "outputs": [
    {
     "name": "stdout",
     "output_type": "stream",
     "text": [
      "good afternoon\n"
     ]
    }
   ],
   "source": [
    "age = 25\n",
    "\n",
    "\n",
    "if age==25:\n",
    "    print('good afternoon')\n",
    "        "
   ]
  },
  {
   "cell_type": "code",
   "execution_count": null,
   "id": "b693f8f6",
   "metadata": {},
   "outputs": [],
   "source": []
  },
  {
   "cell_type": "markdown",
   "id": "5ab21cc8",
   "metadata": {},
   "source": [
    "### if else"
   ]
  },
  {
   "cell_type": "markdown",
   "id": "b8b87ff6",
   "metadata": {},
   "source": [
    "#### syntax:"
   ]
  },
  {
   "cell_type": "code",
   "execution_count": null,
   "id": "2f1810a9",
   "metadata": {},
   "outputs": [],
   "source": [
    "if condition:\n",
    "    statement\n",
    "    \n",
    "else:  \n",
    "    statement"
   ]
  },
  {
   "cell_type": "code",
   "execution_count": null,
   "id": "90038977",
   "metadata": {},
   "outputs": [],
   "source": []
  },
  {
   "cell_type": "markdown",
   "id": "b65b6c1f",
   "metadata": {},
   "source": [
    "#### example"
   ]
  },
  {
   "cell_type": "code",
   "execution_count": null,
   "id": "3320969e",
   "metadata": {},
   "outputs": [],
   "source": []
  },
  {
   "cell_type": "code",
   "execution_count": 75,
   "id": "4f6381ca",
   "metadata": {},
   "outputs": [
    {
     "name": "stdout",
     "output_type": "stream",
     "text": [
      "Enter your usernameuser123\n",
      "Enter your password123\n",
      "login successful\n"
     ]
    }
   ],
   "source": [
    "user_name =\"user123\"\n",
    "pass_word =\"123\"\n",
    "\n",
    "U1 = input('Enter your username')\n",
    "\n",
    "P1 = input('Enter your password')\n",
    "\n",
    "if user_name==U1 and pass_word==P1:\n",
    "    print(\"login successful\")\n",
    "    \n",
    "    \n",
    "else:   \n",
    "    print(\"Invalid user_name,password\")"
   ]
  },
  {
   "cell_type": "code",
   "execution_count": null,
   "id": "2b09e72c",
   "metadata": {},
   "outputs": [],
   "source": []
  },
  {
   "cell_type": "code",
   "execution_count": null,
   "id": "8f96f362",
   "metadata": {},
   "outputs": [],
   "source": [
    "# example2\n",
    "\n",
    "\n"
   ]
  },
  {
   "cell_type": "markdown",
   "id": "56520c87",
   "metadata": {},
   "source": [
    "### if elif else"
   ]
  },
  {
   "cell_type": "raw",
   "id": "c69eee60",
   "metadata": {},
   "source": [
    "elif   --> else if"
   ]
  },
  {
   "cell_type": "markdown",
   "id": "fad80ec5",
   "metadata": {},
   "source": [
    "#### syntax:"
   ]
  },
  {
   "cell_type": "raw",
   "id": "cf8a1b22",
   "metadata": {},
   "source": [
    "if condition:\n",
    "    statement\n",
    "    \n",
    "elif condition:\n",
    "    statement\n",
    "    \n",
    "elif condition:\n",
    "    statement\n",
    "    \n",
    "else:\n",
    "    statement\n",
    "    "
   ]
  },
  {
   "cell_type": "code",
   "execution_count": null,
   "id": "79eb0254",
   "metadata": {},
   "outputs": [],
   "source": []
  },
  {
   "cell_type": "markdown",
   "id": "ed1ab670",
   "metadata": {},
   "source": [
    "#### example"
   ]
  },
  {
   "cell_type": "code",
   "execution_count": 1,
   "id": "9521e6e1",
   "metadata": {},
   "outputs": [
    {
     "name": "stdout",
     "output_type": "stream",
     "text": [
      "Enter your age :45\n",
      "you are eligibile for driving car\n"
     ]
    }
   ],
   "source": [
    "age1 =int(input(\"Enter your age :\"))\n",
    "\n",
    "\n",
    "if age1<18:\n",
    "    print(\"You are not eligible for driving car\")\n",
    "    \n",
    "elif age1>100: \n",
    "    print(\"Take rest\")\n",
    "    \n",
    "elif age1>60:\n",
    "    print(\"take provisional licence\")\n",
    "    \n",
    "else:\n",
    "    print(\"you are eligibile for driving car\")\n",
    "    \n"
   ]
  },
  {
   "cell_type": "code",
   "execution_count": null,
   "id": "8684be6d",
   "metadata": {},
   "outputs": [],
   "source": []
  },
  {
   "cell_type": "code",
   "execution_count": null,
   "id": "0a8697b5",
   "metadata": {},
   "outputs": [],
   "source": []
  },
  {
   "cell_type": "code",
   "execution_count": null,
   "id": "028e5045",
   "metadata": {},
   "outputs": [],
   "source": []
  },
  {
   "cell_type": "markdown",
   "id": "7c0bd357",
   "metadata": {},
   "source": [
    "### loops in Python "
   ]
  },
  {
   "cell_type": "raw",
   "id": "d5ccfcdf",
   "metadata": {},
   "source": [
    "In Python, a loop is a programming construct that allows you to repeatedly execute a block of code. It's used to efficiently perform tasks that require repetitive operations. "
   ]
  },
  {
   "cell_type": "markdown",
   "id": "f49ecde7",
   "metadata": {},
   "source": [
    "- for Loop\n",
    "- while Loop\n"
   ]
  },
  {
   "cell_type": "markdown",
   "id": "ad7c12fe",
   "metadata": {},
   "source": [
    "### for loop"
   ]
  },
  {
   "cell_type": "raw",
   "id": "0d791763",
   "metadata": {},
   "source": [
    "A for loop is used to iterate over a sequence (like a list, tuple, string, or range) and execute a block of code for each item in the sequence."
   ]
  },
  {
   "cell_type": "code",
   "execution_count": null,
   "id": "3b47c03d",
   "metadata": {},
   "outputs": [],
   "source": []
  },
  {
   "cell_type": "markdown",
   "id": "963f81a5",
   "metadata": {},
   "source": [
    "#### syntax:"
   ]
  },
  {
   "cell_type": "code",
   "execution_count": null,
   "id": "3e9b34bc",
   "metadata": {},
   "outputs": [],
   "source": [
    "for variable in sequence(list,range,string,tuple):\n",
    "    \n",
    "    #statements"
   ]
  },
  {
   "cell_type": "code",
   "execution_count": null,
   "id": "35fbeab3",
   "metadata": {},
   "outputs": [],
   "source": []
  },
  {
   "cell_type": "markdown",
   "id": "d5e4c79c",
   "metadata": {},
   "source": [
    "#### example"
   ]
  },
  {
   "cell_type": "code",
   "execution_count": 1,
   "id": "8fde6b25",
   "metadata": {},
   "outputs": [],
   "source": [
    "# for loop with list \n",
    "\n",
    "\n",
    "list2 = [100,200,300,400,500,600]"
   ]
  },
  {
   "cell_type": "code",
   "execution_count": 2,
   "id": "ef8c954e",
   "metadata": {},
   "outputs": [
    {
     "data": {
      "text/plain": [
       "[100, 200, 300, 400, 500, 600]"
      ]
     },
     "execution_count": 2,
     "metadata": {},
     "output_type": "execute_result"
    }
   ],
   "source": [
    "list2"
   ]
  },
  {
   "cell_type": "code",
   "execution_count": null,
   "id": "99f7c599",
   "metadata": {},
   "outputs": [],
   "source": []
  },
  {
   "cell_type": "code",
   "execution_count": 3,
   "id": "0343fb84",
   "metadata": {},
   "outputs": [
    {
     "name": "stdout",
     "output_type": "stream",
     "text": [
      "100\n",
      "200\n",
      "300\n",
      "400\n",
      "500\n",
      "600\n"
     ]
    }
   ],
   "source": [
    "for n in list2:\n",
    "    print(n)"
   ]
  },
  {
   "cell_type": "code",
   "execution_count": 4,
   "id": "874acad3",
   "metadata": {},
   "outputs": [
    {
     "data": {
      "text/plain": [
       "int"
      ]
     },
     "execution_count": 4,
     "metadata": {},
     "output_type": "execute_result"
    }
   ],
   "source": [
    "type(n)"
   ]
  },
  {
   "cell_type": "markdown",
   "id": "f95da4d2",
   "metadata": {},
   "source": [
    "#### example2"
   ]
  },
  {
   "cell_type": "code",
   "execution_count": 5,
   "id": "85d77e6b",
   "metadata": {},
   "outputs": [
    {
     "data": {
      "text/plain": [
       "{1: 'apple', 2: 'banana', 3: 'cherry'}"
      ]
     },
     "execution_count": 5,
     "metadata": {},
     "output_type": "execute_result"
    }
   ],
   "source": [
    "#for loop with dictionary\n",
    "\n",
    "\n",
    "dict1 = {1:'apple',2:'banana',3:'cherry'}\n",
    "\n",
    "\n",
    "dict1"
   ]
  },
  {
   "cell_type": "code",
   "execution_count": null,
   "id": "7eb686ce",
   "metadata": {},
   "outputs": [],
   "source": []
  },
  {
   "cell_type": "code",
   "execution_count": 6,
   "id": "4bb974b7",
   "metadata": {},
   "outputs": [
    {
     "name": "stdout",
     "output_type": "stream",
     "text": [
      "1\n",
      "2\n",
      "3\n"
     ]
    }
   ],
   "source": [
    "for i in dict1:         #returns only keys\n",
    "    print(i)"
   ]
  },
  {
   "cell_type": "code",
   "execution_count": null,
   "id": "f74a2200",
   "metadata": {},
   "outputs": [],
   "source": []
  },
  {
   "cell_type": "code",
   "execution_count": null,
   "id": "2c76e01b",
   "metadata": {},
   "outputs": [],
   "source": [
    "for j in dict1.items():\n",
    "    print(j)                # returns keys and values     "
   ]
  },
  {
   "cell_type": "code",
   "execution_count": null,
   "id": "36a3e6ac",
   "metadata": {},
   "outputs": [],
   "source": []
  },
  {
   "cell_type": "code",
   "execution_count": 9,
   "id": "7fb1a533",
   "metadata": {},
   "outputs": [
    {
     "name": "stdout",
     "output_type": "stream",
     "text": [
      "apple\n",
      "banana\n",
      "cherry\n"
     ]
    }
   ],
   "source": [
    "for x in dict1.values():\n",
    "    print(x)                     # return only values"
   ]
  },
  {
   "cell_type": "code",
   "execution_count": null,
   "id": "21ed065c",
   "metadata": {},
   "outputs": [],
   "source": []
  },
  {
   "cell_type": "code",
   "execution_count": null,
   "id": "3718e3ce",
   "metadata": {},
   "outputs": [],
   "source": []
  },
  {
   "cell_type": "code",
   "execution_count": null,
   "id": "4faa59ec",
   "metadata": {},
   "outputs": [],
   "source": []
  },
  {
   "cell_type": "markdown",
   "id": "4d0ba763",
   "metadata": {},
   "source": [
    "### while loop"
   ]
  },
  {
   "cell_type": "raw",
   "id": "cfac4743",
   "metadata": {},
   "source": [
    "A while loop is used to repeatedly execute a block of code as long as a specified condition is True."
   ]
  },
  {
   "cell_type": "code",
   "execution_count": null,
   "id": "1c0e1f4b",
   "metadata": {},
   "outputs": [],
   "source": []
  },
  {
   "cell_type": "markdown",
   "id": "717dfad4",
   "metadata": {},
   "source": [
    "#### syntax:"
   ]
  },
  {
   "cell_type": "raw",
   "id": "2fee31d6",
   "metadata": {},
   "source": [
    "initilization     # optional\n",
    "while condition:\n",
    "    statements"
   ]
  },
  {
   "cell_type": "code",
   "execution_count": null,
   "id": "3664cf07",
   "metadata": {},
   "outputs": [],
   "source": []
  },
  {
   "cell_type": "markdown",
   "id": "1518b999",
   "metadata": {},
   "source": [
    "#### example1"
   ]
  },
  {
   "cell_type": "code",
   "execution_count": 12,
   "id": "e80d153f",
   "metadata": {},
   "outputs": [
    {
     "name": "stdout",
     "output_type": "stream",
     "text": [
      "1\n",
      "2\n",
      "3\n",
      "4\n",
      "5\n",
      "6\n",
      "7\n",
      "8\n",
      "9\n",
      "10\n"
     ]
    }
   ],
   "source": [
    "z = 1\n",
    "\n",
    "while z<=10:\n",
    "    print(z)\n",
    "    z +=1\n",
    "    \n",
    "  "
   ]
  },
  {
   "cell_type": "code",
   "execution_count": null,
   "id": "032856f8",
   "metadata": {},
   "outputs": [],
   "source": []
  },
  {
   "cell_type": "code",
   "execution_count": 15,
   "id": "be06b310",
   "metadata": {},
   "outputs": [
    {
     "name": "stdout",
     "output_type": "stream",
     "text": [
      "power 2\n",
      "power 4\n",
      "power 6\n",
      "power 8\n",
      "power 10\n",
      "power 12\n",
      "power 14\n",
      "power 16\n",
      "power 18\n",
      "power 20\n"
     ]
    }
   ],
   "source": [
    "t = 1\n",
    "\n",
    "while t<=10:\n",
    "    print(\"power\",t*2)\n",
    "    \n",
    "    t +=1"
   ]
  },
  {
   "cell_type": "code",
   "execution_count": null,
   "id": "b870e58a",
   "metadata": {},
   "outputs": [],
   "source": []
  },
  {
   "cell_type": "markdown",
   "id": "7dfb6771",
   "metadata": {},
   "source": [
    "#### example2"
   ]
  },
  {
   "cell_type": "code",
   "execution_count": null,
   "id": "d0cf8f72",
   "metadata": {},
   "outputs": [],
   "source": [
    "operator = input(''' select an operator :1=+\n",
    "2=-\n",
    "3=*\n",
    "4=/\n",
    "5=quit''')\n",
    "\n",
    "\n",
    "\n",
    "\n",
    "while operator !='5':\n",
    "    num1 =int(input('Enter first number :'))\n",
    "    num2 = int(input('Enter second number :'))\n",
    "    \n",
    "    if operator=='1':\n",
    "        result =num1+num2\n",
    "\n",
    "    elif operator == '2':\n",
    "        result = num1 - num2\n",
    "        \n",
    "    elif operator =='3':\n",
    "        result =num1*num2\n",
    "        \n",
    "    elif operator =='4':\n",
    "        result =num1/num2\n",
    "        \n",
    "    elif operator=='5':\n",
    "        break\n",
    "    print(result)\n",
    "    break      \n",
    "    \n",
    "print('Thank you')    \n",
    "     \n",
    "    "
   ]
  },
  {
   "cell_type": "code",
   "execution_count": null,
   "id": "27af83b1",
   "metadata": {},
   "outputs": [],
   "source": []
  },
  {
   "cell_type": "code",
   "execution_count": null,
   "id": "e7fda6c7",
   "metadata": {},
   "outputs": [],
   "source": []
  },
  {
   "cell_type": "code",
   "execution_count": null,
   "id": "12a5695b",
   "metadata": {},
   "outputs": [],
   "source": []
  },
  {
   "cell_type": "code",
   "execution_count": null,
   "id": "de523c4c",
   "metadata": {},
   "outputs": [],
   "source": []
  },
  {
   "cell_type": "code",
   "execution_count": null,
   "id": "bb859c67",
   "metadata": {},
   "outputs": [],
   "source": []
  },
  {
   "cell_type": "code",
   "execution_count": null,
   "id": "090ba06e",
   "metadata": {},
   "outputs": [],
   "source": []
  },
  {
   "cell_type": "code",
   "execution_count": null,
   "id": "5c885d86",
   "metadata": {},
   "outputs": [],
   "source": []
  },
  {
   "cell_type": "code",
   "execution_count": null,
   "id": "eb7e3040",
   "metadata": {},
   "outputs": [],
   "source": []
  },
  {
   "cell_type": "code",
   "execution_count": null,
   "id": "f0a86fb6",
   "metadata": {},
   "outputs": [],
   "source": []
  },
  {
   "cell_type": "markdown",
   "id": "9cecd068",
   "metadata": {},
   "source": [
    "### lambda function"
   ]
  },
  {
   "cell_type": "raw",
   "id": "18bfc47f",
   "metadata": {},
   "source": [
    "A lambda function is small anonymous function.\n",
    "A lambda function can take any number of arguments,but can only have one expression."
   ]
  },
  {
   "cell_type": "code",
   "execution_count": null,
   "id": "3089d898",
   "metadata": {},
   "outputs": [],
   "source": []
  },
  {
   "cell_type": "code",
   "execution_count": null,
   "id": "71157316",
   "metadata": {},
   "outputs": [],
   "source": []
  },
  {
   "cell_type": "code",
   "execution_count": null,
   "id": "7ed72c46",
   "metadata": {},
   "outputs": [],
   "source": []
  },
  {
   "cell_type": "markdown",
   "id": "9c7a6beb",
   "metadata": {},
   "source": [
    "### list comprehension"
   ]
  },
  {
   "cell_type": "markdown",
   "id": "d2eb7c89",
   "metadata": {},
   "source": [
    "- list comprehension is an elegant way to define and create listed based on exsting lists.\n",
    "- list comprehension is generally more compact and faster than normal functions and loops for creating list.\n",
    "- list comprehension offers a shorter syntax when you want to create a new list based on the values of an exsting list."
   ]
  },
  {
   "cell_type": "code",
   "execution_count": null,
   "id": "10b47a04",
   "metadata": {},
   "outputs": [],
   "source": []
  },
  {
   "cell_type": "markdown",
   "id": "94c6f58c",
   "metadata": {},
   "source": [
    "### syntax"
   ]
  },
  {
   "cell_type": "raw",
   "id": "dee7af8b",
   "metadata": {},
   "source": [
    "Basic syntax -----> [expression for item in iterable]\n",
    "\n",
    "Using if syntax -----> [expression for item in iterable if condition]\n",
    "\n",
    "Using if else syntax ----> [expression if condition else statement for item in iterable]"
   ]
  },
  {
   "cell_type": "code",
   "execution_count": null,
   "id": "7f1fcaaf",
   "metadata": {},
   "outputs": [],
   "source": []
  },
  {
   "cell_type": "code",
   "execution_count": null,
   "id": "46d874dc",
   "metadata": {},
   "outputs": [],
   "source": []
  },
  {
   "cell_type": "code",
   "execution_count": 2,
   "id": "e8e59a80",
   "metadata": {},
   "outputs": [
    {
     "name": "stdout",
     "output_type": "stream",
     "text": [
      "Enter your age :44\n",
      "you are eligibile for driving car\n"
     ]
    }
   ],
   "source": [
    "age1 =int(input(\"Enter your age :\"))\n",
    "\n",
    "\n",
    "if age1<18:\n",
    "    print(\"You are not eligible for driving car\",age1)\n",
    "    \n",
    "elif age1>100: \n",
    "    print(\"Take rest\")\n",
    "    \n",
    "elif age1>60:\n",
    "    print(\"take provisional licence\")\n",
    "    \n",
    "else:\n",
    "    print(\"you are eligibile for driving car\")"
   ]
  },
  {
   "cell_type": "code",
   "execution_count": null,
   "id": "69e31b22",
   "metadata": {},
   "outputs": [],
   "source": []
  },
  {
   "cell_type": "code",
   "execution_count": null,
   "id": "ef9c48ff",
   "metadata": {},
   "outputs": [],
   "source": []
  },
  {
   "cell_type": "code",
   "execution_count": 27,
   "id": "816f88f4",
   "metadata": {},
   "outputs": [
    {
     "name": "stdout",
     "output_type": "stream",
     "text": [
      "Enter your mark :5000000\n",
      "very good\n"
     ]
    }
   ],
   "source": [
    "mark =int(input(\"Enter your mark :\"))\n",
    "\n",
    "if mark>=75:\n",
    "    print('very good')\n",
    "    \n",
    "elif mark< 60 and  mark==68 :\n",
    "    print('good')\n",
    "    \n",
    "elif mark>40 and mark<45:    \n",
    "    print('do study')\n",
    "    \n",
    "else:\n",
    "    print('fail')"
   ]
  },
  {
   "cell_type": "code",
   "execution_count": null,
   "id": "ba957768",
   "metadata": {},
   "outputs": [],
   "source": [
    "x = 10\n",
    "y = 5\n",
    "\n",
    "if x > 5 and y < 7:\n",
    "    print(\"Both conditions are true.\")\n",
    "elif (x < 3) or (y > 8):\n",
    "    print(\"At least one of the conditions is true.\")\n",
    "else:\n",
    "    print(\"None of the conditions are true.\")\n"
   ]
  },
  {
   "cell_type": "code",
   "execution_count": null,
   "id": "20b99815",
   "metadata": {},
   "outputs": [],
   "source": []
  }
 ],
 "metadata": {
  "kernelspec": {
   "display_name": "Python 3 (ipykernel)",
   "language": "python",
   "name": "python3"
  },
  "language_info": {
   "codemirror_mode": {
    "name": "ipython",
    "version": 3
   },
   "file_extension": ".py",
   "mimetype": "text/x-python",
   "name": "python",
   "nbconvert_exporter": "python",
   "pygments_lexer": "ipython3",
   "version": "3.11.5"
  }
 },
 "nbformat": 4,
 "nbformat_minor": 5
}
