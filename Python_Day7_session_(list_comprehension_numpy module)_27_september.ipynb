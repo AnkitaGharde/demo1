{
 "cells": [
  {
   "cell_type": "raw",
   "id": "3c75b70c",
   "metadata": {},
   "source": [
    "- list comprehension\n",
    "- Introduction to NumPy"
   ]
  },
  {
   "cell_type": "code",
   "execution_count": null,
   "id": "d1b7aafa",
   "metadata": {},
   "outputs": [],
   "source": []
  },
  {
   "cell_type": "markdown",
   "id": "3509ee66",
   "metadata": {},
   "source": [
    "## list comprehension"
   ]
  },
  {
   "cell_type": "markdown",
   "id": "420fb381",
   "metadata": {},
   "source": [
    "- list comprehension is an elegant way to define and create listed based on exsting lists.\n",
    "- list comprehension is generally more compact and faster than normal functions and loops for creating list.\n",
    "- list comprehension offers a shorter syntax when you want to create a new list based on the values of an exsting list."
   ]
  },
  {
   "cell_type": "markdown",
   "id": "84ff1f25",
   "metadata": {},
   "source": [
    "#### Syntax:"
   ]
  },
  {
   "cell_type": "code",
   "execution_count": null,
   "id": "535de02d",
   "metadata": {},
   "outputs": [],
   "source": [
    "Basic syntax -----> [expression for item in iterable]\n",
    "\n",
    "Using if syntax -----> [expression for item in iterable if condition]\n",
    "\n",
    "Using if else syntax ----> [expression if condition else statement for item in iterable]"
   ]
  },
  {
   "cell_type": "code",
   "execution_count": null,
   "id": "59e5a055",
   "metadata": {},
   "outputs": [],
   "source": []
  },
  {
   "cell_type": "code",
   "execution_count": null,
   "id": "24ee80b3",
   "metadata": {},
   "outputs": [],
   "source": []
  },
  {
   "cell_type": "markdown",
   "id": "db200c7d",
   "metadata": {},
   "source": [
    "### without using list comprehension"
   ]
  },
  {
   "cell_type": "code",
   "execution_count": 52,
   "id": "16f36d78",
   "metadata": {},
   "outputs": [],
   "source": [
    "fruits = ['apple','banana','cherry','orange','mango']"
   ]
  },
  {
   "cell_type": "code",
   "execution_count": 53,
   "id": "8c7a220a",
   "metadata": {},
   "outputs": [
    {
     "data": {
      "text/plain": [
       "['apple', 'banana', 'cherry', 'orange', 'mango']"
      ]
     },
     "execution_count": 53,
     "metadata": {},
     "output_type": "execute_result"
    }
   ],
   "source": [
    "fruits"
   ]
  },
  {
   "cell_type": "code",
   "execution_count": null,
   "id": "c3eb02e7",
   "metadata": {},
   "outputs": [],
   "source": []
  },
  {
   "cell_type": "code",
   "execution_count": 54,
   "id": "f6f5a934",
   "metadata": {},
   "outputs": [
    {
     "name": "stdout",
     "output_type": "stream",
     "text": [
      "['apple', 'banana', 'orange', 'mango']\n"
     ]
    }
   ],
   "source": [
    "new_list=[]  # create empty list\n",
    "\n",
    "for i in fruits:\n",
    "    \n",
    "    if \"a\" in i:\n",
    "        new_list.append(i) \n",
    "        \n",
    "        \n",
    "print(new_list)        # without using list comprehension"
   ]
  },
  {
   "cell_type": "code",
   "execution_count": null,
   "id": "7c107ea2",
   "metadata": {},
   "outputs": [],
   "source": []
  },
  {
   "cell_type": "markdown",
   "id": "610966d3",
   "metadata": {},
   "source": [
    "### using list comprehension"
   ]
  },
  {
   "cell_type": "code",
   "execution_count": 55,
   "id": "f4c06008",
   "metadata": {},
   "outputs": [
    {
     "data": {
      "text/plain": [
       "['apple', 'banana', 'cherry', 'orange', 'mango']"
      ]
     },
     "execution_count": 55,
     "metadata": {},
     "output_type": "execute_result"
    }
   ],
   "source": [
    "fruits"
   ]
  },
  {
   "cell_type": "markdown",
   "id": "d2bd0032",
   "metadata": {},
   "source": [
    "#### syntax:"
   ]
  },
  {
   "cell_type": "code",
   "execution_count": null,
   "id": "fffd46af",
   "metadata": {},
   "outputs": [],
   "source": [
    "[expression for item in iterable if condition]"
   ]
  },
  {
   "cell_type": "code",
   "execution_count": 58,
   "id": "6c03dd0a",
   "metadata": {},
   "outputs": [
    {
     "data": {
      "text/plain": [
       "['apple', 'banana', 'cherry', 'orange', 'mango']"
      ]
     },
     "execution_count": 58,
     "metadata": {},
     "output_type": "execute_result"
    }
   ],
   "source": [
    "fruits"
   ]
  },
  {
   "cell_type": "code",
   "execution_count": 57,
   "id": "772b18db",
   "metadata": {},
   "outputs": [
    {
     "data": {
      "text/plain": [
       "['apple', 'banana', 'orange', 'mango']"
      ]
     },
     "execution_count": 57,
     "metadata": {},
     "output_type": "execute_result"
    }
   ],
   "source": [
    "[m for m in fruits if \"a\" in m]"
   ]
  },
  {
   "cell_type": "code",
   "execution_count": null,
   "id": "a82c2809",
   "metadata": {},
   "outputs": [],
   "source": []
  },
  {
   "cell_type": "markdown",
   "id": "7ad31809",
   "metadata": {},
   "source": [
    "### Basic syntax -----> [expression for item in iterable]"
   ]
  },
  {
   "cell_type": "code",
   "execution_count": 59,
   "id": "8e0075d1",
   "metadata": {},
   "outputs": [
    {
     "data": {
      "text/plain": [
       "[10, 20, 30, 40, 50]"
      ]
     },
     "execution_count": 59,
     "metadata": {},
     "output_type": "execute_result"
    }
   ],
   "source": [
    "l1 = [10,20,30,40,50]\n",
    "\n",
    "l1"
   ]
  },
  {
   "cell_type": "code",
   "execution_count": 64,
   "id": "af3c4de7",
   "metadata": {},
   "outputs": [
    {
     "data": {
      "text/plain": [
       "[10, 20, 30, 40, 50]"
      ]
     },
     "execution_count": 64,
     "metadata": {},
     "output_type": "execute_result"
    }
   ],
   "source": [
    "[a3 for a3 in l1]"
   ]
  },
  {
   "cell_type": "code",
   "execution_count": null,
   "id": "5b0b1323",
   "metadata": {},
   "outputs": [],
   "source": []
  },
  {
   "cell_type": "code",
   "execution_count": null,
   "id": "9535170e",
   "metadata": {},
   "outputs": [],
   "source": []
  },
  {
   "cell_type": "markdown",
   "id": "7907be07",
   "metadata": {},
   "source": [
    "#### example"
   ]
  },
  {
   "cell_type": "code",
   "execution_count": 60,
   "id": "9fb80466",
   "metadata": {},
   "outputs": [
    {
     "name": "stdout",
     "output_type": "stream",
     "text": [
      "1\n",
      "2\n",
      "3\n",
      "4\n"
     ]
    }
   ],
   "source": [
    "for a1 in [1,2,3,4]:\n",
    "    print(a1)"
   ]
  },
  {
   "cell_type": "code",
   "execution_count": 63,
   "id": "16bb1d45",
   "metadata": {},
   "outputs": [
    {
     "name": "stdout",
     "output_type": "stream",
     "text": [
      "2\n",
      "3\n",
      "4\n"
     ]
    }
   ],
   "source": [
    "for a2 in range(2,5):\n",
    "    print(a2)"
   ]
  },
  {
   "cell_type": "code",
   "execution_count": null,
   "id": "05622791",
   "metadata": {},
   "outputs": [],
   "source": []
  },
  {
   "cell_type": "markdown",
   "id": "91946369",
   "metadata": {},
   "source": [
    "#### Using if syntax -----> [expression for item in iterable if condition]"
   ]
  },
  {
   "cell_type": "code",
   "execution_count": 65,
   "id": "b02c59ee",
   "metadata": {},
   "outputs": [
    {
     "data": {
      "text/plain": [
       "[2, 4]"
      ]
     },
     "execution_count": 65,
     "metadata": {},
     "output_type": "execute_result"
    }
   ],
   "source": [
    "# example\n",
    "\n",
    "[m1 for m1 in [1,2,3,4,5] if m1%2==0]"
   ]
  },
  {
   "cell_type": "code",
   "execution_count": null,
   "id": "1fba7b25",
   "metadata": {},
   "outputs": [],
   "source": []
  },
  {
   "cell_type": "markdown",
   "id": "2389a9f4",
   "metadata": {},
   "source": [
    "#### Using if else syntax ----> [expression if condition else statement for item in iterable]"
   ]
  },
  {
   "cell_type": "markdown",
   "id": "9928d105",
   "metadata": {},
   "source": [
    "#### example"
   ]
  },
  {
   "cell_type": "code",
   "execution_count": 75,
   "id": "654ca2db",
   "metadata": {},
   "outputs": [
    {
     "data": {
      "text/plain": [
       "[1, 2, 3, 4, 5, 6, 7, 8, 9, 10]"
      ]
     },
     "execution_count": 75,
     "metadata": {},
     "output_type": "execute_result"
    }
   ],
   "source": [
    "[x if x%2==0 else x for x in [1,2,3,4,5,6,7,8,9,10]]"
   ]
  },
  {
   "cell_type": "code",
   "execution_count": null,
   "id": "beb033d9",
   "metadata": {},
   "outputs": [],
   "source": []
  },
  {
   "cell_type": "code",
   "execution_count": 78,
   "id": "6226057d",
   "metadata": {},
   "outputs": [
    {
     "data": {
      "text/plain": [
       "['odd', 'even', 'odd', 'even', 'odd', 'even', 'odd', 'even', 'odd', 'even']"
      ]
     },
     "execution_count": 78,
     "metadata": {},
     "output_type": "execute_result"
    }
   ],
   "source": [
    "[ \"even\" if x1%2==0 else \"odd\" for x1 in [1,2,3,4,5,6,7,8,9,10]]"
   ]
  },
  {
   "cell_type": "markdown",
   "id": "ba7d9d46",
   "metadata": {},
   "source": [
    "#### example"
   ]
  },
  {
   "cell_type": "code",
   "execution_count": 79,
   "id": "f1356b9b",
   "metadata": {},
   "outputs": [
    {
     "data": {
      "text/plain": [
       "dict"
      ]
     },
     "execution_count": 79,
     "metadata": {},
     "output_type": "execute_result"
    }
   ],
   "source": [
    "s={}\n",
    "\n",
    "type(s)"
   ]
  },
  {
   "cell_type": "code",
   "execution_count": null,
   "id": "6435824b",
   "metadata": {},
   "outputs": [],
   "source": []
  },
  {
   "cell_type": "code",
   "execution_count": null,
   "id": "e07b1bc7",
   "metadata": {},
   "outputs": [],
   "source": []
  },
  {
   "cell_type": "code",
   "execution_count": 79,
   "id": "b3653c2b",
   "metadata": {},
   "outputs": [],
   "source": [
    "#######################################################################################"
   ]
  },
  {
   "cell_type": "markdown",
   "id": "33f8359a",
   "metadata": {},
   "source": [
    "### Numpy Introduction"
   ]
  },
  {
   "cell_type": "markdown",
   "id": "0690cd3b",
   "metadata": {},
   "source": [
    "- NumPy is a Python library created in 2005 that performs numerical calculations. It is generally used for working with arrays.\n",
    "\n",
    "- NumPy also includes a wide range of mathematical functions, such as linear algebra, Fourier transforms, and random number generation, which can be applied to arrays.\n",
    "\n"
   ]
  },
  {
   "cell_type": "markdown",
   "id": "ab24365b",
   "metadata": {},
   "source": [
    "#### What is NumPy Used for?"
   ]
  },
  {
   "cell_type": "markdown",
   "id": "50c0a4fc",
   "metadata": {},
   "source": [
    "- Machine Learning\n",
    "- Data Science\n",
    "- Image and Signal Processing\n",
    "- Scientific Computing"
   ]
  },
  {
   "cell_type": "code",
   "execution_count": null,
   "id": "1176836f",
   "metadata": {},
   "outputs": [],
   "source": []
  },
  {
   "cell_type": "code",
   "execution_count": 1,
   "id": "ad808ce8",
   "metadata": {},
   "outputs": [],
   "source": [
    "import numpy as np"
   ]
  },
  {
   "cell_type": "code",
   "execution_count": 2,
   "id": "a30a6f4c",
   "metadata": {},
   "outputs": [],
   "source": [
    "p1 = np.array(34)"
   ]
  },
  {
   "cell_type": "code",
   "execution_count": 3,
   "id": "d9b54485",
   "metadata": {},
   "outputs": [
    {
     "data": {
      "text/plain": [
       "array(34)"
      ]
     },
     "execution_count": 3,
     "metadata": {},
     "output_type": "execute_result"
    }
   ],
   "source": [
    "p1"
   ]
  },
  {
   "cell_type": "code",
   "execution_count": 101,
   "id": "253d362f",
   "metadata": {},
   "outputs": [
    {
     "data": {
      "text/plain": [
       "numpy.ndarray"
      ]
     },
     "execution_count": 101,
     "metadata": {},
     "output_type": "execute_result"
    }
   ],
   "source": [
    "type(p1)"
   ]
  },
  {
   "cell_type": "markdown",
   "id": "97d0d411",
   "metadata": {},
   "source": [
    "#### dimension check"
   ]
  },
  {
   "cell_type": "code",
   "execution_count": 4,
   "id": "10f83fbc",
   "metadata": {},
   "outputs": [
    {
     "data": {
      "text/plain": [
       "0"
      ]
     },
     "execution_count": 4,
     "metadata": {},
     "output_type": "execute_result"
    }
   ],
   "source": [
    "np.ndim(p1)"
   ]
  },
  {
   "cell_type": "markdown",
   "id": "00b355d9",
   "metadata": {},
   "source": [
    "### Array"
   ]
  },
  {
   "cell_type": "code",
   "execution_count": 5,
   "id": "176edb55",
   "metadata": {},
   "outputs": [],
   "source": [
    "p2 = np.array([1,2,3,4,5,6,7,8,9,10])"
   ]
  },
  {
   "cell_type": "code",
   "execution_count": 6,
   "id": "b16685f2",
   "metadata": {},
   "outputs": [
    {
     "data": {
      "text/plain": [
       "array([ 1,  2,  3,  4,  5,  6,  7,  8,  9, 10])"
      ]
     },
     "execution_count": 6,
     "metadata": {},
     "output_type": "execute_result"
    }
   ],
   "source": [
    "p2"
   ]
  },
  {
   "cell_type": "markdown",
   "id": "8a37d7be",
   "metadata": {},
   "source": [
    "### array indexing"
   ]
  },
  {
   "cell_type": "code",
   "execution_count": 7,
   "id": "531a6654",
   "metadata": {},
   "outputs": [
    {
     "data": {
      "text/plain": [
       "5"
      ]
     },
     "execution_count": 7,
     "metadata": {},
     "output_type": "execute_result"
    }
   ],
   "source": [
    "p2[4]"
   ]
  },
  {
   "cell_type": "code",
   "execution_count": 8,
   "id": "0df284fa",
   "metadata": {},
   "outputs": [
    {
     "data": {
      "text/plain": [
       "1"
      ]
     },
     "execution_count": 8,
     "metadata": {},
     "output_type": "execute_result"
    }
   ],
   "source": [
    "p2[0]"
   ]
  },
  {
   "cell_type": "code",
   "execution_count": 9,
   "id": "82696110",
   "metadata": {},
   "outputs": [],
   "source": [
    "x1 = np.array([[1,2,3,4,5,6,7,8,9,10],[10,20,30,40,50,60,70,80,90,10]])"
   ]
  },
  {
   "cell_type": "code",
   "execution_count": 10,
   "id": "daf23d2d",
   "metadata": {},
   "outputs": [
    {
     "data": {
      "text/plain": [
       "array([[ 1,  2,  3,  4,  5,  6,  7,  8,  9, 10],\n",
       "       [10, 20, 30, 40, 50, 60, 70, 80, 90, 10]])"
      ]
     },
     "execution_count": 10,
     "metadata": {},
     "output_type": "execute_result"
    }
   ],
   "source": [
    "x1"
   ]
  },
  {
   "cell_type": "code",
   "execution_count": null,
   "id": "8286d906",
   "metadata": {},
   "outputs": [],
   "source": []
  },
  {
   "cell_type": "code",
   "execution_count": 13,
   "id": "6a44d2b9",
   "metadata": {},
   "outputs": [
    {
     "data": {
      "text/plain": [
       "array([ 1,  2,  3,  4,  5,  6,  7,  8,  9, 10])"
      ]
     },
     "execution_count": 13,
     "metadata": {},
     "output_type": "execute_result"
    }
   ],
   "source": [
    "x1[0]"
   ]
  },
  {
   "cell_type": "code",
   "execution_count": 14,
   "id": "19863599",
   "metadata": {},
   "outputs": [
    {
     "data": {
      "text/plain": [
       "array([10, 20, 30, 40, 50, 60, 70, 80, 90, 10])"
      ]
     },
     "execution_count": 14,
     "metadata": {},
     "output_type": "execute_result"
    }
   ],
   "source": [
    "x1[1]"
   ]
  },
  {
   "cell_type": "code",
   "execution_count": null,
   "id": "bf0f17ba",
   "metadata": {},
   "outputs": [],
   "source": []
  },
  {
   "cell_type": "code",
   "execution_count": 15,
   "id": "901f6fef",
   "metadata": {},
   "outputs": [
    {
     "ename": "IndexError",
     "evalue": "index 2 is out of bounds for axis 0 with size 2",
     "output_type": "error",
     "traceback": [
      "\u001b[1;31m---------------------------------------------------------------------------\u001b[0m",
      "\u001b[1;31mIndexError\u001b[0m                                Traceback (most recent call last)",
      "Cell \u001b[1;32mIn[15], line 1\u001b[0m\n\u001b[1;32m----> 1\u001b[0m \u001b[43mx1\u001b[49m\u001b[43m[\u001b[49m\u001b[38;5;241;43m2\u001b[39;49m\u001b[43m]\u001b[49m\n",
      "\u001b[1;31mIndexError\u001b[0m: index 2 is out of bounds for axis 0 with size 2"
     ]
    }
   ],
   "source": [
    "x1[2]"
   ]
  },
  {
   "cell_type": "code",
   "execution_count": 17,
   "id": "9eee0850",
   "metadata": {},
   "outputs": [
    {
     "data": {
      "text/plain": [
       "array([[ 1,  2,  3,  4,  5,  6,  7,  8,  9, 10],\n",
       "       [10, 20, 30, 40, 50, 60, 70, 80, 90, 10]])"
      ]
     },
     "execution_count": 17,
     "metadata": {},
     "output_type": "execute_result"
    }
   ],
   "source": [
    "x1"
   ]
  },
  {
   "cell_type": "code",
   "execution_count": 24,
   "id": "5853c9ea",
   "metadata": {},
   "outputs": [
    {
     "data": {
      "text/plain": [
       "60"
      ]
     },
     "execution_count": 24,
     "metadata": {},
     "output_type": "execute_result"
    }
   ],
   "source": [
    "x1[1][5]"
   ]
  },
  {
   "cell_type": "code",
   "execution_count": null,
   "id": "a31cdfe3",
   "metadata": {},
   "outputs": [],
   "source": []
  },
  {
   "cell_type": "code",
   "execution_count": 21,
   "id": "0bc5c73e",
   "metadata": {},
   "outputs": [
    {
     "data": {
      "text/plain": [
       "60"
      ]
     },
     "execution_count": 21,
     "metadata": {},
     "output_type": "execute_result"
    }
   ],
   "source": [
    "x1[1][5]"
   ]
  },
  {
   "cell_type": "code",
   "execution_count": null,
   "id": "27002452",
   "metadata": {},
   "outputs": [],
   "source": []
  },
  {
   "cell_type": "markdown",
   "id": "f0c6747f",
   "metadata": {},
   "source": [
    "#### array slicing"
   ]
  },
  {
   "cell_type": "code",
   "execution_count": null,
   "id": "e1f339a7",
   "metadata": {},
   "outputs": [],
   "source": [
    "[start:end:step]"
   ]
  },
  {
   "cell_type": "code",
   "execution_count": 25,
   "id": "fe2a88be",
   "metadata": {},
   "outputs": [],
   "source": [
    "array1 = [10,20,30,40,50]"
   ]
  },
  {
   "cell_type": "code",
   "execution_count": 26,
   "id": "872fcbad",
   "metadata": {},
   "outputs": [
    {
     "data": {
      "text/plain": [
       "[10, 20, 30, 40, 50]"
      ]
     },
     "execution_count": 26,
     "metadata": {},
     "output_type": "execute_result"
    }
   ],
   "source": [
    "array1"
   ]
  },
  {
   "cell_type": "code",
   "execution_count": null,
   "id": "16324ad1",
   "metadata": {},
   "outputs": [],
   "source": []
  },
  {
   "cell_type": "code",
   "execution_count": 27,
   "id": "3de9ce69",
   "metadata": {},
   "outputs": [
    {
     "data": {
      "text/plain": [
       "[10, 20, 30, 40, 50]"
      ]
     },
     "execution_count": 27,
     "metadata": {},
     "output_type": "execute_result"
    }
   ],
   "source": [
    "array1[:]"
   ]
  },
  {
   "cell_type": "code",
   "execution_count": null,
   "id": "6b01c1f0",
   "metadata": {},
   "outputs": [],
   "source": []
  },
  {
   "cell_type": "code",
   "execution_count": 28,
   "id": "c2ec6296",
   "metadata": {},
   "outputs": [
    {
     "data": {
      "text/plain": [
       "[10, 20, 30]"
      ]
     },
     "execution_count": 28,
     "metadata": {},
     "output_type": "execute_result"
    }
   ],
   "source": [
    "array1[:3]"
   ]
  },
  {
   "cell_type": "code",
   "execution_count": 29,
   "id": "dee7a210",
   "metadata": {},
   "outputs": [
    {
     "data": {
      "text/plain": [
       "[30, 40, 50]"
      ]
     },
     "execution_count": 29,
     "metadata": {},
     "output_type": "execute_result"
    }
   ],
   "source": [
    "array1[2:]"
   ]
  },
  {
   "cell_type": "code",
   "execution_count": null,
   "id": "e235c558",
   "metadata": {},
   "outputs": [],
   "source": []
  },
  {
   "cell_type": "code",
   "execution_count": 31,
   "id": "8f618a03",
   "metadata": {},
   "outputs": [
    {
     "data": {
      "text/plain": [
       "[10, 20, 30, 40, 50]"
      ]
     },
     "execution_count": 31,
     "metadata": {},
     "output_type": "execute_result"
    }
   ],
   "source": [
    "array1[::1]"
   ]
  },
  {
   "cell_type": "code",
   "execution_count": null,
   "id": "611309b8",
   "metadata": {},
   "outputs": [],
   "source": []
  },
  {
   "cell_type": "code",
   "execution_count": 34,
   "id": "11af8955",
   "metadata": {},
   "outputs": [],
   "source": [
    "x2 = np.array([[1,2,3,4,5,6,7,8,9,10],[10,20,30,40,50,60,70,80,90,10],[45,37,45]],dtype=object)"
   ]
  },
  {
   "cell_type": "code",
   "execution_count": 35,
   "id": "ab820bf7",
   "metadata": {},
   "outputs": [
    {
     "data": {
      "text/plain": [
       "array([list([1, 2, 3, 4, 5, 6, 7, 8, 9, 10]),\n",
       "       list([10, 20, 30, 40, 50, 60, 70, 80, 90, 10]), list([45, 37, 45])],\n",
       "      dtype=object)"
      ]
     },
     "execution_count": 35,
     "metadata": {},
     "output_type": "execute_result"
    }
   ],
   "source": [
    "x2"
   ]
  },
  {
   "cell_type": "code",
   "execution_count": null,
   "id": "4f4528f8",
   "metadata": {},
   "outputs": [],
   "source": []
  },
  {
   "cell_type": "code",
   "execution_count": 62,
   "id": "b68e48fa",
   "metadata": {},
   "outputs": [],
   "source": [
    "x3= np.array([[1,2,3,4,5,6,7,8,9,10],[10,20,30,40,50,60,70,80,90,10],[45,37,45,34,56,67,12,78,23,89]])"
   ]
  },
  {
   "cell_type": "code",
   "execution_count": 63,
   "id": "66a9b0fe",
   "metadata": {},
   "outputs": [
    {
     "data": {
      "text/plain": [
       "2"
      ]
     },
     "execution_count": 63,
     "metadata": {},
     "output_type": "execute_result"
    }
   ],
   "source": [
    "np.ndim(x3)"
   ]
  },
  {
   "cell_type": "code",
   "execution_count": 39,
   "id": "5ebb7e63",
   "metadata": {},
   "outputs": [
    {
     "data": {
      "text/plain": [
       "array([[ 1,  2,  3,  4,  5,  6,  7,  8,  9, 10],\n",
       "       [10, 20, 30, 40, 50, 60, 70, 80, 90, 10],\n",
       "       [45, 37, 45, 34, 56, 67, 12, 78, 23, 89]])"
      ]
     },
     "execution_count": 39,
     "metadata": {},
     "output_type": "execute_result"
    }
   ],
   "source": [
    "x3"
   ]
  },
  {
   "cell_type": "code",
   "execution_count": null,
   "id": "4a5cc444",
   "metadata": {},
   "outputs": [],
   "source": []
  },
  {
   "cell_type": "code",
   "execution_count": 52,
   "id": "7ef79b5a",
   "metadata": {},
   "outputs": [
    {
     "data": {
      "text/plain": [
       "array([[ 1,  2,  3,  4,  5,  6,  7,  8,  9, 10],\n",
       "       [10, 20, 30, 40, 50, 60, 70, 80, 90, 10],\n",
       "       [45, 37, 45, 34, 56, 67, 12, 78, 23, 89]])"
      ]
     },
     "execution_count": 52,
     "metadata": {},
     "output_type": "execute_result"
    }
   ],
   "source": [
    "x3[:]"
   ]
  },
  {
   "cell_type": "code",
   "execution_count": null,
   "id": "f9fb9f65",
   "metadata": {},
   "outputs": [],
   "source": []
  },
  {
   "cell_type": "code",
   "execution_count": 53,
   "id": "229cc3b4",
   "metadata": {},
   "outputs": [
    {
     "data": {
      "text/plain": [
       "array([[ 1,  2,  3,  4,  5,  6,  7,  8,  9, 10],\n",
       "       [10, 20, 30, 40, 50, 60, 70, 80, 90, 10],\n",
       "       [45, 37, 45, 34, 56, 67, 12, 78, 23, 89]])"
      ]
     },
     "execution_count": 53,
     "metadata": {},
     "output_type": "execute_result"
    }
   ],
   "source": [
    "x3[0:]"
   ]
  },
  {
   "cell_type": "code",
   "execution_count": null,
   "id": "66baa419",
   "metadata": {},
   "outputs": [],
   "source": []
  },
  {
   "cell_type": "code",
   "execution_count": 55,
   "id": "664994e2",
   "metadata": {},
   "outputs": [
    {
     "data": {
      "text/plain": [
       "array([[10, 20, 30, 40, 50, 60, 70, 80, 90, 10],\n",
       "       [45, 37, 45, 34, 56, 67, 12, 78, 23, 89]])"
      ]
     },
     "execution_count": 55,
     "metadata": {},
     "output_type": "execute_result"
    }
   ],
   "source": [
    "x3[1:]"
   ]
  },
  {
   "cell_type": "code",
   "execution_count": 56,
   "id": "d7eed701",
   "metadata": {},
   "outputs": [
    {
     "data": {
      "text/plain": [
       "array([[45, 37, 45, 34, 56, 67, 12, 78, 23, 89]])"
      ]
     },
     "execution_count": 56,
     "metadata": {},
     "output_type": "execute_result"
    }
   ],
   "source": [
    "x3[2:]"
   ]
  },
  {
   "cell_type": "code",
   "execution_count": 57,
   "id": "a481a221",
   "metadata": {},
   "outputs": [
    {
     "data": {
      "text/plain": [
       "array([], shape=(0, 10), dtype=int32)"
      ]
     },
     "execution_count": 57,
     "metadata": {},
     "output_type": "execute_result"
    }
   ],
   "source": [
    "x3[3:]"
   ]
  },
  {
   "cell_type": "code",
   "execution_count": 64,
   "id": "73a17ff1",
   "metadata": {},
   "outputs": [
    {
     "data": {
      "text/plain": [
       "array([[ 1,  2,  3,  4,  5,  6,  7,  8,  9, 10],\n",
       "       [10, 20, 30, 40, 50, 60, 70, 80, 90, 10],\n",
       "       [45, 37, 45, 34, 56, 67, 12, 78, 23, 89]])"
      ]
     },
     "execution_count": 64,
     "metadata": {},
     "output_type": "execute_result"
    }
   ],
   "source": [
    "x3"
   ]
  },
  {
   "cell_type": "code",
   "execution_count": null,
   "id": "a38576e5",
   "metadata": {},
   "outputs": [],
   "source": [
    "variable_name[index/row][column]"
   ]
  },
  {
   "cell_type": "code",
   "execution_count": 65,
   "id": "c3fac7d4",
   "metadata": {},
   "outputs": [
    {
     "data": {
      "text/plain": [
       "4"
      ]
     },
     "execution_count": 65,
     "metadata": {},
     "output_type": "execute_result"
    }
   ],
   "source": [
    "x3[0][3]"
   ]
  },
  {
   "cell_type": "code",
   "execution_count": 66,
   "id": "a0719327",
   "metadata": {},
   "outputs": [
    {
     "data": {
      "text/plain": [
       "89"
      ]
     },
     "execution_count": 66,
     "metadata": {},
     "output_type": "execute_result"
    }
   ],
   "source": [
    "x3[2][9]"
   ]
  },
  {
   "cell_type": "code",
   "execution_count": 112,
   "id": "f7bc06cd",
   "metadata": {},
   "outputs": [
    {
     "data": {
      "text/plain": [
       "array([[ 1,  2,  3,  4,  5,  6,  7,  8,  9, 10],\n",
       "       [10, 20, 30, 40, 50, 60, 70, 80, 90, 10],\n",
       "       [45, 37, 45, 34, 56, 67, 12, 78, 23, 89]])"
      ]
     },
     "execution_count": 112,
     "metadata": {},
     "output_type": "execute_result"
    }
   ],
   "source": [
    "x3"
   ]
  },
  {
   "cell_type": "code",
   "execution_count": 113,
   "id": "fbc528cf",
   "metadata": {},
   "outputs": [],
   "source": [
    "x3[1][7]=10"
   ]
  },
  {
   "cell_type": "code",
   "execution_count": 114,
   "id": "0fafe32a",
   "metadata": {},
   "outputs": [
    {
     "data": {
      "text/plain": [
       "array([[ 1,  2,  3,  4,  5,  6,  7,  8,  9, 10],\n",
       "       [10, 20, 30, 40, 50, 60, 70, 10, 90, 10],\n",
       "       [45, 37, 45, 34, 56, 67, 12, 78, 23, 89]])"
      ]
     },
     "execution_count": 114,
     "metadata": {},
     "output_type": "execute_result"
    }
   ],
   "source": [
    "x3"
   ]
  },
  {
   "cell_type": "code",
   "execution_count": null,
   "id": "4d7b76e9",
   "metadata": {},
   "outputs": [],
   "source": []
  },
  {
   "cell_type": "code",
   "execution_count": null,
   "id": "451af24a",
   "metadata": {},
   "outputs": [],
   "source": [
    "x3[][]"
   ]
  },
  {
   "cell_type": "code",
   "execution_count": null,
   "id": "67567d75",
   "metadata": {},
   "outputs": [],
   "source": []
  },
  {
   "cell_type": "code",
   "execution_count": 68,
   "id": "6b0ef35c",
   "metadata": {},
   "outputs": [
    {
     "data": {
      "text/plain": [
       "array([[ 1,  2,  3,  4,  5,  6,  7,  8,  9, 10],\n",
       "       [10, 20, 30, 40, 50, 60, 70, 80, 90, 10],\n",
       "       [45, 37, 45, 34, 56, 67, 12, 78, 23, 89]])"
      ]
     },
     "execution_count": 68,
     "metadata": {},
     "output_type": "execute_result"
    }
   ],
   "source": [
    "x3"
   ]
  },
  {
   "cell_type": "code",
   "execution_count": null,
   "id": "23808213",
   "metadata": {},
   "outputs": [],
   "source": []
  },
  {
   "cell_type": "code",
   "execution_count": 70,
   "id": "ba9a3a0a",
   "metadata": {},
   "outputs": [
    {
     "data": {
      "text/plain": [
       "array([[10, 20, 30, 40, 50, 60, 70, 80, 90, 10],\n",
       "       [45, 37, 45, 34, 56, 67, 12, 78, 23, 89]])"
      ]
     },
     "execution_count": 70,
     "metadata": {},
     "output_type": "execute_result"
    }
   ],
   "source": [
    "x3[0:8][1:9]"
   ]
  },
  {
   "cell_type": "code",
   "execution_count": null,
   "id": "df8809f2",
   "metadata": {},
   "outputs": [],
   "source": []
  },
  {
   "cell_type": "code",
   "execution_count": null,
   "id": "06efbad2",
   "metadata": {},
   "outputs": [],
   "source": []
  },
  {
   "cell_type": "raw",
   "id": "a15b69ff",
   "metadata": {},
   "source": [
    "All the elements are in row 1,2 and 3.  The row index to use is 1:4.  The corresponding column indexes are 0 and 1.  So, the column indices can be represented as 0:2\n",
    "y[1:4, 0:2]\n",
    "Out[40]:\n",
    "array([[ 7,  8],\n",
    "       [14, 15],\n",
    "       [21, 22]])\n",
    "0 1 2 3 4 5 6\n",
    "7 8 9 10 11 12 13\n",
    "14 15 16 17 18 19 20\n",
    "21 22 23 24 25 26 27\n",
    "28 29 30 31 32 33 34\n",
    "35 36 37 38 39 40 41\n"
   ]
  },
  {
   "cell_type": "code",
   "execution_count": 78,
   "id": "9c096d0f",
   "metadata": {},
   "outputs": [
    {
     "data": {
      "text/plain": [
       "array([[ 1,  2,  3,  4,  5,  6,  7,  8,  9, 10],\n",
       "       [10, 20, 30, 40, 50, 60, 70, 80, 90, 10],\n",
       "       [45, 37, 45, 34, 56, 67, 12, 78, 23, 89]])"
      ]
     },
     "execution_count": 78,
     "metadata": {},
     "output_type": "execute_result"
    }
   ],
   "source": [
    "x3"
   ]
  },
  {
   "cell_type": "code",
   "execution_count": 77,
   "id": "9c165b32",
   "metadata": {},
   "outputs": [
    {
     "data": {
      "text/plain": [
       "array([[10, 20]])"
      ]
     },
     "execution_count": 77,
     "metadata": {},
     "output_type": "execute_result"
    }
   ],
   "source": [
    "x3[1:2, 0:2]"
   ]
  },
  {
   "cell_type": "code",
   "execution_count": 82,
   "id": "05a9e3fe",
   "metadata": {},
   "outputs": [
    {
     "data": {
      "text/plain": [
       "array([[10, 20]])"
      ]
     },
     "execution_count": 82,
     "metadata": {},
     "output_type": "execute_result"
    }
   ],
   "source": [
    "x3[1:2, 0:2]"
   ]
  },
  {
   "cell_type": "markdown",
   "id": "e0edd3da",
   "metadata": {},
   "source": [
    "## Array creation"
   ]
  },
  {
   "cell_type": "code",
   "execution_count": null,
   "id": "57b808ff",
   "metadata": {},
   "outputs": [],
   "source": []
  },
  {
   "cell_type": "markdown",
   "id": "36de1c68",
   "metadata": {},
   "source": [
    "- 0_D array\n",
    "- 1_D array\n",
    "- 2_D array\n",
    "- 3_D array"
   ]
  },
  {
   "cell_type": "markdown",
   "id": "0bbb4794",
   "metadata": {},
   "source": [
    "### 0_D array"
   ]
  },
  {
   "cell_type": "code",
   "execution_count": 106,
   "id": "6ff20017",
   "metadata": {},
   "outputs": [
    {
     "data": {
      "text/plain": [
       "array(100)"
      ]
     },
     "execution_count": 106,
     "metadata": {},
     "output_type": "execute_result"
    }
   ],
   "source": [
    "A1 =np.array(100)\n",
    "\n",
    "A1"
   ]
  },
  {
   "cell_type": "markdown",
   "id": "accf1653",
   "metadata": {},
   "source": [
    "#### syntax"
   ]
  },
  {
   "cell_type": "code",
   "execution_count": null,
   "id": "f654cb45",
   "metadata": {},
   "outputs": [],
   "source": [
    "np.ndim(variable_name)"
   ]
  },
  {
   "cell_type": "markdown",
   "id": "9caa18ce",
   "metadata": {},
   "source": [
    "#### check array dimension"
   ]
  },
  {
   "cell_type": "code",
   "execution_count": 107,
   "id": "a75c818e",
   "metadata": {},
   "outputs": [
    {
     "data": {
      "text/plain": [
       "0"
      ]
     },
     "execution_count": 107,
     "metadata": {},
     "output_type": "execute_result"
    }
   ],
   "source": [
    "np.ndim(A1)  # "
   ]
  },
  {
   "cell_type": "code",
   "execution_count": null,
   "id": "fc01a09c",
   "metadata": {},
   "outputs": [],
   "source": []
  },
  {
   "cell_type": "code",
   "execution_count": null,
   "id": "c4dfc4d4",
   "metadata": {},
   "outputs": [],
   "source": []
  },
  {
   "cell_type": "markdown",
   "id": "4f3e4073",
   "metadata": {},
   "source": [
    "### 1_D array"
   ]
  },
  {
   "cell_type": "code",
   "execution_count": 109,
   "id": "6ef42bf2",
   "metadata": {},
   "outputs": [],
   "source": [
    "A2 =np.array([1,2,3,4,5])"
   ]
  },
  {
   "cell_type": "code",
   "execution_count": 110,
   "id": "0739863f",
   "metadata": {},
   "outputs": [
    {
     "data": {
      "text/plain": [
       "array([1, 2, 3, 4, 5])"
      ]
     },
     "execution_count": 110,
     "metadata": {},
     "output_type": "execute_result"
    }
   ],
   "source": [
    "A2"
   ]
  },
  {
   "cell_type": "code",
   "execution_count": null,
   "id": "99ff45bb",
   "metadata": {},
   "outputs": [],
   "source": []
  },
  {
   "cell_type": "code",
   "execution_count": 111,
   "id": "b51e26a3",
   "metadata": {},
   "outputs": [
    {
     "data": {
      "text/plain": [
       "1"
      ]
     },
     "execution_count": 111,
     "metadata": {},
     "output_type": "execute_result"
    }
   ],
   "source": [
    "np.ndim(A2)"
   ]
  },
  {
   "cell_type": "code",
   "execution_count": null,
   "id": "7c849cf0",
   "metadata": {},
   "outputs": [],
   "source": []
  },
  {
   "cell_type": "markdown",
   "id": "07a7067c",
   "metadata": {},
   "source": [
    "### 2_D array"
   ]
  },
  {
   "cell_type": "code",
   "execution_count": null,
   "id": "e2c27b05",
   "metadata": {},
   "outputs": [],
   "source": [
    "A3"
   ]
  },
  {
   "cell_type": "code",
   "execution_count": null,
   "id": "cbe77c07",
   "metadata": {},
   "outputs": [],
   "source": []
  },
  {
   "cell_type": "code",
   "execution_count": null,
   "id": "d4f50474",
   "metadata": {},
   "outputs": [],
   "source": []
  },
  {
   "cell_type": "markdown",
   "id": "51f2b0a5",
   "metadata": {},
   "source": [
    "### 3_D array"
   ]
  },
  {
   "cell_type": "code",
   "execution_count": null,
   "id": "a0d2f7b5",
   "metadata": {},
   "outputs": [],
   "source": []
  },
  {
   "cell_type": "code",
   "execution_count": null,
   "id": "d0c51229",
   "metadata": {},
   "outputs": [],
   "source": []
  },
  {
   "cell_type": "markdown",
   "id": "e2cca008",
   "metadata": {},
   "source": [
    "### arange()"
   ]
  },
  {
   "cell_type": "raw",
   "id": "0b143baf",
   "metadata": {},
   "source": [
    "The np.arange() function returns an array with values within a specified interval. "
   ]
  },
  {
   "cell_type": "markdown",
   "id": "03811046",
   "metadata": {},
   "source": [
    "#### syntax:"
   ]
  },
  {
   "cell_type": "raw",
   "id": "b2b704c9",
   "metadata": {},
   "source": [
    "np.arange(start,end,step)"
   ]
  },
  {
   "cell_type": "code",
   "execution_count": null,
   "id": "2075d858",
   "metadata": {},
   "outputs": [],
   "source": []
  },
  {
   "cell_type": "code",
   "execution_count": 92,
   "id": "5da59ff3",
   "metadata": {},
   "outputs": [
    {
     "data": {
      "text/plain": [
       "array([ 2,  4,  6,  8, 10, 12, 14, 16, 18, 20])"
      ]
     },
     "execution_count": 92,
     "metadata": {},
     "output_type": "execute_result"
    }
   ],
   "source": [
    "A3 =np.arange(2,21,2)\n",
    "\n",
    "A3"
   ]
  },
  {
   "cell_type": "code",
   "execution_count": null,
   "id": "f4582bf0",
   "metadata": {},
   "outputs": [],
   "source": []
  },
  {
   "cell_type": "markdown",
   "id": "34e438a2",
   "metadata": {},
   "source": [
    "### reshape()"
   ]
  },
  {
   "cell_type": "raw",
   "id": "b3da2817",
   "metadata": {},
   "source": [
    "# syntax\n",
    "\n",
    "\n",
    "np.arange(values).reshape(row,col)"
   ]
  },
  {
   "cell_type": "code",
   "execution_count": 94,
   "id": "fd3d450f",
   "metadata": {},
   "outputs": [
    {
     "data": {
      "text/plain": [
       "array([[ 1,  2,  3,  4,  5,  6],\n",
       "       [ 7,  8,  9, 10, 11, 12],\n",
       "       [13, 14, 15, 16, 17, 18],\n",
       "       [19, 20, 21, 22, 23, 24],\n",
       "       [25, 26, 27, 28, 29, 30]])"
      ]
     },
     "execution_count": 94,
     "metadata": {},
     "output_type": "execute_result"
    }
   ],
   "source": [
    "A4 =np.arange(1,31).reshape(5,6)\n",
    "\n",
    "A4"
   ]
  },
  {
   "cell_type": "code",
   "execution_count": 96,
   "id": "58ab9ef1",
   "metadata": {},
   "outputs": [],
   "source": [
    "import random as rd"
   ]
  },
  {
   "cell_type": "code",
   "execution_count": 103,
   "id": "ccb357b8",
   "metadata": {},
   "outputs": [
    {
     "ename": "AttributeError",
     "evalue": "'int' object has no attribute 'reshape'",
     "output_type": "error",
     "traceback": [
      "\u001b[1;31m---------------------------------------------------------------------------\u001b[0m",
      "\u001b[1;31mAttributeError\u001b[0m                            Traceback (most recent call last)",
      "Cell \u001b[1;32mIn[103], line 1\u001b[0m\n\u001b[1;32m----> 1\u001b[0m A6 \u001b[38;5;241m=\u001b[39m\u001b[43mrd\u001b[49m\u001b[38;5;241;43m.\u001b[39;49m\u001b[43mrandint\u001b[49m\u001b[43m(\u001b[49m\u001b[38;5;241;43m1\u001b[39;49m\u001b[43m,\u001b[49m\u001b[38;5;241;43m31\u001b[39;49m\u001b[43m)\u001b[49m\u001b[38;5;241;43m.\u001b[39;49m\u001b[43mreshape\u001b[49m(\u001b[38;5;241m5\u001b[39m,\u001b[38;5;241m6\u001b[39m)\n\u001b[0;32m      3\u001b[0m A6\n",
      "\u001b[1;31mAttributeError\u001b[0m: 'int' object has no attribute 'reshape'"
     ]
    }
   ],
   "source": [
    "A6 =rd.randint(1,31).reshape(5,6)\n",
    "\n",
    "A6"
   ]
  },
  {
   "cell_type": "code",
   "execution_count": null,
   "id": "2c9bc6f2",
   "metadata": {},
   "outputs": [],
   "source": []
  },
  {
   "cell_type": "code",
   "execution_count": null,
   "id": "d42fb9ca",
   "metadata": {},
   "outputs": [],
   "source": []
  },
  {
   "cell_type": "code",
   "execution_count": null,
   "id": "c1d463f6",
   "metadata": {},
   "outputs": [],
   "source": []
  },
  {
   "cell_type": "code",
   "execution_count": 95,
   "id": "8b90c7c1",
   "metadata": {},
   "outputs": [
    {
     "ename": "ValueError",
     "evalue": "cannot reshape array of size 30 into shape (7,8)",
     "output_type": "error",
     "traceback": [
      "\u001b[1;31m---------------------------------------------------------------------------\u001b[0m",
      "\u001b[1;31mValueError\u001b[0m                                Traceback (most recent call last)",
      "Cell \u001b[1;32mIn[95], line 1\u001b[0m\n\u001b[1;32m----> 1\u001b[0m A5 \u001b[38;5;241m=\u001b[39m\u001b[43mnp\u001b[49m\u001b[38;5;241;43m.\u001b[39;49m\u001b[43marange\u001b[49m\u001b[43m(\u001b[49m\u001b[38;5;241;43m1\u001b[39;49m\u001b[43m,\u001b[49m\u001b[38;5;241;43m31\u001b[39;49m\u001b[43m)\u001b[49m\u001b[38;5;241;43m.\u001b[39;49m\u001b[43mreshape\u001b[49m\u001b[43m(\u001b[49m\u001b[38;5;241;43m7\u001b[39;49m\u001b[43m,\u001b[49m\u001b[38;5;241;43m8\u001b[39;49m\u001b[43m)\u001b[49m\n\u001b[0;32m      3\u001b[0m A5\n",
      "\u001b[1;31mValueError\u001b[0m: cannot reshape array of size 30 into shape (7,8)"
     ]
    }
   ],
   "source": [
    "A5 =np.arange(1,31).reshape(7,8)\n",
    "\n",
    "A5"
   ]
  },
  {
   "cell_type": "code",
   "execution_count": null,
   "id": "89777b55",
   "metadata": {},
   "outputs": [],
   "source": []
  },
  {
   "cell_type": "markdown",
   "id": "88460b66",
   "metadata": {},
   "source": [
    "### Array creation using zeros "
   ]
  },
  {
   "cell_type": "markdown",
   "id": "68c0e9f3",
   "metadata": {},
   "source": [
    "### zeros()"
   ]
  },
  {
   "cell_type": "raw",
   "id": "af30c291",
   "metadata": {},
   "source": [
    "# syntax\n",
    "\n",
    "\n",
    "np.zeros()\n",
    "\n",
    "np.zeros((row,col))   # reshaping"
   ]
  },
  {
   "cell_type": "code",
   "execution_count": 130,
   "id": "7611b147",
   "metadata": {},
   "outputs": [],
   "source": [
    "# example\n",
    "\n",
    "\n",
    "A5= np.zeros(5,dtype=int)"
   ]
  },
  {
   "cell_type": "code",
   "execution_count": 131,
   "id": "ce0c198f",
   "metadata": {},
   "outputs": [
    {
     "data": {
      "text/plain": [
       "array([0, 0, 0, 0, 0])"
      ]
     },
     "execution_count": 131,
     "metadata": {},
     "output_type": "execute_result"
    }
   ],
   "source": [
    "A5"
   ]
  },
  {
   "cell_type": "code",
   "execution_count": null,
   "id": "05a61f31",
   "metadata": {},
   "outputs": [],
   "source": []
  },
  {
   "cell_type": "code",
   "execution_count": 108,
   "id": "dbf6e0aa",
   "metadata": {},
   "outputs": [
    {
     "data": {
      "text/plain": [
       "array([[False, False, False, False, False, False, False],\n",
       "       [False, False, False, False, False, False, False],\n",
       "       [False, False, False, False, False, False, False],\n",
       "       [False, False, False, False, False, False, False],\n",
       "       [False, False, False, False, False, False, False]])"
      ]
     },
     "execution_count": 108,
     "metadata": {},
     "output_type": "execute_result"
    }
   ],
   "source": [
    "# example2\n",
    "\n",
    "A6 = np.zeros((5,7),bool)\n",
    "A6"
   ]
  },
  {
   "cell_type": "markdown",
   "id": "baa4e869",
   "metadata": {},
   "source": [
    "## ones"
   ]
  },
  {
   "cell_type": "code",
   "execution_count": null,
   "id": "70a19916",
   "metadata": {},
   "outputs": [],
   "source": [
    "syntax"
   ]
  },
  {
   "cell_type": "code",
   "execution_count": 107,
   "id": "193d5936",
   "metadata": {},
   "outputs": [
    {
     "data": {
      "text/plain": [
       "array([[ True,  True,  True,  True,  True,  True,  True],\n",
       "       [ True,  True,  True,  True,  True,  True,  True],\n",
       "       [ True,  True,  True,  True,  True,  True,  True],\n",
       "       [ True,  True,  True,  True,  True,  True,  True],\n",
       "       [ True,  True,  True,  True,  True,  True,  True]])"
      ]
     },
     "execution_count": 107,
     "metadata": {},
     "output_type": "execute_result"
    }
   ],
   "source": [
    "A7 = np.ones((5,7),bool)\n",
    "A7"
   ]
  },
  {
   "cell_type": "code",
   "execution_count": null,
   "id": "05a1492f",
   "metadata": {},
   "outputs": [],
   "source": []
  },
  {
   "cell_type": "markdown",
   "id": "53213c1a",
   "metadata": {},
   "source": [
    "## full"
   ]
  },
  {
   "cell_type": "code",
   "execution_count": null,
   "id": "d462049f",
   "metadata": {},
   "outputs": [],
   "source": []
  },
  {
   "cell_type": "code",
   "execution_count": 111,
   "id": "6096a21c",
   "metadata": {},
   "outputs": [
    {
     "data": {
      "text/plain": [
       "array([[50, 50, 50, 50, 50, 50],\n",
       "       [50, 50, 50, 50, 50, 50],\n",
       "       [50, 50, 50, 50, 50, 50],\n",
       "       [50, 50, 50, 50, 50, 50]])"
      ]
     },
     "execution_count": 111,
     "metadata": {},
     "output_type": "execute_result"
    }
   ],
   "source": [
    "A8 =np.full((4,6),50)\n",
    "\n",
    "A8"
   ]
  },
  {
   "cell_type": "code",
   "execution_count": null,
   "id": "b55563c8",
   "metadata": {},
   "outputs": [],
   "source": []
  },
  {
   "cell_type": "code",
   "execution_count": 116,
   "id": "10ccfdb4",
   "metadata": {},
   "outputs": [],
   "source": [
    "A8[0][4]=60"
   ]
  },
  {
   "cell_type": "code",
   "execution_count": 117,
   "id": "72ab2b16",
   "metadata": {},
   "outputs": [
    {
     "data": {
      "text/plain": [
       "array([[50, 50, 50, 50, 60, 50],\n",
       "       [50, 50, 50, 50, 50, 50],\n",
       "       [50, 50, 50, 50, 50, 50],\n",
       "       [50, 50, 50, 50, 50, 50]])"
      ]
     },
     "execution_count": 117,
     "metadata": {},
     "output_type": "execute_result"
    }
   ],
   "source": [
    "A8"
   ]
  },
  {
   "cell_type": "markdown",
   "id": "f9f0701d",
   "metadata": {},
   "source": [
    "## Random Module"
   ]
  },
  {
   "cell_type": "raw",
   "id": "af78a906",
   "metadata": {},
   "source": [
    "Python Random module is an in-built module of Python which is used to generate random numbers."
   ]
  },
  {
   "cell_type": "markdown",
   "id": "88336ec8",
   "metadata": {},
   "source": [
    "- randrange()\n",
    "- randint()\n",
    "- choice()\n",
    "- shuffle()\n",
    "- sample()\n",
    "- random()"
   ]
  },
  {
   "cell_type": "markdown",
   "id": "908b16aa",
   "metadata": {},
   "source": [
    "### randrange()"
   ]
  },
  {
   "cell_type": "raw",
   "id": "628dd963",
   "metadata": {},
   "source": [
    "The randrange() method returns a randomly selected element from the specified range."
   ]
  },
  {
   "cell_type": "code",
   "execution_count": null,
   "id": "b9e16555",
   "metadata": {},
   "outputs": [],
   "source": []
  },
  {
   "cell_type": "code",
   "execution_count": null,
   "id": "0120826e",
   "metadata": {},
   "outputs": [],
   "source": []
  },
  {
   "cell_type": "markdown",
   "id": "3447e4fe",
   "metadata": {},
   "source": [
    "### randint()"
   ]
  },
  {
   "cell_type": "raw",
   "id": "6028d3a5",
   "metadata": {},
   "source": [
    "The randint() method returns an integer number selected element from the specified range."
   ]
  },
  {
   "cell_type": "code",
   "execution_count": null,
   "id": "938e0de3",
   "metadata": {},
   "outputs": [],
   "source": []
  },
  {
   "cell_type": "code",
   "execution_count": null,
   "id": "61754c94",
   "metadata": {},
   "outputs": [],
   "source": []
  },
  {
   "cell_type": "markdown",
   "id": "b3baf74e",
   "metadata": {},
   "source": [
    "### choice()"
   ]
  },
  {
   "cell_type": "markdown",
   "id": "9d9fbc9c",
   "metadata": {},
   "source": [
    "- The choice() method returns a randomly selected element from the specified sequence.\n",
    "\n",
    "- The sequence can be a string, a range, a list, a tuple or any other kind of sequence.\n",
    "\n"
   ]
  },
  {
   "cell_type": "code",
   "execution_count": 32,
   "id": "dbb38c1a",
   "metadata": {},
   "outputs": [],
   "source": [
    "# mylist = [\"apple\", \"banana\", \"cherry\"]\n",
    "\n",
    "# print(random.choice(mylist))"
   ]
  },
  {
   "cell_type": "code",
   "execution_count": null,
   "id": "596ee675",
   "metadata": {},
   "outputs": [],
   "source": []
  },
  {
   "cell_type": "code",
   "execution_count": null,
   "id": "397ed812",
   "metadata": {},
   "outputs": [],
   "source": []
  },
  {
   "cell_type": "markdown",
   "id": "6709a0c3",
   "metadata": {},
   "source": [
    "### shuffle()"
   ]
  },
  {
   "cell_type": "raw",
   "id": "7cfdd337",
   "metadata": {},
   "source": [
    "Takes a sequence and returns the sequence in a random order"
   ]
  },
  {
   "cell_type": "code",
   "execution_count": null,
   "id": "93697a33",
   "metadata": {},
   "outputs": [],
   "source": []
  },
  {
   "cell_type": "code",
   "execution_count": null,
   "id": "2e4f9244",
   "metadata": {},
   "outputs": [],
   "source": []
  },
  {
   "cell_type": "code",
   "execution_count": null,
   "id": "096bebb8",
   "metadata": {},
   "outputs": [],
   "source": []
  },
  {
   "cell_type": "markdown",
   "id": "d57961fd",
   "metadata": {},
   "source": [
    "### sample()"
   ]
  },
  {
   "cell_type": "raw",
   "id": "827b71a5",
   "metadata": {},
   "source": [
    "The sample() method returns a list with a randomly selection of a specified number of items from a sequnce."
   ]
  },
  {
   "cell_type": "code",
   "execution_count": 45,
   "id": "4330f8d2",
   "metadata": {},
   "outputs": [],
   "source": [
    "# mylist = [\"apple\", \"banana\", \"cherry\"]\n",
    "\n",
    "# print(random.sample(mylist,2))"
   ]
  },
  {
   "cell_type": "code",
   "execution_count": null,
   "id": "febee199",
   "metadata": {},
   "outputs": [],
   "source": []
  },
  {
   "cell_type": "markdown",
   "id": "5308af9f",
   "metadata": {},
   "source": [
    "### random()"
   ]
  },
  {
   "cell_type": "raw",
   "id": "8891552c",
   "metadata": {},
   "source": [
    "The random() method returns a random floating number between 0 and 1."
   ]
  },
  {
   "cell_type": "code",
   "execution_count": null,
   "id": "7a80a09b",
   "metadata": {},
   "outputs": [],
   "source": []
  },
  {
   "cell_type": "code",
   "execution_count": null,
   "id": "704fdc01",
   "metadata": {},
   "outputs": [],
   "source": []
  },
  {
   "cell_type": "code",
   "execution_count": 50,
   "id": "0b696bca",
   "metadata": {},
   "outputs": [],
   "source": [
    "####################################################################################"
   ]
  },
  {
   "cell_type": "markdown",
   "id": "846c628b",
   "metadata": {},
   "source": [
    "### Arithmetic Operations in Numpy"
   ]
  },
  {
   "cell_type": "markdown",
   "id": "efc7ec98",
   "metadata": {},
   "source": [
    "- add()\n",
    "- subtract()\n",
    "- multiply()\n",
    "- divide()\n"
   ]
  },
  {
   "cell_type": "code",
   "execution_count": null,
   "id": "fa055d65",
   "metadata": {},
   "outputs": [],
   "source": []
  },
  {
   "cell_type": "code",
   "execution_count": 49,
   "id": "b07d9b3e",
   "metadata": {},
   "outputs": [],
   "source": [
    "import random\n",
    "import numpy as np"
   ]
  },
  {
   "cell_type": "code",
   "execution_count": 50,
   "id": "94f5d98d",
   "metadata": {},
   "outputs": [
    {
     "ename": "ValueError",
     "evalue": "Seed must be between 0 and 2**32 - 1",
     "output_type": "error",
     "traceback": [
      "\u001b[1;31m---------------------------------------------------------------------------\u001b[0m",
      "\u001b[1;31mValueError\u001b[0m                                Traceback (most recent call last)",
      "Cell \u001b[1;32mIn[50], line 1\u001b[0m\n\u001b[1;32m----> 1\u001b[0m \u001b[43mnp\u001b[49m\u001b[38;5;241;43m.\u001b[39;49m\u001b[43mrandom\u001b[49m\u001b[38;5;241;43m.\u001b[39;49m\u001b[43mseed\u001b[49m\u001b[43m(\u001b[49m\u001b[38;5;241;43m763458346586485793745937654656545645648484\u001b[39;49m\u001b[43m)\u001b[49m\n\u001b[0;32m      2\u001b[0m random\u001b[38;5;241m.\u001b[39mrandint(\u001b[38;5;241m1\u001b[39m,\u001b[38;5;241m10\u001b[39m)\n",
      "File \u001b[1;32mmtrand.pyx:246\u001b[0m, in \u001b[0;36mnumpy.random.mtrand.RandomState.seed\u001b[1;34m()\u001b[0m\n",
      "File \u001b[1;32m_mt19937.pyx:166\u001b[0m, in \u001b[0;36mnumpy.random._mt19937.MT19937._legacy_seeding\u001b[1;34m()\u001b[0m\n",
      "File \u001b[1;32m_mt19937.pyx:180\u001b[0m, in \u001b[0;36mnumpy.random._mt19937.MT19937._legacy_seeding\u001b[1;34m()\u001b[0m\n",
      "\u001b[1;31mValueError\u001b[0m: Seed must be between 0 and 2**32 - 1"
     ]
    }
   ],
   "source": [
    "np.random.seed(763458346586485793745937654656545645648484)\n",
    "random.randint(1,10)\n"
   ]
  },
  {
   "cell_type": "code",
   "execution_count": null,
   "id": "5bfa1675",
   "metadata": {},
   "outputs": [],
   "source": []
  },
  {
   "cell_type": "code",
   "execution_count": null,
   "id": "f1e2af14",
   "metadata": {},
   "outputs": [],
   "source": []
  },
  {
   "cell_type": "code",
   "execution_count": 8,
   "id": "566671c1",
   "metadata": {},
   "outputs": [
    {
     "name": "stdout",
     "output_type": "stream",
     "text": [
      "1\n",
      "2\n",
      "3\n",
      "4\n",
      "5\n",
      "6\n",
      "7\n",
      "8\n",
      "9\n",
      "10\n"
     ]
    }
   ],
   "source": [
    "for i in range(1,11):\n",
    "    random.seed(10)\n",
    "    print(i)"
   ]
  },
  {
   "cell_type": "code",
   "execution_count": null,
   "id": "633025b7",
   "metadata": {},
   "outputs": [],
   "source": []
  }
 ],
 "metadata": {
  "kernelspec": {
   "display_name": "Python 3 (ipykernel)",
   "language": "python",
   "name": "python3"
  },
  "language_info": {
   "codemirror_mode": {
    "name": "ipython",
    "version": 3
   },
   "file_extension": ".py",
   "mimetype": "text/x-python",
   "name": "python",
   "nbconvert_exporter": "python",
   "pygments_lexer": "ipython3",
   "version": "3.10.9"
  }
 },
 "nbformat": 4,
 "nbformat_minor": 5
}
