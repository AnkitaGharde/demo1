{
 "cells": [
  {
   "cell_type": "markdown",
   "id": "31510fd9",
   "metadata": {},
   "source": [
    "- string operation in python\n",
    "- Data Structure in python"
   ]
  },
  {
   "cell_type": "code",
   "execution_count": null,
   "id": "6f0d4187",
   "metadata": {},
   "outputs": [],
   "source": []
  },
  {
   "cell_type": "markdown",
   "id": "95280644",
   "metadata": {},
   "source": [
    "## string operation in python"
   ]
  },
  {
   "cell_type": "markdown",
   "id": "5dc85671",
   "metadata": {},
   "source": [
    "- capitalize() \n",
    "- casefold() \n",
    "- index()   \n",
    "- lower() \n",
    "- partition() \n",
    "- replace() \n",
    "- split()\n",
    "- swapcase() \n",
    "- title()\n",
    "- upper() \n",
    "- zfill()"
   ]
  },
  {
   "cell_type": "code",
   "execution_count": 1,
   "id": "d862c56b",
   "metadata": {},
   "outputs": [],
   "source": [
    "s1 = \"my name is Sonam\"             #assign string to s1 variable"
   ]
  },
  {
   "cell_type": "code",
   "execution_count": 2,
   "id": "ba5ade25",
   "metadata": {},
   "outputs": [
    {
     "data": {
      "text/plain": [
       "'my name is Sonam'"
      ]
     },
     "execution_count": 2,
     "metadata": {},
     "output_type": "execute_result"
    }
   ],
   "source": [
    "s1"
   ]
  },
  {
   "cell_type": "code",
   "execution_count": 3,
   "id": "cb4f0c61",
   "metadata": {},
   "outputs": [
    {
     "name": "stdout",
     "output_type": "stream",
     "text": [
      "my name is Sonam\n"
     ]
    }
   ],
   "source": [
    "print(s1)"
   ]
  },
  {
   "cell_type": "code",
   "execution_count": 4,
   "id": "de9dd5a3",
   "metadata": {},
   "outputs": [
    {
     "data": {
      "text/plain": [
       "str"
      ]
     },
     "execution_count": 4,
     "metadata": {},
     "output_type": "execute_result"
    }
   ],
   "source": [
    "type(s1)"
   ]
  },
  {
   "cell_type": "code",
   "execution_count": 6,
   "id": "ffaecc04",
   "metadata": {},
   "outputs": [
    {
     "data": {
      "text/plain": [
       "' '"
      ]
     },
     "execution_count": 6,
     "metadata": {},
     "output_type": "execute_result"
    }
   ],
   "source": [
    "s1[2]"
   ]
  },
  {
   "cell_type": "markdown",
   "id": "2ee49e6d",
   "metadata": {},
   "source": [
    "### indexing in string"
   ]
  },
  {
   "cell_type": "code",
   "execution_count": 7,
   "id": "ea6f97b1",
   "metadata": {},
   "outputs": [
    {
     "data": {
      "text/plain": [
       "'m'"
      ]
     },
     "execution_count": 7,
     "metadata": {},
     "output_type": "execute_result"
    }
   ],
   "source": [
    "s1[0]"
   ]
  },
  {
   "cell_type": "code",
   "execution_count": 8,
   "id": "36a16a33",
   "metadata": {},
   "outputs": [
    {
     "data": {
      "text/plain": [
       "'a'"
      ]
     },
     "execution_count": 8,
     "metadata": {},
     "output_type": "execute_result"
    }
   ],
   "source": [
    "s1[4]"
   ]
  },
  {
   "cell_type": "code",
   "execution_count": null,
   "id": "540a0c8e",
   "metadata": {},
   "outputs": [],
   "source": []
  },
  {
   "cell_type": "markdown",
   "id": "562a0cb5",
   "metadata": {},
   "source": [
    "### capitalize()\n"
   ]
  },
  {
   "cell_type": "raw",
   "id": "1ca755de",
   "metadata": {},
   "source": [
    "Converts the first character to upper case"
   ]
  },
  {
   "cell_type": "code",
   "execution_count": 9,
   "id": "0e10e2cc",
   "metadata": {},
   "outputs": [
    {
     "data": {
      "text/plain": [
       "'my name is Sonam'"
      ]
     },
     "execution_count": 9,
     "metadata": {},
     "output_type": "execute_result"
    }
   ],
   "source": [
    "s1"
   ]
  },
  {
   "cell_type": "code",
   "execution_count": 10,
   "id": "859300bf",
   "metadata": {},
   "outputs": [
    {
     "data": {
      "text/plain": [
       "'My name is sonam'"
      ]
     },
     "execution_count": 10,
     "metadata": {},
     "output_type": "execute_result"
    }
   ],
   "source": [
    "a1 = s1.capitalize()\n",
    "\n",
    "a1"
   ]
  },
  {
   "cell_type": "code",
   "execution_count": 11,
   "id": "edc2366d",
   "metadata": {},
   "outputs": [
    {
     "data": {
      "text/plain": [
       "'my name is Sonam'"
      ]
     },
     "execution_count": 11,
     "metadata": {},
     "output_type": "execute_result"
    }
   ],
   "source": [
    "s1"
   ]
  },
  {
   "cell_type": "code",
   "execution_count": 12,
   "id": "4cecd8f3",
   "metadata": {},
   "outputs": [],
   "source": [
    "s2 = \"hello world\""
   ]
  },
  {
   "cell_type": "code",
   "execution_count": 13,
   "id": "a266a42a",
   "metadata": {},
   "outputs": [
    {
     "data": {
      "text/plain": [
       "'hello world'"
      ]
     },
     "execution_count": 13,
     "metadata": {},
     "output_type": "execute_result"
    }
   ],
   "source": [
    "s2"
   ]
  },
  {
   "cell_type": "code",
   "execution_count": 14,
   "id": "4ee5f07c",
   "metadata": {},
   "outputs": [
    {
     "data": {
      "text/plain": [
       "'Hello world'"
      ]
     },
     "execution_count": 14,
     "metadata": {},
     "output_type": "execute_result"
    }
   ],
   "source": [
    "s2.capitalize()"
   ]
  },
  {
   "cell_type": "code",
   "execution_count": 15,
   "id": "82954d5c",
   "metadata": {},
   "outputs": [
    {
     "data": {
      "text/plain": [
       "'hello world'"
      ]
     },
     "execution_count": 15,
     "metadata": {},
     "output_type": "execute_result"
    }
   ],
   "source": [
    "s2"
   ]
  },
  {
   "cell_type": "code",
   "execution_count": null,
   "id": "dc857e62",
   "metadata": {},
   "outputs": [],
   "source": []
  },
  {
   "cell_type": "markdown",
   "id": "a0735874",
   "metadata": {},
   "source": [
    "### casefold() "
   ]
  },
  {
   "cell_type": "raw",
   "id": "fb21f24a",
   "metadata": {},
   "source": [
    " Converts string into lower case"
   ]
  },
  {
   "cell_type": "code",
   "execution_count": 16,
   "id": "2f97aa89",
   "metadata": {},
   "outputs": [],
   "source": [
    "s3 = \"i like mango,i eat mango\""
   ]
  },
  {
   "cell_type": "code",
   "execution_count": 17,
   "id": "5820d553",
   "metadata": {},
   "outputs": [
    {
     "data": {
      "text/plain": [
       "'i like mango,i eat mango'"
      ]
     },
     "execution_count": 17,
     "metadata": {},
     "output_type": "execute_result"
    }
   ],
   "source": [
    "s3"
   ]
  },
  {
   "cell_type": "code",
   "execution_count": 18,
   "id": "cbf8cee1",
   "metadata": {},
   "outputs": [
    {
     "data": {
      "text/plain": [
       "'HELLO INDIA '"
      ]
     },
     "execution_count": 18,
     "metadata": {},
     "output_type": "execute_result"
    }
   ],
   "source": [
    "s4 =\"HELLO INDIA \"\n",
    "\n",
    "s4"
   ]
  },
  {
   "cell_type": "code",
   "execution_count": 19,
   "id": "e51443d7",
   "metadata": {},
   "outputs": [
    {
     "data": {
      "text/plain": [
       "'hello india '"
      ]
     },
     "execution_count": 19,
     "metadata": {},
     "output_type": "execute_result"
    }
   ],
   "source": [
    "s4.casefold()"
   ]
  },
  {
   "cell_type": "code",
   "execution_count": null,
   "id": "1af5b829",
   "metadata": {},
   "outputs": [],
   "source": []
  },
  {
   "cell_type": "code",
   "execution_count": null,
   "id": "694f586a",
   "metadata": {},
   "outputs": [],
   "source": []
  },
  {
   "cell_type": "code",
   "execution_count": null,
   "id": "3a37cf32",
   "metadata": {},
   "outputs": [],
   "source": []
  },
  {
   "cell_type": "markdown",
   "id": "34c26910",
   "metadata": {},
   "source": [
    "### index()   "
   ]
  },
  {
   "cell_type": "raw",
   "id": "4028a6b0",
   "metadata": {},
   "source": [
    "Searches the string for a specified value and returns the position of where it was found\n"
   ]
  },
  {
   "cell_type": "code",
   "execution_count": null,
   "id": "0e048a7e",
   "metadata": {},
   "outputs": [],
   "source": [
    "s3 = \"i like mango,i eat mango\""
   ]
  },
  {
   "cell_type": "code",
   "execution_count": 22,
   "id": "6f1859e8",
   "metadata": {},
   "outputs": [
    {
     "data": {
      "text/plain": [
       "0"
      ]
     },
     "execution_count": 22,
     "metadata": {},
     "output_type": "execute_result"
    }
   ],
   "source": [
    "s3.index('i')"
   ]
  },
  {
   "cell_type": "code",
   "execution_count": 24,
   "id": "77c13ac2",
   "metadata": {},
   "outputs": [
    {
     "data": {
      "text/plain": [
       "3"
      ]
     },
     "execution_count": 24,
     "metadata": {},
     "output_type": "execute_result"
    }
   ],
   "source": [
    "s3.index('i',1)"
   ]
  },
  {
   "cell_type": "code",
   "execution_count": 25,
   "id": "d8df3dcd",
   "metadata": {},
   "outputs": [
    {
     "data": {
      "text/plain": [
       "13"
      ]
     },
     "execution_count": 25,
     "metadata": {},
     "output_type": "execute_result"
    }
   ],
   "source": [
    "s3.index('i',4)"
   ]
  },
  {
   "cell_type": "code",
   "execution_count": 27,
   "id": "f0a72eda",
   "metadata": {},
   "outputs": [
    {
     "ename": "ValueError",
     "evalue": "substring not found",
     "output_type": "error",
     "traceback": [
      "\u001b[1;31m---------------------------------------------------------------------------\u001b[0m",
      "\u001b[1;31mValueError\u001b[0m                                Traceback (most recent call last)",
      "Cell \u001b[1;32mIn[27], line 1\u001b[0m\n\u001b[1;32m----> 1\u001b[0m \u001b[43ms3\u001b[49m\u001b[38;5;241;43m.\u001b[39;49m\u001b[43mindex\u001b[49m\u001b[43m(\u001b[49m\u001b[38;5;124;43m'\u001b[39;49m\u001b[38;5;124;43mi\u001b[39;49m\u001b[38;5;124;43m'\u001b[39;49m\u001b[43m,\u001b[49m\u001b[38;5;241;43m14\u001b[39;49m\u001b[43m)\u001b[49m\n",
      "\u001b[1;31mValueError\u001b[0m: substring not found"
     ]
    }
   ],
   "source": [
    "s3.index('i',14)"
   ]
  },
  {
   "cell_type": "code",
   "execution_count": null,
   "id": "13b7c9e7",
   "metadata": {},
   "outputs": [],
   "source": []
  },
  {
   "cell_type": "code",
   "execution_count": null,
   "id": "7a26efa3",
   "metadata": {},
   "outputs": [],
   "source": []
  },
  {
   "cell_type": "markdown",
   "id": "dfe7aa06",
   "metadata": {},
   "source": [
    "### lower()"
   ]
  },
  {
   "cell_type": "raw",
   "id": "f664cd12",
   "metadata": {},
   "source": [
    "Converts a string into lower case"
   ]
  },
  {
   "cell_type": "code",
   "execution_count": 28,
   "id": "b84707c5",
   "metadata": {},
   "outputs": [
    {
     "data": {
      "text/plain": [
       "'HELLO INDIA '"
      ]
     },
     "execution_count": 28,
     "metadata": {},
     "output_type": "execute_result"
    }
   ],
   "source": [
    "s4"
   ]
  },
  {
   "cell_type": "code",
   "execution_count": 29,
   "id": "522f3361",
   "metadata": {},
   "outputs": [
    {
     "data": {
      "text/plain": [
       "'hello india '"
      ]
     },
     "execution_count": 29,
     "metadata": {},
     "output_type": "execute_result"
    }
   ],
   "source": [
    "s4.lower()"
   ]
  },
  {
   "cell_type": "code",
   "execution_count": null,
   "id": "01570d3d",
   "metadata": {},
   "outputs": [],
   "source": []
  },
  {
   "cell_type": "code",
   "execution_count": null,
   "id": "d8228ccc",
   "metadata": {},
   "outputs": [],
   "source": []
  },
  {
   "cell_type": "markdown",
   "id": "a809f0c2",
   "metadata": {},
   "source": [
    "### upper()"
   ]
  },
  {
   "cell_type": "raw",
   "id": "27af7464",
   "metadata": {},
   "source": [
    " The upper() method returns a string where all characters are in upper case."
   ]
  },
  {
   "cell_type": "code",
   "execution_count": null,
   "id": "3e13b733",
   "metadata": {},
   "outputs": [],
   "source": []
  },
  {
   "cell_type": "markdown",
   "id": "d265a214",
   "metadata": {},
   "source": [
    "### partition()"
   ]
  },
  {
   "cell_type": "raw",
   "id": "f59b3419",
   "metadata": {},
   "source": [
    "The partition() method searches for a specified string, and splits the string into a tuple containing three elements.\n",
    "                  - before match\n",
    "                  - the match\n",
    "                  - after match"
   ]
  },
  {
   "cell_type": "code",
   "execution_count": null,
   "id": "9a0c7ae7",
   "metadata": {},
   "outputs": [],
   "source": []
  },
  {
   "cell_type": "code",
   "execution_count": 30,
   "id": "8f3b0980",
   "metadata": {},
   "outputs": [
    {
     "data": {
      "text/plain": [
       "'i love my india'"
      ]
     },
     "execution_count": 30,
     "metadata": {},
     "output_type": "execute_result"
    }
   ],
   "source": [
    "s5 = \"i love my india\"\n",
    "\n",
    "s5"
   ]
  },
  {
   "cell_type": "code",
   "execution_count": null,
   "id": "6e6a89f4",
   "metadata": {},
   "outputs": [],
   "source": [
    "# match='my'\n",
    "# before match ='i love'\n",
    "# after match ='india'"
   ]
  },
  {
   "cell_type": "code",
   "execution_count": 31,
   "id": "339ce421",
   "metadata": {},
   "outputs": [
    {
     "data": {
      "text/plain": [
       "('i love ', 'my', ' india')"
      ]
     },
     "execution_count": 31,
     "metadata": {},
     "output_type": "execute_result"
    }
   ],
   "source": [
    "s5.partition('my')        "
   ]
  },
  {
   "cell_type": "code",
   "execution_count": null,
   "id": "0419c0d4",
   "metadata": {},
   "outputs": [],
   "source": []
  },
  {
   "cell_type": "code",
   "execution_count": 33,
   "id": "9c7de46e",
   "metadata": {},
   "outputs": [
    {
     "data": {
      "text/plain": [
       "('', 'i', ' love my india')"
      ]
     },
     "execution_count": 33,
     "metadata": {},
     "output_type": "execute_result"
    }
   ],
   "source": [
    "# example2\n",
    "\n",
    "\n",
    "s5.partition('i')"
   ]
  },
  {
   "cell_type": "code",
   "execution_count": 34,
   "id": "6d1b2cc5",
   "metadata": {},
   "outputs": [
    {
     "data": {
      "text/plain": [
       "('i love my ', 'india', '')"
      ]
     },
     "execution_count": 34,
     "metadata": {},
     "output_type": "execute_result"
    }
   ],
   "source": [
    "# example3\n",
    "\n",
    "\n",
    "s5.partition('india')"
   ]
  },
  {
   "cell_type": "code",
   "execution_count": null,
   "id": "751d362a",
   "metadata": {},
   "outputs": [],
   "source": []
  },
  {
   "cell_type": "markdown",
   "id": "f4a0de4a",
   "metadata": {},
   "source": [
    "### replace()"
   ]
  },
  {
   "cell_type": "raw",
   "id": "1db45f50",
   "metadata": {},
   "source": [
    " The replace() method replaces a specified phrase with another specified phrase."
   ]
  },
  {
   "cell_type": "code",
   "execution_count": 35,
   "id": "6ac5538c",
   "metadata": {},
   "outputs": [],
   "source": [
    "s6 =\"i like flowers\""
   ]
  },
  {
   "cell_type": "code",
   "execution_count": 36,
   "id": "0220e37d",
   "metadata": {},
   "outputs": [
    {
     "data": {
      "text/plain": [
       "'i like flowers'"
      ]
     },
     "execution_count": 36,
     "metadata": {},
     "output_type": "execute_result"
    }
   ],
   "source": [
    "s6"
   ]
  },
  {
   "cell_type": "raw",
   "id": "b6827321",
   "metadata": {},
   "source": [
    "#syntax\n",
    "\n",
    "variable_name.replace(old_value,new_value)\n"
   ]
  },
  {
   "cell_type": "code",
   "execution_count": null,
   "id": "09481c2c",
   "metadata": {},
   "outputs": [],
   "source": [
    "# example"
   ]
  },
  {
   "cell_type": "code",
   "execution_count": 37,
   "id": "4ffbaa64",
   "metadata": {},
   "outputs": [
    {
     "data": {
      "text/plain": [
       "'i like bike'"
      ]
     },
     "execution_count": 37,
     "metadata": {},
     "output_type": "execute_result"
    }
   ],
   "source": [
    "s6.replace('flowers','bike')                    #change flowers to bike"
   ]
  },
  {
   "cell_type": "code",
   "execution_count": 38,
   "id": "ae6b9f56",
   "metadata": {},
   "outputs": [
    {
     "data": {
      "text/plain": [
       "'i like flowers'"
      ]
     },
     "execution_count": 38,
     "metadata": {},
     "output_type": "execute_result"
    }
   ],
   "source": [
    "s6"
   ]
  },
  {
   "cell_type": "markdown",
   "id": "6c35df85",
   "metadata": {},
   "source": [
    "### split()"
   ]
  },
  {
   "cell_type": "raw",
   "id": "1b6f4570",
   "metadata": {},
   "source": [
    "The split() method splits a string into a list."
   ]
  },
  {
   "cell_type": "code",
   "execution_count": 39,
   "id": "db200be5",
   "metadata": {},
   "outputs": [],
   "source": [
    "s6 =\"i like flowers\""
   ]
  },
  {
   "cell_type": "code",
   "execution_count": 40,
   "id": "748a3600",
   "metadata": {},
   "outputs": [
    {
     "data": {
      "text/plain": [
       "'i like flowers'"
      ]
     },
     "execution_count": 40,
     "metadata": {},
     "output_type": "execute_result"
    }
   ],
   "source": [
    "s6"
   ]
  },
  {
   "cell_type": "code",
   "execution_count": 41,
   "id": "ebcbb2c1",
   "metadata": {},
   "outputs": [
    {
     "data": {
      "text/plain": [
       "['i', 'like', 'flowers']"
      ]
     },
     "execution_count": 41,
     "metadata": {},
     "output_type": "execute_result"
    }
   ],
   "source": [
    "s6.split()"
   ]
  },
  {
   "cell_type": "code",
   "execution_count": 42,
   "id": "1f7056ba",
   "metadata": {},
   "outputs": [
    {
     "data": {
      "text/plain": [
       "str"
      ]
     },
     "execution_count": 42,
     "metadata": {},
     "output_type": "execute_result"
    }
   ],
   "source": [
    "type(s6)"
   ]
  },
  {
   "cell_type": "markdown",
   "id": "e91263ef",
   "metadata": {},
   "source": [
    "### swapcase()"
   ]
  },
  {
   "cell_type": "raw",
   "id": "c6123fb5",
   "metadata": {},
   "source": [
    "The swapcase() method returns a string where all the upper case letters are lower case and vice versa."
   ]
  },
  {
   "cell_type": "code",
   "execution_count": 43,
   "id": "28c214af",
   "metadata": {},
   "outputs": [
    {
     "data": {
      "text/plain": [
       "'i like flowers'"
      ]
     },
     "execution_count": 43,
     "metadata": {},
     "output_type": "execute_result"
    }
   ],
   "source": [
    "s6"
   ]
  },
  {
   "cell_type": "code",
   "execution_count": 44,
   "id": "96b1609a",
   "metadata": {},
   "outputs": [
    {
     "data": {
      "text/plain": [
       "'I LIKE FLOWERS'"
      ]
     },
     "execution_count": 44,
     "metadata": {},
     "output_type": "execute_result"
    }
   ],
   "source": [
    "s6.swapcase()"
   ]
  },
  {
   "cell_type": "code",
   "execution_count": null,
   "id": "e4f65340",
   "metadata": {},
   "outputs": [],
   "source": []
  },
  {
   "cell_type": "markdown",
   "id": "2c472d57",
   "metadata": {},
   "source": [
    "### title()"
   ]
  },
  {
   "cell_type": "raw",
   "id": "2ad9f4d0",
   "metadata": {},
   "source": [
    "The title() method returns a string where the first character in every word is upper case."
   ]
  },
  {
   "cell_type": "code",
   "execution_count": 45,
   "id": "ddfa6bad",
   "metadata": {},
   "outputs": [
    {
     "data": {
      "text/plain": [
       "'i like flowers'"
      ]
     },
     "execution_count": 45,
     "metadata": {},
     "output_type": "execute_result"
    }
   ],
   "source": [
    "# example\n",
    "\n",
    "\n",
    "s6"
   ]
  },
  {
   "cell_type": "code",
   "execution_count": 46,
   "id": "7a51fc5b",
   "metadata": {},
   "outputs": [
    {
     "data": {
      "text/plain": [
       "'I Like Flowers'"
      ]
     },
     "execution_count": 46,
     "metadata": {},
     "output_type": "execute_result"
    }
   ],
   "source": [
    "s6.title()"
   ]
  },
  {
   "cell_type": "code",
   "execution_count": null,
   "id": "9a4a85b9",
   "metadata": {},
   "outputs": [],
   "source": []
  },
  {
   "cell_type": "code",
   "execution_count": null,
   "id": "ccc8182e",
   "metadata": {},
   "outputs": [],
   "source": []
  },
  {
   "cell_type": "markdown",
   "id": "a4195a52",
   "metadata": {},
   "source": [
    "### zfill()"
   ]
  },
  {
   "cell_type": "raw",
   "id": "d70c98fc",
   "metadata": {},
   "source": [
    "The zfill() method adds zeros (0) at the beginning of the string, until it reaches the specified length."
   ]
  },
  {
   "cell_type": "code",
   "execution_count": null,
   "id": "374a90a2",
   "metadata": {},
   "outputs": [],
   "source": [
    "# add zeros "
   ]
  },
  {
   "cell_type": "code",
   "execution_count": 47,
   "id": "c1898efc",
   "metadata": {},
   "outputs": [],
   "source": [
    "s7=\"hello\""
   ]
  },
  {
   "cell_type": "code",
   "execution_count": 48,
   "id": "0294a50f",
   "metadata": {},
   "outputs": [
    {
     "data": {
      "text/plain": [
       "'hello'"
      ]
     },
     "execution_count": 48,
     "metadata": {},
     "output_type": "execute_result"
    }
   ],
   "source": [
    "s7"
   ]
  },
  {
   "cell_type": "code",
   "execution_count": 52,
   "id": "bec5934e",
   "metadata": {},
   "outputs": [
    {
     "data": {
      "text/plain": [
       "'00000hello'"
      ]
     },
     "execution_count": 52,
     "metadata": {},
     "output_type": "execute_result"
    }
   ],
   "source": [
    "s7.zfill(10)"
   ]
  },
  {
   "cell_type": "code",
   "execution_count": null,
   "id": "390cb499",
   "metadata": {},
   "outputs": [],
   "source": []
  },
  {
   "cell_type": "code",
   "execution_count": null,
   "id": "a704c648",
   "metadata": {},
   "outputs": [],
   "source": [
    "#+++++++++++++++++++++++++++++++++++++++++++++++++++++++++++++++++++++++++++++++++++++++++++++++++++++++++++++++++++++++++++"
   ]
  },
  {
   "cell_type": "markdown",
   "id": "403e5a79",
   "metadata": {},
   "source": [
    "## Data Structure in python"
   ]
  },
  {
   "cell_type": "code",
   "execution_count": 56,
   "id": "7e77ca60",
   "metadata": {},
   "outputs": [],
   "source": [
    "d1 =10,20,30,True,'hello'"
   ]
  },
  {
   "cell_type": "code",
   "execution_count": 57,
   "id": "15cd53ea",
   "metadata": {},
   "outputs": [
    {
     "data": {
      "text/plain": [
       "(10, 20, 30, True, 'hello')"
      ]
     },
     "execution_count": 57,
     "metadata": {},
     "output_type": "execute_result"
    }
   ],
   "source": [
    "d1"
   ]
  },
  {
   "cell_type": "code",
   "execution_count": 55,
   "id": "42235ca8",
   "metadata": {},
   "outputs": [
    {
     "data": {
      "text/plain": [
       "tuple"
      ]
     },
     "execution_count": 55,
     "metadata": {},
     "output_type": "execute_result"
    }
   ],
   "source": [
    "type(d1)"
   ]
  },
  {
   "cell_type": "code",
   "execution_count": null,
   "id": "f77259ce",
   "metadata": {},
   "outputs": [],
   "source": []
  },
  {
   "cell_type": "code",
   "execution_count": 58,
   "id": "8474c762",
   "metadata": {},
   "outputs": [],
   "source": [
    "l2 =['hello',12,True,3+5J]"
   ]
  },
  {
   "cell_type": "code",
   "execution_count": 59,
   "id": "5f95bf19",
   "metadata": {},
   "outputs": [
    {
     "data": {
      "text/plain": [
       "list"
      ]
     },
     "execution_count": 59,
     "metadata": {},
     "output_type": "execute_result"
    }
   ],
   "source": [
    "type(l2)"
   ]
  },
  {
   "cell_type": "code",
   "execution_count": null,
   "id": "0f25ec31",
   "metadata": {},
   "outputs": [],
   "source": []
  },
  {
   "cell_type": "code",
   "execution_count": null,
   "id": "dfaded2d",
   "metadata": {},
   "outputs": [],
   "source": []
  },
  {
   "cell_type": "raw",
   "id": "c4091049",
   "metadata": {},
   "source": [
    "Python data structures are essentially containers for different kinds of data. "
   ]
  },
  {
   "cell_type": "markdown",
   "id": "def7ab02",
   "metadata": {},
   "source": [
    "- list\n",
    "- tuple\n",
    "- dictionary\n",
    "- set"
   ]
  },
  {
   "cell_type": "markdown",
   "id": "837b1be3",
   "metadata": {},
   "source": [
    "### list"
   ]
  },
  {
   "cell_type": "raw",
   "id": "a483eb5d",
   "metadata": {},
   "source": [
    "- We create a list by placing elements inside [], separated by commas.\n",
    "- store elements of different types (integer, float, string, etc.)\n",
    "- store duplicate elements\n",
    "- lists are ordered and each item in a list is associated with a number. The number is known as a list index.\n",
    "- Lists are mutable (changeable). Meaning we can add and remove elements from a list."
   ]
  },
  {
   "cell_type": "code",
   "execution_count": null,
   "id": "bb5789cd",
   "metadata": {},
   "outputs": [],
   "source": []
  },
  {
   "cell_type": "code",
   "execution_count": 60,
   "id": "cb31e7a2",
   "metadata": {},
   "outputs": [],
   "source": [
    "l3 =[1,2,3,5,3,7,7]"
   ]
  },
  {
   "cell_type": "code",
   "execution_count": 61,
   "id": "fb004e41",
   "metadata": {},
   "outputs": [
    {
     "data": {
      "text/plain": [
       "[1, 2, 3, 5, 3, 7, 7]"
      ]
     },
     "execution_count": 61,
     "metadata": {},
     "output_type": "execute_result"
    }
   ],
   "source": [
    "l3"
   ]
  },
  {
   "cell_type": "markdown",
   "id": "7d972c1f",
   "metadata": {},
   "source": [
    "### list indexing"
   ]
  },
  {
   "cell_type": "code",
   "execution_count": null,
   "id": "6e0478ea",
   "metadata": {},
   "outputs": [],
   "source": [
    "#syntax\n",
    "\n",
    "variable_name[index_number]"
   ]
  },
  {
   "cell_type": "code",
   "execution_count": 64,
   "id": "12c21f7f",
   "metadata": {},
   "outputs": [
    {
     "data": {
      "text/plain": [
       "3"
      ]
     },
     "execution_count": 64,
     "metadata": {},
     "output_type": "execute_result"
    }
   ],
   "source": [
    "l3[2]"
   ]
  },
  {
   "cell_type": "code",
   "execution_count": 65,
   "id": "02e2e327",
   "metadata": {},
   "outputs": [],
   "source": [
    "l4 = ['apple','banana','cherry','mango']"
   ]
  },
  {
   "cell_type": "code",
   "execution_count": 66,
   "id": "8954ac29",
   "metadata": {},
   "outputs": [
    {
     "data": {
      "text/plain": [
       "['apple', 'banana', 'cherry', 'mango']"
      ]
     },
     "execution_count": 66,
     "metadata": {},
     "output_type": "execute_result"
    }
   ],
   "source": [
    "l4"
   ]
  },
  {
   "cell_type": "code",
   "execution_count": 67,
   "id": "7e94dd73",
   "metadata": {},
   "outputs": [
    {
     "data": {
      "text/plain": [
       "'mango'"
      ]
     },
     "execution_count": 67,
     "metadata": {},
     "output_type": "execute_result"
    }
   ],
   "source": [
    "l4[3]"
   ]
  },
  {
   "cell_type": "code",
   "execution_count": null,
   "id": "023de756",
   "metadata": {},
   "outputs": [],
   "source": []
  },
  {
   "cell_type": "markdown",
   "id": "c965759b",
   "metadata": {},
   "source": [
    "- positive indexing\n",
    "- negative indexing"
   ]
  },
  {
   "cell_type": "markdown",
   "id": "4b3b89a7",
   "metadata": {},
   "source": [
    "### slicing"
   ]
  },
  {
   "cell_type": "raw",
   "id": "d2c7a84b",
   "metadata": {},
   "source": [
    "[start:end-1:step]"
   ]
  },
  {
   "cell_type": "markdown",
   "id": "1fa11d83",
   "metadata": {},
   "source": [
    "### examples"
   ]
  },
  {
   "cell_type": "code",
   "execution_count": 86,
   "id": "0552ad1a",
   "metadata": {},
   "outputs": [],
   "source": [
    "l4 = ['apple','banana','cherry','mango','abc','xyz']"
   ]
  },
  {
   "cell_type": "code",
   "execution_count": 87,
   "id": "61cd43a6",
   "metadata": {},
   "outputs": [
    {
     "data": {
      "text/plain": [
       "['apple', 'banana', 'cherry', 'mango', 'abc', 'xyz']"
      ]
     },
     "execution_count": 87,
     "metadata": {},
     "output_type": "execute_result"
    }
   ],
   "source": [
    "l4"
   ]
  },
  {
   "cell_type": "code",
   "execution_count": 83,
   "id": "cdb10e4a",
   "metadata": {},
   "outputs": [
    {
     "data": {
      "text/plain": [
       "['apple', 'cherry']"
      ]
     },
     "execution_count": 83,
     "metadata": {},
     "output_type": "execute_result"
    }
   ],
   "source": [
    "#example1\n",
    "\n",
    "l4[0:3:2]"
   ]
  },
  {
   "cell_type": "code",
   "execution_count": null,
   "id": "88b15fb1",
   "metadata": {},
   "outputs": [],
   "source": []
  },
  {
   "cell_type": "code",
   "execution_count": 92,
   "id": "e34aca31",
   "metadata": {},
   "outputs": [
    {
     "data": {
      "text/plain": [
       "['mango']"
      ]
     },
     "execution_count": 92,
     "metadata": {},
     "output_type": "execute_result"
    }
   ],
   "source": [
    "#exaxmple2\n",
    "\n",
    "\n",
    "l4[3:4:]"
   ]
  },
  {
   "cell_type": "code",
   "execution_count": null,
   "id": "1785c5be",
   "metadata": {},
   "outputs": [],
   "source": []
  },
  {
   "cell_type": "code",
   "execution_count": null,
   "id": "45e70786",
   "metadata": {},
   "outputs": [],
   "source": []
  },
  {
   "cell_type": "code",
   "execution_count": null,
   "id": "89188f2c",
   "metadata": {},
   "outputs": [],
   "source": []
  },
  {
   "cell_type": "code",
   "execution_count": 85,
   "id": "4ceaab4f",
   "metadata": {},
   "outputs": [
    {
     "data": {
      "text/plain": [
       "['banana', 'abc']"
      ]
     },
     "execution_count": 85,
     "metadata": {},
     "output_type": "execute_result"
    }
   ],
   "source": [
    "l4[1:5:3]"
   ]
  },
  {
   "cell_type": "code",
   "execution_count": null,
   "id": "f0dd3bc6",
   "metadata": {},
   "outputs": [],
   "source": []
  },
  {
   "cell_type": "code",
   "execution_count": 77,
   "id": "e108cfd5",
   "metadata": {},
   "outputs": [
    {
     "data": {
      "text/plain": [
       "['banana', 'cherry', 'mango', 'abc', 'xyz']"
      ]
     },
     "execution_count": 77,
     "metadata": {},
     "output_type": "execute_result"
    }
   ],
   "source": [
    "l4[1::]"
   ]
  },
  {
   "cell_type": "code",
   "execution_count": null,
   "id": "8917c6b3",
   "metadata": {},
   "outputs": [],
   "source": []
  },
  {
   "cell_type": "code",
   "execution_count": 94,
   "id": "a23ecc36",
   "metadata": {},
   "outputs": [
    {
     "data": {
      "text/plain": [
       "['apple', 'banana', 'cherry', 'mango', 'abc', 'xyz']"
      ]
     },
     "execution_count": 94,
     "metadata": {},
     "output_type": "execute_result"
    }
   ],
   "source": [
    "l4[::]"
   ]
  },
  {
   "cell_type": "code",
   "execution_count": 98,
   "id": "d2ed7ee6",
   "metadata": {},
   "outputs": [
    {
     "data": {
      "text/plain": [
       "['apple', 'cherry', 'abc']"
      ]
     },
     "execution_count": 98,
     "metadata": {},
     "output_type": "execute_result"
    }
   ],
   "source": [
    "l4[::2]"
   ]
  },
  {
   "cell_type": "code",
   "execution_count": 99,
   "id": "7fdd7d07",
   "metadata": {},
   "outputs": [
    {
     "data": {
      "text/plain": [
       "'banana'"
      ]
     },
     "execution_count": 99,
     "metadata": {},
     "output_type": "execute_result"
    }
   ],
   "source": [
    "l4[1]"
   ]
  },
  {
   "cell_type": "code",
   "execution_count": null,
   "id": "13a57996",
   "metadata": {},
   "outputs": [],
   "source": []
  },
  {
   "cell_type": "markdown",
   "id": "80165499",
   "metadata": {},
   "source": [
    "### list methods"
   ]
  },
  {
   "cell_type": "raw",
   "id": "2a760991",
   "metadata": {},
   "source": [
    "append()   --> add an item to the end of the list\n",
    "\n",
    "extend()   --> add all the items of an iterable to the end of the list\n",
    "insert()   --> inserts an item at the specified index\n",
    "remove()   --> removes item present at the given index\n",
    "pop()      --> returns and removes item present at the given index\n",
    "clear()    --> removes all items from the list\n",
    "index()    --> returns the index of the first matched item\n",
    "count()    --> returns the count of the specified item in the list\n",
    "sort()     --> sort the list in ascending/descending order\n",
    "reverse()  --> reverses the item of the list\n",
    "copy()     --> returns the shallow copy of the list"
   ]
  },
  {
   "cell_type": "code",
   "execution_count": null,
   "id": "ceffd97c",
   "metadata": {},
   "outputs": [],
   "source": []
  },
  {
   "cell_type": "code",
   "execution_count": 100,
   "id": "897d905a",
   "metadata": {},
   "outputs": [],
   "source": [
    "lst = ['apple',45,True,99.99,'banana','cherry','mango','abc','xyz']"
   ]
  },
  {
   "cell_type": "code",
   "execution_count": 101,
   "id": "a718a8b0",
   "metadata": {},
   "outputs": [
    {
     "data": {
      "text/plain": [
       "['apple', 45, True, 99.99, 'banana', 'cherry', 'mango', 'abc', 'xyz']"
      ]
     },
     "execution_count": 101,
     "metadata": {},
     "output_type": "execute_result"
    }
   ],
   "source": [
    "lst"
   ]
  },
  {
   "cell_type": "code",
   "execution_count": null,
   "id": "137fec35",
   "metadata": {},
   "outputs": [],
   "source": []
  },
  {
   "cell_type": "markdown",
   "id": "dfd48be5",
   "metadata": {},
   "source": [
    "#### append()"
   ]
  },
  {
   "cell_type": "code",
   "execution_count": null,
   "id": "b5bbab6e",
   "metadata": {},
   "outputs": [],
   "source": []
  },
  {
   "cell_type": "code",
   "execution_count": 105,
   "id": "71370553",
   "metadata": {},
   "outputs": [],
   "source": [
    "# example1\n",
    "\n",
    "\n",
    "lst.append('sujit')"
   ]
  },
  {
   "cell_type": "code",
   "execution_count": 106,
   "id": "b9ba87be",
   "metadata": {},
   "outputs": [
    {
     "data": {
      "text/plain": [
       "['apple',\n",
       " 45,\n",
       " True,\n",
       " 99.99,\n",
       " 'banana',\n",
       " 'cherry',\n",
       " 'mango',\n",
       " 'abc',\n",
       " 'xyz',\n",
       " 'sujit',\n",
       " 'sujit']"
      ]
     },
     "execution_count": 106,
     "metadata": {},
     "output_type": "execute_result"
    }
   ],
   "source": [
    "lst"
   ]
  },
  {
   "cell_type": "code",
   "execution_count": null,
   "id": "1b974df0",
   "metadata": {},
   "outputs": [],
   "source": []
  },
  {
   "cell_type": "code",
   "execution_count": 107,
   "id": "6d5f72a5",
   "metadata": {},
   "outputs": [],
   "source": [
    "k1 = [1,2,3]"
   ]
  },
  {
   "cell_type": "code",
   "execution_count": 108,
   "id": "1e73d85d",
   "metadata": {},
   "outputs": [
    {
     "data": {
      "text/plain": [
       "['apple',\n",
       " 45,\n",
       " True,\n",
       " 99.99,\n",
       " 'banana',\n",
       " 'cherry',\n",
       " 'mango',\n",
       " 'abc',\n",
       " 'xyz',\n",
       " 'sujit',\n",
       " 'sujit']"
      ]
     },
     "execution_count": 108,
     "metadata": {},
     "output_type": "execute_result"
    }
   ],
   "source": [
    "lst"
   ]
  },
  {
   "cell_type": "code",
   "execution_count": 109,
   "id": "137fb174",
   "metadata": {},
   "outputs": [],
   "source": [
    "lst.append(k1)"
   ]
  },
  {
   "cell_type": "code",
   "execution_count": 110,
   "id": "041f5c13",
   "metadata": {},
   "outputs": [
    {
     "data": {
      "text/plain": [
       "['apple',\n",
       " 45,\n",
       " True,\n",
       " 99.99,\n",
       " 'banana',\n",
       " 'cherry',\n",
       " 'mango',\n",
       " 'abc',\n",
       " 'xyz',\n",
       " 'sujit',\n",
       " 'sujit',\n",
       " [1, 2, 3]]"
      ]
     },
     "execution_count": 110,
     "metadata": {},
     "output_type": "execute_result"
    }
   ],
   "source": [
    "lst"
   ]
  },
  {
   "cell_type": "markdown",
   "id": "e8464e22",
   "metadata": {},
   "source": [
    "### extend()"
   ]
  },
  {
   "cell_type": "code",
   "execution_count": 111,
   "id": "a3ec8d08",
   "metadata": {},
   "outputs": [
    {
     "data": {
      "text/plain": [
       "['apple',\n",
       " 45,\n",
       " True,\n",
       " 99.99,\n",
       " 'banana',\n",
       " 'cherry',\n",
       " 'mango',\n",
       " 'abc',\n",
       " 'xyz',\n",
       " 'sujit',\n",
       " 'sujit',\n",
       " [1, 2, 3]]"
      ]
     },
     "execution_count": 111,
     "metadata": {},
     "output_type": "execute_result"
    }
   ],
   "source": [
    "lst"
   ]
  },
  {
   "cell_type": "code",
   "execution_count": 112,
   "id": "57b52d92",
   "metadata": {},
   "outputs": [],
   "source": [
    "lst.extend(k1)"
   ]
  },
  {
   "cell_type": "code",
   "execution_count": 114,
   "id": "17df2842",
   "metadata": {},
   "outputs": [
    {
     "name": "stdout",
     "output_type": "stream",
     "text": [
      "['apple', 45, True, 99.99, 'banana', 'cherry', 'mango', 'abc', 'xyz', 'sujit', 'sujit', [1, 2, 3], 1, 2, 3]\n"
     ]
    }
   ],
   "source": [
    "print(lst)"
   ]
  },
  {
   "cell_type": "code",
   "execution_count": null,
   "id": "aef5efa2",
   "metadata": {},
   "outputs": [],
   "source": []
  },
  {
   "cell_type": "markdown",
   "id": "85d46371",
   "metadata": {},
   "source": [
    "### insert()"
   ]
  },
  {
   "cell_type": "markdown",
   "id": "6723ea8f",
   "metadata": {},
   "source": [
    "#### syntax"
   ]
  },
  {
   "cell_type": "raw",
   "id": "1bb59c31",
   "metadata": {},
   "source": [
    "variable_name.insert(index_number,value)"
   ]
  },
  {
   "cell_type": "code",
   "execution_count": null,
   "id": "8dd48a55",
   "metadata": {},
   "outputs": [],
   "source": []
  },
  {
   "cell_type": "markdown",
   "id": "2be4eb4d",
   "metadata": {},
   "source": [
    "#### example1"
   ]
  },
  {
   "cell_type": "code",
   "execution_count": 116,
   "id": "6b2a271e",
   "metadata": {},
   "outputs": [
    {
     "data": {
      "text/plain": [
       "[1, 2, 3]"
      ]
     },
     "execution_count": 116,
     "metadata": {},
     "output_type": "execute_result"
    }
   ],
   "source": [
    "k1"
   ]
  },
  {
   "cell_type": "code",
   "execution_count": 117,
   "id": "2b6284f6",
   "metadata": {},
   "outputs": [],
   "source": [
    "k1.insert(2,100)"
   ]
  },
  {
   "cell_type": "code",
   "execution_count": 118,
   "id": "93c5dac3",
   "metadata": {},
   "outputs": [
    {
     "data": {
      "text/plain": [
       "[1, 2, 100, 3]"
      ]
     },
     "execution_count": 118,
     "metadata": {},
     "output_type": "execute_result"
    }
   ],
   "source": [
    "k1"
   ]
  },
  {
   "cell_type": "code",
   "execution_count": null,
   "id": "ab9f658d",
   "metadata": {},
   "outputs": [],
   "source": []
  },
  {
   "cell_type": "code",
   "execution_count": 119,
   "id": "a8fed045",
   "metadata": {},
   "outputs": [
    {
     "data": {
      "text/plain": [
       "['apple',\n",
       " 45,\n",
       " True,\n",
       " 99.99,\n",
       " 'banana',\n",
       " 'cherry',\n",
       " 'mango',\n",
       " 'abc',\n",
       " 'xyz',\n",
       " 'sujit',\n",
       " 'sujit',\n",
       " [1, 2, 100, 3],\n",
       " 1,\n",
       " 2,\n",
       " 3]"
      ]
     },
     "execution_count": 119,
     "metadata": {},
     "output_type": "execute_result"
    }
   ],
   "source": [
    "lst"
   ]
  },
  {
   "cell_type": "code",
   "execution_count": 120,
   "id": "21902e7e",
   "metadata": {},
   "outputs": [],
   "source": [
    "lst.insert(1,k1)"
   ]
  },
  {
   "cell_type": "code",
   "execution_count": 121,
   "id": "620c6f68",
   "metadata": {},
   "outputs": [
    {
     "data": {
      "text/plain": [
       "['apple',\n",
       " [1, 2, 100, 3],\n",
       " 45,\n",
       " True,\n",
       " 99.99,\n",
       " 'banana',\n",
       " 'cherry',\n",
       " 'mango',\n",
       " 'abc',\n",
       " 'xyz',\n",
       " 'sujit',\n",
       " 'sujit',\n",
       " [1, 2, 100, 3],\n",
       " 1,\n",
       " 2,\n",
       " 3]"
      ]
     },
     "execution_count": 121,
     "metadata": {},
     "output_type": "execute_result"
    }
   ],
   "source": [
    "lst"
   ]
  },
  {
   "cell_type": "code",
   "execution_count": null,
   "id": "a9054808",
   "metadata": {},
   "outputs": [],
   "source": []
  },
  {
   "cell_type": "markdown",
   "id": "1691f567",
   "metadata": {},
   "source": [
    "### pop()"
   ]
  },
  {
   "cell_type": "code",
   "execution_count": 122,
   "id": "509a1f41",
   "metadata": {},
   "outputs": [
    {
     "data": {
      "text/plain": [
       "[1, 2, 100, 3]"
      ]
     },
     "execution_count": 122,
     "metadata": {},
     "output_type": "execute_result"
    }
   ],
   "source": [
    "k1"
   ]
  },
  {
   "cell_type": "code",
   "execution_count": null,
   "id": "460537cc",
   "metadata": {},
   "outputs": [],
   "source": []
  },
  {
   "cell_type": "code",
   "execution_count": 123,
   "id": "b4a0d7fd",
   "metadata": {},
   "outputs": [
    {
     "data": {
      "text/plain": [
       "3"
      ]
     },
     "execution_count": 123,
     "metadata": {},
     "output_type": "execute_result"
    }
   ],
   "source": [
    "k1.pop()"
   ]
  },
  {
   "cell_type": "code",
   "execution_count": 124,
   "id": "47c97593",
   "metadata": {},
   "outputs": [
    {
     "data": {
      "text/plain": [
       "[1, 2, 100]"
      ]
     },
     "execution_count": 124,
     "metadata": {},
     "output_type": "execute_result"
    }
   ],
   "source": [
    "k1"
   ]
  },
  {
   "cell_type": "code",
   "execution_count": null,
   "id": "ed6f5a1c",
   "metadata": {},
   "outputs": [],
   "source": []
  },
  {
   "cell_type": "code",
   "execution_count": 125,
   "id": "d849d38e",
   "metadata": {},
   "outputs": [
    {
     "data": {
      "text/plain": [
       "2"
      ]
     },
     "execution_count": 125,
     "metadata": {},
     "output_type": "execute_result"
    }
   ],
   "source": [
    "k1.pop(1)"
   ]
  },
  {
   "cell_type": "code",
   "execution_count": 126,
   "id": "b2730a19",
   "metadata": {},
   "outputs": [
    {
     "data": {
      "text/plain": [
       "[1, 100]"
      ]
     },
     "execution_count": 126,
     "metadata": {},
     "output_type": "execute_result"
    }
   ],
   "source": [
    "k1"
   ]
  },
  {
   "cell_type": "code",
   "execution_count": null,
   "id": "979c40d2",
   "metadata": {},
   "outputs": [],
   "source": []
  },
  {
   "cell_type": "markdown",
   "id": "74e15fb8",
   "metadata": {},
   "source": [
    "### clear()"
   ]
  },
  {
   "cell_type": "code",
   "execution_count": 127,
   "id": "0bad1282",
   "metadata": {},
   "outputs": [
    {
     "data": {
      "text/plain": [
       "[1, 100]"
      ]
     },
     "execution_count": 127,
     "metadata": {},
     "output_type": "execute_result"
    }
   ],
   "source": [
    "k1"
   ]
  },
  {
   "cell_type": "code",
   "execution_count": 128,
   "id": "e0046efd",
   "metadata": {},
   "outputs": [],
   "source": [
    "k1.clear()"
   ]
  },
  {
   "cell_type": "code",
   "execution_count": 129,
   "id": "8964d514",
   "metadata": {},
   "outputs": [
    {
     "data": {
      "text/plain": [
       "[]"
      ]
     },
     "execution_count": 129,
     "metadata": {},
     "output_type": "execute_result"
    }
   ],
   "source": [
    "k1"
   ]
  },
  {
   "cell_type": "code",
   "execution_count": null,
   "id": "d422ad2e",
   "metadata": {},
   "outputs": [],
   "source": []
  },
  {
   "cell_type": "markdown",
   "id": "9f3e884a",
   "metadata": {},
   "source": [
    "### index()"
   ]
  },
  {
   "cell_type": "raw",
   "id": "ede9af06",
   "metadata": {},
   "source": [
    "variable_name.index(value)"
   ]
  },
  {
   "cell_type": "markdown",
   "id": "ea921083",
   "metadata": {},
   "source": [
    "#### example"
   ]
  },
  {
   "cell_type": "code",
   "execution_count": 132,
   "id": "4995351f",
   "metadata": {},
   "outputs": [
    {
     "name": "stdout",
     "output_type": "stream",
     "text": [
      "['apple', [], 45, True, 99.99, 'banana', 'cherry', 'mango', 'abc', 'xyz', 'sujit', 'sujit', [], 1, 2, 3]\n"
     ]
    }
   ],
   "source": [
    "print(lst)"
   ]
  },
  {
   "cell_type": "code",
   "execution_count": 133,
   "id": "e9fd616f",
   "metadata": {},
   "outputs": [
    {
     "data": {
      "text/plain": [
       "6"
      ]
     },
     "execution_count": 133,
     "metadata": {},
     "output_type": "execute_result"
    }
   ],
   "source": [
    "lst.index('cherry')"
   ]
  },
  {
   "cell_type": "code",
   "execution_count": null,
   "id": "69572b44",
   "metadata": {},
   "outputs": [],
   "source": []
  },
  {
   "cell_type": "markdown",
   "id": "629ec6e8",
   "metadata": {},
   "source": [
    "### count()"
   ]
  },
  {
   "cell_type": "code",
   "execution_count": 135,
   "id": "6908b128",
   "metadata": {},
   "outputs": [
    {
     "name": "stdout",
     "output_type": "stream",
     "text": [
      "['apple', [], 45, True, 99.99, 'banana', 'cherry', 'mango', 'abc', 'xyz', 'sujit', 'sujit', [], 1, 2, 3]\n"
     ]
    }
   ],
   "source": [
    "print(lst)"
   ]
  },
  {
   "cell_type": "code",
   "execution_count": null,
   "id": "0603bdf3",
   "metadata": {},
   "outputs": [],
   "source": []
  },
  {
   "cell_type": "code",
   "execution_count": 136,
   "id": "55268bc5",
   "metadata": {},
   "outputs": [
    {
     "data": {
      "text/plain": [
       "2"
      ]
     },
     "execution_count": 136,
     "metadata": {},
     "output_type": "execute_result"
    }
   ],
   "source": [
    "lst.count('sujit')"
   ]
  },
  {
   "cell_type": "code",
   "execution_count": null,
   "id": "3d1a1258",
   "metadata": {},
   "outputs": [],
   "source": []
  },
  {
   "cell_type": "markdown",
   "id": "be4adf7c",
   "metadata": {},
   "source": [
    "### sort()"
   ]
  },
  {
   "cell_type": "code",
   "execution_count": 137,
   "id": "c678aea0",
   "metadata": {},
   "outputs": [],
   "source": [
    "p1 =[45,2,5,98,1]"
   ]
  },
  {
   "cell_type": "code",
   "execution_count": 138,
   "id": "f55ba1d2",
   "metadata": {},
   "outputs": [
    {
     "data": {
      "text/plain": [
       "[45, 2, 5, 98, 1]"
      ]
     },
     "execution_count": 138,
     "metadata": {},
     "output_type": "execute_result"
    }
   ],
   "source": [
    "p1"
   ]
  },
  {
   "cell_type": "code",
   "execution_count": 139,
   "id": "e7925ede",
   "metadata": {},
   "outputs": [],
   "source": [
    "p1.sort()"
   ]
  },
  {
   "cell_type": "code",
   "execution_count": 140,
   "id": "d6ccaa20",
   "metadata": {},
   "outputs": [
    {
     "data": {
      "text/plain": [
       "[1, 2, 5, 45, 98]"
      ]
     },
     "execution_count": 140,
     "metadata": {},
     "output_type": "execute_result"
    }
   ],
   "source": [
    "p1"
   ]
  },
  {
   "cell_type": "code",
   "execution_count": 142,
   "id": "9edd1101",
   "metadata": {},
   "outputs": [],
   "source": [
    "p1.sort(reverse=True)"
   ]
  },
  {
   "cell_type": "code",
   "execution_count": 143,
   "id": "7bf77e64",
   "metadata": {},
   "outputs": [
    {
     "data": {
      "text/plain": [
       "[98, 45, 5, 2, 1]"
      ]
     },
     "execution_count": 143,
     "metadata": {},
     "output_type": "execute_result"
    }
   ],
   "source": [
    "p1"
   ]
  },
  {
   "cell_type": "code",
   "execution_count": null,
   "id": "e25d0154",
   "metadata": {},
   "outputs": [],
   "source": []
  },
  {
   "cell_type": "markdown",
   "id": "9693d245",
   "metadata": {},
   "source": [
    "### reverse()"
   ]
  },
  {
   "cell_type": "code",
   "execution_count": 144,
   "id": "a83a2c82",
   "metadata": {},
   "outputs": [
    {
     "data": {
      "text/plain": [
       "[98, 45, 5, 2, 1]"
      ]
     },
     "execution_count": 144,
     "metadata": {},
     "output_type": "execute_result"
    }
   ],
   "source": [
    "p1"
   ]
  },
  {
   "cell_type": "code",
   "execution_count": 145,
   "id": "719c2ef2",
   "metadata": {},
   "outputs": [],
   "source": [
    "p1.reverse()"
   ]
  },
  {
   "cell_type": "code",
   "execution_count": 146,
   "id": "33466f09",
   "metadata": {},
   "outputs": [
    {
     "data": {
      "text/plain": [
       "[1, 2, 5, 45, 98]"
      ]
     },
     "execution_count": 146,
     "metadata": {},
     "output_type": "execute_result"
    }
   ],
   "source": [
    "p1"
   ]
  },
  {
   "cell_type": "code",
   "execution_count": null,
   "id": "2aa4f1a0",
   "metadata": {},
   "outputs": [],
   "source": []
  },
  {
   "cell_type": "markdown",
   "id": "9f126e24",
   "metadata": {},
   "source": [
    "### copy()"
   ]
  },
  {
   "cell_type": "code",
   "execution_count": 147,
   "id": "ee387ef5",
   "metadata": {},
   "outputs": [
    {
     "data": {
      "text/plain": [
       "[1, 2, 5, 45, 98]"
      ]
     },
     "execution_count": 147,
     "metadata": {},
     "output_type": "execute_result"
    }
   ],
   "source": [
    "p1"
   ]
  },
  {
   "cell_type": "code",
   "execution_count": 148,
   "id": "7f3f6552",
   "metadata": {},
   "outputs": [],
   "source": [
    "p2=p1.copy()"
   ]
  },
  {
   "cell_type": "code",
   "execution_count": 149,
   "id": "c92d3e63",
   "metadata": {},
   "outputs": [
    {
     "data": {
      "text/plain": [
       "[1, 2, 5, 45, 98]"
      ]
     },
     "execution_count": 149,
     "metadata": {},
     "output_type": "execute_result"
    }
   ],
   "source": [
    "p2"
   ]
  },
  {
   "cell_type": "code",
   "execution_count": null,
   "id": "fd65dfdf",
   "metadata": {},
   "outputs": [],
   "source": []
  },
  {
   "cell_type": "code",
   "execution_count": null,
   "id": "f7a2df40",
   "metadata": {},
   "outputs": [],
   "source": []
  },
  {
   "cell_type": "code",
   "execution_count": null,
   "id": "058f5fb6",
   "metadata": {},
   "outputs": [],
   "source": [
    "#======================================================================================"
   ]
  },
  {
   "cell_type": "code",
   "execution_count": null,
   "id": "ce09833f",
   "metadata": {},
   "outputs": [],
   "source": []
  },
  {
   "cell_type": "code",
   "execution_count": null,
   "id": "67ee6f4f",
   "metadata": {},
   "outputs": [],
   "source": []
  },
  {
   "cell_type": "markdown",
   "id": "04c338c0",
   "metadata": {},
   "source": [
    "## tuple"
   ]
  },
  {
   "cell_type": "raw",
   "id": "b26ba807",
   "metadata": {},
   "source": [
    "A tuple in Python is similar to a list. The difference between the two is that we cannot change the elements of a tuple once it is assigned whereas we can change the elements of a list."
   ]
  },
  {
   "cell_type": "code",
   "execution_count": null,
   "id": "840c5697",
   "metadata": {},
   "outputs": [],
   "source": []
  },
  {
   "cell_type": "markdown",
   "id": "a919c17d",
   "metadata": {},
   "source": [
    "### tuple methods"
   ]
  },
  {
   "cell_type": "code",
   "execution_count": null,
   "id": "98be7453",
   "metadata": {},
   "outputs": [],
   "source": []
  },
  {
   "cell_type": "code",
   "execution_count": null,
   "id": "4148f94b",
   "metadata": {},
   "outputs": [],
   "source": []
  },
  {
   "cell_type": "code",
   "execution_count": null,
   "id": "28d1a650",
   "metadata": {},
   "outputs": [],
   "source": []
  },
  {
   "cell_type": "code",
   "execution_count": null,
   "id": "91c91a31",
   "metadata": {},
   "outputs": [],
   "source": []
  },
  {
   "cell_type": "code",
   "execution_count": null,
   "id": "08496a3a",
   "metadata": {},
   "outputs": [],
   "source": []
  },
  {
   "cell_type": "code",
   "execution_count": null,
   "id": "8d983b5a",
   "metadata": {},
   "outputs": [],
   "source": []
  },
  {
   "cell_type": "markdown",
   "id": "87e485bd",
   "metadata": {},
   "source": [
    "## dictionary"
   ]
  },
  {
   "cell_type": "raw",
   "id": "4eb7c418",
   "metadata": {},
   "source": [
    "In Python, a dictionary is a collection that allows us to store data in key-value pairs."
   ]
  },
  {
   "cell_type": "code",
   "execution_count": null,
   "id": "8934e35d",
   "metadata": {},
   "outputs": [],
   "source": []
  },
  {
   "cell_type": "markdown",
   "id": "8a63f6ab",
   "metadata": {},
   "source": [
    "### dictionary methods"
   ]
  },
  {
   "cell_type": "raw",
   "id": "db181d77",
   "metadata": {},
   "source": [
    "clear()  --> Removes all the elements from the dictionary\n",
    "copy()   --> Returns a copy of the dictionary\n",
    "fromkeys()  --> Returns a dictionary with the specified keys and value\n",
    "get()   --> Returns the value of the specified key\n",
    "items() --> Returns a list containing a tuple for each key value pair\n",
    "keys()  --> Returns a list containing the dictionary's keys\n",
    "pop()   --> Removes the element with the specified key\n",
    "popitem() --> Removes the last inserted key-value pair\n",
    "setdefault()  --> Returns the value of the specified key. If the key does not exist: insert the key, with the specified value\n",
    "update()    --> Updates the dictionary with the specified key-value pairs\n",
    "values()    -->Returns a list of all the values in the dictionary"
   ]
  },
  {
   "cell_type": "code",
   "execution_count": null,
   "id": "403ff594",
   "metadata": {},
   "outputs": [],
   "source": []
  },
  {
   "cell_type": "code",
   "execution_count": 8,
   "id": "7e704706",
   "metadata": {},
   "outputs": [],
   "source": [
    "d = {1:[22,33,45],2:56,3:'hello'}"
   ]
  },
  {
   "cell_type": "code",
   "execution_count": 9,
   "id": "123ab71a",
   "metadata": {},
   "outputs": [
    {
     "data": {
      "text/plain": [
       "{1: [22, 33, 45], 2: 56, 3: 'hello'}"
      ]
     },
     "execution_count": 9,
     "metadata": {},
     "output_type": "execute_result"
    }
   ],
   "source": [
    "d"
   ]
  },
  {
   "cell_type": "code",
   "execution_count": 10,
   "id": "1d9a18bb",
   "metadata": {},
   "outputs": [
    {
     "data": {
      "text/plain": [
       "dict"
      ]
     },
     "execution_count": 10,
     "metadata": {},
     "output_type": "execute_result"
    }
   ],
   "source": [
    "type(d)"
   ]
  },
  {
   "cell_type": "code",
   "execution_count": 11,
   "id": "aa8b36dd",
   "metadata": {},
   "outputs": [
    {
     "data": {
      "text/plain": [
       "[22, 33, 45]"
      ]
     },
     "execution_count": 11,
     "metadata": {},
     "output_type": "execute_result"
    }
   ],
   "source": [
    "d.get(1)"
   ]
  },
  {
   "cell_type": "code",
   "execution_count": 12,
   "id": "63f0680b",
   "metadata": {},
   "outputs": [
    {
     "data": {
      "text/plain": [
       "dict_keys([1, 2, 3])"
      ]
     },
     "execution_count": 12,
     "metadata": {},
     "output_type": "execute_result"
    }
   ],
   "source": [
    "d.keys()"
   ]
  },
  {
   "cell_type": "code",
   "execution_count": null,
   "id": "e7a49a9c",
   "metadata": {},
   "outputs": [],
   "source": []
  },
  {
   "cell_type": "code",
   "execution_count": null,
   "id": "8303466b",
   "metadata": {},
   "outputs": [],
   "source": []
  },
  {
   "cell_type": "code",
   "execution_count": null,
   "id": "ee84b0b9",
   "metadata": {},
   "outputs": [],
   "source": []
  },
  {
   "cell_type": "markdown",
   "id": "594480ce",
   "metadata": {},
   "source": [
    "## set"
   ]
  },
  {
   "cell_type": "raw",
   "id": "427448c6",
   "metadata": {},
   "source": [
    "- A set is a collection of unique data\n",
    "- A Python set is the collection of the unordered items.\n"
   ]
  },
  {
   "cell_type": "code",
   "execution_count": null,
   "id": "b0da266d",
   "metadata": {},
   "outputs": [],
   "source": []
  },
  {
   "cell_type": "markdown",
   "id": "b770c24a",
   "metadata": {},
   "source": [
    "### set methods"
   ]
  },
  {
   "cell_type": "raw",
   "id": "c075175e",
   "metadata": {},
   "source": [
    "add()  --> Adds an element to the set\n",
    "clear()  --> Removes all the elements from the set\n",
    "copy()  --> Returns a copy of the set\n",
    "difference()  --> Returns a set containing the difference between two or more sets\n",
    "difference_update()  --> Removes the items in this set that are also included in another, specified set\n",
    "discard()  --> Remove the specified item\n",
    "intersection()  --> Returns a set, that is the intersection of two or more sets\n",
    "intersection_update()  --> Removes the items in this set that are not present in other, specified set(s)\n",
    "\n",
    "isdisjoint()  --> Returns whether two sets have a intersection or not\n",
    "issubset()    --> Returns whether another set contains this set or not\n",
    "issuperset()  --> Returns whether this set contains another set or not\n",
    "pop()   --> Removes an element from the set\n",
    "remove()  --> Removes the specified element\n",
    "symmetric_difference()  --> Returns a set with the symmetric differences of two sets\n",
    "symmetric_difference_update()  --> inserts the symmetric differences from this set and another\n",
    "union() --> Return a set containing the union of sets\n",
    "update() --> Update the set with another set, or any other iterable\n"
   ]
  },
  {
   "cell_type": "code",
   "execution_count": null,
   "id": "c89983db",
   "metadata": {},
   "outputs": [],
   "source": []
  },
  {
   "cell_type": "code",
   "execution_count": null,
   "id": "a4854e4b",
   "metadata": {},
   "outputs": [],
   "source": []
  },
  {
   "cell_type": "code",
   "execution_count": null,
   "id": "ca36dd33",
   "metadata": {},
   "outputs": [],
   "source": []
  },
  {
   "cell_type": "code",
   "execution_count": null,
   "id": "d5777937",
   "metadata": {},
   "outputs": [],
   "source": []
  },
  {
   "cell_type": "code",
   "execution_count": null,
   "id": "53863d38",
   "metadata": {},
   "outputs": [],
   "source": []
  }
 ],
 "metadata": {
  "kernelspec": {
   "display_name": "Python 3 (ipykernel)",
   "language": "python",
   "name": "python3"
  },
  "language_info": {
   "codemirror_mode": {
    "name": "ipython",
    "version": 3
   },
   "file_extension": ".py",
   "mimetype": "text/x-python",
   "name": "python",
   "nbconvert_exporter": "python",
   "pygments_lexer": "ipython3",
   "version": "3.11.5"
  }
 },
 "nbformat": 4,
 "nbformat_minor": 5
}
