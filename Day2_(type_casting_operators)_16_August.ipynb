{
 "cells": [
  {
   "cell_type": "markdown",
   "id": "4008dced",
   "metadata": {},
   "source": [
    "### input()"
   ]
  },
  {
   "cell_type": "code",
   "execution_count": null,
   "id": "bf95bd84",
   "metadata": {},
   "outputs": [],
   "source": [
    "num2=int(input('enter a first number :'))\n",
    "num3 =int(input('enter a second number :'))\n",
    "\n",
    "\n",
    "\n",
    "print(num2+num3)"
   ]
  },
  {
   "cell_type": "code",
   "execution_count": null,
   "id": "334b48f1",
   "metadata": {},
   "outputs": [],
   "source": []
  },
  {
   "cell_type": "code",
   "execution_count": null,
   "id": "ba3a821b",
   "metadata": {},
   "outputs": [],
   "source": []
  },
  {
   "cell_type": "markdown",
   "id": "5cf27379",
   "metadata": {},
   "source": [
    "### type casting"
   ]
  },
  {
   "cell_type": "markdown",
   "id": "30e092d8",
   "metadata": {},
   "source": [
    "- implicit\n",
    "- explicit"
   ]
  },
  {
   "cell_type": "code",
   "execution_count": null,
   "id": "dec4ec1a",
   "metadata": {},
   "outputs": [],
   "source": [
    "# implicit example"
   ]
  },
  {
   "cell_type": "code",
   "execution_count": 2,
   "id": "e518141d",
   "metadata": {},
   "outputs": [],
   "source": [
    "k1 =10"
   ]
  },
  {
   "cell_type": "code",
   "execution_count": 3,
   "id": "b7f705ac",
   "metadata": {},
   "outputs": [],
   "source": [
    "k2=10.12"
   ]
  },
  {
   "cell_type": "code",
   "execution_count": 4,
   "id": "83a7bb52",
   "metadata": {},
   "outputs": [
    {
     "data": {
      "text/plain": [
       "10.12"
      ]
     },
     "execution_count": 4,
     "metadata": {},
     "output_type": "execute_result"
    }
   ],
   "source": [
    "k2"
   ]
  },
  {
   "cell_type": "code",
   "execution_count": 5,
   "id": "fde85220",
   "metadata": {},
   "outputs": [
    {
     "data": {
      "text/plain": [
       "20.119999999999997"
      ]
     },
     "execution_count": 5,
     "metadata": {},
     "output_type": "execute_result"
    }
   ],
   "source": [
    "k1+k2"
   ]
  },
  {
   "cell_type": "code",
   "execution_count": null,
   "id": "a5cf76ce",
   "metadata": {},
   "outputs": [],
   "source": []
  },
  {
   "cell_type": "markdown",
   "id": "17ab8b3c",
   "metadata": {},
   "source": [
    "### explicit "
   ]
  },
  {
   "cell_type": "markdown",
   "id": "2bd145d8",
   "metadata": {},
   "source": [
    "- int()\n",
    "- float()\n",
    "- complex()\n",
    "- str()\n",
    "- bool()"
   ]
  },
  {
   "cell_type": "code",
   "execution_count": 6,
   "id": "0be40ce8",
   "metadata": {},
   "outputs": [],
   "source": [
    "m1 = 20"
   ]
  },
  {
   "cell_type": "code",
   "execution_count": 7,
   "id": "f8417720",
   "metadata": {},
   "outputs": [
    {
     "data": {
      "text/plain": [
       "int"
      ]
     },
     "execution_count": 7,
     "metadata": {},
     "output_type": "execute_result"
    }
   ],
   "source": [
    "type(m1)"
   ]
  },
  {
   "cell_type": "code",
   "execution_count": 8,
   "id": "dc5a5e02",
   "metadata": {},
   "outputs": [],
   "source": [
    "p1 = float(m1)"
   ]
  },
  {
   "cell_type": "code",
   "execution_count": 9,
   "id": "ded7ca9c",
   "metadata": {},
   "outputs": [
    {
     "data": {
      "text/plain": [
       "20.0"
      ]
     },
     "execution_count": 9,
     "metadata": {},
     "output_type": "execute_result"
    }
   ],
   "source": [
    "p1"
   ]
  },
  {
   "cell_type": "code",
   "execution_count": 10,
   "id": "50442bbf",
   "metadata": {},
   "outputs": [
    {
     "data": {
      "text/plain": [
       "float"
      ]
     },
     "execution_count": 10,
     "metadata": {},
     "output_type": "execute_result"
    }
   ],
   "source": [
    "type(p1)"
   ]
  },
  {
   "cell_type": "code",
   "execution_count": 11,
   "id": "1e03fe74",
   "metadata": {},
   "outputs": [
    {
     "data": {
      "text/plain": [
       "(20+0j)"
      ]
     },
     "execution_count": 11,
     "metadata": {},
     "output_type": "execute_result"
    }
   ],
   "source": [
    "p2 =complex(p1)\n",
    "\n",
    "p2"
   ]
  },
  {
   "cell_type": "markdown",
   "id": "305536fa",
   "metadata": {},
   "source": [
    "#### bool to int "
   ]
  },
  {
   "cell_type": "code",
   "execution_count": 12,
   "id": "3cefe2dd",
   "metadata": {},
   "outputs": [
    {
     "data": {
      "text/plain": [
       "True"
      ]
     },
     "execution_count": 12,
     "metadata": {},
     "output_type": "execute_result"
    }
   ],
   "source": [
    "m2=True\n",
    "\n",
    "m2"
   ]
  },
  {
   "cell_type": "code",
   "execution_count": 13,
   "id": "31ccc5c7",
   "metadata": {},
   "outputs": [
    {
     "data": {
      "text/plain": [
       "bool"
      ]
     },
     "execution_count": 13,
     "metadata": {},
     "output_type": "execute_result"
    }
   ],
   "source": [
    "type(m2)"
   ]
  },
  {
   "cell_type": "code",
   "execution_count": 14,
   "id": "c505d9e1",
   "metadata": {},
   "outputs": [
    {
     "data": {
      "text/plain": [
       "1"
      ]
     },
     "execution_count": 14,
     "metadata": {},
     "output_type": "execute_result"
    }
   ],
   "source": [
    "int(m2)"
   ]
  },
  {
   "cell_type": "markdown",
   "id": "7df35292",
   "metadata": {},
   "source": [
    "#### int to str"
   ]
  },
  {
   "cell_type": "code",
   "execution_count": 18,
   "id": "b562f52c",
   "metadata": {},
   "outputs": [
    {
     "data": {
      "text/plain": [
       "80"
      ]
     },
     "execution_count": 18,
     "metadata": {},
     "output_type": "execute_result"
    }
   ],
   "source": [
    "m3=80\n",
    "m3"
   ]
  },
  {
   "cell_type": "code",
   "execution_count": 22,
   "id": "307217d9",
   "metadata": {},
   "outputs": [
    {
     "data": {
      "text/plain": [
       "'80'"
      ]
     },
     "execution_count": 22,
     "metadata": {},
     "output_type": "execute_result"
    }
   ],
   "source": [
    "m4=str(m3)\n",
    "m4"
   ]
  },
  {
   "cell_type": "code",
   "execution_count": 21,
   "id": "1772b020",
   "metadata": {},
   "outputs": [
    {
     "data": {
      "text/plain": [
       "str"
      ]
     },
     "execution_count": 21,
     "metadata": {},
     "output_type": "execute_result"
    }
   ],
   "source": [
    "type(m4)"
   ]
  },
  {
   "cell_type": "code",
   "execution_count": null,
   "id": "38800657",
   "metadata": {},
   "outputs": [],
   "source": []
  },
  {
   "cell_type": "code",
   "execution_count": null,
   "id": "6e9bf8e7",
   "metadata": {},
   "outputs": [],
   "source": []
  },
  {
   "cell_type": "code",
   "execution_count": null,
   "id": "7ebbe716",
   "metadata": {},
   "outputs": [],
   "source": []
  },
  {
   "cell_type": "code",
   "execution_count": null,
   "id": "c2ed3ace",
   "metadata": {},
   "outputs": [],
   "source": []
  },
  {
   "cell_type": "markdown",
   "id": "eea9f064",
   "metadata": {},
   "source": [
    "- Addition (x + y)\n",
    "- Subtraction (x - y)\n",
    "- Multiplication (x * y)\n",
    "- Division (x / y)\n",
    "- Modulus (x % y)\n",
    "- Exponentiation (x ** y)\n",
    "- Floor division (x // y)"
   ]
  },
  {
   "cell_type": "markdown",
   "id": "332522e1",
   "metadata": {},
   "source": [
    "### Assignment operators"
   ]
  },
  {
   "cell_type": "markdown",
   "id": "9b7ca4a1",
   "metadata": {},
   "source": [
    "### ="
   ]
  },
  {
   "cell_type": "code",
   "execution_count": 23,
   "id": "836686db",
   "metadata": {},
   "outputs": [
    {
     "data": {
      "text/plain": [
       "500"
      ]
     },
     "execution_count": 23,
     "metadata": {},
     "output_type": "execute_result"
    }
   ],
   "source": [
    "# example\n",
    "\n",
    "m5 = 500\n",
    "\n",
    "m5"
   ]
  },
  {
   "cell_type": "code",
   "execution_count": null,
   "id": "451acfd5",
   "metadata": {},
   "outputs": [],
   "source": []
  },
  {
   "cell_type": "markdown",
   "id": "886c087a",
   "metadata": {},
   "source": [
    "### +="
   ]
  },
  {
   "cell_type": "code",
   "execution_count": 25,
   "id": "3fd09650",
   "metadata": {},
   "outputs": [
    {
     "data": {
      "text/plain": [
       "11"
      ]
     },
     "execution_count": 25,
     "metadata": {},
     "output_type": "execute_result"
    }
   ],
   "source": [
    "# example\n",
    "\n",
    "#normal method\n",
    "a=5\n",
    "a= a+6\n",
    "a"
   ]
  },
  {
   "cell_type": "code",
   "execution_count": 27,
   "id": "a019c4f0",
   "metadata": {},
   "outputs": [],
   "source": [
    "#python method\n",
    "\n",
    "m6=5\n",
    "\n",
    "m6 +=6"
   ]
  },
  {
   "cell_type": "code",
   "execution_count": 28,
   "id": "0e2062df",
   "metadata": {},
   "outputs": [
    {
     "data": {
      "text/plain": [
       "11"
      ]
     },
     "execution_count": 28,
     "metadata": {},
     "output_type": "execute_result"
    }
   ],
   "source": [
    "m6"
   ]
  },
  {
   "cell_type": "markdown",
   "id": "113b1688",
   "metadata": {},
   "source": [
    "### -="
   ]
  },
  {
   "cell_type": "code",
   "execution_count": null,
   "id": "2d09e2f1",
   "metadata": {},
   "outputs": [],
   "source": []
  },
  {
   "cell_type": "code",
   "execution_count": null,
   "id": "1d401c56",
   "metadata": {},
   "outputs": [],
   "source": []
  },
  {
   "cell_type": "markdown",
   "id": "1aa33363",
   "metadata": {},
   "source": [
    "### Comparison operators"
   ]
  },
  {
   "cell_type": "raw",
   "id": "4f581900",
   "metadata": {},
   "source": [
    "== (equal to equal)\n",
    "!= (not equal to)\n",
    ">  (greater than)\n",
    "<  (less than)\n",
    "<= (less than equal to)\n",
    ">= (greater than equal to)"
   ]
  },
  {
   "cell_type": "code",
   "execution_count": 31,
   "id": "9d31ccae",
   "metadata": {},
   "outputs": [
    {
     "data": {
      "text/plain": [
       "False"
      ]
     },
     "execution_count": 31,
     "metadata": {},
     "output_type": "execute_result"
    }
   ],
   "source": [
    "# example\n",
    "\n",
    "m7 =100\n",
    "\n",
    "m7 == 50\n"
   ]
  },
  {
   "cell_type": "markdown",
   "id": "957deab0",
   "metadata": {},
   "source": [
    "### !="
   ]
  },
  {
   "cell_type": "code",
   "execution_count": 34,
   "id": "8633c45b",
   "metadata": {},
   "outputs": [
    {
     "data": {
      "text/plain": [
       "True"
      ]
     },
     "execution_count": 34,
     "metadata": {},
     "output_type": "execute_result"
    }
   ],
   "source": [
    "m8 = 50\n",
    "\n",
    "m8 !=20"
   ]
  },
  {
   "cell_type": "code",
   "execution_count": null,
   "id": "22f80a04",
   "metadata": {},
   "outputs": [],
   "source": []
  },
  {
   "cell_type": "markdown",
   "id": "06471cdb",
   "metadata": {},
   "source": [
    "### Logical operators"
   ]
  },
  {
   "cell_type": "markdown",
   "id": "a3710506",
   "metadata": {},
   "source": [
    "- and\n",
    "- or\n",
    "- not"
   ]
  },
  {
   "cell_type": "raw",
   "id": "c5249b2a",
   "metadata": {},
   "source": [
    "True -->1\n",
    "False -->0"
   ]
  },
  {
   "cell_type": "markdown",
   "id": "a223b720",
   "metadata": {},
   "source": [
    "### and"
   ]
  },
  {
   "cell_type": "code",
   "execution_count": 35,
   "id": "5f778e8d",
   "metadata": {},
   "outputs": [
    {
     "data": {
      "text/plain": [
       "True"
      ]
     },
     "execution_count": 35,
     "metadata": {},
     "output_type": "execute_result"
    }
   ],
   "source": [
    "# examples\n",
    "\n",
    "True and True\n"
   ]
  },
  {
   "cell_type": "code",
   "execution_count": 36,
   "id": "4c768c57",
   "metadata": {},
   "outputs": [
    {
     "data": {
      "text/plain": [
       "False"
      ]
     },
     "execution_count": 36,
     "metadata": {},
     "output_type": "execute_result"
    }
   ],
   "source": [
    "True and False"
   ]
  },
  {
   "cell_type": "code",
   "execution_count": 37,
   "id": "b34bee93",
   "metadata": {},
   "outputs": [
    {
     "data": {
      "text/plain": [
       "False"
      ]
     },
     "execution_count": 37,
     "metadata": {},
     "output_type": "execute_result"
    }
   ],
   "source": [
    "True and True and False"
   ]
  },
  {
   "cell_type": "code",
   "execution_count": 38,
   "id": "cdc8d878",
   "metadata": {},
   "outputs": [
    {
     "data": {
      "text/plain": [
       "False"
      ]
     },
     "execution_count": 38,
     "metadata": {},
     "output_type": "execute_result"
    }
   ],
   "source": [
    "False and False"
   ]
  },
  {
   "cell_type": "code",
   "execution_count": 39,
   "id": "dc744c59",
   "metadata": {},
   "outputs": [
    {
     "data": {
      "text/plain": [
       "1"
      ]
     },
     "execution_count": 39,
     "metadata": {},
     "output_type": "execute_result"
    }
   ],
   "source": [
    "1 and 1"
   ]
  },
  {
   "cell_type": "code",
   "execution_count": 40,
   "id": "fb444041",
   "metadata": {},
   "outputs": [
    {
     "data": {
      "text/plain": [
       "0"
      ]
     },
     "execution_count": 40,
     "metadata": {},
     "output_type": "execute_result"
    }
   ],
   "source": [
    "0 and 0"
   ]
  },
  {
   "cell_type": "markdown",
   "id": "9bc54bb9",
   "metadata": {},
   "source": [
    "### or"
   ]
  },
  {
   "cell_type": "code",
   "execution_count": 41,
   "id": "638748ef",
   "metadata": {},
   "outputs": [
    {
     "data": {
      "text/plain": [
       "True"
      ]
     },
     "execution_count": 41,
     "metadata": {},
     "output_type": "execute_result"
    }
   ],
   "source": [
    "True or False"
   ]
  },
  {
   "cell_type": "markdown",
   "id": "896ec8d2",
   "metadata": {},
   "source": [
    "### not"
   ]
  },
  {
   "cell_type": "code",
   "execution_count": 42,
   "id": "587170a0",
   "metadata": {},
   "outputs": [
    {
     "data": {
      "text/plain": [
       "False"
      ]
     },
     "execution_count": 42,
     "metadata": {},
     "output_type": "execute_result"
    }
   ],
   "source": [
    "not True"
   ]
  },
  {
   "cell_type": "code",
   "execution_count": 43,
   "id": "ba570027",
   "metadata": {},
   "outputs": [
    {
     "data": {
      "text/plain": [
       "True"
      ]
     },
     "execution_count": 43,
     "metadata": {},
     "output_type": "execute_result"
    }
   ],
   "source": [
    "not False"
   ]
  },
  {
   "cell_type": "code",
   "execution_count": null,
   "id": "f6b6f291",
   "metadata": {},
   "outputs": [],
   "source": []
  },
  {
   "cell_type": "code",
   "execution_count": null,
   "id": "b468f165",
   "metadata": {},
   "outputs": [],
   "source": []
  },
  {
   "cell_type": "code",
   "execution_count": null,
   "id": "98ff32e1",
   "metadata": {},
   "outputs": [],
   "source": []
  },
  {
   "cell_type": "markdown",
   "id": "fd99664f",
   "metadata": {},
   "source": [
    "### Identity operators"
   ]
  },
  {
   "cell_type": "raw",
   "id": "b046f214",
   "metadata": {},
   "source": [
    "Identity operators are used to compare the objects, not if they are equal, but if they are actually the same object, with the same memory location:"
   ]
  },
  {
   "cell_type": "markdown",
   "id": "365c9097",
   "metadata": {},
   "source": [
    "- is\n",
    "- is not"
   ]
  },
  {
   "cell_type": "markdown",
   "id": "605608de",
   "metadata": {},
   "source": [
    "#### Integer values"
   ]
  },
  {
   "cell_type": "raw",
   "id": "119a8a67",
   "metadata": {},
   "source": [
    "Integer values\n",
    "\n",
    "integer value<256   --> same object       #same value\n",
    "\n",
    "integer value>256   --> different object"
   ]
  },
  {
   "cell_type": "code",
   "execution_count": 44,
   "id": "6ad92a82",
   "metadata": {},
   "outputs": [],
   "source": [
    "m9 =100\n",
    "\n",
    "m10 =100"
   ]
  },
  {
   "cell_type": "code",
   "execution_count": 45,
   "id": "65700e0b",
   "metadata": {},
   "outputs": [
    {
     "data": {
      "text/plain": [
       "2206851272016"
      ]
     },
     "execution_count": 45,
     "metadata": {},
     "output_type": "execute_result"
    }
   ],
   "source": [
    "id(m9)"
   ]
  },
  {
   "cell_type": "code",
   "execution_count": 46,
   "id": "ff028be2",
   "metadata": {},
   "outputs": [
    {
     "data": {
      "text/plain": [
       "2206851272016"
      ]
     },
     "execution_count": 46,
     "metadata": {},
     "output_type": "execute_result"
    }
   ],
   "source": [
    "id(m10)"
   ]
  },
  {
   "cell_type": "code",
   "execution_count": 47,
   "id": "94c7a9f3",
   "metadata": {},
   "outputs": [],
   "source": [
    "# example2\n",
    "\n",
    "m11 = 257\n",
    "m12 = 257\n"
   ]
  },
  {
   "cell_type": "code",
   "execution_count": 48,
   "id": "564d0d3d",
   "metadata": {},
   "outputs": [
    {
     "data": {
      "text/plain": [
       "2206931580496"
      ]
     },
     "execution_count": 48,
     "metadata": {},
     "output_type": "execute_result"
    }
   ],
   "source": [
    "id(m11)"
   ]
  },
  {
   "cell_type": "code",
   "execution_count": 49,
   "id": "85d57fdd",
   "metadata": {},
   "outputs": [
    {
     "data": {
      "text/plain": [
       "2206931579696"
      ]
     },
     "execution_count": 49,
     "metadata": {},
     "output_type": "execute_result"
    }
   ],
   "source": [
    "id(m12)"
   ]
  },
  {
   "cell_type": "code",
   "execution_count": null,
   "id": "81409734",
   "metadata": {},
   "outputs": [],
   "source": []
  },
  {
   "cell_type": "code",
   "execution_count": null,
   "id": "89ee00c9",
   "metadata": {},
   "outputs": [],
   "source": []
  },
  {
   "cell_type": "code",
   "execution_count": null,
   "id": "a3a97945",
   "metadata": {},
   "outputs": [],
   "source": []
  },
  {
   "cell_type": "code",
   "execution_count": null,
   "id": "64dcf08a",
   "metadata": {},
   "outputs": [],
   "source": []
  },
  {
   "cell_type": "code",
   "execution_count": null,
   "id": "323f79e6",
   "metadata": {},
   "outputs": [],
   "source": []
  },
  {
   "cell_type": "markdown",
   "id": "aa295b34",
   "metadata": {},
   "source": [
    "### Membership operators"
   ]
  },
  {
   "cell_type": "markdown",
   "id": "fbb9b203",
   "metadata": {},
   "source": [
    "- in\n",
    "- not in"
   ]
  },
  {
   "cell_type": "code",
   "execution_count": 59,
   "id": "291500b3",
   "metadata": {},
   "outputs": [],
   "source": [
    "Fruits =['apple','banana','mango','cherry','abc']"
   ]
  },
  {
   "cell_type": "code",
   "execution_count": 60,
   "id": "f6f3135b",
   "metadata": {},
   "outputs": [
    {
     "data": {
      "text/plain": [
       "['apple', 'banana', 'mango', 'cherry', 'abc']"
      ]
     },
     "execution_count": 60,
     "metadata": {},
     "output_type": "execute_result"
    }
   ],
   "source": [
    "Fruits"
   ]
  },
  {
   "cell_type": "markdown",
   "id": "a45d61fb",
   "metadata": {},
   "source": [
    "### in"
   ]
  },
  {
   "cell_type": "code",
   "execution_count": 62,
   "id": "5c6ead42",
   "metadata": {},
   "outputs": [
    {
     "data": {
      "text/plain": [
       "True"
      ]
     },
     "execution_count": 62,
     "metadata": {},
     "output_type": "execute_result"
    }
   ],
   "source": [
    "'banana' in Fruits"
   ]
  },
  {
   "cell_type": "markdown",
   "id": "0e78c4fd",
   "metadata": {},
   "source": [
    "### not in"
   ]
  },
  {
   "cell_type": "code",
   "execution_count": 64,
   "id": "0b778ac7",
   "metadata": {},
   "outputs": [
    {
     "data": {
      "text/plain": [
       "True"
      ]
     },
     "execution_count": 64,
     "metadata": {},
     "output_type": "execute_result"
    }
   ],
   "source": [
    "'pineapple' not in Fruits"
   ]
  },
  {
   "cell_type": "code",
   "execution_count": null,
   "id": "f0f1cda5",
   "metadata": {},
   "outputs": [],
   "source": []
  },
  {
   "cell_type": "code",
   "execution_count": null,
   "id": "c7e3e654",
   "metadata": {},
   "outputs": [],
   "source": []
  },
  {
   "cell_type": "code",
   "execution_count": null,
   "id": "8e5cc67d",
   "metadata": {},
   "outputs": [],
   "source": []
  },
  {
   "cell_type": "code",
   "execution_count": null,
   "id": "acf72424",
   "metadata": {},
   "outputs": [],
   "source": []
  },
  {
   "cell_type": "code",
   "execution_count": null,
   "id": "40dc3acb",
   "metadata": {},
   "outputs": [],
   "source": []
  },
  {
   "cell_type": "markdown",
   "id": "e731eb2f",
   "metadata": {},
   "source": [
    "### Bitwise operators"
   ]
  },
  {
   "cell_type": "raw",
   "id": "6fa91af8",
   "metadata": {},
   "source": [
    "&(bitwise and)\n",
    "|(bitwise or)\n",
    "~(inverse)"
   ]
  },
  {
   "cell_type": "code",
   "execution_count": null,
   "id": "b2473331",
   "metadata": {},
   "outputs": [],
   "source": [
    "1 0 1\n",
    "1 1 0\n",
    "\n",
    "1 0 0"
   ]
  },
  {
   "cell_type": "code",
   "execution_count": null,
   "id": "12083ee5",
   "metadata": {},
   "outputs": [],
   "source": [
    "# examples"
   ]
  },
  {
   "cell_type": "code",
   "execution_count": 66,
   "id": "6a698530",
   "metadata": {},
   "outputs": [
    {
     "data": {
      "text/plain": [
       "1"
      ]
     },
     "execution_count": 66,
     "metadata": {},
     "output_type": "execute_result"
    }
   ],
   "source": [
    "5 & 3"
   ]
  },
  {
   "cell_type": "markdown",
   "id": "bbb96ec2",
   "metadata": {},
   "source": [
    "### or"
   ]
  },
  {
   "cell_type": "code",
   "execution_count": null,
   "id": "598aef4b",
   "metadata": {},
   "outputs": [],
   "source": [
    "1 1 0 0\n",
    "1 0 1 0\n",
    "\n",
    "1 1 1 0"
   ]
  },
  {
   "cell_type": "code",
   "execution_count": null,
   "id": "e5a91104",
   "metadata": {},
   "outputs": [],
   "source": []
  },
  {
   "cell_type": "code",
   "execution_count": 67,
   "id": "911d41f8",
   "metadata": {},
   "outputs": [
    {
     "data": {
      "text/plain": [
       "31"
      ]
     },
     "execution_count": 67,
     "metadata": {},
     "output_type": "execute_result"
    }
   ],
   "source": [
    "15 | 17"
   ]
  },
  {
   "cell_type": "code",
   "execution_count": null,
   "id": "1ccea86a",
   "metadata": {},
   "outputs": [],
   "source": []
  },
  {
   "cell_type": "markdown",
   "id": "0fbeeeb6",
   "metadata": {},
   "source": [
    "### ~ (inverse)"
   ]
  },
  {
   "cell_type": "code",
   "execution_count": 68,
   "id": "c7cd3b2d",
   "metadata": {},
   "outputs": [
    {
     "data": {
      "text/plain": [
       "-6"
      ]
     },
     "execution_count": 68,
     "metadata": {},
     "output_type": "execute_result"
    }
   ],
   "source": [
    "~5"
   ]
  },
  {
   "cell_type": "code",
   "execution_count": 70,
   "id": "7bb220ad",
   "metadata": {},
   "outputs": [
    {
     "data": {
      "text/plain": [
       "-9"
      ]
     },
     "execution_count": 70,
     "metadata": {},
     "output_type": "execute_result"
    }
   ],
   "source": [
    "~8"
   ]
  },
  {
   "cell_type": "code",
   "execution_count": 69,
   "id": "45027859",
   "metadata": {},
   "outputs": [
    {
     "data": {
      "text/plain": [
       "6"
      ]
     },
     "execution_count": 69,
     "metadata": {},
     "output_type": "execute_result"
    }
   ],
   "source": [
    "~ -7"
   ]
  },
  {
   "cell_type": "code",
   "execution_count": 71,
   "id": "5eaeefdf",
   "metadata": {},
   "outputs": [
    {
     "data": {
      "text/plain": [
       "9"
      ]
     },
     "execution_count": 71,
     "metadata": {},
     "output_type": "execute_result"
    }
   ],
   "source": [
    "~-10"
   ]
  },
  {
   "cell_type": "code",
   "execution_count": null,
   "id": "01e3fe10",
   "metadata": {},
   "outputs": [],
   "source": []
  },
  {
   "cell_type": "markdown",
   "id": "b8ed581a",
   "metadata": {},
   "source": [
    "### string operations"
   ]
  },
  {
   "cell_type": "raw",
   "id": "57c45655",
   "metadata": {},
   "source": [
    "Note: All string methods returns new values. They do not change the original string."
   ]
  },
  {
   "cell_type": "code",
   "execution_count": null,
   "id": "2eb8c14f",
   "metadata": {},
   "outputs": [],
   "source": []
  },
  {
   "cell_type": "raw",
   "id": "7d4f2e24",
   "metadata": {},
   "source": [
    "capitalize() -->Converts the first character to upper case\n",
    "    \n",
    "casefold() --> Converts string into lower case\n",
    "\n",
    "index()   -->Searches the string for a specified value and returns the position of where it was      found\n",
    "\n",
    "lower()  --> Converts a string into lower case\n",
    "\n",
    "partition() --> The partition() method searches for a specified string, and splits the string into a tuple containing three elements.\n",
    "              --> - before match\n",
    "                  - the match\n",
    "                  - after match\n",
    "            \n",
    "replace() -->  The replace() method replaces a specified phrase with another specified phrase.\n",
    "\n",
    "split() --> The split() method splits a string into a list.\n",
    "swapcase() --> The swapcase() method returns a string where all the upper case letters are lower case and vice versa.\n",
    "title() --> The title() method returns a string where the first character in every word is upper case.\n",
    "upper() --> The upper() method returns a string where all characters are in upper case.\n",
    "\n",
    "zfill() --> The zfill() method adds zeros (0) at the beginning of the string, until it reaches the specified length.\n"
   ]
  },
  {
   "cell_type": "code",
   "execution_count": null,
   "id": "79950c11",
   "metadata": {},
   "outputs": [],
   "source": []
  },
  {
   "cell_type": "code",
   "execution_count": null,
   "id": "8050b85e",
   "metadata": {},
   "outputs": [],
   "source": []
  }
 ],
 "metadata": {
  "kernelspec": {
   "display_name": "Python 3 (ipykernel)",
   "language": "python",
   "name": "python3"
  },
  "language_info": {
   "codemirror_mode": {
    "name": "ipython",
    "version": 3
   },
   "file_extension": ".py",
   "mimetype": "text/x-python",
   "name": "python",
   "nbconvert_exporter": "python",
   "pygments_lexer": "ipython3",
   "version": "3.11.5"
  }
 },
 "nbformat": 4,
 "nbformat_minor": 5
}
